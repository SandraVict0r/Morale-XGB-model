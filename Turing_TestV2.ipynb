{
 "cells": [
  {
   "cell_type": "markdown",
   "id": "638286d5",
   "metadata": {},
   "source": [
    "# Ajout des bibliothèques"
   ]
  },
  {
   "cell_type": "code",
   "execution_count": 1,
   "id": "caf39824",
   "metadata": {
    "ExecuteTime": {
     "end_time": "2022-12-19T10:52:09.422338Z",
     "start_time": "2022-12-19T10:52:07.272092Z"
    }
   },
   "outputs": [],
   "source": [
    "import pandas as pd\n",
    "from subprocess import call\n",
    "import seaborn as sns\n",
    "import numpy as np\n",
    "from scipy import stats\n",
    "import sklearn\n",
    "from sklearn.model_selection import GridSearchCV\n",
    "from sklearn.model_selection import train_test_split\n",
    "import graphviz\n",
    "import matplotlib.pyplot as plt\n",
    "from sklearn import tree\n",
    "from sklearn.metrics import multilabel_confusion_matrix, classification_report\n",
    "from sklearn.ensemble import RandomForestClassifier, RandomForestRegressor\n",
    "from sklearn.linear_model import LinearRegression\n",
    "from sklearn.metrics import mean_squared_error, r2_score\n",
    "\n",
    "import seaborn as sn\n",
    "from skater.core.explanations import Interpretation\n",
    "from skater.model import InMemoryModel\n",
    "from skater.core.local_interpretation.lime.lime_tabular import LimeTabularExplainer\n",
    "from tqdm import tqdm\n",
    "\n",
    "import warnings\n",
    "import random\n",
    "from datetime import datetime\n",
    "import time\n",
    "import pickle\n",
    "from IPython.display import HTML, display, Markdown, display_markdown, Pretty\n",
    "import statsmodels.api as sa\n",
    "import statsmodels.formula.api as sfa\n",
    "\n",
    "\n",
    "warnings.filterwarnings('ignore')"
   ]
  },
  {
   "cell_type": "markdown",
   "id": "33166530",
   "metadata": {},
   "source": [
    "# Fonctions utiles"
   ]
  },
  {
   "cell_type": "markdown",
   "id": "3b41cb9c",
   "metadata": {},
   "source": [
    "## train_test_set(df)"
   ]
  },
  {
   "cell_type": "markdown",
   "id": "1962fa87",
   "metadata": {},
   "source": [
    "Fonction qui crée le set de train et de test, en prenant un dataset en entrée"
   ]
  },
  {
   "cell_type": "code",
   "execution_count": 2,
   "id": "a6f08037",
   "metadata": {
    "ExecuteTime": {
     "end_time": "2022-12-19T10:52:09.438296Z",
     "start_time": "2022-12-19T10:52:09.423336Z"
    }
   },
   "outputs": [],
   "source": [
    "def train_test_set(df) :    \n",
    "    feature_namesRF1F = [\"force_1\", \"force_2\", \"scenarios\", \"age\", \"sexe\"]\n",
    "    feature_namesRF2F = feature_namesRF1F + [\"rep_1\"]\n",
    "    feature_namesRF3F = feature_namesRF2F + [\"rep_2\"]\n",
    "\n",
    "    #We get X and y\n",
    "    Y_RF1F = df[df.repetition_question == 1][\"task_1\"]\n",
    "    X_RF1F = df[df.repetition_question == 1][feature_namesRF1F]\n",
    "\n",
    "    Y_RF2F = df[df.repetition_question == 2][\"task_1\"]\n",
    "    X_RF2F = df[df.repetition_question == 2][feature_namesRF2F]\n",
    "\n",
    "    Y_RF3F = df[df.repetition_question == 3][\"task_1\"]\n",
    "    X_RF3F = df[df.repetition_question == 3][feature_namesRF3F]\n",
    "    \n",
    "    rand_int = random.randint(1, 1000)\n",
    "    \n",
    "    #We obtain train and test datasets\n",
    "    XRF1F_train, XRF1F_test, YRF1F_train, YRF1F_test = train_test_split(X_RF1F,\n",
    "                                                        Y_RF1F,\n",
    "                                                        test_size=0.20,\n",
    "                                                        random_state=rand_int)\n",
    "    XRF2F_train, XRF2F_test, YRF2F_train, YRF2F_test = train_test_split(X_RF2F,\n",
    "                                                        Y_RF2F,\n",
    "                                                        test_size=0.20,\n",
    "                                                        random_state=rand_int)\n",
    "    XRF3F_train, XRF3F_test, YRF3F_train, YRF3F_test = train_test_split(X_RF3F,\n",
    "                                                        Y_RF3F,\n",
    "                                                        test_size=0.20,\n",
    "                                                        random_state=rand_int)\n",
    "    display(rand_int)\n",
    "    train_set = { \"RF1\" : { \"X\" : XRF1F_train, \"Y\" : YRF1F_train},\n",
    "                 \"RF2\" : { \"X\" : XRF2F_train, \"Y\" : YRF2F_train},\n",
    "                \"RF3\" : { \"X\" : XRF3F_train, \"Y\" : YRF3F_train}}\n",
    "    \n",
    "    test_set = { \"RF1\" : { \"X\" : XRF1F_test, \"Y\" : YRF1F_test},\n",
    "                 \"RF2\" : { \"X\" : XRF2F_test, \"Y\" : YRF2F_test},\n",
    "                \"RF3\" : { \"X\" : XRF3F_test, \"Y\" : YRF3F_test}}\n",
    "    \n",
    "    \n",
    "    return train_set, test_set"
   ]
  },
  {
   "cell_type": "markdown",
   "id": "f4e84af7",
   "metadata": {},
   "source": [
    "## model_train(train_set, test_set)"
   ]
  },
  {
   "cell_type": "markdown",
   "id": "5b2b4c10",
   "metadata": {},
   "source": [
    "Fonction qui crée et entraîne le modèle à partir du jeu de données"
   ]
  },
  {
   "cell_type": "code",
   "execution_count": 3,
   "id": "fe391f3f",
   "metadata": {
    "ExecuteTime": {
     "end_time": "2022-12-19T10:52:09.453256Z",
     "start_time": "2022-12-19T10:52:09.441289Z"
    },
    "run_control": {
     "marked": true
    }
   },
   "outputs": [],
   "source": [
    "def model_train(train_set, test_set) :   \n",
    "    \n",
    "    XRF1F_train = train_set[\"RF1\"][\"X\"]\n",
    "    XRF2F_train = train_set[\"RF2\"][\"X\"]\n",
    "    XRF3F_train = train_set[\"RF3\"][\"X\"]\n",
    "    \n",
    "    YRF1F_train = train_set[\"RF1\"][\"Y\"]\n",
    "    YRF2F_train = train_set[\"RF2\"][\"Y\"]\n",
    "    YRF3F_train = train_set[\"RF3\"][\"Y\"]\n",
    "    \n",
    "    XRF1F_test = test_set[\"RF1\"][\"X\"]\n",
    "    XRF2F_test = test_set[\"RF2\"][\"X\"]\n",
    "    XRF3F_test = test_set[\"RF3\"][\"X\"]\n",
    "    \n",
    "    YRF1F_test = test_set[\"RF1\"][\"Y\"]\n",
    "    YRF2F_test = test_set[\"RF2\"][\"Y\"]\n",
    "    YRF3F_test = test_set[\"RF3\"][\"Y\"]\n",
    "\n",
    "    \n",
    "    #We get the best parameters for the DT\n",
    "    RFC = RandomForestClassifier(max_depth=10, max_leaf_nodes=95)\n",
    "\n",
    "    # Number of trees in random forest\n",
    "    n_estimators = [(i + 1) * 10 for i in range(10)]\n",
    "\n",
    "    # Method of selecting samples for training each tree\n",
    "    bootstrap = [True, False]\n",
    "\n",
    "    #We add the other parameters for Random Forest\n",
    "    params = {\n",
    "        \"criterion\": [\"gini\", \"entropy\",\"log_loss\"],\n",
    "        'min_samples_split': [2, 3, 4, 8, 10, 16, 32],\n",
    "        \"n_estimators\": n_estimators,\n",
    "        \"bootstrap\": bootstrap\n",
    "    }\n",
    "\n",
    "    grid_search_cv = GridSearchCV(RFC, params, verbose=1, cv=5, scoring='accuracy', return_train_score=True)\n",
    "\n",
    "    grid_search_cv.fit(XRF1F_train, YRF1F_train)\n",
    "    Best_RF1F = grid_search_cv.best_estimator_\n",
    "    print(\"Best score RF1 : \", grid_search_cv.best_score_)\n",
    "\n",
    "    grid_search_cv.fit(XRF2F_train, YRF2F_train)\n",
    "    Best_RF2F = grid_search_cv.best_estimator_\n",
    "    print(\"Best score RF2 : \", grid_search_cv.best_score_)\n",
    "\n",
    "    grid_search_cv.fit(XRF3F_train, YRF3F_train)\n",
    "    Best_RF3F = grid_search_cv.best_estimator_\n",
    "    print(\"Best score RF3 : \", grid_search_cv.best_score_)\n",
    "\n",
    "    #saving the model\n",
    "    filename = 'RF1F.pkl'\n",
    "    print(\"Sauvegarde du modèle dans \", filename)\n",
    "    pickle.dump(Best_RF1F, open(filename, \"wb\"))\n",
    "\n",
    "    filename = 'RF2F.pkl'\n",
    "    print(\"Sauvegarde du modèle dans \", filename)\n",
    "    pickle.dump(Best_RF2F, open(filename, \"wb\"))\n",
    "\n",
    "    filename = 'RF3F.pkl'\n",
    "    print(\"Sauvegarde du modèle dans \", filename)\n",
    "    pickle.dump(Best_RF3F, open(filename, \"wb\"))\n",
    "    "
   ]
  },
  {
   "cell_type": "markdown",
   "id": "e5c285e9",
   "metadata": {},
   "source": [
    "## model_test(train_set, test_set)"
   ]
  },
  {
   "cell_type": "code",
   "execution_count": 4,
   "id": "73c2802a",
   "metadata": {
    "ExecuteTime": {
     "end_time": "2022-12-19T10:52:09.468216Z",
     "start_time": "2022-12-19T10:52:09.454254Z"
    }
   },
   "outputs": [],
   "source": [
    "def model_test(train_set, test_set) :   \n",
    "    \n",
    "    XRF1F_train = train_set[\"RF1\"][\"X\"]\n",
    "    XRF2F_train = train_set[\"RF2\"][\"X\"]\n",
    "    XRF3F_train = train_set[\"RF3\"][\"X\"]\n",
    "    \n",
    "    YRF1F_train = train_set[\"RF1\"][\"Y\"]\n",
    "    YRF2F_train = train_set[\"RF2\"][\"Y\"]\n",
    "    YRF3F_train = train_set[\"RF3\"][\"Y\"]\n",
    "    \n",
    "    XRF1F_test = test_set[\"RF1\"][\"X\"]\n",
    "    XRF2F_test = test_set[\"RF2\"][\"X\"]\n",
    "    XRF3F_test = test_set[\"RF3\"][\"X\"]\n",
    "    \n",
    "    YRF1F_test = test_set[\"RF1\"][\"Y\"]\n",
    "    YRF2F_test = test_set[\"RF2\"][\"Y\"]\n",
    "    YRF3F_test = test_set[\"RF3\"][\"Y\"]\n",
    "    \n",
    "    # loading the model\n",
    "    filename = 'RF1F.pkl'\n",
    "    RF1F = pickle.load(open(filename, 'rb'))\n",
    "    filename = 'RF2F.pkl'\n",
    "    RF2F = pickle.load(open(filename, 'rb'))\n",
    "    filename = 'RF3F.pkl'\n",
    "    RF3F = pickle.load(open(filename, 'rb'))\n",
    "\n",
    "    # printing the model\n",
    "    print(RF1F)\n",
    "    print(RF2F)\n",
    "    print(RF3F)\n",
    "\n",
    "    #Test on the test set\n",
    "\n",
    "    YRF1F_test_predict_proba = RF1F.predict_proba(XRF1F_test)\n",
    "    YRF1F_test_predict = RF1F.predict(XRF1F_test)\n",
    "    YRF2F_test_predict_proba = RF2F.predict_proba(XRF2F_test)\n",
    "    YRF2F_test_predict = RF2F.predict(XRF2F_test)\n",
    "    YRF3F_test_predict_proba = RF3F.predict_proba(XRF3F_test)\n",
    "    YRF3F_test_predict = RF3F.predict(XRF3F_test)\n",
    "\n",
    "    md_confusion_matrix(YRF1F_test, YRF2F_test, YRF3F_test, YRF1F_test_predict, YRF2F_test_predict, YRF3F_test_predict)\n",
    "\n",
    "    Y_tab = [YRF1F_test, YRF2F_test, YRF3F_test]\n",
    "    Y_test_tab = [YRF1F_test_predict, YRF2F_test_predict, YRF3F_test_predict]\n",
    "    y_tab = [\n",
    "        pd.concat([YRF1F_test], ignore_index=True),\n",
    "        pd.concat([YRF2F_test], ignore_index=True),\n",
    "        pd.concat([YRF3F_test], ignore_index=True)\n",
    "    ]\n",
    "\n",
    "    report = {}\n",
    "    report_opti = {}\n",
    "\n",
    "    for i in range(3):\n",
    "        report[i] = classification_report(Y_tab[i],\n",
    "                                          Y_test_tab[i],\n",
    "                                          output_dict=True,\n",
    "                                          target_names=[str(i) for i in range(11)])\n",
    "        report_opti[i] = classification_report_opti(y_tab[i], Y_test_tab[i])\n",
    "\n",
    "    md_classificationr_report(report, report_opti)\n",
    "\n"
   ]
  },
  {
   "cell_type": "markdown",
   "id": "51384ea8",
   "metadata": {},
   "source": [
    "## classification_report_opti(y_test, y_test_predict)"
   ]
  },
  {
   "cell_type": "markdown",
   "id": "8d7fe854",
   "metadata": {},
   "source": [
    "Fonction de classification optimisé : ajoute une variance d'acceptabilité  \n",
    "Exemple :  \n",
    "> Si la réponse attendue est 1, alors on accepte aussi 0 et 2 comme réponse"
   ]
  },
  {
   "cell_type": "code",
   "execution_count": 5,
   "id": "e40e5d91",
   "metadata": {
    "ExecuteTime": {
     "end_time": "2022-12-19T10:52:09.499133Z",
     "start_time": "2022-12-19T10:52:09.469214Z"
    }
   },
   "outputs": [],
   "source": [
    "def classification_report_opti(y_test, y_test_predict):\n",
    "    classification = {}\n",
    "    for cl in range(max(y_test) + 1):\n",
    "        tp = 0\n",
    "        fp = 0\n",
    "        fn = 0\n",
    "        tn = 0\n",
    "        for i in range(len(y_test)):\n",
    "            if cl > 0 and cl < max(y_test):\n",
    "                if y_test[i] == cl and y_test_predict[i] in [\n",
    "                        cl - 1, cl, cl + 1\n",
    "                ]:\n",
    "                    tp += 1\n",
    "                elif y_test[i] == cl and y_test_predict[i] not in [\n",
    "                        cl - 1, cl, cl + 1\n",
    "                ]:\n",
    "                    fn += 1\n",
    "                elif y_test[i] != cl and y_test_predict[i] in [\n",
    "                        cl - 1, cl, cl + 1\n",
    "                ]:\n",
    "                    fp += 1\n",
    "                elif y_test[i] != cl and y_test_predict[i] not in [\n",
    "                        cl - 1, cl, cl + 1\n",
    "                ]:\n",
    "                    tn += 1\n",
    "            elif cl == 0:\n",
    "                if y_test[i] == cl and y_test_predict[i] in [cl, cl + 1]:\n",
    "                    tp += 1\n",
    "                elif y_test[i] == cl and y_test_predict[i] not in [cl, cl + 1]:\n",
    "                    fn += 1\n",
    "                elif y_test[i] != cl and y_test_predict[i] in [cl, cl + 1]:\n",
    "                    fp += 1\n",
    "                elif y_test[i] != cl and y_test_predict[i] not in [cl, cl + 1]:\n",
    "                    tn += 1\n",
    "            elif cl == max(y_test):\n",
    "                if y_test[i] == cl and y_test_predict[i] in [cl, cl - 1]:\n",
    "                    tp += 1\n",
    "                elif y_test[i] == cl and y_test_predict[i] not in [cl, cl - 1]:\n",
    "                    fn += 1\n",
    "                elif y_test[i] != cl and y_test_predict[i] in [cl, cl - 1]:\n",
    "                    fp += 1\n",
    "                elif y_test[i] != cl and y_test_predict[i] not in [cl, cl - 1]:\n",
    "                    tn += 1\n",
    "            classification[str(cl)] = {'TN': tn, 'FN': fn, 'FP': fp, 'TP': tp}\n",
    "\n",
    "    for i in classification:\n",
    "        precision = (\n",
    "            classification[str(i)]['TP'] /\n",
    "            (classification[str(i)]['TP'] + classification[str(i)]['FP'])\n",
    "        ) if (classification[str(i)]['TP'] + classification[str(i)]['FP']) != 0 else 0\n",
    "        recall = (\n",
    "            classification[str(i)]['TP'] /\n",
    "            (classification[str(i)]['TP'] + classification[str(i)]['FN'])\n",
    "        ) if (classification[str(i)]['TP'] + classification[str(i)]['FN']) != 0 else 0\n",
    "        accuracy = (\n",
    "            (classification[str(i)]['TP'] + classification[str(i)]['TN']) /\n",
    "            (classification[str(i)]['TP'] + classification[str(i)]['TN'] +\n",
    "             classification[str(i)]['FP'] + classification[str(i)]['FN'])\n",
    "        ) if (classification[str(i)]['TP'] + classification[str(i)]['TN'] +\n",
    "              classification[str(i)]['FP'] + classification[str(i)]['FN']) != 0 else 0\n",
    "        classification[str(i)].update({\n",
    "            'precision': round(precision, 2),\n",
    "            'recall': round(recall, 2),\n",
    "            'accuracy': round(accuracy, 2)\n",
    "        })\n",
    "        f1_score = (\n",
    "            2 * (classification[str(i)]['precision'] * classification[str(i)]['recall'])\n",
    "        ) / (classification[str(i)]['precision'] + classification[str(i)]['recall']) if (\n",
    "            classification[str(i)]['precision'] +\n",
    "            classification[str(i)]['recall']) != 0 else 0\n",
    "        classification[str(i)].update({'f1-score': round(f1_score, 2)})\n",
    "\n",
    "    num = 0\n",
    "    denom = 0\n",
    "    for i in classification:\n",
    "        num += classification[str(i)]['TP'] + classification[str(i)]['TN']\n",
    "        denom += classification[str(i)]['TP'] + classification[str(i)][\n",
    "            'TN'] + classification[str(i)]['FP'] + classification[str(i)]['FN']\n",
    "\n",
    "    accuracy = num / denom\n",
    "    classification.update({'accuracy': round(accuracy, 2)})\n",
    "    return classification\n",
    "    \n"
   ]
  },
  {
   "cell_type": "markdown",
   "id": "77abee98",
   "metadata": {
    "heading_collapsed": true
   },
   "source": [
    "## rep_2(df) & rep_3(df)"
   ]
  },
  {
   "cell_type": "markdown",
   "id": "49b4fe07",
   "metadata": {
    "hidden": true
   },
   "source": [
    "Fonction permettant de garder la valeur des répétitions précédentes \n",
    "> Si rep_2() est appeler, alors elle stocke sous \"rep_1\" la valeur choisi pour la 1ère apparition du scénario  \n",
    "> Si rep_3() est appeler, alors elle stocke sous \"rep_1\" la valeur choisi pour la 1ère apparition du scénario, et sous \"rep_2\"   la valeur choisi pour la 2e apparition du scénario  "
   ]
  },
  {
   "cell_type": "code",
   "execution_count": 6,
   "id": "2379388b",
   "metadata": {
    "ExecuteTime": {
     "end_time": "2022-12-19T10:52:09.515090Z",
     "start_time": "2022-12-19T10:52:09.501127Z"
    },
    "hidden": true
   },
   "outputs": [],
   "source": [
    "def rep_2(df):\n",
    "    df[\"rep_1\"] = 0\n",
    "    for scen in range(1, 10):\n",
    "        start_time = datetime.now()\n",
    "        for i in df[df.scenarios == scen].index:\n",
    "            if df.loc[i].repetition_question == 1:\n",
    "                rep_1 = df.loc[i].task_1\n",
    "            elif df.loc[i].repetition_question == 2:\n",
    "                df.loc[i, 'rep_1'] = rep_1\n",
    "    return df\n",
    "\n",
    "def rep_3(df):\n",
    "    df[\"rep_2\"] = 0\n",
    "    for scen in range(1, 10):\n",
    "        start_time = datetime.now()\n",
    "        for i in df[df.scenarios == scen].index:\n",
    "            if df.loc[i].repetition_question == 2:\n",
    "                rep_1 = df.loc[i].rep_1\n",
    "                rep_2 = df.loc[i].task_1\n",
    "            elif df.loc[i].repetition_question == 3:\n",
    "                df.loc[i, 'rep_1'] = rep_1\n",
    "                df.loc[i, 'rep_2'] = rep_2\n",
    "    return df"
   ]
  },
  {
   "cell_type": "markdown",
   "id": "4568751c",
   "metadata": {
    "heading_collapsed": true
   },
   "source": [
    "## random_3consecutiveanswers(df)"
   ]
  },
  {
   "cell_type": "markdown",
   "id": "6a680c6e",
   "metadata": {
    "hidden": true
   },
   "source": [
    "Fonction qui prend 3 réponses consécutives aléatoires de chaque participants d'un dataframe et les retourne toutes dans un nouveau dataframe"
   ]
  },
  {
   "cell_type": "code",
   "execution_count": 7,
   "id": "fb1c05fa",
   "metadata": {
    "ExecuteTime": {
     "end_time": "2022-12-19T10:52:09.530051Z",
     "start_time": "2022-12-19T10:52:09.517086Z"
    },
    "hidden": true,
    "run_control": {
     "marked": true
    }
   },
   "outputs": [],
   "source": [
    "def random_3consecutiveanswers(df):\n",
    "    participants = df.groupby(['id_participant']).size()\n",
    "    consecutive_answers = pd.DataFrame()\n",
    "    \n",
    "    for id in participants.keys():\n",
    "        participant = df[df.id_participant == id].copy()\n",
    "        for i in range(1,10):\n",
    "            participant[participant.id_participant == id][\n",
    "                    participant.scenarios == i].drop_duplicates(\n",
    "                        subset=['repetition_question'], keep='first')\n",
    "            \n",
    "        line = participant.sample().index\n",
    "        if ((line[0] - 1) in participant.index\n",
    "                and (line[0] + 1) in participant.index):\n",
    "            first = participant.loc[line - 1].copy()\n",
    "            second = participant.loc[line].copy()\n",
    "            third = participant.loc[line + 1].copy()\n",
    "\n",
    "        elif ((line[0] - 1) in participant.index\n",
    "              and not (line[0] + 1) in participant.index):\n",
    "            first = participant.loc[line - 2].copy()\n",
    "            second = participant.loc[line - 1].copy()\n",
    "            third = participant.loc[line].copy()\n",
    "\n",
    "        elif (not (line[0] - 1) in participant.index\n",
    "              and (line[0] + 1) in participant.index):\n",
    "            first = participant.loc[line].copy()\n",
    "            second = participant.loc[line + 1].copy()\n",
    "            third = participant.loc[line + 2].copy()\n",
    "\n",
    "        consecutive_answers = pd.concat(\n",
    "            [consecutive_answers, first, second, third])\n",
    "\n",
    "    return consecutive_answers"
   ]
  },
  {
   "cell_type": "markdown",
   "id": "4cb01328",
   "metadata": {
    "heading_collapsed": true
   },
   "source": [
    "## md_conf_matrice(tn,tp,fn,fp)"
   ]
  },
  {
   "cell_type": "markdown",
   "id": "56a4e49e",
   "metadata": {
    "hidden": true
   },
   "source": [
    "Fonction qui ressort une matrice de confusion pour être affiché en Markdown"
   ]
  },
  {
   "cell_type": "code",
   "execution_count": 8,
   "id": "3bc7f030",
   "metadata": {
    "ExecuteTime": {
     "end_time": "2022-12-19T10:52:09.546007Z",
     "start_time": "2022-12-19T10:52:09.531060Z"
    },
    "hidden": true
   },
   "outputs": [],
   "source": [
    "def md_conf_matrice(tn,tp,fn,fp):    \n",
    "    table = \"<table><tr><th></th><th>N</th><th>P</th></tr><tr><th>T</th><td> \" + str(\n",
    "        tn) + \" </td><td> \" + str(tp) + \" </td></tr><tr><th>F</th><td> \" + str(\n",
    "            fn) + \" </td><td> \" + str(fp) + \" </td></tr></table> \"\n",
    "    return table"
   ]
  },
  {
   "cell_type": "markdown",
   "id": "7288c17b",
   "metadata": {
    "heading_collapsed": true
   },
   "source": [
    "## md_classification_report(head_names, metrics_names, report)"
   ]
  },
  {
   "cell_type": "markdown",
   "id": "fea29fdd",
   "metadata": {
    "hidden": true
   },
   "source": [
    "Fonction qui ressort un rapport de classification pour être afficher en markdown"
   ]
  },
  {
   "cell_type": "code",
   "execution_count": 9,
   "id": "9e85ea68",
   "metadata": {
    "ExecuteTime": {
     "end_time": "2022-12-19T10:52:09.561965Z",
     "start_time": "2022-12-19T10:52:09.549000Z"
    },
    "hidden": true
   },
   "outputs": [],
   "source": [
    "def md_classification_report(head_names, metrics_names, report) :\n",
    "    \n",
    "    md_table = \"<table><tr>\"\n",
    "\n",
    "    for name in head_names :\n",
    "        md_table += \"<th>\" + name + \"</th>\"\n",
    "\n",
    "    md_table += \"</tr>\"\n",
    "\n",
    "    for i in range(11) :\n",
    "        md_table += \"<tr><th>\" + str(i) +\"</th>\"\n",
    "        for metrics in metrics_names :\n",
    "            md_table += \"<td>\" + str(round(report[str(i)][metrics], 2)) + \"</td>\"\n",
    "        md_table += \"</tr>\"\n",
    "\n",
    "    md_table += \"<tr><th> Accuracy </th><td></td><td></td><td></td><th>\" + str(round(report[\"accuracy\"], 2)) + \"</th></tr></table>\"\n",
    "    return md_table"
   ]
  },
  {
   "cell_type": "markdown",
   "id": "c374824a",
   "metadata": {
    "heading_collapsed": true
   },
   "source": [
    "## model_prediction(dataset)"
   ]
  },
  {
   "cell_type": "markdown",
   "id": "5cee006c",
   "metadata": {
    "hidden": true
   },
   "source": [
    "Fonction qui prend en entrée les 3 modèles d'apprentissages ainsi qu'un jeu de données, et ressort la prédiction des modèles sur ce jeu de données"
   ]
  },
  {
   "cell_type": "code",
   "execution_count": 10,
   "id": "4421f5fc",
   "metadata": {
    "ExecuteTime": {
     "end_time": "2022-12-19T10:52:09.577922Z",
     "start_time": "2022-12-19T10:52:09.562962Z"
    },
    "hidden": true
   },
   "outputs": [],
   "source": [
    "def model_prediction(dataset) :\n",
    "    # loading the model\n",
    "    filename = 'RF1F.pkl'\n",
    "    RF1F = pickle.load(open(filename, 'rb'))\n",
    "    filename = 'RF2F.pkl'\n",
    "    RF2F = pickle.load(open(filename, 'rb'))\n",
    "    filename = 'RF3F.pkl'\n",
    "    RF3F = pickle.load(open(filename, 'rb'))\n",
    "    \n",
    "    #On définit les features à donner en entrée du modèle\n",
    "    feature_namesRF1 = [\"force_1\", \"force_2\", \"scenarios\", \"age\", \"sexe\"]\n",
    "    feature_namesRF2 = feature_namesRF1 + [\"rep_1\"]\n",
    "    feature_namesRF3 = feature_namesRF2 + [\"rep_2\"]\n",
    "\n",
    "    #On récupère les X et Y pour chacun des 3 modèles\n",
    "    Y_RF1F = dataset[dataset.repetition_question == 1][\"task_1\"]\n",
    "    X_RF1F = dataset[dataset.repetition_question == 1][feature_namesRF1]\n",
    "\n",
    "    Y_RF2F = dataset[dataset.repetition_question == 2][\"task_1\"]\n",
    "    X_RF2F = dataset[dataset.repetition_question == 2][feature_namesRF2]\n",
    "\n",
    "    Y_RF3F = dataset[dataset.repetition_question == 3][\"task_1\"]\n",
    "    X_RF3F = dataset[dataset.repetition_question == 3][feature_namesRF3]\n",
    "\n",
    "    #On teste chaque modèle\n",
    "    y_test_predict_probaRF1F = RF1F.predict_proba(X_RF1F)\n",
    "    y_test_predict_RF1F = RF1F.predict(X_RF1F)\n",
    "\n",
    "    y_test_predict_probaRF2F = RF2F.predict_proba(X_RF2F)\n",
    "    y_test_predict_RF2F = RF2F.predict(X_RF2F)\n",
    "\n",
    "    y_test_predict_probaFR3F = RF3F.predict_proba(X_RF3F)\n",
    "    y_test_predict_RF3F = RF3F.predict(X_RF3F)\n",
    "\n",
    "    #On affiche les matrices de confusion\n",
    "    md_confusion_matrix(Y_RF1F, Y_RF2F, Y_RF3F, y_test_predict_RF1F, y_test_predict_RF2F, y_test_predict_RF3F)\n",
    "\n",
    "    #On affiche les rapport de classification\n",
    "    Y_tab = [Y_RF1F, Y_RF2F, Y_RF3F]\n",
    "    Y_test_tab = [y_test_predict_RF1F, y_test_predict_RF2F, y_test_predict_RF3F]\n",
    "    y_tab = [\n",
    "        pd.concat([Y_RF1F], ignore_index=True),\n",
    "        pd.concat([Y_RF2F], ignore_index=True),\n",
    "        pd.concat([Y_RF3F], ignore_index=True)\n",
    "    ]\n",
    "\n",
    "    report = {}\n",
    "    report_opti = {}\n",
    "\n",
    "    for i in range(3):\n",
    "        report[i] = classification_report(Y_tab[i],\n",
    "                                          Y_test_tab[i],\n",
    "                                          output_dict=True,\n",
    "                                          target_names=[str(i) for i in range(11)])\n",
    "        report_opti[i] = classification_report_opti(y_tab[i], Y_test_tab[i])\n",
    "\n",
    "    md_classificationr_report(report, report_opti)\n",
    "\n",
    "    #On assemble le jeu de données prédit au jeu de données attendues\n",
    "    result = pd.DataFrame()\n",
    "    y_pred = pd.Series()\n",
    "\n",
    "    for i in range(3):\n",
    "        y_pred = pd.Series(\n",
    "            Y_test_tab[i],\n",
    "            index=dataset[dataset.repetition_question == (\n",
    "                i + 1)].index,\n",
    "            name='task_1 prédite').copy()\n",
    "\n",
    "        result_rep = pd.concat([\n",
    "            y_pred, Y_tab[i],\n",
    "            dataset[dataset.repetition_question == (i + 1)]\n",
    "        ],\n",
    "                               axis=1)\n",
    "        result = pd.concat([result, result_rep], axis=0)\n",
    "    return result"
   ]
  },
  {
   "cell_type": "markdown",
   "id": "5f92c982",
   "metadata": {},
   "source": [
    "## md_confusion_matrix(Y_RF1F, Y_RF2F, Y_RF3F, y_test_predict_RF1F, y_test_predict_RF2F, y_test_predict_RF3F)"
   ]
  },
  {
   "cell_type": "markdown",
   "id": "c4b0fcc9",
   "metadata": {},
   "source": [
    "Fonction qui affiche en Markdown des matrices de confusion"
   ]
  },
  {
   "cell_type": "code",
   "execution_count": 11,
   "id": "fa909277",
   "metadata": {
    "ExecuteTime": {
     "end_time": "2022-12-19T10:52:09.592883Z",
     "start_time": "2022-12-19T10:52:09.578919Z"
    }
   },
   "outputs": [],
   "source": [
    "def md_confusion_matrix(Y_RF1F, Y_RF2F, Y_RF3F, y_test_predict_RF1F, y_test_predict_RF2F, y_test_predict_RF3F):    \n",
    "    RF1Ftn, RF1Ffp, RF1Ffn, RF1Ftp = multilabel_confusion_matrix(\n",
    "        Y_RF1F, y_test_predict_RF1F)[0].ravel()\n",
    "    RF2Ftn, RF2Ffp, RF2Ffn, RF2Ftp = multilabel_confusion_matrix(\n",
    "        Y_RF2F, y_test_predict_RF2F)[0].ravel()\n",
    "    RF3Ftn, RF3Ffp, RF3Ffn, RF3Ftp = multilabel_confusion_matrix(\n",
    "        Y_RF3F, y_test_predict_RF3F)[0].ravel()\n",
    "    display(Markdown(\"#### Matrice de confusion\\n\"))\n",
    "    display(\n",
    "        Markdown(\"<table><tr><th>RF1F</th><th>RF2F</th><th>RF2F</th></tr><tr><td>\" +\n",
    "                 md_conf_matrice(RF1Ftn, RF1Ftp, RF1Ffn, RF1Ffp) + \"</td><td>\" +\n",
    "                 md_conf_matrice(RF2Ftn, RF2Ftp, RF2Ffn, RF2Ffp) + \"</td><td>\" +\n",
    "                 md_conf_matrice(RF3Ftn, RF3Ftp, RF3Ffn, RF3Ffp) +\n",
    "                 \"</tr></td></table>\"))"
   ]
  },
  {
   "cell_type": "markdown",
   "id": "7604e579",
   "metadata": {},
   "source": [
    "## md_classificationr_report(report, report_opti)"
   ]
  },
  {
   "cell_type": "markdown",
   "id": "df5e7661",
   "metadata": {},
   "source": [
    "Fonction qui affiche en Markdown les rapports de classification"
   ]
  },
  {
   "cell_type": "code",
   "execution_count": 12,
   "id": "b1d25a96",
   "metadata": {
    "ExecuteTime": {
     "end_time": "2022-12-19T10:52:09.608840Z",
     "start_time": "2022-12-19T10:52:09.593879Z"
    },
    "run_control": {
     "marked": true
    }
   },
   "outputs": [],
   "source": [
    "def md_classificationr_report(report, report_opti):\n",
    "    head_names = ['Class', 'Precision', 'Recall', 'F1-score', 'Support']\n",
    "    metrics_names = ['precision', 'recall', 'f1-score', 'support']\n",
    "\n",
    "    head_names_opti = ['Class', 'Precision', 'Recall', 'F1-score', 'Accuracy']\n",
    "    metrics_names_opti = ['precision', 'recall', 'f1-score', 'accuracy']\n",
    "\n",
    "    md_classification = {}\n",
    "    md_classification_opti = {}\n",
    "    for i in range(3):\n",
    "        md_classification[i] = md_classification_report(\n",
    "            head_names, metrics_names, report[i])\n",
    "        md_classification_opti[i] = md_classification_report(\n",
    "            head_names_opti, metrics_names_opti, report_opti[i])\n",
    "\n",
    "    display(Markdown(\"#### Rapport de classification\\n\"))\n",
    "\n",
    "    for i in range(3):\n",
    "        display(Markdown(\"##### RF\" + str((i + 1)) + \"F :\"))\n",
    "        display(\n",
    "            Markdown(\n",
    "                \"<table><tr><th>Classification</th><th></th><th>Classification optimisée</th></tr><tr><td>\"\n",
    "                + md_classification[i] + \"</td><td></td><td>\" +\n",
    "                md_classification_opti[i] + \"</td></tr></table>\"))"
   ]
  },
  {
   "cell_type": "markdown",
   "id": "5b3e2d63",
   "metadata": {
    "heading_collapsed": true
   },
   "source": [
    "## random_rep_answers(df)"
   ]
  },
  {
   "cell_type": "markdown",
   "id": "614e5511",
   "metadata": {
    "hidden": true
   },
   "source": [
    "Fonction qui prend un dataset en entrée et ressort les réponses de scénarios répétés pour chacun des 9 participants sélectionnés aléatoirement"
   ]
  },
  {
   "cell_type": "code",
   "execution_count": 13,
   "id": "e304aa87",
   "metadata": {
    "ExecuteTime": {
     "end_time": "2022-12-19T10:52:09.624798Z",
     "start_time": "2022-12-19T10:52:09.609838Z"
    },
    "hidden": true
   },
   "outputs": [],
   "source": [
    "def random_rep_answers(df):\n",
    "    repH_answers = pd.DataFrame(columns = df.columns)\n",
    "    participants = np.random.choice(df.id_participant.unique(), size = 9, replace = False)\n",
    "    for id_part in participants:\n",
    "        rand_scene = random.randint(1, 9)\n",
    "        if (rand_scene in repH_answers.scenarios.values):\n",
    "\n",
    "            while (rand_scene in repH_answers.scenarios.values):\n",
    "                rand_scene = random.randint(1, 9)\n",
    "\n",
    "            repH_answers = pd.concat([\n",
    "                repH_answers, df[df.id_participant == id_part][\n",
    "                    df.scenarios == rand_scene].drop_duplicates(\n",
    "                        subset=['repetition_question'], keep='first')\n",
    "            ],\n",
    "                                      axis=0)\n",
    "\n",
    "        else:\n",
    "            repH_answers = pd.concat([\n",
    "                repH_answers, df[df.id_participant == id_part][\n",
    "                    df.scenarios == rand_scene].drop_duplicates(\n",
    "                        subset=['repetition_question'], keep='first')\n",
    "            ],\n",
    "                                      axis=0)\n",
    "\n",
    "    return repH_answers"
   ]
  },
  {
   "cell_type": "markdown",
   "id": "036dc04a",
   "metadata": {
    "heading_collapsed": true
   },
   "source": [
    "## print_questions(df, n, type)"
   ]
  },
  {
   "cell_type": "markdown",
   "id": "10ed321e",
   "metadata": {
    "hidden": true
   },
   "source": [
    "Fonction d'affichage d'une question sélectioné aléatoirement sur un dataset"
   ]
  },
  {
   "cell_type": "code",
   "execution_count": 14,
   "id": "aa67e856",
   "metadata": {
    "ExecuteTime": {
     "end_time": "2022-12-19T10:52:09.639757Z",
     "start_time": "2022-12-19T10:52:09.625796Z"
    },
    "hidden": true
   },
   "outputs": [],
   "source": [
    "def print_questions(df, n, type):\n",
    "    scen_dict = [\n",
    "        \" danger : croco \", \"danger : pont \", \" danger : falaise \",\n",
    "        \" fatigue : jet de pierre \", \" fatigue : soulever de poids \",\n",
    "        \" fatigue : soulever de pierre \", \" récompense : pièces \",\n",
    "        \" récompense : pierres \", \"récompense : pain \"\n",
    "    ]\n",
    "\n",
    "    pers_dict = {\n",
    "        1: \"homme\",\n",
    "        2: \"femme\",\n",
    "        3: \"robot\",\n",
    "        4: \"enfant\",\n",
    "        5: \"personne âgée\",\n",
    "        8: \"grand homme\",\n",
    "        9: \"grande femme\"\n",
    "    }\n",
    "    id = np.random.choice(df.id_participant.unique(), size=1, replace=False)\n",
    "    texte = \" ### Question \" + str(n) + \" type \" + type + \" : \\n\"\n",
    "    \n",
    "    for line in df[df.id_participant == id[0]].index:\n",
    "        val = df[df.index == line]\n",
    "        if (int(val.scenarios) <= 3 and int(val.scenarios) >= 6):\n",
    "            \n",
    "            texte += str(line) + \" On a donné \" + str(\n",
    "                int(val.task_1)\n",
    "            ) + \" à \" + pers_dict[int(val.personnage_1)] + \" et \" + str(\n",
    "                int(val.task_2)) + \" à \" + pers_dict[int(\n",
    "                    val.personnage_2)] + \" dans le scénario de \" + scen_dict[\n",
    "                        int(val.scenarios) - 1] + \" répétition \" + str(\n",
    "                            int(val.repetition_question)) + \"\\n \\n\"\n",
    "        else:\n",
    "            \n",
    "            texte += str(line) + \" On a donné \" + str(\n",
    "                int(val.task_1)\n",
    "            ) + \" à \" + pers_dict[int(val.personnage_1)] + \" de force \" + str(\n",
    "                int(val.force_1)\n",
    "            ) + \" et \" + str(int(val.task_2)) + \" à \" + pers_dict[int(\n",
    "                val.personnage_2)] + \" de force \" + str(int(\n",
    "                    val.force_2)) + \" dans le scénario de \" + scen_dict[\n",
    "                        int(val.scenarios) - 1] + \" répétition \" + str(\n",
    "                            int(val.repetition_question)) + \"\\n \\n\"\n",
    "    \n",
    "        df.drop(line, inplace = True)\n",
    "    return texte"
   ]
  },
  {
   "cell_type": "markdown",
   "id": "eafa50ab",
   "metadata": {},
   "source": [
    "# Importation des données"
   ]
  },
  {
   "cell_type": "markdown",
   "id": "96dd7fe3",
   "metadata": {},
   "source": [
    "On importe les réponses des participants au jeu ainsi que leurs réponses aux questions de concentration."
   ]
  },
  {
   "cell_type": "code",
   "execution_count": 15,
   "id": "0f4d425f",
   "metadata": {
    "ExecuteTime": {
     "end_time": "2022-12-19T10:52:09.873134Z",
     "start_time": "2022-12-19T10:52:09.640754Z"
    }
   },
   "outputs": [],
   "source": [
    "#Import the data\n",
    "data = pd.read_csv(\n",
    "    \"https://ethicallychoice.alwaysdata.net/wp-content/data.csv\", sep=\";\")\n",
    "\n",
    "#drop the empty line\n",
    "data = data.dropna()\n",
    "\n",
    "#convert to int all the datas\n",
    "for i in [\"1\", \"2\"]:\n",
    "    data[\"personnage_\" + i] = data[\"personnage_\" + i].astype(int)\n",
    "    data[\"force_\" + i] = data[\"force_\" + i].astype(int)\n",
    "data[\"scenarios\"] = data[\"scenarios\"].astype(int)\n",
    "\n",
    "#Import the concentration question\n",
    "conc = pd.read_csv(\n",
    "    \"https://ethicallychoice.alwaysdata.net/wp-content/conc.csv\", sep=\";\")\n"
   ]
  },
  {
   "cell_type": "markdown",
   "id": "d5278ffa",
   "metadata": {},
   "source": [
    "On fait le tri parmis ceux qui ont mal répondu et on les enlève du jeu de données."
   ]
  },
  {
   "cell_type": "code",
   "execution_count": 16,
   "id": "d8995abf",
   "metadata": {
    "ExecuteTime": {
     "end_time": "2022-12-19T10:52:10.401746Z",
     "start_time": "2022-12-19T10:52:09.874131Z"
    }
   },
   "outputs": [],
   "source": [
    "#collect people who are bad answering\n",
    "out = {}\n",
    "for i in range(len(conc)):\n",
    "    for j in range(1, 4):\n",
    "        if conc[\"q\" + str(j)][i] != conc[\"q\" + str(j) + \"_rep\"][i]:\n",
    "            if conc.id[i] not in out:\n",
    "                out[conc.id[i]] = 1\n",
    "            else:\n",
    "                out[conc.id[i]] = out[conc.id[i]] + 1\n",
    "out = [k for (k, v) in out.items() if v > 1]\n",
    "\n",
    "#collect lines corresponding in data\n",
    "index = []\n",
    "for i in range(len(out)):\n",
    "    index.append(data.index[data[\"id_participant\"] == out[i]].tolist())\n",
    "\n",
    "#drop these lines\n",
    "for i in range(len(index)):\n",
    "    for j in range(len(index[i])):\n",
    "        data.drop(index[i][j], inplace=True)"
   ]
  },
  {
   "cell_type": "markdown",
   "id": "a2210362",
   "metadata": {},
   "source": [
    "On associe un entier correspondant pour le champ enfant et le genre, qui sont des informations personnelles sur le participant.  \n",
    "> Pour le champ \"Enfant\" : on attribue un 0 si la réponse est \"non\", et 1 si la réponse est \"oui\"  \n",
    "> Pour le champ \"Sexe\" : on attribue un 0 si la réponse est \"femme\", 1 si la réponse est \"homme\" et 2 si la réponse est \"autre\"."
   ]
  },
  {
   "cell_type": "code",
   "execution_count": 17,
   "id": "7e7c1dc8",
   "metadata": {
    "ExecuteTime": {
     "end_time": "2022-12-19T10:52:10.416681Z",
     "start_time": "2022-12-19T10:52:10.402718Z"
    }
   },
   "outputs": [],
   "source": [
    "#Convert to number \"Enfant\"\n",
    "data[\"enfant\"] = [0 if i == \"Non\" else 1 for i in data[\"enfant\"]]\n",
    "\n",
    "#Associate a number to each gender\n",
    "data[\"sexe\"] = [\n",
    "    0 if i == \"Femme\" else 1 if i == \"Homme\" else 2 for i in data[\"sexe\"]\n",
    "]"
   ]
  },
  {
   "cell_type": "markdown",
   "id": "207480c3",
   "metadata": {},
   "source": [
    "On suppose que changer l'ordre des 2 personnages incluent dans le scénario, i.e le personnage de gauche devient celui de ddroite et inversement, n'influence pas la prise de décision. Pour cela, on copie le jeu de données en échangeant les personnages de droite et leurs valeurs attribuées avec les personnages de gauche et leurs valeurs attribuées pour chaque question."
   ]
  },
  {
   "cell_type": "code",
   "execution_count": 18,
   "id": "3db2175f",
   "metadata": {
    "ExecuteTime": {
     "end_time": "2022-12-19T10:52:10.447601Z",
     "start_time": "2022-12-19T10:52:10.417679Z"
    }
   },
   "outputs": [
    {
     "data": {
      "text/html": [
       "<div>\n",
       "<style scoped>\n",
       "    .dataframe tbody tr th:only-of-type {\n",
       "        vertical-align: middle;\n",
       "    }\n",
       "\n",
       "    .dataframe tbody tr th {\n",
       "        vertical-align: top;\n",
       "    }\n",
       "\n",
       "    .dataframe thead th {\n",
       "        text-align: right;\n",
       "    }\n",
       "</style>\n",
       "<table border=\"1\" class=\"dataframe\">\n",
       "  <thead>\n",
       "    <tr style=\"text-align: right;\">\n",
       "      <th></th>\n",
       "      <th>personnage_1</th>\n",
       "      <th>personnage_2</th>\n",
       "      <th>force_1</th>\n",
       "      <th>force_2</th>\n",
       "      <th>scenarios</th>\n",
       "      <th>task_1</th>\n",
       "      <th>task_2</th>\n",
       "      <th>repetition_question</th>\n",
       "      <th>id_participant</th>\n",
       "      <th>age</th>\n",
       "      <th>sexe</th>\n",
       "      <th>taille</th>\n",
       "      <th>enfant</th>\n",
       "    </tr>\n",
       "  </thead>\n",
       "  <tbody>\n",
       "    <tr>\n",
       "      <th>0</th>\n",
       "      <td>1</td>\n",
       "      <td>5</td>\n",
       "      <td>7</td>\n",
       "      <td>3</td>\n",
       "      <td>4</td>\n",
       "      <td>8</td>\n",
       "      <td>2</td>\n",
       "      <td>1</td>\n",
       "      <td>d60c0832fc30e645ca04f074c44b49eb</td>\n",
       "      <td>57.0</td>\n",
       "      <td>0</td>\n",
       "      <td>169.0</td>\n",
       "      <td>1</td>\n",
       "    </tr>\n",
       "    <tr>\n",
       "      <th>1</th>\n",
       "      <td>5</td>\n",
       "      <td>9</td>\n",
       "      <td>3</td>\n",
       "      <td>6</td>\n",
       "      <td>2</td>\n",
       "      <td>1</td>\n",
       "      <td>9</td>\n",
       "      <td>1</td>\n",
       "      <td>d60c0832fc30e645ca04f074c44b49eb</td>\n",
       "      <td>57.0</td>\n",
       "      <td>0</td>\n",
       "      <td>169.0</td>\n",
       "      <td>1</td>\n",
       "    </tr>\n",
       "    <tr>\n",
       "      <th>2</th>\n",
       "      <td>5</td>\n",
       "      <td>8</td>\n",
       "      <td>3</td>\n",
       "      <td>8</td>\n",
       "      <td>3</td>\n",
       "      <td>1</td>\n",
       "      <td>9</td>\n",
       "      <td>1</td>\n",
       "      <td>d60c0832fc30e645ca04f074c44b49eb</td>\n",
       "      <td>57.0</td>\n",
       "      <td>0</td>\n",
       "      <td>169.0</td>\n",
       "      <td>1</td>\n",
       "    </tr>\n",
       "    <tr>\n",
       "      <th>3</th>\n",
       "      <td>3</td>\n",
       "      <td>5</td>\n",
       "      <td>10</td>\n",
       "      <td>3</td>\n",
       "      <td>9</td>\n",
       "      <td>0</td>\n",
       "      <td>10</td>\n",
       "      <td>1</td>\n",
       "      <td>d60c0832fc30e645ca04f074c44b49eb</td>\n",
       "      <td>57.0</td>\n",
       "      <td>0</td>\n",
       "      <td>169.0</td>\n",
       "      <td>1</td>\n",
       "    </tr>\n",
       "    <tr>\n",
       "      <th>4</th>\n",
       "      <td>8</td>\n",
       "      <td>9</td>\n",
       "      <td>8</td>\n",
       "      <td>6</td>\n",
       "      <td>7</td>\n",
       "      <td>5</td>\n",
       "      <td>5</td>\n",
       "      <td>1</td>\n",
       "      <td>d60c0832fc30e645ca04f074c44b49eb</td>\n",
       "      <td>57.0</td>\n",
       "      <td>0</td>\n",
       "      <td>169.0</td>\n",
       "      <td>1</td>\n",
       "    </tr>\n",
       "    <tr>\n",
       "      <th>...</th>\n",
       "      <td>...</td>\n",
       "      <td>...</td>\n",
       "      <td>...</td>\n",
       "      <td>...</td>\n",
       "      <td>...</td>\n",
       "      <td>...</td>\n",
       "      <td>...</td>\n",
       "      <td>...</td>\n",
       "      <td>...</td>\n",
       "      <td>...</td>\n",
       "      <td>...</td>\n",
       "      <td>...</td>\n",
       "      <td>...</td>\n",
       "    </tr>\n",
       "    <tr>\n",
       "      <th>9391</th>\n",
       "      <td>8</td>\n",
       "      <td>5</td>\n",
       "      <td>6</td>\n",
       "      <td>2</td>\n",
       "      <td>9</td>\n",
       "      <td>7</td>\n",
       "      <td>3</td>\n",
       "      <td>3</td>\n",
       "      <td>7b8fbb5fae5e4eb769c531237fef990a</td>\n",
       "      <td>25.0</td>\n",
       "      <td>1</td>\n",
       "      <td>183.0</td>\n",
       "      <td>0</td>\n",
       "    </tr>\n",
       "    <tr>\n",
       "      <th>9392</th>\n",
       "      <td>9</td>\n",
       "      <td>2</td>\n",
       "      <td>5</td>\n",
       "      <td>2</td>\n",
       "      <td>7</td>\n",
       "      <td>7</td>\n",
       "      <td>3</td>\n",
       "      <td>3</td>\n",
       "      <td>7b8fbb5fae5e4eb769c531237fef990a</td>\n",
       "      <td>25.0</td>\n",
       "      <td>1</td>\n",
       "      <td>183.0</td>\n",
       "      <td>0</td>\n",
       "    </tr>\n",
       "    <tr>\n",
       "      <th>9393</th>\n",
       "      <td>4</td>\n",
       "      <td>3</td>\n",
       "      <td>1</td>\n",
       "      <td>10</td>\n",
       "      <td>5</td>\n",
       "      <td>1</td>\n",
       "      <td>9</td>\n",
       "      <td>3</td>\n",
       "      <td>7b8fbb5fae5e4eb769c531237fef990a</td>\n",
       "      <td>25.0</td>\n",
       "      <td>1</td>\n",
       "      <td>183.0</td>\n",
       "      <td>0</td>\n",
       "    </tr>\n",
       "    <tr>\n",
       "      <th>9394</th>\n",
       "      <td>4</td>\n",
       "      <td>1</td>\n",
       "      <td>1</td>\n",
       "      <td>3</td>\n",
       "      <td>2</td>\n",
       "      <td>2</td>\n",
       "      <td>8</td>\n",
       "      <td>3</td>\n",
       "      <td>7b8fbb5fae5e4eb769c531237fef990a</td>\n",
       "      <td>25.0</td>\n",
       "      <td>1</td>\n",
       "      <td>183.0</td>\n",
       "      <td>0</td>\n",
       "    </tr>\n",
       "    <tr>\n",
       "      <th>9395</th>\n",
       "      <td>9</td>\n",
       "      <td>4</td>\n",
       "      <td>5</td>\n",
       "      <td>1</td>\n",
       "      <td>4</td>\n",
       "      <td>8</td>\n",
       "      <td>2</td>\n",
       "      <td>3</td>\n",
       "      <td>7b8fbb5fae5e4eb769c531237fef990a</td>\n",
       "      <td>25.0</td>\n",
       "      <td>1</td>\n",
       "      <td>183.0</td>\n",
       "      <td>0</td>\n",
       "    </tr>\n",
       "  </tbody>\n",
       "</table>\n",
       "<p>9396 rows × 13 columns</p>\n",
       "</div>"
      ],
      "text/plain": [
       "      personnage_1  personnage_2  force_1  force_2  scenarios  task_1  task_2  \\\n",
       "0                1             5        7        3          4       8       2   \n",
       "1                5             9        3        6          2       1       9   \n",
       "2                5             8        3        8          3       1       9   \n",
       "3                3             5       10        3          9       0      10   \n",
       "4                8             9        8        6          7       5       5   \n",
       "...            ...           ...      ...      ...        ...     ...     ...   \n",
       "9391             8             5        6        2          9       7       3   \n",
       "9392             9             2        5        2          7       7       3   \n",
       "9393             4             3        1       10          5       1       9   \n",
       "9394             4             1        1        3          2       2       8   \n",
       "9395             9             4        5        1          4       8       2   \n",
       "\n",
       "      repetition_question                    id_participant   age  sexe  \\\n",
       "0                       1  d60c0832fc30e645ca04f074c44b49eb  57.0     0   \n",
       "1                       1  d60c0832fc30e645ca04f074c44b49eb  57.0     0   \n",
       "2                       1  d60c0832fc30e645ca04f074c44b49eb  57.0     0   \n",
       "3                       1  d60c0832fc30e645ca04f074c44b49eb  57.0     0   \n",
       "4                       1  d60c0832fc30e645ca04f074c44b49eb  57.0     0   \n",
       "...                   ...                               ...   ...   ...   \n",
       "9391                    3  7b8fbb5fae5e4eb769c531237fef990a  25.0     1   \n",
       "9392                    3  7b8fbb5fae5e4eb769c531237fef990a  25.0     1   \n",
       "9393                    3  7b8fbb5fae5e4eb769c531237fef990a  25.0     1   \n",
       "9394                    3  7b8fbb5fae5e4eb769c531237fef990a  25.0     1   \n",
       "9395                    3  7b8fbb5fae5e4eb769c531237fef990a  25.0     1   \n",
       "\n",
       "      taille  enfant  \n",
       "0      169.0       1  \n",
       "1      169.0       1  \n",
       "2      169.0       1  \n",
       "3      169.0       1  \n",
       "4      169.0       1  \n",
       "...      ...     ...  \n",
       "9391   183.0       0  \n",
       "9392   183.0       0  \n",
       "9393   183.0       0  \n",
       "9394   183.0       0  \n",
       "9395   183.0       0  \n",
       "\n",
       "[9396 rows x 13 columns]"
      ]
     },
     "execution_count": 18,
     "metadata": {},
     "output_type": "execute_result"
    }
   ],
   "source": [
    "#We make the assumption that changing the order does not influence people\n",
    "data2 = data.copy(deep=True)\n",
    "\n",
    "for s in [\"personnage\", \"force\", \"task\"]:\n",
    "    data2[s + \"_1\"] = data[s + \"_2\"]\n",
    "    data2[s + \"_2\"] = data[s + \"_1\"]\n",
    "\n",
    "data = pd.concat([data, data2]).reset_index(drop=True)\n",
    "\n",
    "data"
   ]
  },
  {
   "cell_type": "markdown",
   "id": "dc40c16a",
   "metadata": {
    "heading_collapsed": true
   },
   "source": [
    "# Mise en place du jeu de données pour le test de Turing"
   ]
  },
  {
   "cell_type": "markdown",
   "id": "2830f269",
   "metadata": {
    "hidden": true
   },
   "source": [
    "On tire au hasard 10 id de participants dans le jeu de données. On récupère les réponses de ces 10 participants que l'on stocke dans un dataframe différent. Ensuite, on supprime ces 10 participants, et leurs valeurs, du jeu de données initial."
   ]
  },
  {
   "cell_type": "code",
   "execution_count": 19,
   "id": "2d3647ba",
   "metadata": {
    "ExecuteTime": {
     "end_time": "2022-12-19T10:52:10.493478Z",
     "start_time": "2022-12-19T10:52:10.449597Z"
    },
    "hidden": true
   },
   "outputs": [],
   "source": [
    "#jeu de données de test pour turing\n",
    "turing=pd.DataFrame()\n",
    "for id in data.id_participant.sample(n=10,random_state=1) :\n",
    "    turing = pd.concat([turing, data[data.id_participant==id]])\n",
    "    data.drop(data[data.id_participant==id].index, inplace=True)\n",
    "    \n",
    "data=data.reset_index(drop=True)"
   ]
  },
  {
   "cell_type": "markdown",
   "id": "d1a8ce5f",
   "metadata": {
    "hidden": true
   },
   "source": [
    "On vient récupérer les valeurs attribuées pour chaque répétition et les stocker sous de nouvelles valuers rep_2 et rep_3."
   ]
  },
  {
   "cell_type": "code",
   "execution_count": 20,
   "id": "ed6ad991",
   "metadata": {
    "ExecuteTime": {
     "end_time": "2022-12-19T10:52:15.284013Z",
     "start_time": "2022-12-19T10:52:10.494476Z"
    },
    "hidden": true
   },
   "outputs": [
    {
     "data": {
      "text/html": [
       "<div>\n",
       "<style scoped>\n",
       "    .dataframe tbody tr th:only-of-type {\n",
       "        vertical-align: middle;\n",
       "    }\n",
       "\n",
       "    .dataframe tbody tr th {\n",
       "        vertical-align: top;\n",
       "    }\n",
       "\n",
       "    .dataframe thead th {\n",
       "        text-align: right;\n",
       "    }\n",
       "</style>\n",
       "<table border=\"1\" class=\"dataframe\">\n",
       "  <thead>\n",
       "    <tr style=\"text-align: right;\">\n",
       "      <th></th>\n",
       "      <th>personnage_1</th>\n",
       "      <th>personnage_2</th>\n",
       "      <th>force_1</th>\n",
       "      <th>force_2</th>\n",
       "      <th>scenarios</th>\n",
       "      <th>task_1</th>\n",
       "      <th>task_2</th>\n",
       "      <th>repetition_question</th>\n",
       "      <th>id_participant</th>\n",
       "      <th>age</th>\n",
       "      <th>sexe</th>\n",
       "      <th>taille</th>\n",
       "      <th>enfant</th>\n",
       "      <th>rep_1</th>\n",
       "      <th>rep_2</th>\n",
       "    </tr>\n",
       "  </thead>\n",
       "  <tbody>\n",
       "    <tr>\n",
       "      <th>6816</th>\n",
       "      <td>4</td>\n",
       "      <td>3</td>\n",
       "      <td>1</td>\n",
       "      <td>10</td>\n",
       "      <td>7</td>\n",
       "      <td>10</td>\n",
       "      <td>0</td>\n",
       "      <td>2</td>\n",
       "      <td>54473a66620c6003a85d3c913da2b0f0</td>\n",
       "      <td>50.0</td>\n",
       "      <td>0</td>\n",
       "      <td>171.0</td>\n",
       "      <td>1</td>\n",
       "      <td>10</td>\n",
       "      <td>0</td>\n",
       "    </tr>\n",
       "    <tr>\n",
       "      <th>2620</th>\n",
       "      <td>8</td>\n",
       "      <td>9</td>\n",
       "      <td>6</td>\n",
       "      <td>5</td>\n",
       "      <td>9</td>\n",
       "      <td>5</td>\n",
       "      <td>5</td>\n",
       "      <td>1</td>\n",
       "      <td>5988de467c5c3428f97918d085cea04a</td>\n",
       "      <td>25.0</td>\n",
       "      <td>1</td>\n",
       "      <td>170.0</td>\n",
       "      <td>0</td>\n",
       "      <td>0</td>\n",
       "      <td>0</td>\n",
       "    </tr>\n",
       "    <tr>\n",
       "      <th>1379</th>\n",
       "      <td>4</td>\n",
       "      <td>9</td>\n",
       "      <td>1</td>\n",
       "      <td>7</td>\n",
       "      <td>3</td>\n",
       "      <td>3</td>\n",
       "      <td>7</td>\n",
       "      <td>1</td>\n",
       "      <td>0329335b819f26084364e095b6c129bc</td>\n",
       "      <td>20.0</td>\n",
       "      <td>0</td>\n",
       "      <td>163.0</td>\n",
       "      <td>0</td>\n",
       "      <td>0</td>\n",
       "      <td>0</td>\n",
       "    </tr>\n",
       "    <tr>\n",
       "      <th>7579</th>\n",
       "      <td>5</td>\n",
       "      <td>2</td>\n",
       "      <td>2</td>\n",
       "      <td>3</td>\n",
       "      <td>7</td>\n",
       "      <td>5</td>\n",
       "      <td>5</td>\n",
       "      <td>3</td>\n",
       "      <td>4f6bb6333b4a78cbe77c81db6f5657cc</td>\n",
       "      <td>20.0</td>\n",
       "      <td>0</td>\n",
       "      <td>168.0</td>\n",
       "      <td>0</td>\n",
       "      <td>5</td>\n",
       "      <td>5</td>\n",
       "    </tr>\n",
       "    <tr>\n",
       "      <th>1307</th>\n",
       "      <td>4</td>\n",
       "      <td>5</td>\n",
       "      <td>1</td>\n",
       "      <td>3</td>\n",
       "      <td>8</td>\n",
       "      <td>5</td>\n",
       "      <td>5</td>\n",
       "      <td>2</td>\n",
       "      <td>38cb2bfdd7048ff8d3abb9547c5bfbcc</td>\n",
       "      <td>23.0</td>\n",
       "      <td>0</td>\n",
       "      <td>175.0</td>\n",
       "      <td>0</td>\n",
       "      <td>5</td>\n",
       "      <td>0</td>\n",
       "    </tr>\n",
       "    <tr>\n",
       "      <th>...</th>\n",
       "      <td>...</td>\n",
       "      <td>...</td>\n",
       "      <td>...</td>\n",
       "      <td>...</td>\n",
       "      <td>...</td>\n",
       "      <td>...</td>\n",
       "      <td>...</td>\n",
       "      <td>...</td>\n",
       "      <td>...</td>\n",
       "      <td>...</td>\n",
       "      <td>...</td>\n",
       "      <td>...</td>\n",
       "      <td>...</td>\n",
       "      <td>...</td>\n",
       "      <td>...</td>\n",
       "    </tr>\n",
       "    <tr>\n",
       "      <th>2895</th>\n",
       "      <td>3</td>\n",
       "      <td>5</td>\n",
       "      <td>10</td>\n",
       "      <td>5</td>\n",
       "      <td>6</td>\n",
       "      <td>9</td>\n",
       "      <td>1</td>\n",
       "      <td>1</td>\n",
       "      <td>b375d52083748d3bcefdc90fe9a607af</td>\n",
       "      <td>23.0</td>\n",
       "      <td>0</td>\n",
       "      <td>169.0</td>\n",
       "      <td>0</td>\n",
       "      <td>0</td>\n",
       "      <td>0</td>\n",
       "    </tr>\n",
       "    <tr>\n",
       "      <th>7813</th>\n",
       "      <td>8</td>\n",
       "      <td>1</td>\n",
       "      <td>11</td>\n",
       "      <td>7</td>\n",
       "      <td>9</td>\n",
       "      <td>5</td>\n",
       "      <td>5</td>\n",
       "      <td>2</td>\n",
       "      <td>c5d5095c73183a518b6b741ba2cca2ea</td>\n",
       "      <td>21.0</td>\n",
       "      <td>1</td>\n",
       "      <td>181.0</td>\n",
       "      <td>0</td>\n",
       "      <td>5</td>\n",
       "      <td>0</td>\n",
       "    </tr>\n",
       "    <tr>\n",
       "      <th>905</th>\n",
       "      <td>4</td>\n",
       "      <td>5</td>\n",
       "      <td>1</td>\n",
       "      <td>4</td>\n",
       "      <td>7</td>\n",
       "      <td>5</td>\n",
       "      <td>5</td>\n",
       "      <td>2</td>\n",
       "      <td>fe373e8d7c35d73daaf9ba6b0fd1cad8</td>\n",
       "      <td>29.0</td>\n",
       "      <td>1</td>\n",
       "      <td>186.0</td>\n",
       "      <td>0</td>\n",
       "      <td>5</td>\n",
       "      <td>0</td>\n",
       "    </tr>\n",
       "    <tr>\n",
       "      <th>5192</th>\n",
       "      <td>5</td>\n",
       "      <td>1</td>\n",
       "      <td>3</td>\n",
       "      <td>5</td>\n",
       "      <td>1</td>\n",
       "      <td>2</td>\n",
       "      <td>8</td>\n",
       "      <td>1</td>\n",
       "      <td>6df5cf6b4bfb6d28259ac9513ac66715</td>\n",
       "      <td>23.0</td>\n",
       "      <td>1</td>\n",
       "      <td>170.0</td>\n",
       "      <td>0</td>\n",
       "      <td>0</td>\n",
       "      <td>0</td>\n",
       "    </tr>\n",
       "    <tr>\n",
       "      <th>235</th>\n",
       "      <td>4</td>\n",
       "      <td>9</td>\n",
       "      <td>1</td>\n",
       "      <td>8</td>\n",
       "      <td>2</td>\n",
       "      <td>2</td>\n",
       "      <td>8</td>\n",
       "      <td>3</td>\n",
       "      <td>85d9e832c808ccb651266c1e1f6fa391</td>\n",
       "      <td>19.0</td>\n",
       "      <td>1</td>\n",
       "      <td>180.0</td>\n",
       "      <td>0</td>\n",
       "      <td>2</td>\n",
       "      <td>2</td>\n",
       "    </tr>\n",
       "  </tbody>\n",
       "</table>\n",
       "<p>8748 rows × 15 columns</p>\n",
       "</div>"
      ],
      "text/plain": [
       "      personnage_1  personnage_2  force_1  force_2  scenarios  task_1  task_2  \\\n",
       "6816             4             3        1       10          7      10       0   \n",
       "2620             8             9        6        5          9       5       5   \n",
       "1379             4             9        1        7          3       3       7   \n",
       "7579             5             2        2        3          7       5       5   \n",
       "1307             4             5        1        3          8       5       5   \n",
       "...            ...           ...      ...      ...        ...     ...     ...   \n",
       "2895             3             5       10        5          6       9       1   \n",
       "7813             8             1       11        7          9       5       5   \n",
       "905              4             5        1        4          7       5       5   \n",
       "5192             5             1        3        5          1       2       8   \n",
       "235              4             9        1        8          2       2       8   \n",
       "\n",
       "      repetition_question                    id_participant   age  sexe  \\\n",
       "6816                    2  54473a66620c6003a85d3c913da2b0f0  50.0     0   \n",
       "2620                    1  5988de467c5c3428f97918d085cea04a  25.0     1   \n",
       "1379                    1  0329335b819f26084364e095b6c129bc  20.0     0   \n",
       "7579                    3  4f6bb6333b4a78cbe77c81db6f5657cc  20.0     0   \n",
       "1307                    2  38cb2bfdd7048ff8d3abb9547c5bfbcc  23.0     0   \n",
       "...                   ...                               ...   ...   ...   \n",
       "2895                    1  b375d52083748d3bcefdc90fe9a607af  23.0     0   \n",
       "7813                    2  c5d5095c73183a518b6b741ba2cca2ea  21.0     1   \n",
       "905                     2  fe373e8d7c35d73daaf9ba6b0fd1cad8  29.0     1   \n",
       "5192                    1  6df5cf6b4bfb6d28259ac9513ac66715  23.0     1   \n",
       "235                     3  85d9e832c808ccb651266c1e1f6fa391  19.0     1   \n",
       "\n",
       "      taille  enfant  rep_1  rep_2  \n",
       "6816   171.0       1     10      0  \n",
       "2620   170.0       0      0      0  \n",
       "1379   163.0       0      0      0  \n",
       "7579   168.0       0      5      5  \n",
       "1307   175.0       0      5      0  \n",
       "...      ...     ...    ...    ...  \n",
       "2895   169.0       0      0      0  \n",
       "7813   181.0       0      5      0  \n",
       "905    186.0       0      5      0  \n",
       "5192   170.0       0      0      0  \n",
       "235    180.0       0      2      2  \n",
       "\n",
       "[8748 rows x 15 columns]"
      ]
     },
     "execution_count": 20,
     "metadata": {},
     "output_type": "execute_result"
    }
   ],
   "source": [
    "#préparation des jeu de données\n",
    "data_sample = data.copy()\n",
    "\n",
    "data_rep2 = rep_2(data)\n",
    "data_rep3 = rep_3(data_rep2)\n",
    "\n",
    "turing = rep_2(turing)\n",
    "turing = rep_3(turing)\n",
    "\n",
    "data_sample = data_rep3.sample(frac=1, random_state=1)\n",
    "data_sample"
   ]
  },
  {
   "cell_type": "markdown",
   "id": "5736cf54",
   "metadata": {},
   "source": [
    "# Modèles Learning"
   ]
  },
  {
   "cell_type": "markdown",
   "id": "fcabcc46",
   "metadata": {
    "hide_input": false
   },
   "source": [
    "On récupère les données des neuf 1ers scénarios évalués par les participants. On sépare ce qu'on veut prédire des features. On divise ensuite le jeu de données en jeu de test et jeu d'entraînement."
   ]
  },
  {
   "cell_type": "code",
   "execution_count": 21,
   "id": "84771ed0",
   "metadata": {
    "ExecuteTime": {
     "end_time": "2022-12-19T10:52:15.314931Z",
     "start_time": "2022-12-19T10:52:15.285011Z"
    }
   },
   "outputs": [
    {
     "data": {
      "text/plain": [
       "994"
      ]
     },
     "metadata": {},
     "output_type": "display_data"
    },
    {
     "data": {
      "text/html": [
       "<div>\n",
       "<style scoped>\n",
       "    .dataframe tbody tr th:only-of-type {\n",
       "        vertical-align: middle;\n",
       "    }\n",
       "\n",
       "    .dataframe tbody tr th {\n",
       "        vertical-align: top;\n",
       "    }\n",
       "\n",
       "    .dataframe thead th {\n",
       "        text-align: right;\n",
       "    }\n",
       "</style>\n",
       "<table border=\"1\" class=\"dataframe\">\n",
       "  <thead>\n",
       "    <tr style=\"text-align: right;\">\n",
       "      <th></th>\n",
       "      <th>personnage_1</th>\n",
       "      <th>personnage_2</th>\n",
       "      <th>force_1</th>\n",
       "      <th>force_2</th>\n",
       "      <th>scenarios</th>\n",
       "      <th>task_1</th>\n",
       "      <th>task_2</th>\n",
       "      <th>repetition_question</th>\n",
       "      <th>id_participant</th>\n",
       "      <th>age</th>\n",
       "      <th>sexe</th>\n",
       "      <th>taille</th>\n",
       "      <th>enfant</th>\n",
       "      <th>rep_1</th>\n",
       "      <th>rep_2</th>\n",
       "    </tr>\n",
       "  </thead>\n",
       "  <tbody>\n",
       "    <tr>\n",
       "      <th>6816</th>\n",
       "      <td>4</td>\n",
       "      <td>3</td>\n",
       "      <td>1</td>\n",
       "      <td>10</td>\n",
       "      <td>7</td>\n",
       "      <td>10</td>\n",
       "      <td>0</td>\n",
       "      <td>2</td>\n",
       "      <td>54473a66620c6003a85d3c913da2b0f0</td>\n",
       "      <td>50.0</td>\n",
       "      <td>0</td>\n",
       "      <td>171.0</td>\n",
       "      <td>1</td>\n",
       "      <td>10</td>\n",
       "      <td>0</td>\n",
       "    </tr>\n",
       "    <tr>\n",
       "      <th>2620</th>\n",
       "      <td>8</td>\n",
       "      <td>9</td>\n",
       "      <td>6</td>\n",
       "      <td>5</td>\n",
       "      <td>9</td>\n",
       "      <td>5</td>\n",
       "      <td>5</td>\n",
       "      <td>1</td>\n",
       "      <td>5988de467c5c3428f97918d085cea04a</td>\n",
       "      <td>25.0</td>\n",
       "      <td>1</td>\n",
       "      <td>170.0</td>\n",
       "      <td>0</td>\n",
       "      <td>0</td>\n",
       "      <td>0</td>\n",
       "    </tr>\n",
       "    <tr>\n",
       "      <th>1379</th>\n",
       "      <td>4</td>\n",
       "      <td>9</td>\n",
       "      <td>1</td>\n",
       "      <td>7</td>\n",
       "      <td>3</td>\n",
       "      <td>3</td>\n",
       "      <td>7</td>\n",
       "      <td>1</td>\n",
       "      <td>0329335b819f26084364e095b6c129bc</td>\n",
       "      <td>20.0</td>\n",
       "      <td>0</td>\n",
       "      <td>163.0</td>\n",
       "      <td>0</td>\n",
       "      <td>0</td>\n",
       "      <td>0</td>\n",
       "    </tr>\n",
       "    <tr>\n",
       "      <th>7579</th>\n",
       "      <td>5</td>\n",
       "      <td>2</td>\n",
       "      <td>2</td>\n",
       "      <td>3</td>\n",
       "      <td>7</td>\n",
       "      <td>5</td>\n",
       "      <td>5</td>\n",
       "      <td>3</td>\n",
       "      <td>4f6bb6333b4a78cbe77c81db6f5657cc</td>\n",
       "      <td>20.0</td>\n",
       "      <td>0</td>\n",
       "      <td>168.0</td>\n",
       "      <td>0</td>\n",
       "      <td>5</td>\n",
       "      <td>5</td>\n",
       "    </tr>\n",
       "    <tr>\n",
       "      <th>1307</th>\n",
       "      <td>4</td>\n",
       "      <td>5</td>\n",
       "      <td>1</td>\n",
       "      <td>3</td>\n",
       "      <td>8</td>\n",
       "      <td>5</td>\n",
       "      <td>5</td>\n",
       "      <td>2</td>\n",
       "      <td>38cb2bfdd7048ff8d3abb9547c5bfbcc</td>\n",
       "      <td>23.0</td>\n",
       "      <td>0</td>\n",
       "      <td>175.0</td>\n",
       "      <td>0</td>\n",
       "      <td>5</td>\n",
       "      <td>0</td>\n",
       "    </tr>\n",
       "    <tr>\n",
       "      <th>...</th>\n",
       "      <td>...</td>\n",
       "      <td>...</td>\n",
       "      <td>...</td>\n",
       "      <td>...</td>\n",
       "      <td>...</td>\n",
       "      <td>...</td>\n",
       "      <td>...</td>\n",
       "      <td>...</td>\n",
       "      <td>...</td>\n",
       "      <td>...</td>\n",
       "      <td>...</td>\n",
       "      <td>...</td>\n",
       "      <td>...</td>\n",
       "      <td>...</td>\n",
       "      <td>...</td>\n",
       "    </tr>\n",
       "    <tr>\n",
       "      <th>2895</th>\n",
       "      <td>3</td>\n",
       "      <td>5</td>\n",
       "      <td>10</td>\n",
       "      <td>5</td>\n",
       "      <td>6</td>\n",
       "      <td>9</td>\n",
       "      <td>1</td>\n",
       "      <td>1</td>\n",
       "      <td>b375d52083748d3bcefdc90fe9a607af</td>\n",
       "      <td>23.0</td>\n",
       "      <td>0</td>\n",
       "      <td>169.0</td>\n",
       "      <td>0</td>\n",
       "      <td>0</td>\n",
       "      <td>0</td>\n",
       "    </tr>\n",
       "    <tr>\n",
       "      <th>7813</th>\n",
       "      <td>8</td>\n",
       "      <td>1</td>\n",
       "      <td>11</td>\n",
       "      <td>7</td>\n",
       "      <td>9</td>\n",
       "      <td>5</td>\n",
       "      <td>5</td>\n",
       "      <td>2</td>\n",
       "      <td>c5d5095c73183a518b6b741ba2cca2ea</td>\n",
       "      <td>21.0</td>\n",
       "      <td>1</td>\n",
       "      <td>181.0</td>\n",
       "      <td>0</td>\n",
       "      <td>5</td>\n",
       "      <td>0</td>\n",
       "    </tr>\n",
       "    <tr>\n",
       "      <th>905</th>\n",
       "      <td>4</td>\n",
       "      <td>5</td>\n",
       "      <td>1</td>\n",
       "      <td>4</td>\n",
       "      <td>7</td>\n",
       "      <td>5</td>\n",
       "      <td>5</td>\n",
       "      <td>2</td>\n",
       "      <td>fe373e8d7c35d73daaf9ba6b0fd1cad8</td>\n",
       "      <td>29.0</td>\n",
       "      <td>1</td>\n",
       "      <td>186.0</td>\n",
       "      <td>0</td>\n",
       "      <td>5</td>\n",
       "      <td>0</td>\n",
       "    </tr>\n",
       "    <tr>\n",
       "      <th>5192</th>\n",
       "      <td>5</td>\n",
       "      <td>1</td>\n",
       "      <td>3</td>\n",
       "      <td>5</td>\n",
       "      <td>1</td>\n",
       "      <td>2</td>\n",
       "      <td>8</td>\n",
       "      <td>1</td>\n",
       "      <td>6df5cf6b4bfb6d28259ac9513ac66715</td>\n",
       "      <td>23.0</td>\n",
       "      <td>1</td>\n",
       "      <td>170.0</td>\n",
       "      <td>0</td>\n",
       "      <td>0</td>\n",
       "      <td>0</td>\n",
       "    </tr>\n",
       "    <tr>\n",
       "      <th>235</th>\n",
       "      <td>4</td>\n",
       "      <td>9</td>\n",
       "      <td>1</td>\n",
       "      <td>8</td>\n",
       "      <td>2</td>\n",
       "      <td>2</td>\n",
       "      <td>8</td>\n",
       "      <td>3</td>\n",
       "      <td>85d9e832c808ccb651266c1e1f6fa391</td>\n",
       "      <td>19.0</td>\n",
       "      <td>1</td>\n",
       "      <td>180.0</td>\n",
       "      <td>0</td>\n",
       "      <td>2</td>\n",
       "      <td>2</td>\n",
       "    </tr>\n",
       "  </tbody>\n",
       "</table>\n",
       "<p>8748 rows × 15 columns</p>\n",
       "</div>"
      ],
      "text/plain": [
       "      personnage_1  personnage_2  force_1  force_2  scenarios  task_1  task_2  \\\n",
       "6816             4             3        1       10          7      10       0   \n",
       "2620             8             9        6        5          9       5       5   \n",
       "1379             4             9        1        7          3       3       7   \n",
       "7579             5             2        2        3          7       5       5   \n",
       "1307             4             5        1        3          8       5       5   \n",
       "...            ...           ...      ...      ...        ...     ...     ...   \n",
       "2895             3             5       10        5          6       9       1   \n",
       "7813             8             1       11        7          9       5       5   \n",
       "905              4             5        1        4          7       5       5   \n",
       "5192             5             1        3        5          1       2       8   \n",
       "235              4             9        1        8          2       2       8   \n",
       "\n",
       "      repetition_question                    id_participant   age  sexe  \\\n",
       "6816                    2  54473a66620c6003a85d3c913da2b0f0  50.0     0   \n",
       "2620                    1  5988de467c5c3428f97918d085cea04a  25.0     1   \n",
       "1379                    1  0329335b819f26084364e095b6c129bc  20.0     0   \n",
       "7579                    3  4f6bb6333b4a78cbe77c81db6f5657cc  20.0     0   \n",
       "1307                    2  38cb2bfdd7048ff8d3abb9547c5bfbcc  23.0     0   \n",
       "...                   ...                               ...   ...   ...   \n",
       "2895                    1  b375d52083748d3bcefdc90fe9a607af  23.0     0   \n",
       "7813                    2  c5d5095c73183a518b6b741ba2cca2ea  21.0     1   \n",
       "905                     2  fe373e8d7c35d73daaf9ba6b0fd1cad8  29.0     1   \n",
       "5192                    1  6df5cf6b4bfb6d28259ac9513ac66715  23.0     1   \n",
       "235                     3  85d9e832c808ccb651266c1e1f6fa391  19.0     1   \n",
       "\n",
       "      taille  enfant  rep_1  rep_2  \n",
       "6816   171.0       1     10      0  \n",
       "2620   170.0       0      0      0  \n",
       "1379   163.0       0      0      0  \n",
       "7579   168.0       0      5      5  \n",
       "1307   175.0       0      5      0  \n",
       "...      ...     ...    ...    ...  \n",
       "2895   169.0       0      0      0  \n",
       "7813   181.0       0      5      0  \n",
       "905    186.0       0      5      0  \n",
       "5192   170.0       0      0      0  \n",
       "235    180.0       0      2      2  \n",
       "\n",
       "[8748 rows x 15 columns]"
      ]
     },
     "metadata": {},
     "output_type": "display_data"
    }
   ],
   "source": [
    "train_set, test_set = train_test_set(data_sample)\n",
    "display(data_sample)"
   ]
  },
  {
   "cell_type": "code",
   "execution_count": 22,
   "id": "37178f99",
   "metadata": {
    "ExecuteTime": {
     "end_time": "2022-12-06T17:19:07.773503Z",
     "start_time": "2022-12-06T17:10:46.187244Z"
    },
    "deletable": false,
    "editable": false,
    "run_control": {
     "frozen": true
    }
   },
   "outputs": [
    {
     "name": "stdout",
     "output_type": "stream",
     "text": [
      "Fitting 5 folds for each of 420 candidates, totalling 2100 fits\n",
      "Best score RF1 :  0.40394353512053005\n",
      "Fitting 5 folds for each of 420 candidates, totalling 2100 fits\n",
      "Best score RF2 :  0.6539476707318194\n",
      "Fitting 5 folds for each of 420 candidates, totalling 2100 fits\n",
      "Best score RF3 :  0.7289887970885296\n",
      "Sauvegarde du modèle dans  RF1F.pkl\n",
      "Sauvegarde du modèle dans  RF2F.pkl\n",
      "Sauvegarde du modèle dans  RF3F.pkl\n"
     ]
    }
   ],
   "source": [
    "model_train(train_set, test_set)"
   ]
  },
  {
   "cell_type": "code",
   "execution_count": 22,
   "id": "86dac31f",
   "metadata": {
    "ExecuteTime": {
     "end_time": "2022-12-19T10:52:16.280855Z",
     "start_time": "2022-12-19T10:52:15.315928Z"
    },
    "scrolled": false
   },
   "outputs": [
    {
     "name": "stdout",
     "output_type": "stream",
     "text": [
      "RandomForestClassifier(bootstrap=False, max_depth=10, max_leaf_nodes=95,\n",
      "                       min_samples_split=4, n_estimators=30)\n",
      "RandomForestClassifier(bootstrap=False, criterion='entropy', max_depth=10,\n",
      "                       max_leaf_nodes=95, min_samples_split=16,\n",
      "                       n_estimators=90)\n",
      "RandomForestClassifier(max_depth=10, max_leaf_nodes=95, min_samples_split=3,\n",
      "                       n_estimators=70)\n"
     ]
    },
    {
     "data": {
      "text/markdown": [
       "#### Matrice de confusion\n"
      ],
      "text/plain": [
       "<IPython.core.display.Markdown object>"
      ]
     },
     "metadata": {},
     "output_type": "display_data"
    },
    {
     "data": {
      "text/markdown": [
       "<table><tr><th>RF1F</th><th>RF2F</th><th>RF2F</th></tr><tr><td><table><tr><th></th><th>N</th><th>P</th></tr><tr><th>T</th><td> 485 </td><td> 47 </td></tr><tr><th>F</th><td> 20 </td><td> 32 </td></tr></table> </td><td><table><tr><th></th><th>N</th><th>P</th></tr><tr><th>T</th><td> 529 </td><td> 39 </td></tr><tr><th>F</th><td> 7 </td><td> 9 </td></tr></table> </td><td><table><tr><th></th><th>N</th><th>P</th></tr><tr><th>T</th><td> 534 </td><td> 44 </td></tr><tr><th>F</th><td> 2 </td><td> 4 </td></tr></table> </tr></td></table>"
      ],
      "text/plain": [
       "<IPython.core.display.Markdown object>"
      ]
     },
     "metadata": {},
     "output_type": "display_data"
    },
    {
     "data": {
      "text/markdown": [
       "#### Rapport de classification\n"
      ],
      "text/plain": [
       "<IPython.core.display.Markdown object>"
      ]
     },
     "metadata": {},
     "output_type": "display_data"
    },
    {
     "data": {
      "text/markdown": [
       "##### RF1F :"
      ],
      "text/plain": [
       "<IPython.core.display.Markdown object>"
      ]
     },
     "metadata": {},
     "output_type": "display_data"
    },
    {
     "data": {
      "text/markdown": [
       "<table><tr><th>Classification</th><th></th><th>Classification optimisée</th></tr><tr><td><table><tr><th>Class</th><th>Precision</th><th>Recall</th><th>F1-score</th><th>Support</th></tr><tr><th>0</th><td>0.59</td><td>0.7</td><td>0.64</td><td>67</td></tr><tr><th>1</th><td>0.7</td><td>0.41</td><td>0.52</td><td>17</td></tr><tr><th>2</th><td>0.35</td><td>0.47</td><td>0.4</td><td>32</td></tr><tr><th>3</th><td>0.59</td><td>0.34</td><td>0.43</td><td>56</td></tr><tr><th>4</th><td>0.62</td><td>0.43</td><td>0.51</td><td>60</td></tr><tr><th>5</th><td>0.55</td><td>0.82</td><td>0.66</td><td>131</td></tr><tr><th>6</th><td>0.6</td><td>0.36</td><td>0.45</td><td>50</td></tr><tr><th>7</th><td>0.44</td><td>0.27</td><td>0.34</td><td>51</td></tr><tr><th>8</th><td>0.31</td><td>0.38</td><td>0.34</td><td>40</td></tr><tr><th>9</th><td>0.44</td><td>0.14</td><td>0.22</td><td>28</td></tr><tr><th>10</th><td>0.48</td><td>0.6</td><td>0.53</td><td>52</td></tr><tr><th> Accuracy </th><td></td><td></td><td></td><th>0.52</th></tr></table></td><td></td><td><table><tr><th>Class</th><th>Precision</th><th>Recall</th><th>F1-score</th><th>Accuracy</th></tr><tr><th>0</th><td>0.55</td><td>0.73</td><td>0.63</td><td>0.9</td></tr><tr><th>1</th><td>0.1</td><td>0.76</td><td>0.18</td><td>0.79</td></tr><tr><th>2</th><td>0.21</td><td>0.56</td><td>0.31</td><td>0.86</td></tr><tr><th>3</th><td>0.26</td><td>0.54</td><td>0.35</td><td>0.81</td></tr><tr><th>4</th><td>0.17</td><td>0.75</td><td>0.28</td><td>0.59</td></tr><tr><th>5</th><td>0.41</td><td>0.83</td><td>0.55</td><td>0.69</td></tr><tr><th>6</th><td>0.14</td><td>0.72</td><td>0.23</td><td>0.6</td></tr><tr><th>7</th><td>0.25</td><td>0.53</td><td>0.34</td><td>0.82</td></tr><tr><th>8</th><td>0.22</td><td>0.5</td><td>0.31</td><td>0.85</td></tr><tr><th>9</th><td>0.14</td><td>0.61</td><td>0.23</td><td>0.8</td></tr><tr><th>10</th><td>0.47</td><td>0.65</td><td>0.55</td><td>0.9</td></tr><tr><th> Accuracy </th><td></td><td></td><td></td><th>0.78</th></tr></table></td></tr></table>"
      ],
      "text/plain": [
       "<IPython.core.display.Markdown object>"
      ]
     },
     "metadata": {},
     "output_type": "display_data"
    },
    {
     "data": {
      "text/markdown": [
       "##### RF2F :"
      ],
      "text/plain": [
       "<IPython.core.display.Markdown object>"
      ]
     },
     "metadata": {},
     "output_type": "display_data"
    },
    {
     "data": {
      "text/markdown": [
       "<table><tr><th>Classification</th><th></th><th>Classification optimisée</th></tr><tr><td><table><tr><th>Class</th><th>Precision</th><th>Recall</th><th>F1-score</th><th>Support</th></tr><tr><th>0</th><td>0.81</td><td>0.85</td><td>0.83</td><td>46</td></tr><tr><th>1</th><td>0.5</td><td>0.43</td><td>0.47</td><td>23</td></tr><tr><th>2</th><td>0.59</td><td>0.64</td><td>0.62</td><td>45</td></tr><tr><th>3</th><td>0.64</td><td>0.49</td><td>0.56</td><td>59</td></tr><tr><th>4</th><td>0.69</td><td>0.79</td><td>0.73</td><td>42</td></tr><tr><th>5</th><td>0.82</td><td>0.89</td><td>0.85</td><td>148</td></tr><tr><th>6</th><td>0.66</td><td>0.61</td><td>0.63</td><td>41</td></tr><tr><th>7</th><td>0.48</td><td>0.6</td><td>0.53</td><td>52</td></tr><tr><th>8</th><td>0.64</td><td>0.49</td><td>0.55</td><td>47</td></tr><tr><th>9</th><td>0.75</td><td>0.48</td><td>0.59</td><td>31</td></tr><tr><th>10</th><td>0.77</td><td>0.86</td><td>0.81</td><td>50</td></tr><tr><th> Accuracy </th><td></td><td></td><td></td><th>0.7</th></tr></table></td><td></td><td><table><tr><th>Class</th><th>Precision</th><th>Recall</th><th>F1-score</th><th>Accuracy</th></tr><tr><th>0</th><td>0.62</td><td>0.91</td><td>0.74</td><td>0.95</td></tr><tr><th>1</th><td>0.16</td><td>0.83</td><td>0.27</td><td>0.83</td></tr><tr><th>2</th><td>0.32</td><td>0.82</td><td>0.46</td><td>0.85</td></tr><tr><th>3</th><td>0.32</td><td>0.78</td><td>0.45</td><td>0.81</td></tr><tr><th>4</th><td>0.15</td><td>0.93</td><td>0.26</td><td>0.63</td></tr><tr><th>5</th><td>0.56</td><td>0.93</td><td>0.7</td><td>0.8</td></tr><tr><th>6</th><td>0.14</td><td>0.88</td><td>0.24</td><td>0.6</td></tr><tr><th>7</th><td>0.3</td><td>0.79</td><td>0.43</td><td>0.82</td></tr><tr><th>8</th><td>0.33</td><td>0.85</td><td>0.48</td><td>0.85</td></tr><tr><th>9</th><td>0.21</td><td>0.77</td><td>0.33</td><td>0.84</td></tr><tr><th>10</th><td>0.58</td><td>0.88</td><td>0.7</td><td>0.93</td></tr><tr><th> Accuracy </th><td></td><td></td><td></td><th>0.81</th></tr></table></td></tr></table>"
      ],
      "text/plain": [
       "<IPython.core.display.Markdown object>"
      ]
     },
     "metadata": {},
     "output_type": "display_data"
    },
    {
     "data": {
      "text/markdown": [
       "##### RF3F :"
      ],
      "text/plain": [
       "<IPython.core.display.Markdown object>"
      ]
     },
     "metadata": {},
     "output_type": "display_data"
    },
    {
     "data": {
      "text/markdown": [
       "<table><tr><th>Classification</th><th></th><th>Classification optimisée</th></tr><tr><td><table><tr><th>Class</th><th>Precision</th><th>Recall</th><th>F1-score</th><th>Support</th></tr><tr><th>0</th><td>0.92</td><td>0.96</td><td>0.94</td><td>46</td></tr><tr><th>1</th><td>0.62</td><td>0.45</td><td>0.53</td><td>22</td></tr><tr><th>2</th><td>0.77</td><td>0.7</td><td>0.73</td><td>53</td></tr><tr><th>3</th><td>0.71</td><td>0.76</td><td>0.73</td><td>49</td></tr><tr><th>4</th><td>0.85</td><td>0.72</td><td>0.78</td><td>40</td></tr><tr><th>5</th><td>0.81</td><td>0.92</td><td>0.86</td><td>133</td></tr><tr><th>6</th><td>0.73</td><td>0.72</td><td>0.73</td><td>46</td></tr><tr><th>7</th><td>0.83</td><td>0.76</td><td>0.79</td><td>58</td></tr><tr><th>8</th><td>0.64</td><td>0.75</td><td>0.69</td><td>51</td></tr><tr><th>9</th><td>0.7</td><td>0.45</td><td>0.55</td><td>31</td></tr><tr><th>10</th><td>0.84</td><td>0.89</td><td>0.87</td><td>55</td></tr><tr><th> Accuracy </th><td></td><td></td><td></td><th>0.78</th></tr></table></td><td></td><td><table><tr><th>Class</th><th>Precision</th><th>Recall</th><th>F1-score</th><th>Accuracy</th></tr><tr><th>0</th><td>0.69</td><td>0.96</td><td>0.8</td><td>0.96</td></tr><tr><th>1</th><td>0.18</td><td>0.91</td><td>0.3</td><td>0.84</td></tr><tr><th>2</th><td>0.42</td><td>0.92</td><td>0.58</td><td>0.88</td></tr><tr><th>3</th><td>0.3</td><td>0.82</td><td>0.44</td><td>0.82</td></tr><tr><th>4</th><td>0.16</td><td>0.93</td><td>0.27</td><td>0.65</td></tr><tr><th>5</th><td>0.55</td><td>0.95</td><td>0.7</td><td>0.81</td></tr><tr><th>6</th><td>0.16</td><td>0.89</td><td>0.27</td><td>0.64</td></tr><tr><th>7</th><td>0.35</td><td>0.95</td><td>0.51</td><td>0.82</td></tr><tr><th>8</th><td>0.36</td><td>0.92</td><td>0.52</td><td>0.85</td></tr><tr><th>9</th><td>0.22</td><td>0.97</td><td>0.36</td><td>0.82</td></tr><tr><th>10</th><td>0.64</td><td>0.91</td><td>0.75</td><td>0.94</td></tr><tr><th> Accuracy </th><td></td><td></td><td></td><th>0.82</th></tr></table></td></tr></table>"
      ],
      "text/plain": [
       "<IPython.core.display.Markdown object>"
      ]
     },
     "metadata": {},
     "output_type": "display_data"
    }
   ],
   "source": [
    "model_test(train_set, test_set)"
   ]
  },
  {
   "cell_type": "markdown",
   "id": "5e8da525",
   "metadata": {},
   "source": [
    "# Collecte des données utilisées pour le test de Turing"
   ]
  },
  {
   "cell_type": "markdown",
   "id": "4df49dd1",
   "metadata": {},
   "source": [
    "On récupère dans un premier temps les réponses consécutives pour un humain, humain inversé et un robot."
   ]
  },
  {
   "cell_type": "markdown",
   "id": "c5573c54",
   "metadata": {},
   "source": [
    "## Sets de réponses consécutives"
   ]
  },
  {
   "cell_type": "markdown",
   "id": "2feb0728",
   "metadata": {},
   "source": [
    "### Réponses consécutives des participants"
   ]
  },
  {
   "cell_type": "markdown",
   "id": "493e8716",
   "metadata": {},
   "source": [
    "Pour chacun des 10 participants selectionnés au hasard, on récupère 3 réponses consécutives"
   ]
  },
  {
   "cell_type": "code",
   "execution_count": 23,
   "id": "38158169",
   "metadata": {
    "ExecuteTime": {
     "end_time": "2022-12-19T10:52:16.437099Z",
     "start_time": "2022-12-19T10:52:16.281854Z"
    },
    "run_control": {
     "marked": false
    },
    "scrolled": false
   },
   "outputs": [],
   "source": [
    "consH_answers = random_3consecutiveanswers(turing)"
   ]
  },
  {
   "cell_type": "markdown",
   "id": "6e479f5d",
   "metadata": {},
   "source": [
    "### Réponses consécutives inversées"
   ]
  },
  {
   "cell_type": "markdown",
   "id": "ad99b494",
   "metadata": {},
   "source": [
    "Maintenant, on souahite faire la même chose mais en inversant les réponses entre les 2 personnages de chaque questions :  \n",
    "> On récupère le jeu de données de test de Turing intial et on stocke une copie.  \n",
    "> On intervertie les valeurs de la colonne task_1 et celles de la colonne task_2.  \n",
    "> On réindexe le DataFrame comme à l'initial\n",
    "> On récupère aussi les valeurs pour rep_1 et rep_2.\n",
    "> Puis on appelle la fonction qui ressort 3 réponses consécutives."
   ]
  },
  {
   "cell_type": "code",
   "execution_count": 24,
   "id": "956f7e81",
   "metadata": {
    "ExecuteTime": {
     "end_time": "2022-12-19T10:52:16.949346Z",
     "start_time": "2022-12-19T10:52:16.438101Z"
    },
    "scrolled": true
   },
   "outputs": [],
   "source": [
    "turing_inverted = turing.copy()\n",
    "\n",
    "col = {'task_1': 'task_2', 'task_2': 'task_1'}\n",
    "turing_inverted.rename(columns=col, inplace=True)\n",
    "\n",
    "turing_inverted = turing_inverted.reindex(columns=turing.columns)\n",
    "turing_inverted.drop(columns=['rep_1', 'rep_2'], inplace=True)\n",
    "\n",
    "rep_2(turing_inverted)\n",
    "rep_3(turing_inverted)\n",
    "\n",
    "consH_inverted = random_3consecutiveanswers(turing_inverted)\n"
   ]
  },
  {
   "cell_type": "markdown",
   "id": "0bbd9eee",
   "metadata": {},
   "source": [
    "### Réponses consécutives du modèle"
   ]
  },
  {
   "cell_type": "markdown",
   "id": "ed27143f",
   "metadata": {},
   "source": [
    "Il ne nous manque plus que les 3 réponses consécutives du modèles. Pour cela :  \n",
    "> On prend le jeu de test de Turing initial  \n",
    "> On teste les 3 modèles sur le jeu de données :  \n",
    ">> RF1F sur la 1ère série de questions  \n",
    ">> RF2F sur la 2e série de questions  \n",
    ">> RF3F sur la 3e série de questions  \n",
    "\n",
    "> On ajoute les réponses des modèles au jeu de données initial  \n",
    "> On appelle random_3followedanswers()"
   ]
  },
  {
   "cell_type": "code",
   "execution_count": 25,
   "id": "6d1812b4",
   "metadata": {
    "ExecuteTime": {
     "end_time": "2022-12-19T10:52:17.412312Z",
     "start_time": "2022-12-19T10:52:16.950344Z"
    },
    "scrolled": false
   },
   "outputs": [
    {
     "data": {
      "text/markdown": [
       "#### Matrice de confusion\n"
      ],
      "text/plain": [
       "<IPython.core.display.Markdown object>"
      ]
     },
     "metadata": {},
     "output_type": "display_data"
    },
    {
     "data": {
      "text/markdown": [
       "<table><tr><th>RF1F</th><th>RF2F</th><th>RF2F</th></tr><tr><td><table><tr><th></th><th>N</th><th>P</th></tr><tr><th>T</th><td> 179 </td><td> 11 </td></tr><tr><th>F</th><td> 3 </td><td> 23 </td></tr></table> </td><td><table><tr><th></th><th>N</th><th>P</th></tr><tr><th>T</th><td> 198 </td><td> 11 </td></tr><tr><th>F</th><td> 4 </td><td> 3 </td></tr></table> </td><td><table><tr><th></th><th>N</th><th>P</th></tr><tr><th>T</th><td> 199 </td><td> 16 </td></tr><tr><th>F</th><td> 1 </td><td> 0 </td></tr></table> </tr></td></table>"
      ],
      "text/plain": [
       "<IPython.core.display.Markdown object>"
      ]
     },
     "metadata": {},
     "output_type": "display_data"
    },
    {
     "data": {
      "text/markdown": [
       "#### Rapport de classification\n"
      ],
      "text/plain": [
       "<IPython.core.display.Markdown object>"
      ]
     },
     "metadata": {},
     "output_type": "display_data"
    },
    {
     "data": {
      "text/markdown": [
       "##### RF1F :"
      ],
      "text/plain": [
       "<IPython.core.display.Markdown object>"
      ]
     },
     "metadata": {},
     "output_type": "display_data"
    },
    {
     "data": {
      "text/markdown": [
       "<table><tr><th>Classification</th><th></th><th>Classification optimisée</th></tr><tr><td><table><tr><th>Class</th><th>Precision</th><th>Recall</th><th>F1-score</th><th>Support</th></tr><tr><th>0</th><td>0.32</td><td>0.79</td><td>0.46</td><td>14</td></tr><tr><th>1</th><td>0.33</td><td>0.08</td><td>0.12</td><td>13</td></tr><tr><th>2</th><td>0.38</td><td>0.18</td><td>0.24</td><td>17</td></tr><tr><th>3</th><td>0.22</td><td>0.11</td><td>0.14</td><td>19</td></tr><tr><th>4</th><td>0.08</td><td>0.07</td><td>0.07</td><td>15</td></tr><tr><th>5</th><td>0.47</td><td>0.67</td><td>0.55</td><td>60</td></tr><tr><th>6</th><td>0.14</td><td>0.07</td><td>0.09</td><td>15</td></tr><tr><th>7</th><td>0.08</td><td>0.05</td><td>0.06</td><td>19</td></tr><tr><th>8</th><td>0.38</td><td>0.18</td><td>0.24</td><td>17</td></tr><tr><th>9</th><td>0.67</td><td>0.31</td><td>0.42</td><td>13</td></tr><tr><th>10</th><td>0.37</td><td>0.79</td><td>0.5</td><td>14</td></tr><tr><th> Accuracy </th><td></td><td></td><td></td><th>0.36</th></tr></table></td><td></td><td><table><tr><th>Class</th><th>Precision</th><th>Recall</th><th>F1-score</th><th>Accuracy</th></tr><tr><th>0</th><td>0.35</td><td>0.93</td><td>0.51</td><td>0.88</td></tr><tr><th>1</th><td>0.16</td><td>0.54</td><td>0.25</td><td>0.8</td></tr><tr><th>2</th><td>0.25</td><td>0.29</td><td>0.27</td><td>0.88</td></tr><tr><th>3</th><td>0.17</td><td>0.26</td><td>0.21</td><td>0.82</td></tr><tr><th>4</th><td>0.09</td><td>0.67</td><td>0.16</td><td>0.53</td></tr><tr><th>5</th><td>0.42</td><td>0.73</td><td>0.53</td><td>0.64</td></tr><tr><th>6</th><td>0.11</td><td>0.8</td><td>0.19</td><td>0.55</td></tr><tr><th>7</th><td>0.14</td><td>0.21</td><td>0.17</td><td>0.82</td></tr><tr><th>8</th><td>0.19</td><td>0.29</td><td>0.23</td><td>0.84</td></tr><tr><th>9</th><td>0.11</td><td>0.38</td><td>0.17</td><td>0.78</td></tr><tr><th>10</th><td>0.36</td><td>0.93</td><td>0.52</td><td>0.89</td></tr><tr><th> Accuracy </th><td></td><td></td><td></td><th>0.77</th></tr></table></td></tr></table>"
      ],
      "text/plain": [
       "<IPython.core.display.Markdown object>"
      ]
     },
     "metadata": {},
     "output_type": "display_data"
    },
    {
     "data": {
      "text/markdown": [
       "##### RF2F :"
      ],
      "text/plain": [
       "<IPython.core.display.Markdown object>"
      ]
     },
     "metadata": {},
     "output_type": "display_data"
    },
    {
     "data": {
      "text/markdown": [
       "<table><tr><th>Classification</th><th></th><th>Classification optimisée</th></tr><tr><td><table><tr><th>Class</th><th>Precision</th><th>Recall</th><th>F1-score</th><th>Support</th></tr><tr><th>0</th><td>0.79</td><td>0.73</td><td>0.76</td><td>15</td></tr><tr><th>1</th><td>0.25</td><td>0.25</td><td>0.25</td><td>8</td></tr><tr><th>2</th><td>0.44</td><td>0.23</td><td>0.3</td><td>31</td></tr><tr><th>3</th><td>0.25</td><td>0.25</td><td>0.25</td><td>16</td></tr><tr><th>4</th><td>0.54</td><td>0.7</td><td>0.61</td><td>10</td></tr><tr><th>5</th><td>0.73</td><td>0.95</td><td>0.82</td><td>56</td></tr><tr><th>6</th><td>0.47</td><td>0.7</td><td>0.56</td><td>10</td></tr><tr><th>7</th><td>0.37</td><td>0.44</td><td>0.4</td><td>16</td></tr><tr><th>8</th><td>0.47</td><td>0.29</td><td>0.36</td><td>31</td></tr><tr><th>9</th><td>0.67</td><td>0.25</td><td>0.36</td><td>8</td></tr><tr><th>10</th><td>0.7</td><td>0.93</td><td>0.8</td><td>15</td></tr><tr><th> Accuracy </th><td></td><td></td><td></td><th>0.57</th></tr></table></td><td></td><td><table><tr><th>Class</th><th>Precision</th><th>Recall</th><th>F1-score</th><th>Accuracy</th></tr><tr><th>0</th><td>0.5</td><td>0.73</td><td>0.59</td><td>0.93</td></tr><tr><th>1</th><td>0.13</td><td>0.62</td><td>0.21</td><td>0.83</td></tr><tr><th>2</th><td>0.55</td><td>0.71</td><td>0.62</td><td>0.88</td></tr><tr><th>3</th><td>0.22</td><td>0.62</td><td>0.32</td><td>0.81</td></tr><tr><th>4</th><td>0.08</td><td>0.8</td><td>0.15</td><td>0.56</td></tr><tr><th>5</th><td>0.53</td><td>0.96</td><td>0.68</td><td>0.77</td></tr><tr><th>6</th><td>0.07</td><td>0.8</td><td>0.13</td><td>0.53</td></tr><tr><th>7</th><td>0.26</td><td>0.88</td><td>0.4</td><td>0.81</td></tr><tr><th>8</th><td>0.46</td><td>0.61</td><td>0.52</td><td>0.84</td></tr><tr><th>9</th><td>0.14</td><td>0.75</td><td>0.24</td><td>0.82</td></tr><tr><th>10</th><td>0.61</td><td>0.93</td><td>0.74</td><td>0.95</td></tr><tr><th> Accuracy </th><td></td><td></td><td></td><th>0.79</th></tr></table></td></tr></table>"
      ],
      "text/plain": [
       "<IPython.core.display.Markdown object>"
      ]
     },
     "metadata": {},
     "output_type": "display_data"
    },
    {
     "data": {
      "text/markdown": [
       "##### RF3F :"
      ],
      "text/plain": [
       "<IPython.core.display.Markdown object>"
      ]
     },
     "metadata": {},
     "output_type": "display_data"
    },
    {
     "data": {
      "text/markdown": [
       "<table><tr><th>Classification</th><th></th><th>Classification optimisée</th></tr><tr><td><table><tr><th>Class</th><th>Precision</th><th>Recall</th><th>F1-score</th><th>Support</th></tr><tr><th>0</th><td>1.0</td><td>0.94</td><td>0.97</td><td>17</td></tr><tr><th>1</th><td>0.83</td><td>0.45</td><td>0.59</td><td>11</td></tr><tr><th>2</th><td>0.62</td><td>0.69</td><td>0.65</td><td>26</td></tr><tr><th>3</th><td>0.47</td><td>0.6</td><td>0.53</td><td>15</td></tr><tr><th>4</th><td>0.5</td><td>0.57</td><td>0.53</td><td>7</td></tr><tr><th>5</th><td>0.98</td><td>0.88</td><td>0.93</td><td>64</td></tr><tr><th>6</th><td>0.45</td><td>0.71</td><td>0.56</td><td>7</td></tr><tr><th>7</th><td>0.38</td><td>0.6</td><td>0.46</td><td>15</td></tr><tr><th>8</th><td>0.5</td><td>0.46</td><td>0.48</td><td>26</td></tr><tr><th>9</th><td>0.8</td><td>0.36</td><td>0.5</td><td>11</td></tr><tr><th>10</th><td>0.94</td><td>0.94</td><td>0.94</td><td>17</td></tr><tr><th> Accuracy </th><td></td><td></td><td></td><th>0.71</th></tr></table></td><td></td><td><table><tr><th>Class</th><th>Precision</th><th>Recall</th><th>F1-score</th><th>Accuracy</th></tr><tr><th>0</th><td>0.73</td><td>0.94</td><td>0.82</td><td>0.97</td></tr><tr><th>1</th><td>0.22</td><td>1.0</td><td>0.36</td><td>0.81</td></tr><tr><th>2</th><td>0.46</td><td>0.96</td><td>0.62</td><td>0.86</td></tr><tr><th>3</th><td>0.25</td><td>0.93</td><td>0.39</td><td>0.8</td></tr><tr><th>4</th><td>0.07</td><td>0.86</td><td>0.13</td><td>0.63</td></tr><tr><th>5</th><td>0.82</td><td>0.97</td><td>0.89</td><td>0.93</td></tr><tr><th>6</th><td>0.08</td><td>1.0</td><td>0.15</td><td>0.61</td></tr><tr><th>7</th><td>0.25</td><td>1.0</td><td>0.4</td><td>0.8</td></tr><tr><th>8</th><td>0.45</td><td>0.92</td><td>0.6</td><td>0.86</td></tr><tr><th>9</th><td>0.24</td><td>1.0</td><td>0.39</td><td>0.84</td></tr><tr><th>10</th><td>0.73</td><td>0.94</td><td>0.82</td><td>0.97</td></tr><tr><th> Accuracy </th><td></td><td></td><td></td><th>0.82</th></tr></table></td></tr></table>"
      ],
      "text/plain": [
       "<IPython.core.display.Markdown object>"
      ]
     },
     "metadata": {},
     "output_type": "display_data"
    }
   ],
   "source": [
    "turing_dataset = turing.copy()\n",
    "result = model_prediction(turing_dataset)\n",
    "consR_answers = random_3consecutiveanswers(result)\n",
    "consR_answers.drop(['task_1'], axis = 1, inplace = True)\n",
    "consR_answers.rename(columns = { 'task_1 prédite' : 'task_1'}, inplace = True)\n"
   ]
  },
  {
   "cell_type": "markdown",
   "id": "9dfb6929",
   "metadata": {},
   "source": [
    "## Sets de réponses de répétitions"
   ]
  },
  {
   "cell_type": "markdown",
   "id": "39ca7c9a",
   "metadata": {},
   "source": [
    "### Réponses répétitives d'un participant"
   ]
  },
  {
   "cell_type": "markdown",
   "id": "a2bfd565",
   "metadata": {},
   "source": [
    "On souhaite récupérer les réponses d'un participants sur les répétitions des questions.\n",
    "> On reprend le dataset pour le test de Turing  \n",
    "> Pour chacun des 10 participants tirés aléatoirement, on tire au hasard un scénario  \n",
    "> Si ce scénario n'a pas déjà été tiré, alors on stocke les réponses sur 2 répétitions  \n",
    "> On répète l'opération sur 3 répétitions \n"
   ]
  },
  {
   "cell_type": "code",
   "execution_count": 26,
   "id": "1e6befbf",
   "metadata": {
    "ExecuteTime": {
     "end_time": "2022-12-19T10:52:17.474693Z",
     "start_time": "2022-12-19T10:52:17.413349Z"
    }
   },
   "outputs": [],
   "source": [
    "turing_rep = turing.copy()\n",
    "rep2H_answers = random_rep_answers(turing_rep)\n",
    "rep3H_answers = random_rep_answers(turing_rep)\n",
    "while(True in (rep2H_answers.index == rep3H_answers.index) ) :\n",
    "    rep3H_answers = random_rep_answers(turing_rep)\n"
   ]
  },
  {
   "cell_type": "markdown",
   "id": "d3cc64d4",
   "metadata": {},
   "source": [
    "### Réponses répétitives du modèle"
   ]
  },
  {
   "cell_type": "code",
   "execution_count": 27,
   "id": "5c3cf391",
   "metadata": {
    "ExecuteTime": {
     "end_time": "2022-12-19T10:52:17.819076Z",
     "start_time": "2022-12-19T10:52:17.480678Z"
    },
    "scrolled": false
   },
   "outputs": [
    {
     "data": {
      "text/markdown": [
       "#### Matrice de confusion\n"
      ],
      "text/plain": [
       "<IPython.core.display.Markdown object>"
      ]
     },
     "metadata": {},
     "output_type": "display_data"
    },
    {
     "data": {
      "text/markdown": [
       "<table><tr><th>RF1F</th><th>RF2F</th><th>RF2F</th></tr><tr><td><table><tr><th></th><th>N</th><th>P</th></tr><tr><th>T</th><td> 179 </td><td> 11 </td></tr><tr><th>F</th><td> 3 </td><td> 23 </td></tr></table> </td><td><table><tr><th></th><th>N</th><th>P</th></tr><tr><th>T</th><td> 198 </td><td> 11 </td></tr><tr><th>F</th><td> 4 </td><td> 3 </td></tr></table> </td><td><table><tr><th></th><th>N</th><th>P</th></tr><tr><th>T</th><td> 199 </td><td> 16 </td></tr><tr><th>F</th><td> 1 </td><td> 0 </td></tr></table> </tr></td></table>"
      ],
      "text/plain": [
       "<IPython.core.display.Markdown object>"
      ]
     },
     "metadata": {},
     "output_type": "display_data"
    },
    {
     "data": {
      "text/markdown": [
       "#### Rapport de classification\n"
      ],
      "text/plain": [
       "<IPython.core.display.Markdown object>"
      ]
     },
     "metadata": {},
     "output_type": "display_data"
    },
    {
     "data": {
      "text/markdown": [
       "##### RF1F :"
      ],
      "text/plain": [
       "<IPython.core.display.Markdown object>"
      ]
     },
     "metadata": {},
     "output_type": "display_data"
    },
    {
     "data": {
      "text/markdown": [
       "<table><tr><th>Classification</th><th></th><th>Classification optimisée</th></tr><tr><td><table><tr><th>Class</th><th>Precision</th><th>Recall</th><th>F1-score</th><th>Support</th></tr><tr><th>0</th><td>0.32</td><td>0.79</td><td>0.46</td><td>14</td></tr><tr><th>1</th><td>0.33</td><td>0.08</td><td>0.12</td><td>13</td></tr><tr><th>2</th><td>0.38</td><td>0.18</td><td>0.24</td><td>17</td></tr><tr><th>3</th><td>0.22</td><td>0.11</td><td>0.14</td><td>19</td></tr><tr><th>4</th><td>0.08</td><td>0.07</td><td>0.07</td><td>15</td></tr><tr><th>5</th><td>0.47</td><td>0.67</td><td>0.55</td><td>60</td></tr><tr><th>6</th><td>0.14</td><td>0.07</td><td>0.09</td><td>15</td></tr><tr><th>7</th><td>0.08</td><td>0.05</td><td>0.06</td><td>19</td></tr><tr><th>8</th><td>0.38</td><td>0.18</td><td>0.24</td><td>17</td></tr><tr><th>9</th><td>0.67</td><td>0.31</td><td>0.42</td><td>13</td></tr><tr><th>10</th><td>0.37</td><td>0.79</td><td>0.5</td><td>14</td></tr><tr><th> Accuracy </th><td></td><td></td><td></td><th>0.36</th></tr></table></td><td></td><td><table><tr><th>Class</th><th>Precision</th><th>Recall</th><th>F1-score</th><th>Accuracy</th></tr><tr><th>0</th><td>0.35</td><td>0.93</td><td>0.51</td><td>0.88</td></tr><tr><th>1</th><td>0.16</td><td>0.54</td><td>0.25</td><td>0.8</td></tr><tr><th>2</th><td>0.25</td><td>0.29</td><td>0.27</td><td>0.88</td></tr><tr><th>3</th><td>0.17</td><td>0.26</td><td>0.21</td><td>0.82</td></tr><tr><th>4</th><td>0.09</td><td>0.67</td><td>0.16</td><td>0.53</td></tr><tr><th>5</th><td>0.42</td><td>0.73</td><td>0.53</td><td>0.64</td></tr><tr><th>6</th><td>0.11</td><td>0.8</td><td>0.19</td><td>0.55</td></tr><tr><th>7</th><td>0.14</td><td>0.21</td><td>0.17</td><td>0.82</td></tr><tr><th>8</th><td>0.19</td><td>0.29</td><td>0.23</td><td>0.84</td></tr><tr><th>9</th><td>0.11</td><td>0.38</td><td>0.17</td><td>0.78</td></tr><tr><th>10</th><td>0.36</td><td>0.93</td><td>0.52</td><td>0.89</td></tr><tr><th> Accuracy </th><td></td><td></td><td></td><th>0.77</th></tr></table></td></tr></table>"
      ],
      "text/plain": [
       "<IPython.core.display.Markdown object>"
      ]
     },
     "metadata": {},
     "output_type": "display_data"
    },
    {
     "data": {
      "text/markdown": [
       "##### RF2F :"
      ],
      "text/plain": [
       "<IPython.core.display.Markdown object>"
      ]
     },
     "metadata": {},
     "output_type": "display_data"
    },
    {
     "data": {
      "text/markdown": [
       "<table><tr><th>Classification</th><th></th><th>Classification optimisée</th></tr><tr><td><table><tr><th>Class</th><th>Precision</th><th>Recall</th><th>F1-score</th><th>Support</th></tr><tr><th>0</th><td>0.79</td><td>0.73</td><td>0.76</td><td>15</td></tr><tr><th>1</th><td>0.25</td><td>0.25</td><td>0.25</td><td>8</td></tr><tr><th>2</th><td>0.44</td><td>0.23</td><td>0.3</td><td>31</td></tr><tr><th>3</th><td>0.25</td><td>0.25</td><td>0.25</td><td>16</td></tr><tr><th>4</th><td>0.54</td><td>0.7</td><td>0.61</td><td>10</td></tr><tr><th>5</th><td>0.73</td><td>0.95</td><td>0.82</td><td>56</td></tr><tr><th>6</th><td>0.47</td><td>0.7</td><td>0.56</td><td>10</td></tr><tr><th>7</th><td>0.37</td><td>0.44</td><td>0.4</td><td>16</td></tr><tr><th>8</th><td>0.47</td><td>0.29</td><td>0.36</td><td>31</td></tr><tr><th>9</th><td>0.67</td><td>0.25</td><td>0.36</td><td>8</td></tr><tr><th>10</th><td>0.7</td><td>0.93</td><td>0.8</td><td>15</td></tr><tr><th> Accuracy </th><td></td><td></td><td></td><th>0.57</th></tr></table></td><td></td><td><table><tr><th>Class</th><th>Precision</th><th>Recall</th><th>F1-score</th><th>Accuracy</th></tr><tr><th>0</th><td>0.5</td><td>0.73</td><td>0.59</td><td>0.93</td></tr><tr><th>1</th><td>0.13</td><td>0.62</td><td>0.21</td><td>0.83</td></tr><tr><th>2</th><td>0.55</td><td>0.71</td><td>0.62</td><td>0.88</td></tr><tr><th>3</th><td>0.22</td><td>0.62</td><td>0.32</td><td>0.81</td></tr><tr><th>4</th><td>0.08</td><td>0.8</td><td>0.15</td><td>0.56</td></tr><tr><th>5</th><td>0.53</td><td>0.96</td><td>0.68</td><td>0.77</td></tr><tr><th>6</th><td>0.07</td><td>0.8</td><td>0.13</td><td>0.53</td></tr><tr><th>7</th><td>0.26</td><td>0.88</td><td>0.4</td><td>0.81</td></tr><tr><th>8</th><td>0.46</td><td>0.61</td><td>0.52</td><td>0.84</td></tr><tr><th>9</th><td>0.14</td><td>0.75</td><td>0.24</td><td>0.82</td></tr><tr><th>10</th><td>0.61</td><td>0.93</td><td>0.74</td><td>0.95</td></tr><tr><th> Accuracy </th><td></td><td></td><td></td><th>0.79</th></tr></table></td></tr></table>"
      ],
      "text/plain": [
       "<IPython.core.display.Markdown object>"
      ]
     },
     "metadata": {},
     "output_type": "display_data"
    },
    {
     "data": {
      "text/markdown": [
       "##### RF3F :"
      ],
      "text/plain": [
       "<IPython.core.display.Markdown object>"
      ]
     },
     "metadata": {},
     "output_type": "display_data"
    },
    {
     "data": {
      "text/markdown": [
       "<table><tr><th>Classification</th><th></th><th>Classification optimisée</th></tr><tr><td><table><tr><th>Class</th><th>Precision</th><th>Recall</th><th>F1-score</th><th>Support</th></tr><tr><th>0</th><td>1.0</td><td>0.94</td><td>0.97</td><td>17</td></tr><tr><th>1</th><td>0.83</td><td>0.45</td><td>0.59</td><td>11</td></tr><tr><th>2</th><td>0.62</td><td>0.69</td><td>0.65</td><td>26</td></tr><tr><th>3</th><td>0.47</td><td>0.6</td><td>0.53</td><td>15</td></tr><tr><th>4</th><td>0.5</td><td>0.57</td><td>0.53</td><td>7</td></tr><tr><th>5</th><td>0.98</td><td>0.88</td><td>0.93</td><td>64</td></tr><tr><th>6</th><td>0.45</td><td>0.71</td><td>0.56</td><td>7</td></tr><tr><th>7</th><td>0.38</td><td>0.6</td><td>0.46</td><td>15</td></tr><tr><th>8</th><td>0.5</td><td>0.46</td><td>0.48</td><td>26</td></tr><tr><th>9</th><td>0.8</td><td>0.36</td><td>0.5</td><td>11</td></tr><tr><th>10</th><td>0.94</td><td>0.94</td><td>0.94</td><td>17</td></tr><tr><th> Accuracy </th><td></td><td></td><td></td><th>0.71</th></tr></table></td><td></td><td><table><tr><th>Class</th><th>Precision</th><th>Recall</th><th>F1-score</th><th>Accuracy</th></tr><tr><th>0</th><td>0.73</td><td>0.94</td><td>0.82</td><td>0.97</td></tr><tr><th>1</th><td>0.22</td><td>1.0</td><td>0.36</td><td>0.81</td></tr><tr><th>2</th><td>0.46</td><td>0.96</td><td>0.62</td><td>0.86</td></tr><tr><th>3</th><td>0.25</td><td>0.93</td><td>0.39</td><td>0.8</td></tr><tr><th>4</th><td>0.07</td><td>0.86</td><td>0.13</td><td>0.63</td></tr><tr><th>5</th><td>0.82</td><td>0.97</td><td>0.89</td><td>0.93</td></tr><tr><th>6</th><td>0.08</td><td>1.0</td><td>0.15</td><td>0.61</td></tr><tr><th>7</th><td>0.25</td><td>1.0</td><td>0.4</td><td>0.8</td></tr><tr><th>8</th><td>0.45</td><td>0.92</td><td>0.6</td><td>0.86</td></tr><tr><th>9</th><td>0.24</td><td>1.0</td><td>0.39</td><td>0.84</td></tr><tr><th>10</th><td>0.73</td><td>0.94</td><td>0.82</td><td>0.97</td></tr><tr><th> Accuracy </th><td></td><td></td><td></td><th>0.82</th></tr></table></td></tr></table>"
      ],
      "text/plain": [
       "<IPython.core.display.Markdown object>"
      ]
     },
     "metadata": {},
     "output_type": "display_data"
    }
   ],
   "source": [
    "result = model_prediction(turing_rep)\n",
    "rep2R_answers = random_rep_answers(result)\n",
    "rep2R_answers.drop(['task_1'], axis = 1, inplace = True)\n",
    "rep2R_answers.rename(columns = { 'task_1 prédite' : 'task_1'}, inplace = True)\n",
    "\n",
    "rep3R_answers = random_rep_answers(result)\n",
    "rep3R_answers.drop(['task_1'], axis = 1, inplace = True)\n",
    "rep3R_answers.rename(columns = { 'task_1 prédite' : 'task_1'}, inplace = True)\n",
    "\n",
    "while(True in (rep2R_answers.index == rep3R_answers.index) ) :\n",
    "    rep3R_answers = random_rep_answers(result)\n",
    "    rep3R_answers.drop(['task_1'], axis = 1, inplace = True)\n",
    "    rep3R_answers.rename(columns = { 'task_1 prédite' : 'task_1'}, inplace = True)"
   ]
  },
  {
   "cell_type": "code",
   "execution_count": 28,
   "id": "141d5c81",
   "metadata": {
    "ExecuteTime": {
     "end_time": "2022-12-19T10:52:17.834036Z",
     "start_time": "2022-12-19T10:52:17.821071Z"
    }
   },
   "outputs": [
    {
     "name": "stdout",
     "output_type": "stream",
     "text": [
      "[False False False False False False False False False False False False\n",
      " False False False False False False False False False False False False\n",
      " False False False]\n"
     ]
    }
   ],
   "source": [
    "print(rep2R_answers.index == rep3R_answers.index )"
   ]
  },
  {
   "cell_type": "markdown",
   "id": "ebaec2af",
   "metadata": {},
   "source": [
    "# Réponses Final pour le test de Turing"
   ]
  },
  {
   "cell_type": "markdown",
   "id": "5c007e7d",
   "metadata": {},
   "source": [
    "Maintenant, on souhaite tirer au hasard, parmis nos set de réponses sélectionnés, 3 ensemble de réponses d'un individu tiré de nouveau au hasard.\n",
    "> On tire au hasard un id parmis ceux enregistrés  \n",
    "> On prendre les 3 réponses retenus (ou 2 si c'est le cas des 2 réponses répétitives)  \n",
    "> On affiche de manière claire et précise les informations essentielle de la réponse  \n",
    "\n",
    "Puis, on génére aléatoirement la suite des 21 questions."
   ]
  },
  {
   "cell_type": "code",
   "execution_count": 29,
   "id": "1d64bf4c",
   "metadata": {
    "ExecuteTime": {
     "end_time": "2022-12-19T10:52:18.005577Z",
     "start_time": "2022-12-19T10:52:17.835035Z"
    },
    "scrolled": false
   },
   "outputs": [],
   "source": [
    "dict_question = [\n",
    "    [consR_answers, 'consécutive robot'],\n",
    "    [consH_answers, 'consécutive humain'],\n",
    "    [consH_inverted, 'consécutive inversée'],\n",
    "    [rep2H_answers, '2 répétition humain'],\n",
    "    [rep2R_answers, '2 répétition robot'],\n",
    "    [rep3H_answers, '3 répétition humain'],\n",
    "    [rep3R_answers, '3 répétition robot'],\n",
    "]\n",
    "dict_questions = np.empty([7,2])\n",
    "for file in range(3):\n",
    "    texte = \"\"\n",
    "    q = 1\n",
    "    for i in range(3):\n",
    "        random.shuffle(dict_question)\n",
    "        dict_questions = dict_question\n",
    "        for j in range(7):\n",
    "            texte += print_questions(dict_questions[j][0], q , dict_questions[j][1])\n",
    "            q += 1\n",
    "\n",
    "    fichier = open(\"data\" + str(file+1) + \".md\", \"w\")\n",
    "    fichier.write(texte)\n",
    "    fichier.close()"
   ]
  },
  {
   "cell_type": "markdown",
   "id": "318899d0",
   "metadata": {
    "ExecuteTime": {
     "end_time": "2022-12-14T11:13:47.542833Z",
     "start_time": "2022-12-14T11:13:47.528628Z"
    }
   },
   "source": [
    "# Accuracy moyenne du model"
   ]
  },
  {
   "cell_type": "markdown",
   "id": "2d27f052",
   "metadata": {},
   "source": [
    "Nous souhaitons entraîner une dizaine de fois le modèle avec différents ensemble de données de test et d'entraînements, pour s'assurer que le modèle reste stable peu importe le jeu de données."
   ]
  },
  {
   "cell_type": "code",
   "execution_count": 30,
   "id": "04a4dfa6",
   "metadata": {
    "ExecuteTime": {
     "end_time": "2022-12-19T12:13:07.715689Z",
     "start_time": "2022-12-19T10:52:18.006575Z"
    },
    "deletable": false,
    "editable": false,
    "scrolled": false
   },
   "outputs": [
    {
     "name": "stderr",
     "output_type": "stream",
     "text": [
      "\r",
      "  0%|          | 0/10 [00:00<?, ?it/s]"
     ]
    },
    {
     "data": {
      "text/markdown": [
       "## Modèle n°1 :\n"
      ],
      "text/plain": [
       "<IPython.core.display.Markdown object>"
      ]
     },
     "metadata": {},
     "output_type": "display_data"
    },
    {
     "data": {
      "text/plain": [
       "633"
      ]
     },
     "metadata": {},
     "output_type": "display_data"
    },
    {
     "name": "stdout",
     "output_type": "stream",
     "text": [
      "Fitting 5 folds for each of 420 candidates, totalling 2100 fits\n",
      "Best score RF1 :  0.3944987179605003\n",
      "Fitting 5 folds for each of 420 candidates, totalling 2100 fits\n",
      "Best score RF2 :  0.6415288895424176\n",
      "Fitting 5 folds for each of 420 candidates, totalling 2100 fits\n",
      "Best score RF3 :  0.7427199455937359\n",
      "Sauvegarde du modèle dans  RF1F.pkl\n",
      "Sauvegarde du modèle dans  RF2F.pkl\n",
      "Sauvegarde du modèle dans  RF3F.pkl\n",
      "RandomForestClassifier(max_depth=10, max_leaf_nodes=95)\n",
      "RandomForestClassifier(criterion='entropy', max_depth=10, max_leaf_nodes=95,\n",
      "                       min_samples_split=10, n_estimators=30)\n",
      "RandomForestClassifier(bootstrap=False, criterion='entropy', max_depth=10,\n",
      "                       max_leaf_nodes=95, min_samples_split=3, n_estimators=50)\n"
     ]
    },
    {
     "data": {
      "text/markdown": [
       "#### Matrice de confusion\n"
      ],
      "text/plain": [
       "<IPython.core.display.Markdown object>"
      ]
     },
     "metadata": {},
     "output_type": "display_data"
    },
    {
     "data": {
      "text/markdown": [
       "<table><tr><th>RF1F</th><th>RF2F</th><th>RF2F</th></tr><tr><td><table><tr><th></th><th>N</th><th>P</th></tr><tr><th>T</th><td> 491 </td><td> 27 </td></tr><tr><th>F</th><td> 34 </td><td> 32 </td></tr></table> </td><td><table><tr><th></th><th>N</th><th>P</th></tr><tr><th>T</th><td> 525 </td><td> 41 </td></tr><tr><th>F</th><td> 4 </td><td> 14 </td></tr></table> </td><td><table><tr><th></th><th>N</th><th>P</th></tr><tr><th>T</th><td> 532 </td><td> 42 </td></tr><tr><th>F</th><td> 3 </td><td> 7 </td></tr></table> </tr></td></table>"
      ],
      "text/plain": [
       "<IPython.core.display.Markdown object>"
      ]
     },
     "metadata": {},
     "output_type": "display_data"
    },
    {
     "data": {
      "text/markdown": [
       "#### Rapport de classification\n"
      ],
      "text/plain": [
       "<IPython.core.display.Markdown object>"
      ]
     },
     "metadata": {},
     "output_type": "display_data"
    },
    {
     "data": {
      "text/markdown": [
       "##### RF1F :"
      ],
      "text/plain": [
       "<IPython.core.display.Markdown object>"
      ]
     },
     "metadata": {},
     "output_type": "display_data"
    },
    {
     "data": {
      "text/markdown": [
       "<table><tr><th>Classification</th><th></th><th>Classification optimisée</th></tr><tr><td><table><tr><th>Class</th><th>Precision</th><th>Recall</th><th>F1-score</th><th>Support</th></tr><tr><th>0</th><td>0.46</td><td>0.44</td><td>0.45</td><td>61</td></tr><tr><th>1</th><td>0.33</td><td>0.15</td><td>0.21</td><td>20</td></tr><tr><th>2</th><td>0.32</td><td>0.46</td><td>0.38</td><td>37</td></tr><tr><th>3</th><td>0.46</td><td>0.27</td><td>0.34</td><td>49</td></tr><tr><th>4</th><td>0.29</td><td>0.15</td><td>0.2</td><td>54</td></tr><tr><th>5</th><td>0.5</td><td>0.79</td><td>0.62</td><td>136</td></tr><tr><th>6</th><td>0.43</td><td>0.27</td><td>0.33</td><td>37</td></tr><tr><th>7</th><td>0.35</td><td>0.2</td><td>0.26</td><td>60</td></tr><tr><th>8</th><td>0.3</td><td>0.33</td><td>0.31</td><td>43</td></tr><tr><th>9</th><td>1.0</td><td>0.03</td><td>0.06</td><td>35</td></tr><tr><th>10</th><td>0.43</td><td>0.73</td><td>0.54</td><td>52</td></tr><tr><th> Accuracy </th><td></td><td></td><td></td><th>0.43</th></tr></table></td><td></td><td><table><tr><th>Class</th><th>Precision</th><th>Recall</th><th>F1-score</th><th>Accuracy</th></tr><tr><th>0</th><td>0.41</td><td>0.46</td><td>0.43</td><td>0.88</td></tr><tr><th>1</th><td>0.13</td><td>0.8</td><td>0.22</td><td>0.81</td></tr><tr><th>2</th><td>0.28</td><td>0.68</td><td>0.4</td><td>0.87</td></tr><tr><th>3</th><td>0.26</td><td>0.57</td><td>0.36</td><td>0.83</td></tr><tr><th>4</th><td>0.14</td><td>0.7</td><td>0.23</td><td>0.57</td></tr><tr><th>5</th><td>0.42</td><td>0.82</td><td>0.56</td><td>0.69</td></tr><tr><th>6</th><td>0.09</td><td>0.68</td><td>0.16</td><td>0.56</td></tr><tr><th>7</th><td>0.23</td><td>0.4</td><td>0.29</td><td>0.8</td></tr><tr><th>8</th><td>0.32</td><td>0.6</td><td>0.42</td><td>0.88</td></tr><tr><th>9</th><td>0.19</td><td>0.74</td><td>0.3</td><td>0.8</td></tr><tr><th>10</th><td>0.43</td><td>0.73</td><td>0.54</td><td>0.89</td></tr><tr><th> Accuracy </th><td></td><td></td><td></td><th>0.78</th></tr></table></td></tr></table>"
      ],
      "text/plain": [
       "<IPython.core.display.Markdown object>"
      ]
     },
     "metadata": {},
     "output_type": "display_data"
    },
    {
     "data": {
      "text/markdown": [
       "##### RF2F :"
      ],
      "text/plain": [
       "<IPython.core.display.Markdown object>"
      ]
     },
     "metadata": {},
     "output_type": "display_data"
    },
    {
     "data": {
      "text/markdown": [
       "<table><tr><th>Classification</th><th></th><th>Classification optimisée</th></tr><tr><td><table><tr><th>Class</th><th>Precision</th><th>Recall</th><th>F1-score</th><th>Support</th></tr><tr><th>0</th><td>0.75</td><td>0.91</td><td>0.82</td><td>45</td></tr><tr><th>1</th><td>0.62</td><td>0.32</td><td>0.42</td><td>25</td></tr><tr><th>2</th><td>0.45</td><td>0.44</td><td>0.45</td><td>43</td></tr><tr><th>3</th><td>0.55</td><td>0.55</td><td>0.55</td><td>62</td></tr><tr><th>4</th><td>0.54</td><td>0.51</td><td>0.53</td><td>37</td></tr><tr><th>5</th><td>0.74</td><td>0.86</td><td>0.8</td><td>141</td></tr><tr><th>6</th><td>0.48</td><td>0.54</td><td>0.51</td><td>37</td></tr><tr><th>7</th><td>0.6</td><td>0.59</td><td>0.6</td><td>71</td></tr><tr><th>8</th><td>0.58</td><td>0.48</td><td>0.52</td><td>46</td></tr><tr><th>9</th><td>0.38</td><td>0.13</td><td>0.19</td><td>23</td></tr><tr><th>10</th><td>0.84</td><td>0.87</td><td>0.85</td><td>54</td></tr><tr><th> Accuracy </th><td></td><td></td><td></td><th>0.64</th></tr></table></td><td></td><td><table><tr><th>Class</th><th>Precision</th><th>Recall</th><th>F1-score</th><th>Accuracy</th></tr><tr><th>0</th><td>0.63</td><td>0.96</td><td>0.76</td><td>0.95</td></tr><tr><th>1</th><td>0.16</td><td>0.72</td><td>0.26</td><td>0.83</td></tr><tr><th>2</th><td>0.29</td><td>0.79</td><td>0.42</td><td>0.84</td></tr><tr><th>3</th><td>0.37</td><td>0.84</td><td>0.51</td><td>0.83</td></tr><tr><th>4</th><td>0.13</td><td>0.89</td><td>0.23</td><td>0.6</td></tr><tr><th>5</th><td>0.53</td><td>0.89</td><td>0.66</td><td>0.78</td></tr><tr><th>6</th><td>0.12</td><td>0.92</td><td>0.21</td><td>0.58</td></tr><tr><th>7</th><td>0.42</td><td>0.89</td><td>0.57</td><td>0.84</td></tr><tr><th>8</th><td>0.31</td><td>0.78</td><td>0.44</td><td>0.85</td></tr><tr><th>9</th><td>0.12</td><td>0.52</td><td>0.19</td><td>0.83</td></tr><tr><th>10</th><td>0.75</td><td>0.89</td><td>0.81</td><td>0.96</td></tr><tr><th> Accuracy </th><td></td><td></td><td></td><th>0.81</th></tr></table></td></tr></table>"
      ],
      "text/plain": [
       "<IPython.core.display.Markdown object>"
      ]
     },
     "metadata": {},
     "output_type": "display_data"
    },
    {
     "data": {
      "text/markdown": [
       "##### RF3F :"
      ],
      "text/plain": [
       "<IPython.core.display.Markdown object>"
      ]
     },
     "metadata": {},
     "output_type": "display_data"
    },
    {
     "data": {
      "text/markdown": [
       "<table><tr><th>Classification</th><th></th><th>Classification optimisée</th></tr><tr><td><table><tr><th>Class</th><th>Precision</th><th>Recall</th><th>F1-score</th><th>Support</th></tr><tr><th>0</th><td>0.86</td><td>0.93</td><td>0.89</td><td>45</td></tr><tr><th>1</th><td>0.68</td><td>0.65</td><td>0.67</td><td>20</td></tr><tr><th>2</th><td>0.59</td><td>0.53</td><td>0.56</td><td>43</td></tr><tr><th>3</th><td>0.74</td><td>0.67</td><td>0.7</td><td>60</td></tr><tr><th>4</th><td>0.7</td><td>0.56</td><td>0.62</td><td>50</td></tr><tr><th>5</th><td>0.76</td><td>0.89</td><td>0.82</td><td>141</td></tr><tr><th>6</th><td>0.72</td><td>0.56</td><td>0.63</td><td>50</td></tr><tr><th>7</th><td>0.6</td><td>0.68</td><td>0.64</td><td>53</td></tr><tr><th>8</th><td>0.66</td><td>0.59</td><td>0.62</td><td>39</td></tr><tr><th>9</th><td>0.66</td><td>0.66</td><td>0.66</td><td>29</td></tr><tr><th>10</th><td>0.85</td><td>0.85</td><td>0.85</td><td>54</td></tr><tr><th> Accuracy </th><td></td><td></td><td></td><th>0.73</th></tr></table></td><td></td><td><table><tr><th>Class</th><th>Precision</th><th>Recall</th><th>F1-score</th><th>Accuracy</th></tr><tr><th>0</th><td>0.63</td><td>0.96</td><td>0.76</td><td>0.95</td></tr><tr><th>1</th><td>0.18</td><td>0.95</td><td>0.3</td><td>0.85</td></tr><tr><th>2</th><td>0.3</td><td>0.79</td><td>0.43</td><td>0.85</td></tr><tr><th>3</th><td>0.4</td><td>0.88</td><td>0.55</td><td>0.85</td></tr><tr><th>4</th><td>0.15</td><td>0.76</td><td>0.25</td><td>0.6</td></tr><tr><th>5</th><td>0.53</td><td>0.92</td><td>0.67</td><td>0.78</td></tr><tr><th>6</th><td>0.17</td><td>0.88</td><td>0.28</td><td>0.61</td></tr><tr><th>7</th><td>0.34</td><td>0.87</td><td>0.49</td><td>0.84</td></tr><tr><th>8</th><td>0.28</td><td>0.9</td><td>0.43</td><td>0.84</td></tr><tr><th>9</th><td>0.22</td><td>0.9</td><td>0.35</td><td>0.84</td></tr><tr><th>10</th><td>0.58</td><td>0.89</td><td>0.7</td><td>0.93</td></tr><tr><th> Accuracy </th><td></td><td></td><td></td><th>0.81</th></tr></table></td></tr></table>"
      ],
      "text/plain": [
       "<IPython.core.display.Markdown object>"
      ]
     },
     "metadata": {},
     "output_type": "display_data"
    },
    {
     "name": "stderr",
     "output_type": "stream",
     "text": [
      "\r",
      " 10%|█         | 1/10 [08:14<1:14:12, 494.76s/it]"
     ]
    },
    {
     "data": {
      "text/markdown": [
       "## Modèle n°2 :\n"
      ],
      "text/plain": [
       "<IPython.core.display.Markdown object>"
      ]
     },
     "metadata": {},
     "output_type": "display_data"
    },
    {
     "data": {
      "text/plain": [
       "938"
      ]
     },
     "metadata": {},
     "output_type": "display_data"
    },
    {
     "name": "stdout",
     "output_type": "stream",
     "text": [
      "Fitting 5 folds for each of 420 candidates, totalling 2100 fits\n",
      "Best score RF1 :  0.41981876832305554\n",
      "Fitting 5 folds for each of 420 candidates, totalling 2100 fits\n",
      "Best score RF2 :  0.6402303075975775\n",
      "Fitting 5 folds for each of 420 candidates, totalling 2100 fits\n",
      "Best score RF3 :  0.7362932056501641\n",
      "Sauvegarde du modèle dans  RF1F.pkl\n",
      "Sauvegarde du modèle dans  RF2F.pkl\n",
      "Sauvegarde du modèle dans  RF3F.pkl\n",
      "RandomForestClassifier(max_depth=10, max_leaf_nodes=95, min_samples_split=10,\n",
      "                       n_estimators=70)\n",
      "RandomForestClassifier(criterion='entropy', max_depth=10, max_leaf_nodes=95,\n",
      "                       min_samples_split=8)\n",
      "RandomForestClassifier(bootstrap=False, criterion='entropy', max_depth=10,\n",
      "                       max_leaf_nodes=95, min_samples_split=4, n_estimators=80)\n"
     ]
    },
    {
     "data": {
      "text/markdown": [
       "#### Matrice de confusion\n"
      ],
      "text/plain": [
       "<IPython.core.display.Markdown object>"
      ]
     },
     "metadata": {},
     "output_type": "display_data"
    },
    {
     "data": {
      "text/markdown": [
       "<table><tr><th>RF1F</th><th>RF2F</th><th>RF2F</th></tr><tr><td><table><tr><th></th><th>N</th><th>P</th></tr><tr><th>T</th><td> 486 </td><td> 32 </td></tr><tr><th>F</th><td> 22 </td><td> 44 </td></tr></table> </td><td><table><tr><th></th><th>N</th><th>P</th></tr><tr><th>T</th><td> 521 </td><td> 45 </td></tr><tr><th>F</th><td> 8 </td><td> 10 </td></tr></table> </td><td><table><tr><th></th><th>N</th><th>P</th></tr><tr><th>T</th><td> 531 </td><td> 46 </td></tr><tr><th>F</th><td> 4 </td><td> 3 </td></tr></table> </tr></td></table>"
      ],
      "text/plain": [
       "<IPython.core.display.Markdown object>"
      ]
     },
     "metadata": {},
     "output_type": "display_data"
    },
    {
     "data": {
      "text/markdown": [
       "#### Rapport de classification\n"
      ],
      "text/plain": [
       "<IPython.core.display.Markdown object>"
      ]
     },
     "metadata": {},
     "output_type": "display_data"
    },
    {
     "data": {
      "text/markdown": [
       "##### RF1F :"
      ],
      "text/plain": [
       "<IPython.core.display.Markdown object>"
      ]
     },
     "metadata": {},
     "output_type": "display_data"
    },
    {
     "data": {
      "text/markdown": [
       "<table><tr><th>Classification</th><th></th><th>Classification optimisée</th></tr><tr><td><table><tr><th>Class</th><th>Precision</th><th>Recall</th><th>F1-score</th><th>Support</th></tr><tr><th>0</th><td>0.42</td><td>0.59</td><td>0.49</td><td>54</td></tr><tr><th>1</th><td>0.5</td><td>0.14</td><td>0.21</td><td>22</td></tr><tr><th>2</th><td>0.24</td><td>0.16</td><td>0.19</td><td>49</td></tr><tr><th>3</th><td>0.36</td><td>0.26</td><td>0.3</td><td>46</td></tr><tr><th>4</th><td>0.4</td><td>0.19</td><td>0.26</td><td>52</td></tr><tr><th>5</th><td>0.45</td><td>0.71</td><td>0.55</td><td>129</td></tr><tr><th>6</th><td>0.33</td><td>0.2</td><td>0.25</td><td>44</td></tr><tr><th>7</th><td>0.22</td><td>0.21</td><td>0.22</td><td>47</td></tr><tr><th>8</th><td>0.35</td><td>0.32</td><td>0.34</td><td>53</td></tr><tr><th>9</th><td>0.2</td><td>0.03</td><td>0.06</td><td>29</td></tr><tr><th>10</th><td>0.38</td><td>0.51</td><td>0.43</td><td>59</td></tr><tr><th> Accuracy </th><td></td><td></td><td></td><th>0.38</th></tr></table></td><td></td><td><table><tr><th>Class</th><th>Precision</th><th>Recall</th><th>F1-score</th><th>Accuracy</th></tr><tr><th>0</th><td>0.39</td><td>0.59</td><td>0.47</td><td>0.88</td></tr><tr><th>1</th><td>0.15</td><td>0.77</td><td>0.25</td><td>0.82</td></tr><tr><th>2</th><td>0.27</td><td>0.41</td><td>0.33</td><td>0.86</td></tr><tr><th>3</th><td>0.21</td><td>0.41</td><td>0.28</td><td>0.83</td></tr><tr><th>4</th><td>0.14</td><td>0.71</td><td>0.23</td><td>0.59</td></tr><tr><th>5</th><td>0.38</td><td>0.77</td><td>0.51</td><td>0.68</td></tr><tr><th>6</th><td>0.11</td><td>0.7</td><td>0.19</td><td>0.55</td></tr><tr><th>7</th><td>0.17</td><td>0.45</td><td>0.25</td><td>0.79</td></tr><tr><th>8</th><td>0.28</td><td>0.51</td><td>0.36</td><td>0.83</td></tr><tr><th>9</th><td>0.14</td><td>0.62</td><td>0.23</td><td>0.79</td></tr><tr><th>10</th><td>0.37</td><td>0.53</td><td>0.44</td><td>0.86</td></tr><tr><th> Accuracy </th><td></td><td></td><td></td><th>0.77</th></tr></table></td></tr></table>"
      ],
      "text/plain": [
       "<IPython.core.display.Markdown object>"
      ]
     },
     "metadata": {},
     "output_type": "display_data"
    },
    {
     "data": {
      "text/markdown": [
       "##### RF2F :"
      ],
      "text/plain": [
       "<IPython.core.display.Markdown object>"
      ]
     },
     "metadata": {},
     "output_type": "display_data"
    },
    {
     "data": {
      "text/markdown": [
       "<table><tr><th>Classification</th><th></th><th>Classification optimisée</th></tr><tr><td><table><tr><th>Class</th><th>Precision</th><th>Recall</th><th>F1-score</th><th>Support</th></tr><tr><th>0</th><td>0.82</td><td>0.85</td><td>0.83</td><td>53</td></tr><tr><th>1</th><td>0.38</td><td>0.36</td><td>0.37</td><td>22</td></tr><tr><th>2</th><td>0.35</td><td>0.39</td><td>0.37</td><td>36</td></tr><tr><th>3</th><td>0.67</td><td>0.5</td><td>0.57</td><td>60</td></tr><tr><th>4</th><td>0.51</td><td>0.51</td><td>0.51</td><td>41</td></tr><tr><th>5</th><td>0.76</td><td>0.83</td><td>0.79</td><td>159</td></tr><tr><th>6</th><td>0.42</td><td>0.35</td><td>0.38</td><td>37</td></tr><tr><th>7</th><td>0.59</td><td>0.64</td><td>0.62</td><td>59</td></tr><tr><th>8</th><td>0.39</td><td>0.48</td><td>0.43</td><td>33</td></tr><tr><th>9</th><td>0.55</td><td>0.34</td><td>0.42</td><td>32</td></tr><tr><th>10</th><td>0.79</td><td>0.79</td><td>0.79</td><td>52</td></tr><tr><th> Accuracy </th><td></td><td></td><td></td><th>0.63</th></tr></table></td><td></td><td><table><tr><th>Class</th><th>Precision</th><th>Recall</th><th>F1-score</th><th>Accuracy</th></tr><tr><th>0</th><td>0.64</td><td>0.92</td><td>0.75</td><td>0.95</td></tr><tr><th>1</th><td>0.17</td><td>0.91</td><td>0.29</td><td>0.83</td></tr><tr><th>2</th><td>0.24</td><td>0.69</td><td>0.36</td><td>0.84</td></tr><tr><th>3</th><td>0.37</td><td>0.78</td><td>0.5</td><td>0.84</td></tr><tr><th>4</th><td>0.13</td><td>0.85</td><td>0.23</td><td>0.6</td></tr><tr><th>5</th><td>0.59</td><td>0.91</td><td>0.72</td><td>0.8</td></tr><tr><th>6</th><td>0.11</td><td>0.81</td><td>0.19</td><td>0.58</td></tr><tr><th>7</th><td>0.35</td><td>0.81</td><td>0.49</td><td>0.83</td></tr><tr><th>8</th><td>0.24</td><td>0.91</td><td>0.38</td><td>0.83</td></tr><tr><th>9</th><td>0.25</td><td>0.88</td><td>0.39</td><td>0.85</td></tr><tr><th>10</th><td>0.6</td><td>0.83</td><td>0.7</td><td>0.93</td></tr><tr><th> Accuracy </th><td></td><td></td><td></td><th>0.81</th></tr></table></td></tr></table>"
      ],
      "text/plain": [
       "<IPython.core.display.Markdown object>"
      ]
     },
     "metadata": {},
     "output_type": "display_data"
    },
    {
     "data": {
      "text/markdown": [
       "##### RF3F :"
      ],
      "text/plain": [
       "<IPython.core.display.Markdown object>"
      ]
     },
     "metadata": {},
     "output_type": "display_data"
    },
    {
     "data": {
      "text/markdown": [
       "<table><tr><th>Classification</th><th></th><th>Classification optimisée</th></tr><tr><td><table><tr><th>Class</th><th>Precision</th><th>Recall</th><th>F1-score</th><th>Support</th></tr><tr><th>0</th><td>0.94</td><td>0.92</td><td>0.93</td><td>50</td></tr><tr><th>1</th><td>0.83</td><td>0.71</td><td>0.76</td><td>34</td></tr><tr><th>2</th><td>0.68</td><td>0.64</td><td>0.66</td><td>36</td></tr><tr><th>3</th><td>0.63</td><td>0.67</td><td>0.65</td><td>55</td></tr><tr><th>4</th><td>0.61</td><td>0.51</td><td>0.56</td><td>43</td></tr><tr><th>5</th><td>0.82</td><td>0.9</td><td>0.86</td><td>143</td></tr><tr><th>6</th><td>0.63</td><td>0.63</td><td>0.63</td><td>38</td></tr><tr><th>7</th><td>0.66</td><td>0.72</td><td>0.69</td><td>60</td></tr><tr><th>8</th><td>0.71</td><td>0.65</td><td>0.68</td><td>49</td></tr><tr><th>9</th><td>0.81</td><td>0.68</td><td>0.74</td><td>25</td></tr><tr><th>10</th><td>0.9</td><td>0.92</td><td>0.91</td><td>51</td></tr><tr><th> Accuracy </th><td></td><td></td><td></td><th>0.76</th></tr></table></td><td></td><td><table><tr><th>Class</th><th>Precision</th><th>Recall</th><th>F1-score</th><th>Accuracy</th></tr><tr><th>0</th><td>0.59</td><td>0.92</td><td>0.72</td><td>0.94</td></tr><tr><th>1</th><td>0.29</td><td>0.97</td><td>0.45</td><td>0.86</td></tr><tr><th>2</th><td>0.28</td><td>0.94</td><td>0.43</td><td>0.85</td></tr><tr><th>3</th><td>0.36</td><td>0.84</td><td>0.5</td><td>0.84</td></tr><tr><th>4</th><td>0.15</td><td>0.86</td><td>0.26</td><td>0.62</td></tr><tr><th>5</th><td>0.58</td><td>0.94</td><td>0.72</td><td>0.82</td></tr><tr><th>6</th><td>0.14</td><td>0.92</td><td>0.24</td><td>0.61</td></tr><tr><th>7</th><td>0.38</td><td>0.93</td><td>0.54</td><td>0.84</td></tr><tr><th>8</th><td>0.35</td><td>0.94</td><td>0.51</td><td>0.85</td></tr><tr><th>9</th><td>0.19</td><td>0.88</td><td>0.31</td><td>0.83</td></tr><tr><th>10</th><td>0.64</td><td>0.92</td><td>0.75</td><td>0.95</td></tr><tr><th> Accuracy </th><td></td><td></td><td></td><th>0.82</th></tr></table></td></tr></table>"
      ],
      "text/plain": [
       "<IPython.core.display.Markdown object>"
      ]
     },
     "metadata": {},
     "output_type": "display_data"
    },
    {
     "name": "stderr",
     "output_type": "stream",
     "text": [
      "\r",
      " 20%|██        | 2/10 [16:12<1:04:37, 484.69s/it]"
     ]
    },
    {
     "data": {
      "text/markdown": [
       "## Modèle n°3 :\n"
      ],
      "text/plain": [
       "<IPython.core.display.Markdown object>"
      ]
     },
     "metadata": {},
     "output_type": "display_data"
    },
    {
     "data": {
      "text/plain": [
       "746"
      ]
     },
     "metadata": {},
     "output_type": "display_data"
    },
    {
     "name": "stdout",
     "output_type": "stream",
     "text": [
      "Fitting 5 folds for each of 420 candidates, totalling 2100 fits\n",
      "Best score RF1 :  0.41509773828013713\n",
      "Fitting 5 folds for each of 420 candidates, totalling 2100 fits\n",
      "Best score RF2 :  0.6436509176461939\n",
      "Fitting 5 folds for each of 420 candidates, totalling 2100 fits\n",
      "Best score RF3 :  0.7354293224030659\n",
      "Sauvegarde du modèle dans  RF1F.pkl\n",
      "Sauvegarde du modèle dans  RF2F.pkl\n",
      "Sauvegarde du modèle dans  RF3F.pkl\n",
      "RandomForestClassifier(max_depth=10, max_leaf_nodes=95, min_samples_split=3,\n",
      "                       n_estimators=90)\n",
      "RandomForestClassifier(criterion='entropy', max_depth=10, max_leaf_nodes=95,\n",
      "                       min_samples_split=3, n_estimators=80)\n",
      "RandomForestClassifier(criterion='entropy', max_depth=10, max_leaf_nodes=95,\n",
      "                       min_samples_split=3)\n"
     ]
    },
    {
     "data": {
      "text/markdown": [
       "#### Matrice de confusion\n"
      ],
      "text/plain": [
       "<IPython.core.display.Markdown object>"
      ]
     },
     "metadata": {},
     "output_type": "display_data"
    },
    {
     "data": {
      "text/markdown": [
       "<table><tr><th>RF1F</th><th>RF2F</th><th>RF2F</th></tr><tr><td><table><tr><th></th><th>N</th><th>P</th></tr><tr><th>T</th><td> 495 </td><td> 23 </td></tr><tr><th>F</th><td> 25 </td><td> 41 </td></tr></table> </td><td><table><tr><th></th><th>N</th><th>P</th></tr><tr><th>T</th><td> 516 </td><td> 45 </td></tr><tr><th>F</th><td> 10 </td><td> 13 </td></tr></table> </td><td><table><tr><th></th><th>N</th><th>P</th></tr><tr><th>T</th><td> 528 </td><td> 43 </td></tr><tr><th>F</th><td> 6 </td><td> 7 </td></tr></table> </tr></td></table>"
      ],
      "text/plain": [
       "<IPython.core.display.Markdown object>"
      ]
     },
     "metadata": {},
     "output_type": "display_data"
    },
    {
     "data": {
      "text/markdown": [
       "#### Rapport de classification\n"
      ],
      "text/plain": [
       "<IPython.core.display.Markdown object>"
      ]
     },
     "metadata": {},
     "output_type": "display_data"
    },
    {
     "data": {
      "text/markdown": [
       "##### RF1F :"
      ],
      "text/plain": [
       "<IPython.core.display.Markdown object>"
      ]
     },
     "metadata": {},
     "output_type": "display_data"
    },
    {
     "data": {
      "text/markdown": [
       "<table><tr><th>Classification</th><th></th><th>Classification optimisée</th></tr><tr><td><table><tr><th>Class</th><th>Precision</th><th>Recall</th><th>F1-score</th><th>Support</th></tr><tr><th>0</th><td>0.36</td><td>0.48</td><td>0.41</td><td>48</td></tr><tr><th>1</th><td>0.5</td><td>0.05</td><td>0.1</td><td>37</td></tr><tr><th>2</th><td>0.2</td><td>0.24</td><td>0.22</td><td>42</td></tr><tr><th>3</th><td>0.32</td><td>0.19</td><td>0.24</td><td>53</td></tr><tr><th>4</th><td>0.44</td><td>0.19</td><td>0.26</td><td>59</td></tr><tr><th>5</th><td>0.43</td><td>0.76</td><td>0.55</td><td>136</td></tr><tr><th>6</th><td>0.31</td><td>0.18</td><td>0.23</td><td>45</td></tr><tr><th>7</th><td>0.38</td><td>0.27</td><td>0.31</td><td>52</td></tr><tr><th>8</th><td>0.21</td><td>0.14</td><td>0.17</td><td>44</td></tr><tr><th>9</th><td>0.28</td><td>0.33</td><td>0.3</td><td>21</td></tr><tr><th>10</th><td>0.45</td><td>0.53</td><td>0.49</td><td>47</td></tr><tr><th> Accuracy </th><td></td><td></td><td></td><th>0.38</th></tr></table></td><td></td><td><table><tr><th>Class</th><th>Precision</th><th>Recall</th><th>F1-score</th><th>Accuracy</th></tr><tr><th>0</th><td>0.35</td><td>0.5</td><td>0.41</td><td>0.88</td></tr><tr><th>1</th><td>0.19</td><td>0.59</td><td>0.29</td><td>0.81</td></tr><tr><th>2</th><td>0.21</td><td>0.43</td><td>0.28</td><td>0.85</td></tr><tr><th>3</th><td>0.21</td><td>0.42</td><td>0.28</td><td>0.8</td></tr><tr><th>4</th><td>0.14</td><td>0.69</td><td>0.23</td><td>0.53</td></tr><tr><th>5</th><td>0.37</td><td>0.79</td><td>0.5</td><td>0.64</td></tr><tr><th>6</th><td>0.12</td><td>0.78</td><td>0.21</td><td>0.52</td></tr><tr><th>7</th><td>0.26</td><td>0.46</td><td>0.33</td><td>0.84</td></tr><tr><th>8</th><td>0.26</td><td>0.52</td><td>0.35</td><td>0.85</td></tr><tr><th>9</th><td>0.14</td><td>0.71</td><td>0.23</td><td>0.83</td></tr><tr><th>10</th><td>0.39</td><td>0.66</td><td>0.49</td><td>0.89</td></tr><tr><th> Accuracy </th><td></td><td></td><td></td><th>0.77</th></tr></table></td></tr></table>"
      ],
      "text/plain": [
       "<IPython.core.display.Markdown object>"
      ]
     },
     "metadata": {},
     "output_type": "display_data"
    },
    {
     "data": {
      "text/markdown": [
       "##### RF2F :"
      ],
      "text/plain": [
       "<IPython.core.display.Markdown object>"
      ]
     },
     "metadata": {},
     "output_type": "display_data"
    },
    {
     "data": {
      "text/markdown": [
       "<table><tr><th>Classification</th><th></th><th>Classification optimisée</th></tr><tr><td><table><tr><th>Class</th><th>Precision</th><th>Recall</th><th>F1-score</th><th>Support</th></tr><tr><th>0</th><td>0.78</td><td>0.82</td><td>0.8</td><td>55</td></tr><tr><th>1</th><td>0.46</td><td>0.21</td><td>0.29</td><td>29</td></tr><tr><th>2</th><td>0.33</td><td>0.45</td><td>0.38</td><td>40</td></tr><tr><th>3</th><td>0.48</td><td>0.44</td><td>0.46</td><td>57</td></tr><tr><th>4</th><td>0.51</td><td>0.63</td><td>0.56</td><td>43</td></tr><tr><th>5</th><td>0.78</td><td>0.82</td><td>0.8</td><td>153</td></tr><tr><th>6</th><td>0.59</td><td>0.5</td><td>0.54</td><td>46</td></tr><tr><th>7</th><td>0.52</td><td>0.58</td><td>0.55</td><td>48</td></tr><tr><th>8</th><td>0.55</td><td>0.47</td><td>0.51</td><td>36</td></tr><tr><th>9</th><td>0.54</td><td>0.3</td><td>0.39</td><td>23</td></tr><tr><th>10</th><td>0.78</td><td>0.8</td><td>0.79</td><td>54</td></tr><tr><th> Accuracy </th><td></td><td></td><td></td><th>0.62</th></tr></table></td><td></td><td><table><tr><th>Class</th><th>Precision</th><th>Recall</th><th>F1-score</th><th>Accuracy</th></tr><tr><th>0</th><td>0.66</td><td>0.85</td><td>0.74</td><td>0.95</td></tr><tr><th>1</th><td>0.2</td><td>0.86</td><td>0.32</td><td>0.82</td></tr><tr><th>2</th><td>0.28</td><td>0.82</td><td>0.42</td><td>0.84</td></tr><tr><th>3</th><td>0.28</td><td>0.79</td><td>0.41</td><td>0.78</td></tr><tr><th>4</th><td>0.14</td><td>0.84</td><td>0.24</td><td>0.59</td></tr><tr><th>5</th><td>0.56</td><td>0.92</td><td>0.7</td><td>0.79</td></tr><tr><th>6</th><td>0.15</td><td>0.85</td><td>0.26</td><td>0.62</td></tr><tr><th>7</th><td>0.31</td><td>0.79</td><td>0.45</td><td>0.84</td></tr><tr><th>8</th><td>0.29</td><td>0.78</td><td>0.42</td><td>0.87</td></tr><tr><th>9</th><td>0.17</td><td>0.74</td><td>0.28</td><td>0.85</td></tr><tr><th>10</th><td>0.66</td><td>0.83</td><td>0.74</td><td>0.95</td></tr><tr><th> Accuracy </th><td></td><td></td><td></td><th>0.81</th></tr></table></td></tr></table>"
      ],
      "text/plain": [
       "<IPython.core.display.Markdown object>"
      ]
     },
     "metadata": {},
     "output_type": "display_data"
    },
    {
     "data": {
      "text/markdown": [
       "##### RF3F :"
      ],
      "text/plain": [
       "<IPython.core.display.Markdown object>"
      ]
     },
     "metadata": {},
     "output_type": "display_data"
    },
    {
     "data": {
      "text/markdown": [
       "<table><tr><th>Classification</th><th></th><th>Classification optimisée</th></tr><tr><td><table><tr><th>Class</th><th>Precision</th><th>Recall</th><th>F1-score</th><th>Support</th></tr><tr><th>0</th><td>0.86</td><td>0.88</td><td>0.87</td><td>49</td></tr><tr><th>1</th><td>0.7</td><td>0.59</td><td>0.64</td><td>32</td></tr><tr><th>2</th><td>0.7</td><td>0.73</td><td>0.71</td><td>48</td></tr><tr><th>3</th><td>0.71</td><td>0.64</td><td>0.67</td><td>47</td></tr><tr><th>4</th><td>0.7</td><td>0.61</td><td>0.65</td><td>46</td></tr><tr><th>5</th><td>0.8</td><td>0.89</td><td>0.84</td><td>140</td></tr><tr><th>6</th><td>0.69</td><td>0.65</td><td>0.67</td><td>48</td></tr><tr><th>7</th><td>0.66</td><td>0.73</td><td>0.69</td><td>52</td></tr><tr><th>8</th><td>0.66</td><td>0.68</td><td>0.67</td><td>40</td></tr><tr><th>9</th><td>0.82</td><td>0.56</td><td>0.67</td><td>25</td></tr><tr><th>10</th><td>0.93</td><td>0.96</td><td>0.95</td><td>57</td></tr><tr><th> Accuracy </th><td></td><td></td><td></td><th>0.76</th></tr></table></td><td></td><td><table><tr><th>Class</th><th>Precision</th><th>Recall</th><th>F1-score</th><th>Accuracy</th></tr><tr><th>0</th><td>0.58</td><td>0.92</td><td>0.71</td><td>0.94</td></tr><tr><th>1</th><td>0.23</td><td>0.91</td><td>0.37</td><td>0.83</td></tr><tr><th>2</th><td>0.37</td><td>0.92</td><td>0.53</td><td>0.86</td></tr><tr><th>3</th><td>0.32</td><td>0.89</td><td>0.47</td><td>0.84</td></tr><tr><th>4</th><td>0.16</td><td>0.83</td><td>0.27</td><td>0.65</td></tr><tr><th>5</th><td>0.56</td><td>0.96</td><td>0.71</td><td>0.81</td></tr><tr><th>6</th><td>0.17</td><td>0.94</td><td>0.29</td><td>0.63</td></tr><tr><th>7</th><td>0.35</td><td>0.96</td><td>0.51</td><td>0.84</td></tr><tr><th>8</th><td>0.31</td><td>0.9</td><td>0.46</td><td>0.86</td></tr><tr><th>9</th><td>0.19</td><td>0.88</td><td>0.31</td><td>0.83</td></tr><tr><th>10</th><td>0.72</td><td>0.96</td><td>0.82</td><td>0.96</td></tr><tr><th> Accuracy </th><td></td><td></td><td></td><th>0.82</th></tr></table></td></tr></table>"
      ],
      "text/plain": [
       "<IPython.core.display.Markdown object>"
      ]
     },
     "metadata": {},
     "output_type": "display_data"
    },
    {
     "name": "stderr",
     "output_type": "stream",
     "text": [
      "\r",
      " 30%|███       | 3/10 [24:22<56:49, 487.02s/it]  "
     ]
    },
    {
     "data": {
      "text/markdown": [
       "## Modèle n°4 :\n"
      ],
      "text/plain": [
       "<IPython.core.display.Markdown object>"
      ]
     },
     "metadata": {},
     "output_type": "display_data"
    },
    {
     "data": {
      "text/plain": [
       "380"
      ]
     },
     "metadata": {},
     "output_type": "display_data"
    },
    {
     "name": "stdout",
     "output_type": "stream",
     "text": [
      "Fitting 5 folds for each of 420 candidates, totalling 2100 fits\n",
      "Best score RF1 :  0.4022359871704147\n",
      "Fitting 5 folds for each of 420 candidates, totalling 2100 fits\n",
      "Best score RF2 :  0.6337897822830412\n",
      "Fitting 5 folds for each of 420 candidates, totalling 2100 fits\n",
      "Best score RF3 :  0.7427153504700812\n",
      "Sauvegarde du modèle dans  RF1F.pkl\n",
      "Sauvegarde du modèle dans  RF2F.pkl\n",
      "Sauvegarde du modèle dans  RF3F.pkl\n",
      "RandomForestClassifier(criterion='entropy', max_depth=10, max_leaf_nodes=95,\n",
      "                       min_samples_split=10, n_estimators=40)\n",
      "RandomForestClassifier(criterion='entropy', max_depth=10, max_leaf_nodes=95,\n",
      "                       n_estimators=40)\n",
      "RandomForestClassifier(bootstrap=False, criterion='entropy', max_depth=10,\n",
      "                       max_leaf_nodes=95, min_samples_split=10,\n",
      "                       n_estimators=50)\n"
     ]
    },
    {
     "data": {
      "text/markdown": [
       "#### Matrice de confusion\n"
      ],
      "text/plain": [
       "<IPython.core.display.Markdown object>"
      ]
     },
     "metadata": {},
     "output_type": "display_data"
    },
    {
     "data": {
      "text/markdown": [
       "<table><tr><th>RF1F</th><th>RF2F</th><th>RF2F</th></tr><tr><td><table><tr><th></th><th>N</th><th>P</th></tr><tr><th>T</th><td> 485 </td><td> 33 </td></tr><tr><th>F</th><td> 22 </td><td> 44 </td></tr></table> </td><td><table><tr><th></th><th>N</th><th>P</th></tr><tr><th>T</th><td> 512 </td><td> 51 </td></tr><tr><th>F</th><td> 8 </td><td> 13 </td></tr></table> </td><td><table><tr><th></th><th>N</th><th>P</th></tr><tr><th>T</th><td> 522 </td><td> 47 </td></tr><tr><th>F</th><td> 5 </td><td> 10 </td></tr></table> </tr></td></table>"
      ],
      "text/plain": [
       "<IPython.core.display.Markdown object>"
      ]
     },
     "metadata": {},
     "output_type": "display_data"
    },
    {
     "data": {
      "text/markdown": [
       "#### Rapport de classification\n"
      ],
      "text/plain": [
       "<IPython.core.display.Markdown object>"
      ]
     },
     "metadata": {},
     "output_type": "display_data"
    },
    {
     "data": {
      "text/markdown": [
       "##### RF1F :"
      ],
      "text/plain": [
       "<IPython.core.display.Markdown object>"
      ]
     },
     "metadata": {},
     "output_type": "display_data"
    },
    {
     "data": {
      "text/markdown": [
       "<table><tr><th>Classification</th><th></th><th>Classification optimisée</th></tr><tr><td><table><tr><th>Class</th><th>Precision</th><th>Recall</th><th>F1-score</th><th>Support</th></tr><tr><th>0</th><td>0.43</td><td>0.6</td><td>0.5</td><td>55</td></tr><tr><th>1</th><td>0.38</td><td>0.1</td><td>0.15</td><td>31</td></tr><tr><th>2</th><td>0.32</td><td>0.34</td><td>0.33</td><td>44</td></tr><tr><th>3</th><td>0.62</td><td>0.26</td><td>0.37</td><td>58</td></tr><tr><th>4</th><td>0.37</td><td>0.26</td><td>0.3</td><td>43</td></tr><tr><th>5</th><td>0.47</td><td>0.77</td><td>0.59</td><td>135</td></tr><tr><th>6</th><td>0.22</td><td>0.19</td><td>0.2</td><td>43</td></tr><tr><th>7</th><td>0.26</td><td>0.2</td><td>0.23</td><td>44</td></tr><tr><th>8</th><td>0.2</td><td>0.18</td><td>0.19</td><td>45</td></tr><tr><th>9</th><td>0.29</td><td>0.07</td><td>0.12</td><td>27</td></tr><tr><th>10</th><td>0.53</td><td>0.54</td><td>0.54</td><td>59</td></tr><tr><th> Accuracy </th><td></td><td></td><td></td><th>0.41</th></tr></table></td><td></td><td><table><tr><th>Class</th><th>Precision</th><th>Recall</th><th>F1-score</th><th>Accuracy</th></tr><tr><th>0</th><td>0.4</td><td>0.62</td><td>0.49</td><td>0.88</td></tr><tr><th>1</th><td>0.19</td><td>0.81</td><td>0.31</td><td>0.81</td></tr><tr><th>2</th><td>0.2</td><td>0.36</td><td>0.26</td><td>0.84</td></tr><tr><th>3</th><td>0.29</td><td>0.5</td><td>0.37</td><td>0.83</td></tr><tr><th>4</th><td>0.12</td><td>0.74</td><td>0.21</td><td>0.57</td></tr><tr><th>5</th><td>0.38</td><td>0.81</td><td>0.52</td><td>0.65</td></tr><tr><th>6</th><td>0.1</td><td>0.65</td><td>0.17</td><td>0.52</td></tr><tr><th>7</th><td>0.21</td><td>0.52</td><td>0.3</td><td>0.81</td></tr><tr><th>8</th><td>0.17</td><td>0.31</td><td>0.22</td><td>0.83</td></tr><tr><th>9</th><td>0.15</td><td>0.59</td><td>0.24</td><td>0.83</td></tr><tr><th>10</th><td>0.54</td><td>0.61</td><td>0.57</td><td>0.91</td></tr><tr><th> Accuracy </th><td></td><td></td><td></td><th>0.77</th></tr></table></td></tr></table>"
      ],
      "text/plain": [
       "<IPython.core.display.Markdown object>"
      ]
     },
     "metadata": {},
     "output_type": "display_data"
    },
    {
     "data": {
      "text/markdown": [
       "##### RF2F :"
      ],
      "text/plain": [
       "<IPython.core.display.Markdown object>"
      ]
     },
     "metadata": {},
     "output_type": "display_data"
    },
    {
     "data": {
      "text/markdown": [
       "<table><tr><th>Classification</th><th></th><th>Classification optimisée</th></tr><tr><td><table><tr><th>Class</th><th>Precision</th><th>Recall</th><th>F1-score</th><th>Support</th></tr><tr><th>0</th><td>0.8</td><td>0.86</td><td>0.83</td><td>59</td></tr><tr><th>1</th><td>0.73</td><td>0.28</td><td>0.4</td><td>29</td></tr><tr><th>2</th><td>0.54</td><td>0.53</td><td>0.53</td><td>40</td></tr><tr><th>3</th><td>0.55</td><td>0.58</td><td>0.56</td><td>52</td></tr><tr><th>4</th><td>0.56</td><td>0.5</td><td>0.53</td><td>44</td></tr><tr><th>5</th><td>0.7</td><td>0.85</td><td>0.77</td><td>143</td></tr><tr><th>6</th><td>0.62</td><td>0.45</td><td>0.53</td><td>44</td></tr><tr><th>7</th><td>0.58</td><td>0.66</td><td>0.62</td><td>53</td></tr><tr><th>8</th><td>0.52</td><td>0.57</td><td>0.55</td><td>40</td></tr><tr><th>9</th><td>0.76</td><td>0.46</td><td>0.57</td><td>35</td></tr><tr><th>10</th><td>0.82</td><td>0.82</td><td>0.82</td><td>45</td></tr><tr><th> Accuracy </th><td></td><td></td><td></td><th>0.66</th></tr></table></td><td></td><td><table><tr><th>Class</th><th>Precision</th><th>Recall</th><th>F1-score</th><th>Accuracy</th></tr><tr><th>0</th><td>0.71</td><td>0.9</td><td>0.79</td><td>0.95</td></tr><tr><th>1</th><td>0.22</td><td>0.86</td><td>0.35</td><td>0.84</td></tr><tr><th>2</th><td>0.29</td><td>0.75</td><td>0.42</td><td>0.85</td></tr><tr><th>3</th><td>0.29</td><td>0.75</td><td>0.42</td><td>0.82</td></tr><tr><th>4</th><td>0.15</td><td>0.91</td><td>0.26</td><td>0.6</td></tr><tr><th>5</th><td>0.54</td><td>0.93</td><td>0.68</td><td>0.79</td></tr><tr><th>6</th><td>0.16</td><td>0.95</td><td>0.27</td><td>0.61</td></tr><tr><th>7</th><td>0.32</td><td>0.83</td><td>0.46</td><td>0.83</td></tr><tr><th>8</th><td>0.26</td><td>0.82</td><td>0.39</td><td>0.83</td></tr><tr><th>9</th><td>0.25</td><td>0.8</td><td>0.38</td><td>0.85</td></tr><tr><th>10</th><td>0.59</td><td>0.87</td><td>0.7</td><td>0.94</td></tr><tr><th> Accuracy </th><td></td><td></td><td></td><th>0.81</th></tr></table></td></tr></table>"
      ],
      "text/plain": [
       "<IPython.core.display.Markdown object>"
      ]
     },
     "metadata": {},
     "output_type": "display_data"
    },
    {
     "data": {
      "text/markdown": [
       "##### RF3F :"
      ],
      "text/plain": [
       "<IPython.core.display.Markdown object>"
      ]
     },
     "metadata": {},
     "output_type": "display_data"
    },
    {
     "data": {
      "text/markdown": [
       "<table><tr><th>Classification</th><th></th><th>Classification optimisée</th></tr><tr><td><table><tr><th>Class</th><th>Precision</th><th>Recall</th><th>F1-score</th><th>Support</th></tr><tr><th>0</th><td>0.82</td><td>0.9</td><td>0.86</td><td>52</td></tr><tr><th>1</th><td>0.76</td><td>0.59</td><td>0.67</td><td>27</td></tr><tr><th>2</th><td>0.56</td><td>0.46</td><td>0.51</td><td>41</td></tr><tr><th>3</th><td>0.56</td><td>0.69</td><td>0.62</td><td>49</td></tr><tr><th>4</th><td>0.79</td><td>0.63</td><td>0.7</td><td>49</td></tr><tr><th>5</th><td>0.83</td><td>0.92</td><td>0.88</td><td>153</td></tr><tr><th>6</th><td>0.7</td><td>0.53</td><td>0.6</td><td>36</td></tr><tr><th>7</th><td>0.64</td><td>0.64</td><td>0.64</td><td>56</td></tr><tr><th>8</th><td>0.59</td><td>0.55</td><td>0.56</td><td>44</td></tr><tr><th>9</th><td>0.57</td><td>0.52</td><td>0.54</td><td>25</td></tr><tr><th>10</th><td>0.86</td><td>0.92</td><td>0.89</td><td>52</td></tr><tr><th> Accuracy </th><td></td><td></td><td></td><th>0.73</th></tr></table></td><td></td><td><table><tr><th>Class</th><th>Precision</th><th>Recall</th><th>F1-score</th><th>Accuracy</th></tr><tr><th>0</th><td>0.62</td><td>0.92</td><td>0.74</td><td>0.94</td></tr><tr><th>1</th><td>0.24</td><td>1.0</td><td>0.39</td><td>0.85</td></tr><tr><th>2</th><td>0.28</td><td>0.8</td><td>0.41</td><td>0.84</td></tr><tr><th>3</th><td>0.33</td><td>0.9</td><td>0.48</td><td>0.84</td></tr><tr><th>4</th><td>0.16</td><td>0.9</td><td>0.27</td><td>0.61</td></tr><tr><th>5</th><td>0.62</td><td>0.95</td><td>0.75</td><td>0.83</td></tr><tr><th>6</th><td>0.12</td><td>0.86</td><td>0.21</td><td>0.61</td></tr><tr><th>7</th><td>0.38</td><td>0.84</td><td>0.52</td><td>0.85</td></tr><tr><th>8</th><td>0.32</td><td>0.86</td><td>0.47</td><td>0.85</td></tr><tr><th>9</th><td>0.19</td><td>0.92</td><td>0.31</td><td>0.83</td></tr><tr><th>10</th><td>0.62</td><td>0.94</td><td>0.75</td><td>0.94</td></tr><tr><th> Accuracy </th><td></td><td></td><td></td><th>0.82</th></tr></table></td></tr></table>"
      ],
      "text/plain": [
       "<IPython.core.display.Markdown object>"
      ]
     },
     "metadata": {},
     "output_type": "display_data"
    },
    {
     "name": "stderr",
     "output_type": "stream",
     "text": [
      "\r",
      " 40%|████      | 4/10 [32:20<48:22, 483.76s/it]"
     ]
    },
    {
     "data": {
      "text/markdown": [
       "## Modèle n°5 :\n"
      ],
      "text/plain": [
       "<IPython.core.display.Markdown object>"
      ]
     },
     "metadata": {},
     "output_type": "display_data"
    },
    {
     "data": {
      "text/plain": [
       "926"
      ]
     },
     "metadata": {},
     "output_type": "display_data"
    },
    {
     "name": "stdout",
     "output_type": "stream",
     "text": [
      "Fitting 5 folds for each of 420 candidates, totalling 2100 fits\n",
      "Best score RF1 :  0.41552140868110765\n",
      "Fitting 5 folds for each of 420 candidates, totalling 2100 fits\n",
      "Best score RF2 :  0.6406475448254312\n",
      "Fitting 5 folds for each of 420 candidates, totalling 2100 fits\n",
      "Best score RF3 :  0.7491374952899983\n",
      "Sauvegarde du modèle dans  RF1F.pkl\n",
      "Sauvegarde du modèle dans  RF2F.pkl\n",
      "Sauvegarde du modèle dans  RF3F.pkl\n",
      "RandomForestClassifier(max_depth=10, max_leaf_nodes=95, min_samples_split=10)\n",
      "RandomForestClassifier(criterion='entropy', max_depth=10, max_leaf_nodes=95,\n",
      "                       min_samples_split=10, n_estimators=40)\n",
      "RandomForestClassifier(bootstrap=False, criterion='entropy', max_depth=10,\n",
      "                       max_leaf_nodes=95, min_samples_split=8)\n"
     ]
    },
    {
     "data": {
      "text/markdown": [
       "#### Matrice de confusion\n"
      ],
      "text/plain": [
       "<IPython.core.display.Markdown object>"
      ]
     },
     "metadata": {},
     "output_type": "display_data"
    },
    {
     "data": {
      "text/markdown": [
       "<table><tr><th>RF1F</th><th>RF2F</th><th>RF2F</th></tr><tr><td><table><tr><th></th><th>N</th><th>P</th></tr><tr><th>T</th><td> 496 </td><td> 26 </td></tr><tr><th>F</th><td> 31 </td><td> 31 </td></tr></table> </td><td><table><tr><th></th><th>N</th><th>P</th></tr><tr><th>T</th><td> 518 </td><td> 44 </td></tr><tr><th>F</th><td> 6 </td><td> 16 </td></tr></table> </td><td><table><tr><th></th><th>N</th><th>P</th></tr><tr><th>T</th><td> 515 </td><td> 55 </td></tr><tr><th>F</th><td> 7 </td><td> 7 </td></tr></table> </tr></td></table>"
      ],
      "text/plain": [
       "<IPython.core.display.Markdown object>"
      ]
     },
     "metadata": {},
     "output_type": "display_data"
    },
    {
     "data": {
      "text/markdown": [
       "#### Rapport de classification\n"
      ],
      "text/plain": [
       "<IPython.core.display.Markdown object>"
      ]
     },
     "metadata": {},
     "output_type": "display_data"
    },
    {
     "data": {
      "text/markdown": [
       "##### RF1F :"
      ],
      "text/plain": [
       "<IPython.core.display.Markdown object>"
      ]
     },
     "metadata": {},
     "output_type": "display_data"
    },
    {
     "data": {
      "text/markdown": [
       "<table><tr><th>Classification</th><th></th><th>Classification optimisée</th></tr><tr><td><table><tr><th>Class</th><th>Precision</th><th>Recall</th><th>F1-score</th><th>Support</th></tr><tr><th>0</th><td>0.46</td><td>0.46</td><td>0.46</td><td>57</td></tr><tr><th>1</th><td>0.0</td><td>0.0</td><td>0.0</td><td>25</td></tr><tr><th>2</th><td>0.26</td><td>0.38</td><td>0.31</td><td>50</td></tr><tr><th>3</th><td>0.28</td><td>0.14</td><td>0.19</td><td>56</td></tr><tr><th>4</th><td>0.34</td><td>0.27</td><td>0.3</td><td>41</td></tr><tr><th>5</th><td>0.46</td><td>0.75</td><td>0.57</td><td>130</td></tr><tr><th>6</th><td>0.24</td><td>0.11</td><td>0.15</td><td>57</td></tr><tr><th>7</th><td>0.43</td><td>0.28</td><td>0.34</td><td>54</td></tr><tr><th>8</th><td>0.21</td><td>0.29</td><td>0.24</td><td>35</td></tr><tr><th>9</th><td>0.25</td><td>0.12</td><td>0.16</td><td>26</td></tr><tr><th>10</th><td>0.55</td><td>0.53</td><td>0.54</td><td>53</td></tr><tr><th> Accuracy </th><td></td><td></td><td></td><th>0.38</th></tr></table></td><td></td><td><table><tr><th>Class</th><th>Precision</th><th>Recall</th><th>F1-score</th><th>Accuracy</th></tr><tr><th>0</th><td>0.44</td><td>0.51</td><td>0.47</td><td>0.89</td></tr><tr><th>1</th><td>0.12</td><td>0.64</td><td>0.2</td><td>0.77</td></tr><tr><th>2</th><td>0.28</td><td>0.62</td><td>0.39</td><td>0.83</td></tr><tr><th>3</th><td>0.24</td><td>0.57</td><td>0.34</td><td>0.78</td></tr><tr><th>4</th><td>0.09</td><td>0.61</td><td>0.16</td><td>0.54</td></tr><tr><th>5</th><td>0.38</td><td>0.79</td><td>0.51</td><td>0.67</td></tr><tr><th>6</th><td>0.15</td><td>0.72</td><td>0.25</td><td>0.57</td></tr><tr><th>7</th><td>0.27</td><td>0.54</td><td>0.36</td><td>0.82</td></tr><tr><th>8</th><td>0.18</td><td>0.49</td><td>0.26</td><td>0.84</td></tr><tr><th>9</th><td>0.14</td><td>0.58</td><td>0.23</td><td>0.82</td></tr><tr><th>10</th><td>0.56</td><td>0.66</td><td>0.61</td><td>0.92</td></tr><tr><th> Accuracy </th><td></td><td></td><td></td><th>0.77</th></tr></table></td></tr></table>"
      ],
      "text/plain": [
       "<IPython.core.display.Markdown object>"
      ]
     },
     "metadata": {},
     "output_type": "display_data"
    },
    {
     "data": {
      "text/markdown": [
       "##### RF2F :"
      ],
      "text/plain": [
       "<IPython.core.display.Markdown object>"
      ]
     },
     "metadata": {},
     "output_type": "display_data"
    },
    {
     "data": {
      "text/markdown": [
       "<table><tr><th>Classification</th><th></th><th>Classification optimisée</th></tr><tr><td><table><tr><th>Class</th><th>Precision</th><th>Recall</th><th>F1-score</th><th>Support</th></tr><tr><th>0</th><td>0.73</td><td>0.88</td><td>0.8</td><td>50</td></tr><tr><th>1</th><td>0.5</td><td>0.3</td><td>0.37</td><td>27</td></tr><tr><th>2</th><td>0.56</td><td>0.47</td><td>0.51</td><td>47</td></tr><tr><th>3</th><td>0.5</td><td>0.57</td><td>0.53</td><td>56</td></tr><tr><th>4</th><td>0.6</td><td>0.53</td><td>0.56</td><td>40</td></tr><tr><th>5</th><td>0.72</td><td>0.84</td><td>0.77</td><td>147</td></tr><tr><th>6</th><td>0.56</td><td>0.53</td><td>0.54</td><td>38</td></tr><tr><th>7</th><td>0.59</td><td>0.55</td><td>0.57</td><td>60</td></tr><tr><th>8</th><td>0.5</td><td>0.5</td><td>0.5</td><td>40</td></tr><tr><th>9</th><td>0.47</td><td>0.35</td><td>0.4</td><td>26</td></tr><tr><th>10</th><td>0.83</td><td>0.75</td><td>0.79</td><td>53</td></tr><tr><th> Accuracy </th><td></td><td></td><td></td><th>0.64</th></tr></table></td><td></td><td><table><tr><th>Class</th><th>Precision</th><th>Recall</th><th>F1-score</th><th>Accuracy</th></tr><tr><th>0</th><td>0.59</td><td>0.9</td><td>0.71</td><td>0.94</td></tr><tr><th>1</th><td>0.17</td><td>0.74</td><td>0.28</td><td>0.83</td></tr><tr><th>2</th><td>0.34</td><td>0.87</td><td>0.49</td><td>0.86</td></tr><tr><th>3</th><td>0.31</td><td>0.77</td><td>0.44</td><td>0.82</td></tr><tr><th>4</th><td>0.14</td><td>0.93</td><td>0.24</td><td>0.6</td></tr><tr><th>5</th><td>0.55</td><td>0.91</td><td>0.69</td><td>0.79</td></tr><tr><th>6</th><td>0.13</td><td>0.87</td><td>0.23</td><td>0.6</td></tr><tr><th>7</th><td>0.3</td><td>0.67</td><td>0.41</td><td>0.81</td></tr><tr><th>8</th><td>0.25</td><td>0.72</td><td>0.37</td><td>0.83</td></tr><tr><th>9</th><td>0.21</td><td>0.85</td><td>0.34</td><td>0.85</td></tr><tr><th>10</th><td>0.69</td><td>0.87</td><td>0.77</td><td>0.95</td></tr><tr><th> Accuracy </th><td></td><td></td><td></td><th>0.81</th></tr></table></td></tr></table>"
      ],
      "text/plain": [
       "<IPython.core.display.Markdown object>"
      ]
     },
     "metadata": {},
     "output_type": "display_data"
    },
    {
     "data": {
      "text/markdown": [
       "##### RF3F :"
      ],
      "text/plain": [
       "<IPython.core.display.Markdown object>"
      ]
     },
     "metadata": {},
     "output_type": "display_data"
    },
    {
     "data": {
      "text/markdown": [
       "<table><tr><th>Classification</th><th></th><th>Classification optimisée</th></tr><tr><td><table><tr><th>Class</th><th>Precision</th><th>Recall</th><th>F1-score</th><th>Support</th></tr><tr><th>0</th><td>0.89</td><td>0.89</td><td>0.89</td><td>62</td></tr><tr><th>1</th><td>0.55</td><td>0.46</td><td>0.5</td><td>24</td></tr><tr><th>2</th><td>0.63</td><td>0.62</td><td>0.62</td><td>39</td></tr><tr><th>3</th><td>0.53</td><td>0.67</td><td>0.59</td><td>42</td></tr><tr><th>4</th><td>0.71</td><td>0.54</td><td>0.61</td><td>41</td></tr><tr><th>5</th><td>0.78</td><td>0.86</td><td>0.81</td><td>138</td></tr><tr><th>6</th><td>0.45</td><td>0.38</td><td>0.41</td><td>37</td></tr><tr><th>7</th><td>0.63</td><td>0.64</td><td>0.63</td><td>61</td></tr><tr><th>8</th><td>0.6</td><td>0.57</td><td>0.58</td><td>44</td></tr><tr><th>9</th><td>0.75</td><td>0.64</td><td>0.69</td><td>28</td></tr><tr><th>10</th><td>0.9</td><td>0.91</td><td>0.91</td><td>68</td></tr><tr><th> Accuracy </th><td></td><td></td><td></td><th>0.71</th></tr></table></td><td></td><td><table><tr><th>Class</th><th>Precision</th><th>Recall</th><th>F1-score</th><th>Accuracy</th></tr><tr><th>0</th><td>0.7</td><td>0.92</td><td>0.8</td><td>0.95</td></tr><tr><th>1</th><td>0.17</td><td>0.83</td><td>0.28</td><td>0.82</td></tr><tr><th>2</th><td>0.31</td><td>0.87</td><td>0.46</td><td>0.86</td></tr><tr><th>3</th><td>0.3</td><td>0.86</td><td>0.44</td><td>0.84</td></tr><tr><th>4</th><td>0.16</td><td>0.9</td><td>0.27</td><td>0.65</td></tr><tr><th>5</th><td>0.58</td><td>0.9</td><td>0.71</td><td>0.82</td></tr><tr><th>6</th><td>0.13</td><td>0.89</td><td>0.23</td><td>0.63</td></tr><tr><th>7</th><td>0.41</td><td>0.92</td><td>0.57</td><td>0.86</td></tr><tr><th>8</th><td>0.3</td><td>0.86</td><td>0.44</td><td>0.84</td></tr><tr><th>9</th><td>0.2</td><td>0.96</td><td>0.33</td><td>0.81</td></tr><tr><th>10</th><td>0.68</td><td>0.93</td><td>0.79</td><td>0.94</td></tr><tr><th> Accuracy </th><td></td><td></td><td></td><th>0.82</th></tr></table></td></tr></table>"
      ],
      "text/plain": [
       "<IPython.core.display.Markdown object>"
      ]
     },
     "metadata": {},
     "output_type": "display_data"
    },
    {
     "name": "stderr",
     "output_type": "stream",
     "text": [
      "\r",
      " 50%|█████     | 5/10 [40:25<40:19, 483.91s/it]"
     ]
    },
    {
     "data": {
      "text/markdown": [
       "## Modèle n°6 :\n"
      ],
      "text/plain": [
       "<IPython.core.display.Markdown object>"
      ]
     },
     "metadata": {},
     "output_type": "display_data"
    },
    {
     "data": {
      "text/plain": [
       "827"
      ]
     },
     "metadata": {},
     "output_type": "display_data"
    },
    {
     "name": "stdout",
     "output_type": "stream",
     "text": [
      "Fitting 5 folds for each of 420 candidates, totalling 2100 fits\n",
      "Best score RF1 :  0.40178658407697754\n",
      "Fitting 5 folds for each of 420 candidates, totalling 2100 fits\n",
      "Best score RF2 :  0.626070893567746\n",
      "Fitting 5 folds for each of 420 candidates, totalling 2100 fits\n",
      "Best score RF3 :  0.747862807988163\n",
      "Sauvegarde du modèle dans  RF1F.pkl\n",
      "Sauvegarde du modèle dans  RF2F.pkl\n",
      "Sauvegarde du modèle dans  RF3F.pkl\n",
      "RandomForestClassifier(max_depth=10, max_leaf_nodes=95, min_samples_split=8,\n",
      "                       n_estimators=80)\n",
      "RandomForestClassifier(bootstrap=False, criterion='entropy', max_depth=10,\n",
      "                       max_leaf_nodes=95, min_samples_split=8, n_estimators=70)\n",
      "RandomForestClassifier(bootstrap=False, criterion='entropy', max_depth=10,\n",
      "                       max_leaf_nodes=95, min_samples_split=3, n_estimators=50)\n"
     ]
    },
    {
     "data": {
      "text/markdown": [
       "#### Matrice de confusion\n"
      ],
      "text/plain": [
       "<IPython.core.display.Markdown object>"
      ]
     },
     "metadata": {},
     "output_type": "display_data"
    },
    {
     "data": {
      "text/markdown": [
       "<table><tr><th>RF1F</th><th>RF2F</th><th>RF2F</th></tr><tr><td><table><tr><th></th><th>N</th><th>P</th></tr><tr><th>T</th><td> 495 </td><td> 31 </td></tr><tr><th>F</th><td> 26 </td><td> 32 </td></tr></table> </td><td><table><tr><th></th><th>N</th><th>P</th></tr><tr><th>T</th><td> 522 </td><td> 37 </td></tr><tr><th>F</th><td> 12 </td><td> 13 </td></tr></table> </td><td><table><tr><th></th><th>N</th><th>P</th></tr><tr><th>T</th><td> 519 </td><td> 55 </td></tr><tr><th>F</th><td> 6 </td><td> 4 </td></tr></table> </tr></td></table>"
      ],
      "text/plain": [
       "<IPython.core.display.Markdown object>"
      ]
     },
     "metadata": {},
     "output_type": "display_data"
    },
    {
     "data": {
      "text/markdown": [
       "#### Rapport de classification\n"
      ],
      "text/plain": [
       "<IPython.core.display.Markdown object>"
      ]
     },
     "metadata": {},
     "output_type": "display_data"
    },
    {
     "data": {
      "text/markdown": [
       "##### RF1F :"
      ],
      "text/plain": [
       "<IPython.core.display.Markdown object>"
      ]
     },
     "metadata": {},
     "output_type": "display_data"
    },
    {
     "data": {
      "text/markdown": [
       "<table><tr><th>Classification</th><th></th><th>Classification optimisée</th></tr><tr><td><table><tr><th>Class</th><th>Precision</th><th>Recall</th><th>F1-score</th><th>Support</th></tr><tr><th>0</th><td>0.49</td><td>0.54</td><td>0.52</td><td>57</td></tr><tr><th>1</th><td>0.37</td><td>0.44</td><td>0.4</td><td>16</td></tr><tr><th>2</th><td>0.37</td><td>0.28</td><td>0.32</td><td>46</td></tr><tr><th>3</th><td>0.28</td><td>0.18</td><td>0.22</td><td>56</td></tr><tr><th>4</th><td>0.41</td><td>0.24</td><td>0.3</td><td>54</td></tr><tr><th>5</th><td>0.43</td><td>0.77</td><td>0.55</td><td>121</td></tr><tr><th>6</th><td>0.48</td><td>0.23</td><td>0.31</td><td>56</td></tr><tr><th>7</th><td>0.3</td><td>0.26</td><td>0.28</td><td>54</td></tr><tr><th>8</th><td>0.24</td><td>0.26</td><td>0.25</td><td>43</td></tr><tr><th>9</th><td>0.2</td><td>0.03</td><td>0.06</td><td>30</td></tr><tr><th>10</th><td>0.38</td><td>0.43</td><td>0.4</td><td>51</td></tr><tr><th> Accuracy </th><td></td><td></td><td></td><th>0.39</th></tr></table></td><td></td><td><table><tr><th>Class</th><th>Precision</th><th>Recall</th><th>F1-score</th><th>Accuracy</th></tr><tr><th>0</th><td>0.45</td><td>0.65</td><td>0.53</td><td>0.89</td></tr><tr><th>1</th><td>0.1</td><td>0.75</td><td>0.18</td><td>0.81</td></tr><tr><th>2</th><td>0.3</td><td>0.59</td><td>0.4</td><td>0.86</td></tr><tr><th>3</th><td>0.26</td><td>0.48</td><td>0.34</td><td>0.82</td></tr><tr><th>4</th><td>0.16</td><td>0.83</td><td>0.27</td><td>0.58</td></tr><tr><th>5</th><td>0.35</td><td>0.8</td><td>0.49</td><td>0.65</td></tr><tr><th>6</th><td>0.14</td><td>0.73</td><td>0.23</td><td>0.55</td></tr><tr><th>7</th><td>0.26</td><td>0.57</td><td>0.36</td><td>0.81</td></tr><tr><th>8</th><td>0.21</td><td>0.49</td><td>0.29</td><td>0.83</td></tr><tr><th>9</th><td>0.14</td><td>0.5</td><td>0.22</td><td>0.81</td></tr><tr><th>10</th><td>0.38</td><td>0.47</td><td>0.42</td><td>0.89</td></tr><tr><th> Accuracy </th><td></td><td></td><td></td><th>0.77</th></tr></table></td></tr></table>"
      ],
      "text/plain": [
       "<IPython.core.display.Markdown object>"
      ]
     },
     "metadata": {},
     "output_type": "display_data"
    },
    {
     "data": {
      "text/markdown": [
       "##### RF2F :"
      ],
      "text/plain": [
       "<IPython.core.display.Markdown object>"
      ]
     },
     "metadata": {},
     "output_type": "display_data"
    },
    {
     "data": {
      "text/markdown": [
       "<table><tr><th>Classification</th><th></th><th>Classification optimisée</th></tr><tr><td><table><tr><th>Class</th><th>Precision</th><th>Recall</th><th>F1-score</th><th>Support</th></tr><tr><th>0</th><td>0.74</td><td>0.76</td><td>0.75</td><td>49</td></tr><tr><th>1</th><td>0.67</td><td>0.29</td><td>0.4</td><td>28</td></tr><tr><th>2</th><td>0.62</td><td>0.54</td><td>0.58</td><td>39</td></tr><tr><th>3</th><td>0.46</td><td>0.74</td><td>0.57</td><td>47</td></tr><tr><th>4</th><td>0.69</td><td>0.54</td><td>0.6</td><td>41</td></tr><tr><th>5</th><td>0.81</td><td>0.85</td><td>0.83</td><td>158</td></tr><tr><th>6</th><td>0.63</td><td>0.53</td><td>0.58</td><td>45</td></tr><tr><th>7</th><td>0.62</td><td>0.69</td><td>0.66</td><td>58</td></tr><tr><th>8</th><td>0.43</td><td>0.47</td><td>0.45</td><td>38</td></tr><tr><th>9</th><td>0.15</td><td>0.09</td><td>0.11</td><td>22</td></tr><tr><th>10</th><td>0.79</td><td>0.78</td><td>0.79</td><td>59</td></tr><tr><th> Accuracy </th><td></td><td></td><td></td><th>0.66</th></tr></table></td><td></td><td><table><tr><th>Class</th><th>Precision</th><th>Recall</th><th>F1-score</th><th>Accuracy</th></tr><tr><th>0</th><td>0.65</td><td>0.82</td><td>0.73</td><td>0.95</td></tr><tr><th>1</th><td>0.19</td><td>0.64</td><td>0.29</td><td>0.85</td></tr><tr><th>2</th><td>0.26</td><td>0.82</td><td>0.39</td><td>0.83</td></tr><tr><th>3</th><td>0.3</td><td>0.89</td><td>0.45</td><td>0.82</td></tr><tr><th>4</th><td>0.15</td><td>0.98</td><td>0.26</td><td>0.6</td></tr><tr><th>5</th><td>0.6</td><td>0.89</td><td>0.72</td><td>0.81</td></tr><tr><th>6</th><td>0.15</td><td>0.87</td><td>0.26</td><td>0.6</td></tr><tr><th>7</th><td>0.37</td><td>0.91</td><td>0.53</td><td>0.84</td></tr><tr><th>8</th><td>0.24</td><td>0.74</td><td>0.36</td><td>0.83</td></tr><tr><th>9</th><td>0.15</td><td>0.77</td><td>0.25</td><td>0.83</td></tr><tr><th>10</th><td>0.73</td><td>0.88</td><td>0.8</td><td>0.96</td></tr><tr><th> Accuracy </th><td></td><td></td><td></td><th>0.81</th></tr></table></td></tr></table>"
      ],
      "text/plain": [
       "<IPython.core.display.Markdown object>"
      ]
     },
     "metadata": {},
     "output_type": "display_data"
    },
    {
     "data": {
      "text/markdown": [
       "##### RF3F :"
      ],
      "text/plain": [
       "<IPython.core.display.Markdown object>"
      ]
     },
     "metadata": {},
     "output_type": "display_data"
    },
    {
     "data": {
      "text/markdown": [
       "<table><tr><th>Classification</th><th></th><th>Classification optimisée</th></tr><tr><td><table><tr><th>Class</th><th>Precision</th><th>Recall</th><th>F1-score</th><th>Support</th></tr><tr><th>0</th><td>0.93</td><td>0.9</td><td>0.92</td><td>61</td></tr><tr><th>1</th><td>0.59</td><td>0.59</td><td>0.59</td><td>22</td></tr><tr><th>2</th><td>0.58</td><td>0.61</td><td>0.6</td><td>41</td></tr><tr><th>3</th><td>0.68</td><td>0.69</td><td>0.68</td><td>55</td></tr><tr><th>4</th><td>0.74</td><td>0.59</td><td>0.66</td><td>49</td></tr><tr><th>5</th><td>0.79</td><td>0.87</td><td>0.83</td><td>143</td></tr><tr><th>6</th><td>0.57</td><td>0.57</td><td>0.57</td><td>53</td></tr><tr><th>7</th><td>0.65</td><td>0.53</td><td>0.58</td><td>58</td></tr><tr><th>8</th><td>0.57</td><td>0.62</td><td>0.59</td><td>34</td></tr><tr><th>9</th><td>0.59</td><td>0.54</td><td>0.57</td><td>24</td></tr><tr><th>10</th><td>0.75</td><td>0.82</td><td>0.78</td><td>44</td></tr><tr><th> Accuracy </th><td></td><td></td><td></td><th>0.71</th></tr></table></td><td></td><td><table><tr><th>Class</th><th>Precision</th><th>Recall</th><th>F1-score</th><th>Accuracy</th></tr><tr><th>0</th><td>0.7</td><td>0.93</td><td>0.8</td><td>0.95</td></tr><tr><th>1</th><td>0.17</td><td>0.95</td><td>0.29</td><td>0.82</td></tr><tr><th>2</th><td>0.3</td><td>0.88</td><td>0.45</td><td>0.85</td></tr><tr><th>3</th><td>0.35</td><td>0.87</td><td>0.5</td><td>0.83</td></tr><tr><th>4</th><td>0.17</td><td>0.88</td><td>0.28</td><td>0.63</td></tr><tr><th>5</th><td>0.54</td><td>0.94</td><td>0.69</td><td>0.79</td></tr><tr><th>6</th><td>0.18</td><td>0.89</td><td>0.3</td><td>0.63</td></tr><tr><th>7</th><td>0.38</td><td>0.9</td><td>0.53</td><td>0.84</td></tr><tr><th>8</th><td>0.28</td><td>0.88</td><td>0.42</td><td>0.86</td></tr><tr><th>9</th><td>0.21</td><td>0.92</td><td>0.34</td><td>0.85</td></tr><tr><th>10</th><td>0.59</td><td>0.93</td><td>0.72</td><td>0.95</td></tr><tr><th> Accuracy </th><td></td><td></td><td></td><th>0.82</th></tr></table></td></tr></table>"
      ],
      "text/plain": [
       "<IPython.core.display.Markdown object>"
      ]
     },
     "metadata": {},
     "output_type": "display_data"
    },
    {
     "name": "stderr",
     "output_type": "stream",
     "text": [
      "\r",
      " 60%|██████    | 6/10 [48:30<32:17, 484.48s/it]"
     ]
    },
    {
     "data": {
      "text/markdown": [
       "## Modèle n°7 :\n"
      ],
      "text/plain": [
       "<IPython.core.display.Markdown object>"
      ]
     },
     "metadata": {},
     "output_type": "display_data"
    },
    {
     "data": {
      "text/plain": [
       "321"
      ]
     },
     "metadata": {},
     "output_type": "display_data"
    },
    {
     "name": "stdout",
     "output_type": "stream",
     "text": [
      "Fitting 5 folds for each of 420 candidates, totalling 2100 fits\n",
      "Best score RF1 :  0.40309068017020344\n",
      "Fitting 5 folds for each of 420 candidates, totalling 2100 fits\n",
      "Best score RF2 :  0.6380834658260655\n",
      "Fitting 5 folds for each of 420 candidates, totalling 2100 fits\n",
      "Best score RF3 :  0.7388471753774895\n",
      "Sauvegarde du modèle dans  RF1F.pkl\n",
      "Sauvegarde du modèle dans  RF2F.pkl\n",
      "Sauvegarde du modèle dans  RF3F.pkl\n",
      "RandomForestClassifier(max_depth=10, max_leaf_nodes=95, min_samples_split=10,\n",
      "                       n_estimators=90)\n",
      "RandomForestClassifier(bootstrap=False, max_depth=10, max_leaf_nodes=95,\n",
      "                       min_samples_split=3, n_estimators=90)\n",
      "RandomForestClassifier(criterion='entropy', max_depth=10, max_leaf_nodes=95,\n",
      "                       min_samples_split=4, n_estimators=30)\n"
     ]
    },
    {
     "data": {
      "text/markdown": [
       "#### Matrice de confusion\n"
      ],
      "text/plain": [
       "<IPython.core.display.Markdown object>"
      ]
     },
     "metadata": {},
     "output_type": "display_data"
    },
    {
     "data": {
      "text/markdown": [
       "<table><tr><th>RF1F</th><th>RF2F</th><th>RF2F</th></tr><tr><td><table><tr><th></th><th>N</th><th>P</th></tr><tr><th>T</th><td> 497 </td><td> 29 </td></tr><tr><th>F</th><td> 26 </td><td> 32 </td></tr></table> </td><td><table><tr><th></th><th>N</th><th>P</th></tr><tr><th>T</th><td> 507 </td><td> 58 </td></tr><tr><th>F</th><td> 12 </td><td> 7 </td></tr></table> </td><td><table><tr><th></th><th>N</th><th>P</th></tr><tr><th>T</th><td> 523 </td><td> 50 </td></tr><tr><th>F</th><td> 3 </td><td> 8 </td></tr></table> </tr></td></table>"
      ],
      "text/plain": [
       "<IPython.core.display.Markdown object>"
      ]
     },
     "metadata": {},
     "output_type": "display_data"
    },
    {
     "data": {
      "text/markdown": [
       "#### Rapport de classification\n"
      ],
      "text/plain": [
       "<IPython.core.display.Markdown object>"
      ]
     },
     "metadata": {},
     "output_type": "display_data"
    },
    {
     "data": {
      "text/markdown": [
       "##### RF1F :"
      ],
      "text/plain": [
       "<IPython.core.display.Markdown object>"
      ]
     },
     "metadata": {},
     "output_type": "display_data"
    },
    {
     "data": {
      "text/markdown": [
       "<table><tr><th>Classification</th><th></th><th>Classification optimisée</th></tr><tr><td><table><tr><th>Class</th><th>Precision</th><th>Recall</th><th>F1-score</th><th>Support</th></tr><tr><th>0</th><td>0.48</td><td>0.53</td><td>0.5</td><td>55</td></tr><tr><th>1</th><td>0.27</td><td>0.25</td><td>0.26</td><td>24</td></tr><tr><th>2</th><td>0.28</td><td>0.17</td><td>0.21</td><td>47</td></tr><tr><th>3</th><td>0.21</td><td>0.18</td><td>0.19</td><td>44</td></tr><tr><th>4</th><td>0.36</td><td>0.21</td><td>0.27</td><td>47</td></tr><tr><th>5</th><td>0.5</td><td>0.81</td><td>0.62</td><td>139</td></tr><tr><th>6</th><td>0.41</td><td>0.22</td><td>0.29</td><td>64</td></tr><tr><th>7</th><td>0.41</td><td>0.3</td><td>0.35</td><td>46</td></tr><tr><th>8</th><td>0.34</td><td>0.24</td><td>0.29</td><td>49</td></tr><tr><th>9</th><td>0.09</td><td>0.05</td><td>0.06</td><td>20</td></tr><tr><th>10</th><td>0.43</td><td>0.61</td><td>0.51</td><td>49</td></tr><tr><th> Accuracy </th><td></td><td></td><td></td><th>0.42</th></tr></table></td><td></td><td><table><tr><th>Class</th><th>Precision</th><th>Recall</th><th>F1-score</th><th>Accuracy</th></tr><tr><th>0</th><td>0.47</td><td>0.71</td><td>0.57</td><td>0.9</td></tr><tr><th>1</th><td>0.13</td><td>0.62</td><td>0.21</td><td>0.82</td></tr><tr><th>2</th><td>0.27</td><td>0.51</td><td>0.35</td><td>0.85</td></tr><tr><th>3</th><td>0.19</td><td>0.41</td><td>0.26</td><td>0.82</td></tr><tr><th>4</th><td>0.12</td><td>0.72</td><td>0.21</td><td>0.54</td></tr><tr><th>5</th><td>0.42</td><td>0.86</td><td>0.56</td><td>0.68</td></tr><tr><th>6</th><td>0.16</td><td>0.72</td><td>0.26</td><td>0.55</td></tr><tr><th>7</th><td>0.19</td><td>0.43</td><td>0.26</td><td>0.81</td></tr><tr><th>8</th><td>0.25</td><td>0.41</td><td>0.31</td><td>0.85</td></tr><tr><th>9</th><td>0.09</td><td>0.5</td><td>0.15</td><td>0.8</td></tr><tr><th>10</th><td>0.4</td><td>0.65</td><td>0.5</td><td>0.89</td></tr><tr><th> Accuracy </th><td></td><td></td><td></td><th>0.77</th></tr></table></td></tr></table>"
      ],
      "text/plain": [
       "<IPython.core.display.Markdown object>"
      ]
     },
     "metadata": {},
     "output_type": "display_data"
    },
    {
     "data": {
      "text/markdown": [
       "##### RF2F :"
      ],
      "text/plain": [
       "<IPython.core.display.Markdown object>"
      ]
     },
     "metadata": {},
     "output_type": "display_data"
    },
    {
     "data": {
      "text/markdown": [
       "<table><tr><th>Classification</th><th></th><th>Classification optimisée</th></tr><tr><td><table><tr><th>Class</th><th>Precision</th><th>Recall</th><th>F1-score</th><th>Support</th></tr><tr><th>0</th><td>0.89</td><td>0.83</td><td>0.86</td><td>70</td></tr><tr><th>1</th><td>0.38</td><td>0.22</td><td>0.28</td><td>23</td></tr><tr><th>2</th><td>0.44</td><td>0.37</td><td>0.41</td><td>43</td></tr><tr><th>3</th><td>0.49</td><td>0.62</td><td>0.55</td><td>56</td></tr><tr><th>4</th><td>0.61</td><td>0.43</td><td>0.51</td><td>46</td></tr><tr><th>5</th><td>0.7</td><td>0.77</td><td>0.73</td><td>136</td></tr><tr><th>6</th><td>0.48</td><td>0.38</td><td>0.42</td><td>40</td></tr><tr><th>7</th><td>0.5</td><td>0.72</td><td>0.59</td><td>47</td></tr><tr><th>8</th><td>0.5</td><td>0.56</td><td>0.53</td><td>39</td></tr><tr><th>9</th><td>0.5</td><td>0.24</td><td>0.32</td><td>34</td></tr><tr><th>10</th><td>0.77</td><td>0.86</td><td>0.81</td><td>50</td></tr><tr><th> Accuracy </th><td></td><td></td><td></td><th>0.62</th></tr></table></td><td></td><td><table><tr><th>Class</th><th>Precision</th><th>Recall</th><th>F1-score</th><th>Accuracy</th></tr><tr><th>0</th><td>0.78</td><td>0.87</td><td>0.82</td><td>0.96</td></tr><tr><th>1</th><td>0.13</td><td>0.65</td><td>0.22</td><td>0.82</td></tr><tr><th>2</th><td>0.29</td><td>0.81</td><td>0.43</td><td>0.84</td></tr><tr><th>3</th><td>0.3</td><td>0.75</td><td>0.43</td><td>0.81</td></tr><tr><th>4</th><td>0.15</td><td>0.8</td><td>0.25</td><td>0.61</td></tr><tr><th>5</th><td>0.55</td><td>0.86</td><td>0.67</td><td>0.8</td></tr><tr><th>6</th><td>0.14</td><td>0.9</td><td>0.24</td><td>0.63</td></tr><tr><th>7</th><td>0.27</td><td>0.83</td><td>0.41</td><td>0.81</td></tr><tr><th>8</th><td>0.26</td><td>0.85</td><td>0.4</td><td>0.83</td></tr><tr><th>9</th><td>0.26</td><td>0.88</td><td>0.4</td><td>0.85</td></tr><tr><th>10</th><td>0.61</td><td>0.88</td><td>0.72</td><td>0.94</td></tr><tr><th> Accuracy </th><td></td><td></td><td></td><th>0.81</th></tr></table></td></tr></table>"
      ],
      "text/plain": [
       "<IPython.core.display.Markdown object>"
      ]
     },
     "metadata": {},
     "output_type": "display_data"
    },
    {
     "data": {
      "text/markdown": [
       "##### RF3F :"
      ],
      "text/plain": [
       "<IPython.core.display.Markdown object>"
      ]
     },
     "metadata": {},
     "output_type": "display_data"
    },
    {
     "data": {
      "text/markdown": [
       "<table><tr><th>Classification</th><th></th><th>Classification optimisée</th></tr><tr><td><table><tr><th>Class</th><th>Precision</th><th>Recall</th><th>F1-score</th><th>Support</th></tr><tr><th>0</th><td>0.86</td><td>0.94</td><td>0.9</td><td>53</td></tr><tr><th>1</th><td>0.73</td><td>0.56</td><td>0.63</td><td>34</td></tr><tr><th>2</th><td>0.65</td><td>0.63</td><td>0.64</td><td>38</td></tr><tr><th>3</th><td>0.72</td><td>0.58</td><td>0.64</td><td>48</td></tr><tr><th>4</th><td>0.67</td><td>0.5</td><td>0.57</td><td>52</td></tr><tr><th>5</th><td>0.79</td><td>0.9</td><td>0.84</td><td>143</td></tr><tr><th>6</th><td>0.6</td><td>0.64</td><td>0.62</td><td>45</td></tr><tr><th>7</th><td>0.58</td><td>0.64</td><td>0.61</td><td>53</td></tr><tr><th>8</th><td>0.58</td><td>0.53</td><td>0.55</td><td>40</td></tr><tr><th>9</th><td>0.79</td><td>0.68</td><td>0.73</td><td>22</td></tr><tr><th>10</th><td>0.83</td><td>0.89</td><td>0.86</td><td>56</td></tr><tr><th> Accuracy </th><td></td><td></td><td></td><th>0.73</th></tr></table></td><td></td><td><table><tr><th>Class</th><th>Precision</th><th>Recall</th><th>F1-score</th><th>Accuracy</th></tr><tr><th>0</th><td>0.6</td><td>0.94</td><td>0.73</td><td>0.94</td></tr><tr><th>1</th><td>0.25</td><td>0.88</td><td>0.39</td><td>0.84</td></tr><tr><th>2</th><td>0.34</td><td>0.92</td><td>0.5</td><td>0.88</td></tr><tr><th>3</th><td>0.32</td><td>0.77</td><td>0.45</td><td>0.85</td></tr><tr><th>4</th><td>0.17</td><td>0.77</td><td>0.28</td><td>0.64</td></tr><tr><th>5</th><td>0.54</td><td>0.94</td><td>0.69</td><td>0.79</td></tr><tr><th>6</th><td>0.15</td><td>0.91</td><td>0.26</td><td>0.6</td></tr><tr><th>7</th><td>0.31</td><td>0.83</td><td>0.45</td><td>0.82</td></tr><tr><th>8</th><td>0.29</td><td>0.82</td><td>0.43</td><td>0.85</td></tr><tr><th>9</th><td>0.19</td><td>1.0</td><td>0.32</td><td>0.84</td></tr><tr><th>10</th><td>0.65</td><td>0.91</td><td>0.76</td><td>0.94</td></tr><tr><th> Accuracy </th><td></td><td></td><td></td><th>0.82</th></tr></table></td></tr></table>"
      ],
      "text/plain": [
       "<IPython.core.display.Markdown object>"
      ]
     },
     "metadata": {},
     "output_type": "display_data"
    },
    {
     "name": "stderr",
     "output_type": "stream",
     "text": [
      "\r",
      " 70%|███████   | 7/10 [56:45<24:23, 487.98s/it]"
     ]
    },
    {
     "data": {
      "text/markdown": [
       "## Modèle n°8 :\n"
      ],
      "text/plain": [
       "<IPython.core.display.Markdown object>"
      ]
     },
     "metadata": {},
     "output_type": "display_data"
    },
    {
     "data": {
      "text/plain": [
       "441"
      ]
     },
     "metadata": {},
     "output_type": "display_data"
    },
    {
     "name": "stdout",
     "output_type": "stream",
     "text": [
      "Fitting 5 folds for each of 420 candidates, totalling 2100 fits\n",
      "Best score RF1 :  0.4288049921423386\n",
      "Fitting 5 folds for each of 420 candidates, totalling 2100 fits\n",
      "Best score RF2 :  0.6565246160774187\n",
      "Fitting 5 folds for each of 420 candidates, totalling 2100 fits\n",
      "Best score RF3 :  0.7379970775013556\n",
      "Sauvegarde du modèle dans  RF1F.pkl\n",
      "Sauvegarde du modèle dans  RF2F.pkl\n",
      "Sauvegarde du modèle dans  RF3F.pkl\n",
      "RandomForestClassifier(max_depth=10, max_leaf_nodes=95, min_samples_split=4)\n",
      "RandomForestClassifier(criterion='entropy', max_depth=10, max_leaf_nodes=95,\n",
      "                       n_estimators=80)\n",
      "RandomForestClassifier(bootstrap=False, criterion='entropy', max_depth=10,\n",
      "                       max_leaf_nodes=95, min_samples_split=4, n_estimators=80)\n"
     ]
    },
    {
     "data": {
      "text/markdown": [
       "#### Matrice de confusion\n"
      ],
      "text/plain": [
       "<IPython.core.display.Markdown object>"
      ]
     },
     "metadata": {},
     "output_type": "display_data"
    },
    {
     "data": {
      "text/markdown": [
       "<table><tr><th>RF1F</th><th>RF2F</th><th>RF2F</th></tr><tr><td><table><tr><th></th><th>N</th><th>P</th></tr><tr><th>T</th><td> 492 </td><td> 28 </td></tr><tr><th>F</th><td> 24 </td><td> 40 </td></tr></table> </td><td><table><tr><th></th><th>N</th><th>P</th></tr><tr><th>T</th><td> 519 </td><td> 41 </td></tr><tr><th>F</th><td> 10 </td><td> 14 </td></tr></table> </td><td><table><tr><th></th><th>N</th><th>P</th></tr><tr><th>T</th><td> 514 </td><td> 56 </td></tr><tr><th>F</th><td> 6 </td><td> 8 </td></tr></table> </tr></td></table>"
      ],
      "text/plain": [
       "<IPython.core.display.Markdown object>"
      ]
     },
     "metadata": {},
     "output_type": "display_data"
    },
    {
     "data": {
      "text/markdown": [
       "#### Rapport de classification\n"
      ],
      "text/plain": [
       "<IPython.core.display.Markdown object>"
      ]
     },
     "metadata": {},
     "output_type": "display_data"
    },
    {
     "data": {
      "text/markdown": [
       "##### RF1F :"
      ],
      "text/plain": [
       "<IPython.core.display.Markdown object>"
      ]
     },
     "metadata": {},
     "output_type": "display_data"
    },
    {
     "data": {
      "text/markdown": [
       "<table><tr><th>Classification</th><th></th><th>Classification optimisée</th></tr><tr><td><table><tr><th>Class</th><th>Precision</th><th>Recall</th><th>F1-score</th><th>Support</th></tr><tr><th>0</th><td>0.41</td><td>0.54</td><td>0.47</td><td>52</td></tr><tr><th>1</th><td>0.4</td><td>0.07</td><td>0.11</td><td>30</td></tr><tr><th>2</th><td>0.26</td><td>0.31</td><td>0.28</td><td>45</td></tr><tr><th>3</th><td>0.34</td><td>0.21</td><td>0.26</td><td>58</td></tr><tr><th>4</th><td>0.24</td><td>0.17</td><td>0.2</td><td>48</td></tr><tr><th>5</th><td>0.46</td><td>0.69</td><td>0.55</td><td>131</td></tr><tr><th>6</th><td>0.18</td><td>0.13</td><td>0.15</td><td>46</td></tr><tr><th>7</th><td>0.33</td><td>0.27</td><td>0.29</td><td>64</td></tr><tr><th>8</th><td>0.33</td><td>0.33</td><td>0.33</td><td>45</td></tr><tr><th>9</th><td>0.22</td><td>0.08</td><td>0.12</td><td>25</td></tr><tr><th>10</th><td>0.37</td><td>0.47</td><td>0.41</td><td>40</td></tr><tr><th> Accuracy </th><td></td><td></td><td></td><th>0.36</th></tr></table></td><td></td><td><table><tr><th>Class</th><th>Precision</th><th>Recall</th><th>F1-score</th><th>Accuracy</th></tr><tr><th>0</th><td>0.41</td><td>0.58</td><td>0.48</td><td>0.89</td></tr><tr><th>1</th><td>0.17</td><td>0.7</td><td>0.27</td><td>0.8</td></tr><tr><th>2</th><td>0.2</td><td>0.42</td><td>0.27</td><td>0.83</td></tr><tr><th>3</th><td>0.25</td><td>0.53</td><td>0.34</td><td>0.8</td></tr><tr><th>4</th><td>0.13</td><td>0.73</td><td>0.22</td><td>0.59</td></tr><tr><th>5</th><td>0.37</td><td>0.73</td><td>0.49</td><td>0.65</td></tr><tr><th>6</th><td>0.12</td><td>0.74</td><td>0.21</td><td>0.55</td></tr><tr><th>7</th><td>0.28</td><td>0.58</td><td>0.38</td><td>0.79</td></tr><tr><th>8</th><td>0.24</td><td>0.58</td><td>0.34</td><td>0.83</td></tr><tr><th>9</th><td>0.12</td><td>0.52</td><td>0.19</td><td>0.82</td></tr><tr><th>10</th><td>0.36</td><td>0.55</td><td>0.44</td><td>0.9</td></tr><tr><th> Accuracy </th><td></td><td></td><td></td><th>0.77</th></tr></table></td></tr></table>"
      ],
      "text/plain": [
       "<IPython.core.display.Markdown object>"
      ]
     },
     "metadata": {},
     "output_type": "display_data"
    },
    {
     "data": {
      "text/markdown": [
       "##### RF2F :"
      ],
      "text/plain": [
       "<IPython.core.display.Markdown object>"
      ]
     },
     "metadata": {},
     "output_type": "display_data"
    },
    {
     "data": {
      "text/markdown": [
       "<table><tr><th>Classification</th><th></th><th>Classification optimisée</th></tr><tr><td><table><tr><th>Class</th><th>Precision</th><th>Recall</th><th>F1-score</th><th>Support</th></tr><tr><th>0</th><td>0.75</td><td>0.8</td><td>0.77</td><td>51</td></tr><tr><th>1</th><td>0.42</td><td>0.25</td><td>0.31</td><td>32</td></tr><tr><th>2</th><td>0.35</td><td>0.37</td><td>0.36</td><td>38</td></tr><tr><th>3</th><td>0.49</td><td>0.48</td><td>0.49</td><td>58</td></tr><tr><th>4</th><td>0.49</td><td>0.59</td><td>0.53</td><td>41</td></tr><tr><th>5</th><td>0.74</td><td>0.79</td><td>0.77</td><td>141</td></tr><tr><th>6</th><td>0.51</td><td>0.49</td><td>0.5</td><td>37</td></tr><tr><th>7</th><td>0.59</td><td>0.59</td><td>0.59</td><td>59</td></tr><tr><th>8</th><td>0.51</td><td>0.53</td><td>0.52</td><td>38</td></tr><tr><th>9</th><td>0.35</td><td>0.21</td><td>0.26</td><td>34</td></tr><tr><th>10</th><td>0.69</td><td>0.78</td><td>0.74</td><td>55</td></tr><tr><th> Accuracy </th><td></td><td></td><td></td><th>0.6</th></tr></table></td><td></td><td><table><tr><th>Class</th><th>Precision</th><th>Recall</th><th>F1-score</th><th>Accuracy</th></tr><tr><th>0</th><td>0.61</td><td>0.88</td><td>0.72</td><td>0.94</td></tr><tr><th>1</th><td>0.23</td><td>0.81</td><td>0.36</td><td>0.84</td></tr><tr><th>2</th><td>0.27</td><td>0.82</td><td>0.41</td><td>0.84</td></tr><tr><th>3</th><td>0.29</td><td>0.72</td><td>0.41</td><td>0.79</td></tr><tr><th>4</th><td>0.13</td><td>0.8</td><td>0.22</td><td>0.61</td></tr><tr><th>5</th><td>0.52</td><td>0.87</td><td>0.65</td><td>0.78</td></tr><tr><th>6</th><td>0.12</td><td>0.81</td><td>0.21</td><td>0.62</td></tr><tr><th>7</th><td>0.37</td><td>0.83</td><td>0.51</td><td>0.84</td></tr><tr><th>8</th><td>0.28</td><td>0.87</td><td>0.42</td><td>0.85</td></tr><tr><th>9</th><td>0.19</td><td>0.68</td><td>0.3</td><td>0.81</td></tr><tr><th>10</th><td>0.57</td><td>0.85</td><td>0.68</td><td>0.93</td></tr><tr><th> Accuracy </th><td></td><td></td><td></td><th>0.8</th></tr></table></td></tr></table>"
      ],
      "text/plain": [
       "<IPython.core.display.Markdown object>"
      ]
     },
     "metadata": {},
     "output_type": "display_data"
    },
    {
     "data": {
      "text/markdown": [
       "##### RF3F :"
      ],
      "text/plain": [
       "<IPython.core.display.Markdown object>"
      ]
     },
     "metadata": {},
     "output_type": "display_data"
    },
    {
     "data": {
      "text/markdown": [
       "<table><tr><th>Classification</th><th></th><th>Classification optimisée</th></tr><tr><td><table><tr><th>Class</th><th>Precision</th><th>Recall</th><th>F1-score</th><th>Support</th></tr><tr><th>0</th><td>0.88</td><td>0.9</td><td>0.89</td><td>62</td></tr><tr><th>1</th><td>0.65</td><td>0.77</td><td>0.7</td><td>26</td></tr><tr><th>2</th><td>0.57</td><td>0.51</td><td>0.54</td><td>39</td></tr><tr><th>3</th><td>0.58</td><td>0.67</td><td>0.62</td><td>55</td></tr><tr><th>4</th><td>0.75</td><td>0.54</td><td>0.63</td><td>50</td></tr><tr><th>5</th><td>0.77</td><td>0.85</td><td>0.81</td><td>133</td></tr><tr><th>6</th><td>0.66</td><td>0.69</td><td>0.68</td><td>36</td></tr><tr><th>7</th><td>0.77</td><td>0.73</td><td>0.75</td><td>59</td></tr><tr><th>8</th><td>0.71</td><td>0.55</td><td>0.62</td><td>44</td></tr><tr><th>9</th><td>0.75</td><td>0.63</td><td>0.69</td><td>19</td></tr><tr><th>10</th><td>0.83</td><td>0.87</td><td>0.85</td><td>61</td></tr><tr><th> Accuracy </th><td></td><td></td><td></td><th>0.74</th></tr></table></td><td></td><td><table><tr><th>Class</th><th>Precision</th><th>Recall</th><th>F1-score</th><th>Accuracy</th></tr><tr><th>0</th><td>0.61</td><td>0.94</td><td>0.74</td><td>0.93</td></tr><tr><th>1</th><td>0.2</td><td>1.0</td><td>0.33</td><td>0.82</td></tr><tr><th>2</th><td>0.27</td><td>0.9</td><td>0.42</td><td>0.83</td></tr><tr><th>3</th><td>0.36</td><td>0.89</td><td>0.51</td><td>0.84</td></tr><tr><th>4</th><td>0.18</td><td>0.9</td><td>0.3</td><td>0.65</td></tr><tr><th>5</th><td>0.55</td><td>0.92</td><td>0.69</td><td>0.81</td></tr><tr><th>6</th><td>0.14</td><td>0.94</td><td>0.24</td><td>0.64</td></tr><tr><th>7</th><td>0.41</td><td>0.88</td><td>0.56</td><td>0.86</td></tr><tr><th>8</th><td>0.34</td><td>0.82</td><td>0.48</td><td>0.87</td></tr><tr><th>9</th><td>0.15</td><td>0.89</td><td>0.26</td><td>0.83</td></tr><tr><th>10</th><td>0.68</td><td>0.89</td><td>0.77</td><td>0.94</td></tr><tr><th> Accuracy </th><td></td><td></td><td></td><th>0.82</th></tr></table></td></tr></table>"
      ],
      "text/plain": [
       "<IPython.core.display.Markdown object>"
      ]
     },
     "metadata": {},
     "output_type": "display_data"
    },
    {
     "name": "stderr",
     "output_type": "stream",
     "text": [
      "\r",
      " 80%|████████  | 8/10 [1:04:59<16:19, 489.82s/it]"
     ]
    },
    {
     "data": {
      "text/markdown": [
       "## Modèle n°9 :\n"
      ],
      "text/plain": [
       "<IPython.core.display.Markdown object>"
      ]
     },
     "metadata": {},
     "output_type": "display_data"
    },
    {
     "data": {
      "text/plain": [
       "71"
      ]
     },
     "metadata": {},
     "output_type": "display_data"
    },
    {
     "name": "stdout",
     "output_type": "stream",
     "text": [
      "Fitting 5 folds for each of 420 candidates, totalling 2100 fits\n",
      "Best score RF1 :  0.4052522263374107\n",
      "Fitting 5 folds for each of 420 candidates, totalling 2100 fits\n",
      "Best score RF2 :  0.6410997049930613\n",
      "Fitting 5 folds for each of 420 candidates, totalling 2100 fits\n",
      "Best score RF3 :  0.7414314729209364\n",
      "Sauvegarde du modèle dans  RF1F.pkl\n",
      "Sauvegarde du modèle dans  RF2F.pkl\n",
      "Sauvegarde du modèle dans  RF3F.pkl\n",
      "RandomForestClassifier(max_depth=10, max_leaf_nodes=95, min_samples_split=8,\n",
      "                       n_estimators=40)\n",
      "RandomForestClassifier(criterion='entropy', max_depth=10, max_leaf_nodes=95,\n",
      "                       min_samples_split=8, n_estimators=80)\n",
      "RandomForestClassifier(bootstrap=False, criterion='entropy', max_depth=10,\n",
      "                       max_leaf_nodes=95, min_samples_split=3, n_estimators=90)\n"
     ]
    },
    {
     "data": {
      "text/markdown": [
       "#### Matrice de confusion\n"
      ],
      "text/plain": [
       "<IPython.core.display.Markdown object>"
      ]
     },
     "metadata": {},
     "output_type": "display_data"
    },
    {
     "data": {
      "text/markdown": [
       "<table><tr><th>RF1F</th><th>RF2F</th><th>RF2F</th></tr><tr><td><table><tr><th></th><th>N</th><th>P</th></tr><tr><th>T</th><td> 493 </td><td> 30 </td></tr><tr><th>F</th><td> 30 </td><td> 31 </td></tr></table> </td><td><table><tr><th></th><th>N</th><th>P</th></tr><tr><th>T</th><td> 519 </td><td> 43 </td></tr><tr><th>F</th><td> 15 </td><td> 7 </td></tr></table> </td><td><table><tr><th></th><th>N</th><th>P</th></tr><tr><th>T</th><td> 531 </td><td> 43 </td></tr><tr><th>F</th><td> 8 </td><td> 2 </td></tr></table> </tr></td></table>"
      ],
      "text/plain": [
       "<IPython.core.display.Markdown object>"
      ]
     },
     "metadata": {},
     "output_type": "display_data"
    },
    {
     "data": {
      "text/markdown": [
       "#### Rapport de classification\n"
      ],
      "text/plain": [
       "<IPython.core.display.Markdown object>"
      ]
     },
     "metadata": {},
     "output_type": "display_data"
    },
    {
     "data": {
      "text/markdown": [
       "##### RF1F :"
      ],
      "text/plain": [
       "<IPython.core.display.Markdown object>"
      ]
     },
     "metadata": {},
     "output_type": "display_data"
    },
    {
     "data": {
      "text/markdown": [
       "<table><tr><th>Classification</th><th></th><th>Classification optimisée</th></tr><tr><td><table><tr><th>Class</th><th>Precision</th><th>Recall</th><th>F1-score</th><th>Support</th></tr><tr><th>0</th><td>0.49</td><td>0.5</td><td>0.5</td><td>60</td></tr><tr><th>1</th><td>0.25</td><td>0.18</td><td>0.21</td><td>17</td></tr><tr><th>2</th><td>0.34</td><td>0.26</td><td>0.3</td><td>50</td></tr><tr><th>3</th><td>0.27</td><td>0.19</td><td>0.22</td><td>54</td></tr><tr><th>4</th><td>0.33</td><td>0.25</td><td>0.29</td><td>51</td></tr><tr><th>5</th><td>0.48</td><td>0.75</td><td>0.59</td><td>140</td></tr><tr><th>6</th><td>0.22</td><td>0.17</td><td>0.19</td><td>42</td></tr><tr><th>7</th><td>0.44</td><td>0.2</td><td>0.28</td><td>59</td></tr><tr><th>8</th><td>0.21</td><td>0.32</td><td>0.25</td><td>41</td></tr><tr><th>9</th><td>0.67</td><td>0.22</td><td>0.33</td><td>18</td></tr><tr><th>10</th><td>0.49</td><td>0.48</td><td>0.49</td><td>52</td></tr><tr><th> Accuracy </th><td></td><td></td><td></td><th>0.4</th></tr></table></td><td></td><td><table><tr><th>Class</th><th>Precision</th><th>Recall</th><th>F1-score</th><th>Accuracy</th></tr><tr><th>0</th><td>0.48</td><td>0.58</td><td>0.53</td><td>0.89</td></tr><tr><th>1</th><td>0.1</td><td>0.65</td><td>0.17</td><td>0.82</td></tr><tr><th>2</th><td>0.29</td><td>0.5</td><td>0.37</td><td>0.85</td></tr><tr><th>3</th><td>0.2</td><td>0.43</td><td>0.27</td><td>0.79</td></tr><tr><th>4</th><td>0.14</td><td>0.82</td><td>0.24</td><td>0.55</td></tr><tr><th>5</th><td>0.39</td><td>0.81</td><td>0.53</td><td>0.65</td></tr><tr><th>6</th><td>0.1</td><td>0.67</td><td>0.17</td><td>0.55</td></tr><tr><th>7</th><td>0.31</td><td>0.63</td><td>0.42</td><td>0.82</td></tr><tr><th>8</th><td>0.16</td><td>0.37</td><td>0.22</td><td>0.82</td></tr><tr><th>9</th><td>0.11</td><td>0.72</td><td>0.19</td><td>0.81</td></tr><tr><th>10</th><td>0.46</td><td>0.5</td><td>0.48</td><td>0.9</td></tr><tr><th> Accuracy </th><td></td><td></td><td></td><th>0.77</th></tr></table></td></tr></table>"
      ],
      "text/plain": [
       "<IPython.core.display.Markdown object>"
      ]
     },
     "metadata": {},
     "output_type": "display_data"
    },
    {
     "data": {
      "text/markdown": [
       "##### RF2F :"
      ],
      "text/plain": [
       "<IPython.core.display.Markdown object>"
      ]
     },
     "metadata": {},
     "output_type": "display_data"
    },
    {
     "data": {
      "text/markdown": [
       "<table><tr><th>Classification</th><th></th><th>Classification optimisée</th></tr><tr><td><table><tr><th>Class</th><th>Precision</th><th>Recall</th><th>F1-score</th><th>Support</th></tr><tr><th>0</th><td>0.86</td><td>0.74</td><td>0.8</td><td>58</td></tr><tr><th>1</th><td>0.67</td><td>0.3</td><td>0.41</td><td>27</td></tr><tr><th>2</th><td>0.4</td><td>0.52</td><td>0.45</td><td>31</td></tr><tr><th>3</th><td>0.56</td><td>0.57</td><td>0.57</td><td>56</td></tr><tr><th>4</th><td>0.58</td><td>0.56</td><td>0.57</td><td>39</td></tr><tr><th>5</th><td>0.73</td><td>0.85</td><td>0.79</td><td>147</td></tr><tr><th>6</th><td>0.49</td><td>0.44</td><td>0.47</td><td>45</td></tr><tr><th>7</th><td>0.63</td><td>0.57</td><td>0.6</td><td>63</td></tr><tr><th>8</th><td>0.32</td><td>0.34</td><td>0.33</td><td>32</td></tr><tr><th>9</th><td>0.46</td><td>0.22</td><td>0.3</td><td>27</td></tr><tr><th>10</th><td>0.77</td><td>0.93</td><td>0.85</td><td>59</td></tr><tr><th> Accuracy </th><td></td><td></td><td></td><th>0.64</th></tr></table></td><td></td><td><table><tr><th>Class</th><th>Precision</th><th>Recall</th><th>F1-score</th><th>Accuracy</th></tr><tr><th>0</th><td>0.76</td><td>0.81</td><td>0.78</td><td>0.96</td></tr><tr><th>1</th><td>0.2</td><td>0.74</td><td>0.31</td><td>0.85</td></tr><tr><th>2</th><td>0.22</td><td>0.77</td><td>0.34</td><td>0.84</td></tr><tr><th>3</th><td>0.35</td><td>0.84</td><td>0.49</td><td>0.83</td></tr><tr><th>4</th><td>0.13</td><td>0.87</td><td>0.23</td><td>0.59</td></tr><tr><th>5</th><td>0.53</td><td>0.9</td><td>0.67</td><td>0.77</td></tr><tr><th>6</th><td>0.14</td><td>0.87</td><td>0.24</td><td>0.6</td></tr><tr><th>7</th><td>0.37</td><td>0.78</td><td>0.5</td><td>0.83</td></tr><tr><th>8</th><td>0.2</td><td>0.66</td><td>0.31</td><td>0.84</td></tr><tr><th>9</th><td>0.18</td><td>0.78</td><td>0.29</td><td>0.82</td></tr><tr><th>10</th><td>0.67</td><td>0.95</td><td>0.79</td><td>0.95</td></tr><tr><th> Accuracy </th><td></td><td></td><td></td><th>0.81</th></tr></table></td></tr></table>"
      ],
      "text/plain": [
       "<IPython.core.display.Markdown object>"
      ]
     },
     "metadata": {},
     "output_type": "display_data"
    },
    {
     "data": {
      "text/markdown": [
       "##### RF3F :"
      ],
      "text/plain": [
       "<IPython.core.display.Markdown object>"
      ]
     },
     "metadata": {},
     "output_type": "display_data"
    },
    {
     "data": {
      "text/markdown": [
       "<table><tr><th>Classification</th><th></th><th>Classification optimisée</th></tr><tr><td><table><tr><th>Class</th><th>Precision</th><th>Recall</th><th>F1-score</th><th>Support</th></tr><tr><th>0</th><td>0.96</td><td>0.84</td><td>0.9</td><td>51</td></tr><tr><th>1</th><td>0.57</td><td>0.76</td><td>0.65</td><td>17</td></tr><tr><th>2</th><td>0.74</td><td>0.57</td><td>0.64</td><td>49</td></tr><tr><th>3</th><td>0.54</td><td>0.66</td><td>0.6</td><td>47</td></tr><tr><th>4</th><td>0.64</td><td>0.61</td><td>0.62</td><td>49</td></tr><tr><th>5</th><td>0.83</td><td>0.86</td><td>0.85</td><td>139</td></tr><tr><th>6</th><td>0.83</td><td>0.56</td><td>0.67</td><td>63</td></tr><tr><th>7</th><td>0.62</td><td>0.78</td><td>0.69</td><td>51</td></tr><tr><th>8</th><td>0.7</td><td>0.65</td><td>0.67</td><td>46</td></tr><tr><th>9</th><td>0.67</td><td>0.6</td><td>0.63</td><td>20</td></tr><tr><th>10</th><td>0.82</td><td>0.96</td><td>0.88</td><td>52</td></tr><tr><th> Accuracy </th><td></td><td></td><td></td><th>0.74</th></tr></table></td><td></td><td><table><tr><th>Class</th><th>Precision</th><th>Recall</th><th>F1-score</th><th>Accuracy</th></tr><tr><th>0</th><td>0.68</td><td>0.9</td><td>0.77</td><td>0.95</td></tr><tr><th>1</th><td>0.16</td><td>1.0</td><td>0.28</td><td>0.85</td></tr><tr><th>2</th><td>0.39</td><td>0.94</td><td>0.55</td><td>0.87</td></tr><tr><th>3</th><td>0.3</td><td>0.89</td><td>0.45</td><td>0.82</td></tr><tr><th>4</th><td>0.18</td><td>0.9</td><td>0.3</td><td>0.64</td></tr><tr><th>5</th><td>0.54</td><td>0.91</td><td>0.68</td><td>0.8</td></tr><tr><th>6</th><td>0.22</td><td>0.87</td><td>0.35</td><td>0.65</td></tr><tr><th>7</th><td>0.3</td><td>0.88</td><td>0.45</td><td>0.81</td></tr><tr><th>8</th><td>0.33</td><td>0.91</td><td>0.48</td><td>0.85</td></tr><tr><th>9</th><td>0.15</td><td>0.9</td><td>0.26</td><td>0.82</td></tr><tr><th>10</th><td>0.65</td><td>0.98</td><td>0.78</td><td>0.95</td></tr><tr><th> Accuracy </th><td></td><td></td><td></td><th>0.82</th></tr></table></td></tr></table>"
      ],
      "text/plain": [
       "<IPython.core.display.Markdown object>"
      ]
     },
     "metadata": {},
     "output_type": "display_data"
    },
    {
     "name": "stderr",
     "output_type": "stream",
     "text": [
      "\r",
      " 90%|█████████ | 9/10 [1:12:55<08:05, 485.34s/it]"
     ]
    },
    {
     "data": {
      "text/markdown": [
       "## Modèle n°10 :\n"
      ],
      "text/plain": [
       "<IPython.core.display.Markdown object>"
      ]
     },
     "metadata": {},
     "output_type": "display_data"
    },
    {
     "data": {
      "text/plain": [
       "164"
      ]
     },
     "metadata": {},
     "output_type": "display_data"
    },
    {
     "name": "stdout",
     "output_type": "stream",
     "text": [
      "Fitting 5 folds for each of 420 candidates, totalling 2100 fits\n",
      "Best score RF1 :  0.4082381376882852\n",
      "Fitting 5 folds for each of 420 candidates, totalling 2100 fits\n",
      "Best score RF2 :  0.6445083677201753\n",
      "Fitting 5 folds for each of 420 candidates, totalling 2100 fits\n",
      "Best score RF3 :  0.7328450248596189\n",
      "Sauvegarde du modèle dans  RF1F.pkl\n",
      "Sauvegarde du modèle dans  RF2F.pkl\n",
      "Sauvegarde du modèle dans  RF3F.pkl\n",
      "RandomForestClassifier(max_depth=10, max_leaf_nodes=95, min_samples_split=8,\n",
      "                       n_estimators=50)\n",
      "RandomForestClassifier(bootstrap=False, max_depth=10, max_leaf_nodes=95,\n",
      "                       min_samples_split=4)\n",
      "RandomForestClassifier(bootstrap=False, criterion='entropy', max_depth=10,\n",
      "                       max_leaf_nodes=95, min_samples_split=3)\n"
     ]
    },
    {
     "data": {
      "text/markdown": [
       "#### Matrice de confusion\n"
      ],
      "text/plain": [
       "<IPython.core.display.Markdown object>"
      ]
     },
     "metadata": {},
     "output_type": "display_data"
    },
    {
     "data": {
      "text/markdown": [
       "<table><tr><th>RF1F</th><th>RF2F</th><th>RF2F</th></tr><tr><td><table><tr><th></th><th>N</th><th>P</th></tr><tr><th>T</th><td> 497 </td><td> 29 </td></tr><tr><th>F</th><td> 27 </td><td> 31 </td></tr></table> </td><td><table><tr><th></th><th>N</th><th>P</th></tr><tr><th>T</th><td> 521 </td><td> 38 </td></tr><tr><th>F</th><td> 10 </td><td> 15 </td></tr></table> </td><td><table><tr><th></th><th>N</th><th>P</th></tr><tr><th>T</th><td> 527 </td><td> 47 </td></tr><tr><th>F</th><td> 5 </td><td> 5 </td></tr></table> </tr></td></table>"
      ],
      "text/plain": [
       "<IPython.core.display.Markdown object>"
      ]
     },
     "metadata": {},
     "output_type": "display_data"
    },
    {
     "data": {
      "text/markdown": [
       "#### Rapport de classification\n"
      ],
      "text/plain": [
       "<IPython.core.display.Markdown object>"
      ]
     },
     "metadata": {},
     "output_type": "display_data"
    },
    {
     "data": {
      "text/markdown": [
       "##### RF1F :"
      ],
      "text/plain": [
       "<IPython.core.display.Markdown object>"
      ]
     },
     "metadata": {},
     "output_type": "display_data"
    },
    {
     "data": {
      "text/markdown": [
       "<table><tr><th>Classification</th><th></th><th>Classification optimisée</th></tr><tr><td><table><tr><th>Class</th><th>Precision</th><th>Recall</th><th>F1-score</th><th>Support</th></tr><tr><th>0</th><td>0.48</td><td>0.52</td><td>0.5</td><td>56</td></tr><tr><th>1</th><td>1.0</td><td>0.12</td><td>0.21</td><td>26</td></tr><tr><th>2</th><td>0.23</td><td>0.29</td><td>0.26</td><td>42</td></tr><tr><th>3</th><td>0.5</td><td>0.26</td><td>0.34</td><td>58</td></tr><tr><th>4</th><td>0.56</td><td>0.26</td><td>0.35</td><td>39</td></tr><tr><th>5</th><td>0.45</td><td>0.77</td><td>0.57</td><td>133</td></tr><tr><th>6</th><td>0.2</td><td>0.23</td><td>0.21</td><td>35</td></tr><tr><th>7</th><td>0.45</td><td>0.19</td><td>0.27</td><td>68</td></tr><tr><th>8</th><td>0.33</td><td>0.31</td><td>0.32</td><td>49</td></tr><tr><th>9</th><td>0.31</td><td>0.15</td><td>0.21</td><td>26</td></tr><tr><th>10</th><td>0.49</td><td>0.62</td><td>0.55</td><td>52</td></tr><tr><th> Accuracy </th><td></td><td></td><td></td><th>0.42</th></tr></table></td><td></td><td><table><tr><th>Class</th><th>Precision</th><th>Recall</th><th>F1-score</th><th>Accuracy</th></tr><tr><th>0</th><td>0.46</td><td>0.52</td><td>0.49</td><td>0.9</td></tr><tr><th>1</th><td>0.17</td><td>0.77</td><td>0.28</td><td>0.83</td></tr><tr><th>2</th><td>0.21</td><td>0.43</td><td>0.28</td><td>0.84</td></tr><tr><th>3</th><td>0.29</td><td>0.5</td><td>0.37</td><td>0.83</td></tr><tr><th>4</th><td>0.12</td><td>0.82</td><td>0.21</td><td>0.57</td></tr><tr><th>5</th><td>0.39</td><td>0.83</td><td>0.53</td><td>0.66</td></tr><tr><th>6</th><td>0.09</td><td>0.8</td><td>0.16</td><td>0.53</td></tr><tr><th>7</th><td>0.3</td><td>0.5</td><td>0.37</td><td>0.8</td></tr><tr><th>8</th><td>0.3</td><td>0.53</td><td>0.38</td><td>0.86</td></tr><tr><th>9</th><td>0.15</td><td>0.73</td><td>0.25</td><td>0.81</td></tr><tr><th>10</th><td>0.45</td><td>0.67</td><td>0.54</td><td>0.9</td></tr><tr><th> Accuracy </th><td></td><td></td><td></td><th>0.77</th></tr></table></td></tr></table>"
      ],
      "text/plain": [
       "<IPython.core.display.Markdown object>"
      ]
     },
     "metadata": {},
     "output_type": "display_data"
    },
    {
     "data": {
      "text/markdown": [
       "##### RF2F :"
      ],
      "text/plain": [
       "<IPython.core.display.Markdown object>"
      ]
     },
     "metadata": {},
     "output_type": "display_data"
    },
    {
     "data": {
      "text/markdown": [
       "<table><tr><th>Classification</th><th></th><th>Classification optimisée</th></tr><tr><td><table><tr><th>Class</th><th>Precision</th><th>Recall</th><th>F1-score</th><th>Support</th></tr><tr><th>0</th><td>0.72</td><td>0.79</td><td>0.75</td><td>48</td></tr><tr><th>1</th><td>0.56</td><td>0.35</td><td>0.43</td><td>26</td></tr><tr><th>2</th><td>0.47</td><td>0.34</td><td>0.39</td><td>44</td></tr><tr><th>3</th><td>0.55</td><td>0.59</td><td>0.57</td><td>59</td></tr><tr><th>4</th><td>0.47</td><td>0.57</td><td>0.52</td><td>30</td></tr><tr><th>5</th><td>0.68</td><td>0.86</td><td>0.76</td><td>149</td></tr><tr><th>6</th><td>0.56</td><td>0.38</td><td>0.45</td><td>39</td></tr><tr><th>7</th><td>0.52</td><td>0.64</td><td>0.57</td><td>50</td></tr><tr><th>8</th><td>0.53</td><td>0.37</td><td>0.44</td><td>43</td></tr><tr><th>9</th><td>0.59</td><td>0.27</td><td>0.37</td><td>37</td></tr><tr><th>10</th><td>0.78</td><td>0.8</td><td>0.79</td><td>59</td></tr><tr><th> Accuracy </th><td></td><td></td><td></td><th>0.62</th></tr></table></td><td></td><td><table><tr><th>Class</th><th>Precision</th><th>Recall</th><th>F1-score</th><th>Accuracy</th></tr><tr><th>0</th><td>0.58</td><td>0.83</td><td>0.68</td><td>0.94</td></tr><tr><th>1</th><td>0.19</td><td>0.73</td><td>0.3</td><td>0.85</td></tr><tr><th>2</th><td>0.25</td><td>0.64</td><td>0.36</td><td>0.83</td></tr><tr><th>3</th><td>0.36</td><td>0.8</td><td>0.5</td><td>0.83</td></tr><tr><th>4</th><td>0.09</td><td>0.87</td><td>0.16</td><td>0.55</td></tr><tr><th>5</th><td>0.55</td><td>0.92</td><td>0.69</td><td>0.79</td></tr><tr><th>6</th><td>0.12</td><td>0.87</td><td>0.21</td><td>0.58</td></tr><tr><th>7</th><td>0.31</td><td>0.74</td><td>0.44</td><td>0.84</td></tr><tr><th>8</th><td>0.28</td><td>0.72</td><td>0.4</td><td>0.85</td></tr><tr><th>9</th><td>0.25</td><td>0.73</td><td>0.37</td><td>0.85</td></tr><tr><th>10</th><td>0.64</td><td>0.83</td><td>0.72</td><td>0.93</td></tr><tr><th> Accuracy </th><td></td><td></td><td></td><th>0.8</th></tr></table></td></tr></table>"
      ],
      "text/plain": [
       "<IPython.core.display.Markdown object>"
      ]
     },
     "metadata": {},
     "output_type": "display_data"
    },
    {
     "data": {
      "text/markdown": [
       "##### RF3F :"
      ],
      "text/plain": [
       "<IPython.core.display.Markdown object>"
      ]
     },
     "metadata": {},
     "output_type": "display_data"
    },
    {
     "data": {
      "text/markdown": [
       "<table><tr><th>Classification</th><th></th><th>Classification optimisée</th></tr><tr><td><table><tr><th>Class</th><th>Precision</th><th>Recall</th><th>F1-score</th><th>Support</th></tr><tr><th>0</th><td>0.9</td><td>0.9</td><td>0.9</td><td>52</td></tr><tr><th>1</th><td>0.74</td><td>0.81</td><td>0.77</td><td>31</td></tr><tr><th>2</th><td>0.74</td><td>0.57</td><td>0.64</td><td>49</td></tr><tr><th>3</th><td>0.54</td><td>0.72</td><td>0.62</td><td>40</td></tr><tr><th>4</th><td>0.79</td><td>0.56</td><td>0.65</td><td>54</td></tr><tr><th>5</th><td>0.79</td><td>0.89</td><td>0.84</td><td>145</td></tr><tr><th>6</th><td>0.65</td><td>0.6</td><td>0.62</td><td>40</td></tr><tr><th>7</th><td>0.58</td><td>0.73</td><td>0.65</td><td>45</td></tr><tr><th>8</th><td>0.66</td><td>0.46</td><td>0.54</td><td>41</td></tr><tr><th>9</th><td>0.8</td><td>0.57</td><td>0.67</td><td>28</td></tr><tr><th>10</th><td>0.85</td><td>0.9</td><td>0.88</td><td>59</td></tr><tr><th> Accuracy </th><td></td><td></td><td></td><th>0.74</th></tr></table></td><td></td><td><table><tr><th>Class</th><th>Precision</th><th>Recall</th><th>F1-score</th><th>Accuracy</th></tr><tr><th>0</th><td>0.56</td><td>0.92</td><td>0.7</td><td>0.93</td></tr><tr><th>1</th><td>0.23</td><td>0.9</td><td>0.37</td><td>0.83</td></tr><tr><th>2</th><td>0.31</td><td>0.8</td><td>0.45</td><td>0.83</td></tr><tr><th>3</th><td>0.28</td><td>0.93</td><td>0.43</td><td>0.84</td></tr><tr><th>4</th><td>0.19</td><td>0.89</td><td>0.31</td><td>0.64</td></tr><tr><th>5</th><td>0.56</td><td>0.92</td><td>0.7</td><td>0.8</td></tr><tr><th>6</th><td>0.14</td><td>0.88</td><td>0.24</td><td>0.61</td></tr><tr><th>7</th><td>0.3</td><td>0.82</td><td>0.44</td><td>0.84</td></tr><tr><th>8</th><td>0.29</td><td>0.76</td><td>0.42</td><td>0.85</td></tr><tr><th>9</th><td>0.24</td><td>0.96</td><td>0.38</td><td>0.85</td></tr><tr><th>10</th><td>0.65</td><td>0.9</td><td>0.75</td><td>0.94</td></tr><tr><th> Accuracy </th><td></td><td></td><td></td><th>0.82</th></tr></table></td></tr></table>"
      ],
      "text/plain": [
       "<IPython.core.display.Markdown object>"
      ]
     },
     "metadata": {},
     "output_type": "display_data"
    },
    {
     "name": "stderr",
     "output_type": "stream",
     "text": [
      "100%|██████████| 10/10 [1:20:49<00:00, 484.97s/it]\n"
     ]
    }
   ],
   "source": [
    "for i in tqdm(range(10)):\n",
    "    display(Markdown(\"## Modèle n°\"+str(i+1)+\" :\\n\"))\n",
    "    train_set, test_set = train_test_set(data_sample)\n",
    "    model_train(train_set, test_set)\n",
    "    model_test(train_set, test_set)"
   ]
  },
  {
   "cell_type": "markdown",
   "id": "0c7a85ce",
   "metadata": {},
   "source": [
    "|        Model       |  RF1F  |        |  RF2F  |        |  RF3F  |        |\n",
    "|:------------------:|:------:|:------:|:------:|:------:|:------:|:------:|\n",
    "|                    |  BASIC |  OPTI  |  BASIC |  OPTI  |  BASIC |  OPTI  |\n",
    "|          1         |  43 %  |  78 %  |  64 %  |  81 %  |  73 %  |  81 %  |\n",
    "|          2         |  38 %  |  77 %  |  63 %  |  81 %  |  76 %  |  82 %  |\n",
    "|          3         |  38 %  |  77 %  |  62 %  |  81 %  |  76 %  |  82 %  |\n",
    "|          4         |  41 %  |  77 %  |  66 %  |  81 %  |  73 %  |  82 %  |\n",
    "|          5         |  38 %  |  77 %  |  64 %  |  81 %  |  71 %  |  82 %  |\n",
    "|          6         |  39 %  |  77 %  |  66 %  |  81 %  |  71 %  |  82 %  |\n",
    "|          7         |  42 %  |  77 %  |  62 %  |  81 %  |  73 %  |  82 %  |\n",
    "|          8         |  36 %  |  77 %  |  60 %  |  80 %  |  74 %  |  82 %  |\n",
    "|          9         |  40 %  |  77 %  |  64 %  |  81 %  |  74 %  |  82 %  |\n",
    "|         10         |  42 %  |  77 %  |  62 %  |  80 %  |  74 %  |  82 %  |\n",
    "| TOTAL AVG ACCURACY | 39.7 % | 77.1 % | 63.3 % | 80.8 % | 73.3 % | 81.9 % |"
   ]
  }
 ],
 "metadata": {
  "kernelspec": {
   "display_name": "Python 3 (ipykernel)",
   "language": "python",
   "name": "python3"
  },
  "language_info": {
   "codemirror_mode": {
    "name": "ipython",
    "version": 3
   },
   "file_extension": ".py",
   "mimetype": "text/x-python",
   "name": "python",
   "nbconvert_exporter": "python",
   "pygments_lexer": "ipython3",
   "version": "3.9.13"
  },
  "latex_envs": {
   "LaTeX_envs_menu_present": true,
   "autoclose": true,
   "autocomplete": true,
   "bibliofile": "biblio.bib",
   "cite_by": "apalike",
   "current_citInitial": 1,
   "eqLabelWithNumbers": true,
   "eqNumInitial": 1,
   "hotkeys": {
    "equation": "Ctrl-E",
    "itemize": "Ctrl-I"
   },
   "labels_anchors": false,
   "latex_user_defs": false,
   "report_style_numbering": false,
   "user_envs_cfg": false
  },
  "toc": {
   "base_numbering": 1,
   "nav_menu": {},
   "number_sections": true,
   "sideBar": true,
   "skip_h1_title": false,
   "title_cell": "Table of Contents",
   "title_sidebar": "Contents",
   "toc_cell": false,
   "toc_position": {
    "height": "554.2px",
    "left": "1310.2px",
    "top": "49px",
    "width": "225.8px"
   },
   "toc_section_display": true,
   "toc_window_display": true
  },
  "varInspector": {
   "cols": {
    "lenName": 16,
    "lenType": 16,
    "lenVar": 40
   },
   "kernels_config": {
    "python": {
     "delete_cmd_postfix": "",
     "delete_cmd_prefix": "del ",
     "library": "var_list.py",
     "varRefreshCmd": "print(var_dic_list())"
    },
    "r": {
     "delete_cmd_postfix": ") ",
     "delete_cmd_prefix": "rm(",
     "library": "var_list.r",
     "varRefreshCmd": "cat(var_dic_list()) "
    }
   },
   "oldHeight": 122.85,
   "position": {
    "height": "40px",
    "left": "-3px",
    "right": "20px",
    "top": "794px",
    "width": "250px"
   },
   "types_to_exclude": [
    "module",
    "function",
    "builtin_function_or_method",
    "instance",
    "_Feature"
   ],
   "varInspector_section_display": "none",
   "window_display": true
  }
 },
 "nbformat": 4,
 "nbformat_minor": 5
}
