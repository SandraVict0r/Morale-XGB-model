{
 "cells": [
  {
   "cell_type": "markdown",
   "metadata": {
    "toc": true
   },
   "source": [
    "<h1>Table of Contents<span class=\"tocSkip\"></span></h1>\n",
    "<div class=\"toc\"><ul class=\"toc-item\"><li><span><a href=\"#I.-Library\" data-toc-modified-id=\"I.-Library-1\"><span class=\"toc-item-num\">1&nbsp;&nbsp;</span>I. Library</a></span></li><li><span><a href=\"#II.-Data-\" data-toc-modified-id=\"II.-Data--2\"><span class=\"toc-item-num\">2&nbsp;&nbsp;</span>II. Data <a class=\"anchor\" id=\"chapter2\" rel=\"nofollow\"></a></a></span></li><li><span><a href=\"#III.-Statistics-\" data-toc-modified-id=\"III.-Statistics--3\"><span class=\"toc-item-num\">3&nbsp;&nbsp;</span>III. Statistics <a class=\"anchor\" id=\"chapter3\" rel=\"nofollow\"></a></a></span><ul class=\"toc-item\"><li><span><a href=\"#III.A-ANOVA-\" data-toc-modified-id=\"III.A-ANOVA--3.1\"><span class=\"toc-item-num\">3.1&nbsp;&nbsp;</span>III.A ANOVA <a class=\"anchor\" id=\"section_3_1\" rel=\"nofollow\"></a></a></span></li><li><span><a href=\"#III.B-Data-analysis-\" data-toc-modified-id=\"III.B-Data-analysis--3.2\"><span class=\"toc-item-num\">3.2&nbsp;&nbsp;</span>III.B Data analysis <a class=\"anchor\" id=\"section_3_2\" rel=\"nofollow\"></a></a></span><ul class=\"toc-item\"><li><span><a href=\"#Global-analysis-\" data-toc-modified-id=\"Global-analysis--3.2.1\"><span class=\"toc-item-num\">3.2.1&nbsp;&nbsp;</span>Global analysis <a class=\"anchor\" id=\"section_3_2_1\" rel=\"nofollow\"></a></a></span><ul class=\"toc-item\"><li><span><a href=\"#Analysis-on-distribution-of-force\" data-toc-modified-id=\"Analysis-on-distribution-of-force-3.2.1.1\"><span class=\"toc-item-num\">3.2.1.1&nbsp;&nbsp;</span>Analysis on distribution of force</a></span></li><li><span><a href=\"#Analysis-on-decisions-making\" data-toc-modified-id=\"Analysis-on-decisions-making-3.2.1.2\"><span class=\"toc-item-num\">3.2.1.2&nbsp;&nbsp;</span>Analysis on decisions-making</a></span></li><li><span><a href=\"#Distribution-of-pairs\" data-toc-modified-id=\"Distribution-of-pairs-3.2.1.3\"><span class=\"toc-item-num\">3.2.1.3&nbsp;&nbsp;</span>Distribution of pairs</a></span></li></ul></li><li><span><a href=\"#Analysis-on-users-\" data-toc-modified-id=\"Analysis-on-users--3.2.2\"><span class=\"toc-item-num\">3.2.2&nbsp;&nbsp;</span>Analysis on users <a class=\"anchor\" id=\"section_3_2_2\" rel=\"nofollow\"></a></a></span><ul class=\"toc-item\"><li><span><a href=\"#Distribution-of-men-and-women\" data-toc-modified-id=\"Distribution-of-men-and-women-3.2.2.1\"><span class=\"toc-item-num\">3.2.2.1&nbsp;&nbsp;</span>Distribution of men and women</a></span></li><li><span><a href=\"#Age-category\" data-toc-modified-id=\"Age-category-3.2.2.2\"><span class=\"toc-item-num\">3.2.2.2&nbsp;&nbsp;</span>Age category</a></span></li><li><span><a href=\"#Influence-of-having-children\" data-toc-modified-id=\"Influence-of-having-children-3.2.2.3\"><span class=\"toc-item-num\">3.2.2.3&nbsp;&nbsp;</span>Influence of having children</a></span></li></ul></li><li><span><a href=\"#Analysis-on-our-different-groups-\" data-toc-modified-id=\"Analysis-on-our-different-groups--3.2.3\"><span class=\"toc-item-num\">3.2.3&nbsp;&nbsp;</span>Analysis on our different groups <a class=\"anchor\" id=\"section_3_2_3\" rel=\"nofollow\"></a></a></span><ul class=\"toc-item\"><li><span><a href=\"#Influence-of-repetition\" data-toc-modified-id=\"Influence-of-repetition-3.2.3.1\"><span class=\"toc-item-num\">3.2.3.1&nbsp;&nbsp;</span>Influence of repetition</a></span></li><li><span><a href=\"#Difference-on-the-gender-on-caracters\" data-toc-modified-id=\"Difference-on-the-gender-on-caracters-3.2.3.2\"><span class=\"toc-item-num\">3.2.3.2&nbsp;&nbsp;</span>Difference on the gender on caracters</a></span></li><li><span><a href=\"#Difference-on-human-versus-robot\" data-toc-modified-id=\"Difference-on-human-versus-robot-3.2.3.3\"><span class=\"toc-item-num\">3.2.3.3&nbsp;&nbsp;</span>Difference on human versus robot</a></span></li><li><span><a href=\"#Difference-on-the-age\" data-toc-modified-id=\"Difference-on-the-age-3.2.3.4\"><span class=\"toc-item-num\">3.2.3.4&nbsp;&nbsp;</span>Difference on the age</a></span></li></ul></li><li><span><a href=\"#Correlations-\" data-toc-modified-id=\"Correlations--3.2.4\"><span class=\"toc-item-num\">3.2.4&nbsp;&nbsp;</span>Correlations <a class=\"anchor\" id=\"section_3_2_4\" rel=\"nofollow\"></a></a></span><ul class=\"toc-item\"><li><span><a href=\"#Impact-of-danger-and-fatigue-on-the-reward\" data-toc-modified-id=\"Impact-of-danger-and-fatigue-on-the-reward-3.2.4.1\"><span class=\"toc-item-num\">3.2.4.1&nbsp;&nbsp;</span>Impact of danger and fatigue on the reward</a></span></li><li><span><a href=\"#Influence-of-force-perceived-on-each-type-of-scenarios\" data-toc-modified-id=\"Influence-of-force-perceived-on-each-type-of-scenarios-3.2.4.2\"><span class=\"toc-item-num\">3.2.4.2&nbsp;&nbsp;</span>Influence of force perceived on each type of scenarios</a></span></li></ul></li></ul></li><li><span><a href=\"#This-graph-shows-us-that-there-is-a-slight-difference-when-the-man-is-stronger-and-when-he-is-weaker.-Indeed,-even-if-he-is-stronger-the-average-is-5-5-for-both-the-man-and-the-tall-woman,-but-this-average-decreases-when-the-man-is-weaker.\" data-toc-modified-id=\"This-graph-shows-us-that-there-is-a-slight-difference-when-the-man-is-stronger-and-when-he-is-weaker.-Indeed,-even-if-he-is-stronger-the-average-is-5-5-for-both-the-man-and-the-tall-woman,-but-this-average-decreases-when-the-man-is-weaker.-3.3\"><span class=\"toc-item-num\">3.3&nbsp;&nbsp;</span>This graph shows us that there is a slight difference when the man is stronger and when he is weaker. Indeed, even if he is stronger the average is 5-5 for both the man and the tall woman, but this average decreases when the man is weaker.</a></span></li></ul></li><li><span><a href=\"#IV.-Machine-learning-\" data-toc-modified-id=\"IV.-Machine-learning--4\"><span class=\"toc-item-num\">4&nbsp;&nbsp;</span>IV. Machine learning <a class=\"anchor\" id=\"chapter4\" rel=\"nofollow\"></a></a></span><ul class=\"toc-item\"><li><span><a href=\"#IV.A-LINEAR-REGRESSION-\" data-toc-modified-id=\"IV.A-LINEAR-REGRESSION--4.1\"><span class=\"toc-item-num\">4.1&nbsp;&nbsp;</span>IV.A LINEAR REGRESSION <a class=\"anchor\" id=\"section_4_1\" rel=\"nofollow\"></a></a></span><ul class=\"toc-item\"><li><span><a href=\"#Data-transformation-\" data-toc-modified-id=\"Data-transformation--4.1.1\"><span class=\"toc-item-num\">4.1.1&nbsp;&nbsp;</span>Data transformation <a class=\"anchor\" id=\"section_4_1_1\" rel=\"nofollow\"></a></a></span></li><li><span><a href=\"#Model-evaluation-\" data-toc-modified-id=\"Model-evaluation--4.1.2\"><span class=\"toc-item-num\">4.1.2&nbsp;&nbsp;</span>Model evaluation <a class=\"anchor\" id=\"section_4_1_2\" rel=\"nofollow\"></a></a></span></li></ul></li><li><span><a href=\"#IV.B-DECISION-TREE-\" data-toc-modified-id=\"IV.B-DECISION-TREE--4.2\"><span class=\"toc-item-num\">4.2&nbsp;&nbsp;</span>IV.B DECISION TREE <a class=\"anchor\" id=\"section_4_2\" rel=\"nofollow\"></a></a></span></li><li><span><a href=\"#IV.C-RANDOM-FOREST-\" data-toc-modified-id=\"IV.C-RANDOM-FOREST--4.3\"><span class=\"toc-item-num\">4.3&nbsp;&nbsp;</span>IV.C RANDOM FOREST <a class=\"anchor\" id=\"section_4_3\" rel=\"nofollow\"></a></a></span></li><li><span><a href=\"#IV.D-XGBoost-\" data-toc-modified-id=\"IV.D-XGBoost--4.4\"><span class=\"toc-item-num\">4.4&nbsp;&nbsp;</span>IV.D XGBoost <a class=\"anchor\" id=\"section_4_4\" rel=\"nofollow\"></a></a></span></li></ul></li><li><span><a href=\"#V.-Optimisations-\" data-toc-modified-id=\"V.-Optimisations--5\"><span class=\"toc-item-num\">5&nbsp;&nbsp;</span>V. Optimisations <a class=\"anchor\" id=\"chapter5\" rel=\"nofollow\"></a></a></span><ul class=\"toc-item\"><li><span><a href=\"#V.A-Acceptability-\" data-toc-modified-id=\"V.A-Acceptability--5.1\"><span class=\"toc-item-num\">5.1&nbsp;&nbsp;</span>V.A Acceptability <a class=\"anchor\" id=\"section_5_1\" rel=\"nofollow\"></a></a></span><ul class=\"toc-item\"><li><span><a href=\"#RANDOM-FOREST-\" data-toc-modified-id=\"RANDOM-FOREST--5.1.1\"><span class=\"toc-item-num\">5.1.1&nbsp;&nbsp;</span>RANDOM FOREST <a class=\"anchor\" id=\"section_5_1_1\" rel=\"nofollow\"></a></a></span></li><li><span><a href=\"#XGBoost-\" data-toc-modified-id=\"XGBoost--5.1.2\"><span class=\"toc-item-num\">5.1.2&nbsp;&nbsp;</span>XGBoost <a class=\"anchor\" id=\"section_5_1_2\" rel=\"nofollow\"></a></a></span></li></ul></li><li><span><a href=\"#V.B-Parameters-transformation-\" data-toc-modified-id=\"V.B-Parameters-transformation--5.2\"><span class=\"toc-item-num\">5.2&nbsp;&nbsp;</span>V.B Parameters transformation <a class=\"anchor\" id=\"section_5_2\" rel=\"nofollow\"></a></a></span><ul class=\"toc-item\"><li><span><a href=\"#With-only-Force-perceived-and-no-repetition-\" data-toc-modified-id=\"With-only-Force-perceived-and-no-repetition--5.2.1\"><span class=\"toc-item-num\">5.2.1&nbsp;&nbsp;</span>With only Force perceived and no repetition <a class=\"anchor\" id=\"section_5_2_1\" rel=\"nofollow\"></a></a></span></li><li><span><a href=\"#With-only-Force-perceived,-no-repetition-and-last-time-gived-\" data-toc-modified-id=\"With-only-Force-perceived,-no-repetition-and-last-time-gived--5.2.2\"><span class=\"toc-item-num\">5.2.2&nbsp;&nbsp;</span>With only Force perceived, no repetition and last time gived <a class=\"anchor\" id=\"section_5_2_2\" rel=\"nofollow\"></a></a></span></li></ul></li></ul></li></ul></div>"
   ]
  },
  {
   "cell_type": "markdown",
   "metadata": {
    "id": "PJnbTFWwbeiE"
   },
   "source": [
    "# I. Library \n"
   ]
  },
  {
   "cell_type": "code",
   "execution_count": null,
   "metadata": {
    "ExecuteTime": {
     "end_time": "2023-02-08T10:39:24.147231Z",
     "start_time": "2023-02-08T10:39:24.134268Z"
    },
    "colab": {
     "base_uri": "https://localhost:8080/"
    },
    "executionInfo": {
     "elapsed": 2414,
     "status": "ok",
     "timestamp": 1653048762657,
     "user": {
      "displayName": "Sandra Victor",
      "userId": "08212330953566637160"
     },
     "user_tz": -120
    },
    "id": "5Po8wQ0xWH8O",
    "outputId": "047b377d-1c9e-4e34-842a-ed6e93580327"
   },
   "outputs": [],
   "source": [
    "#from google.colab import drive\n",
    "#drive.mount('/content/drive')"
   ]
  },
  {
   "cell_type": "code",
   "execution_count": null,
   "metadata": {
    "ExecuteTime": {
     "end_time": "2023-02-08T10:39:24.162191Z",
     "start_time": "2023-02-08T10:39:24.148228Z"
    },
    "colab": {
     "base_uri": "https://localhost:8080/"
    },
    "executionInfo": {
     "elapsed": 28764,
     "status": "ok",
     "timestamp": 1653048791413,
     "user": {
      "displayName": "Sandra Victor",
      "userId": "08212330953566637160"
     },
     "user_tz": -120
    },
    "id": "3-5Zpfy0beiE",
    "outputId": "2b82e92b-21a2-46bc-89be-95d84695871b"
   },
   "outputs": [],
   "source": [
    "#If you are missing a library, do the command here and restart the kernel\n",
    "#!pip install setuptools gitpython\n",
    "#!pip install git+https://github.com/oracle/Skater.git\n",
    "#!pip install xgboost\n",
    "#!pip install graphviz\n",
    "#!pip install scikit_posthocs"
   ]
  },
  {
   "cell_type": "code",
   "execution_count": 1,
   "metadata": {
    "ExecuteTime": {
     "end_time": "2023-02-08T10:41:59.949647Z",
     "start_time": "2023-02-08T10:41:57.997987Z"
    },
    "executionInfo": {
     "elapsed": 9,
     "status": "ok",
     "timestamp": 1653048791416,
     "user": {
      "displayName": "Sandra Victor",
      "userId": "08212330953566637160"
     },
     "user_tz": -120
    },
    "id": "PqHvr78AbeiF"
   },
   "outputs": [],
   "source": [
    "import pandas as pd\n",
    "from subprocess import call\n",
    "import seaborn as sns\n",
    "import numpy as np\n",
    "from scipy import stats\n",
    "import sklearn\n",
    "from sklearn.model_selection import GridSearchCV\n",
    "from sklearn.model_selection import train_test_split\n",
    "import graphviz\n",
    "import matplotlib.pyplot as plt\n",
    "from sklearn import tree\n",
    "from sklearn.metrics import multilabel_confusion_matrix, classification_report\n",
    "from sklearn.ensemble import RandomForestClassifier\n",
    "from sklearn.linear_model import LinearRegression\n",
    "from sklearn.metrics import mean_squared_error, r2_score\n",
    "import seaborn as sn\n",
    "from skater.core.explanations import Interpretation\n",
    "from skater.model import InMemoryModel\n",
    "from skater.core.local_interpretation.lime.lime_tabular import LimeTabularExplainer\n",
    "from xgboost import XGBClassifier\n",
    "import xgboost as xgb\n",
    "import warnings\n",
    "import random\n",
    "from datetime import datetime\n",
    "import time\n",
    "import pickle\n",
    "from IPython.display import HTML, display\n",
    "import statsmodels.api as sa\n",
    "import statsmodels.formula.api as sfa\n",
    "import scikit_posthocs as sp\n",
    "\n",
    "warnings.filterwarnings('ignore')"
   ]
  },
  {
   "cell_type": "markdown",
   "metadata": {
    "id": "88kqf1dGbeiG"
   },
   "source": [
    "# II. Data <a class=\"anchor\" id=\"chapter2\"></a>"
   ]
  },
  {
   "cell_type": "markdown",
   "metadata": {
    "id": "F3MaDZV5beiH"
   },
   "source": [
    "First, we import all the data from the experiment directly via the csv link, so that we don’t miss any new incoming data."
   ]
  },
  {
   "cell_type": "code",
   "execution_count": 33,
   "metadata": {
    "ExecuteTime": {
     "end_time": "2023-02-08T10:54:48.083376Z",
     "start_time": "2023-02-08T10:54:47.900963Z"
    },
    "colab": {
     "base_uri": "https://localhost:8080/",
     "height": 488
    },
    "executionInfo": {
     "elapsed": 1878,
     "status": "ok",
     "timestamp": 1653048793286,
     "user": {
      "displayName": "Sandra Victor",
      "userId": "08212330953566637160"
     },
     "user_tz": -120
    },
    "id": "W2BSvixIbeiH",
    "outputId": "1d0a0167-5b32-4aac-d1b3-30bb0fd8f942",
    "scrolled": false
   },
   "outputs": [],
   "source": [
    "#Import the data\n",
    "data = pd.read_csv(\n",
    "    \"https://ethicallychoice.alwaysdata.net/wp-content/data.csv\", sep=\";\")\n"
   ]
  },
  {
   "cell_type": "code",
   "execution_count": 34,
   "metadata": {
    "ExecuteTime": {
     "end_time": "2023-02-08T10:54:48.839105Z",
     "start_time": "2023-02-08T10:54:48.826170Z"
    }
   },
   "outputs": [
    {
     "data": {
      "text/html": [
       "<div>\n",
       "<style scoped>\n",
       "    .dataframe tbody tr th:only-of-type {\n",
       "        vertical-align: middle;\n",
       "    }\n",
       "\n",
       "    .dataframe tbody tr th {\n",
       "        vertical-align: top;\n",
       "    }\n",
       "\n",
       "    .dataframe thead th {\n",
       "        text-align: right;\n",
       "    }\n",
       "</style>\n",
       "<table border=\"1\" class=\"dataframe\">\n",
       "  <thead>\n",
       "    <tr style=\"text-align: right;\">\n",
       "      <th></th>\n",
       "      <th>personnage_1</th>\n",
       "      <th>personnage_2</th>\n",
       "      <th>force_1</th>\n",
       "      <th>force_2</th>\n",
       "      <th>scenarios</th>\n",
       "      <th>task_1</th>\n",
       "      <th>task_2</th>\n",
       "      <th>repetition_question</th>\n",
       "      <th>id_participant</th>\n",
       "      <th>age</th>\n",
       "      <th>sexe</th>\n",
       "      <th>taille</th>\n",
       "      <th>enfant</th>\n",
       "    </tr>\n",
       "  </thead>\n",
       "  <tbody>\n",
       "    <tr>\n",
       "      <th>0</th>\n",
       "      <td>1</td>\n",
       "      <td>5</td>\n",
       "      <td>7</td>\n",
       "      <td>3</td>\n",
       "      <td>4</td>\n",
       "      <td>8</td>\n",
       "      <td>2</td>\n",
       "      <td>1</td>\n",
       "      <td>d60c0832fc30e645ca04f074c44b49eb</td>\n",
       "      <td>57.0</td>\n",
       "      <td>Femme</td>\n",
       "      <td>169.0</td>\n",
       "      <td>Oui</td>\n",
       "    </tr>\n",
       "    <tr>\n",
       "      <th>1</th>\n",
       "      <td>5</td>\n",
       "      <td>9</td>\n",
       "      <td>3</td>\n",
       "      <td>6</td>\n",
       "      <td>2</td>\n",
       "      <td>1</td>\n",
       "      <td>9</td>\n",
       "      <td>1</td>\n",
       "      <td>d60c0832fc30e645ca04f074c44b49eb</td>\n",
       "      <td>57.0</td>\n",
       "      <td>Femme</td>\n",
       "      <td>169.0</td>\n",
       "      <td>Oui</td>\n",
       "    </tr>\n",
       "    <tr>\n",
       "      <th>2</th>\n",
       "      <td>5</td>\n",
       "      <td>8</td>\n",
       "      <td>3</td>\n",
       "      <td>8</td>\n",
       "      <td>3</td>\n",
       "      <td>1</td>\n",
       "      <td>9</td>\n",
       "      <td>1</td>\n",
       "      <td>d60c0832fc30e645ca04f074c44b49eb</td>\n",
       "      <td>57.0</td>\n",
       "      <td>Femme</td>\n",
       "      <td>169.0</td>\n",
       "      <td>Oui</td>\n",
       "    </tr>\n",
       "    <tr>\n",
       "      <th>3</th>\n",
       "      <td>3</td>\n",
       "      <td>5</td>\n",
       "      <td>10</td>\n",
       "      <td>3</td>\n",
       "      <td>9</td>\n",
       "      <td>0</td>\n",
       "      <td>10</td>\n",
       "      <td>1</td>\n",
       "      <td>d60c0832fc30e645ca04f074c44b49eb</td>\n",
       "      <td>57.0</td>\n",
       "      <td>Femme</td>\n",
       "      <td>169.0</td>\n",
       "      <td>Oui</td>\n",
       "    </tr>\n",
       "    <tr>\n",
       "      <th>4</th>\n",
       "      <td>8</td>\n",
       "      <td>9</td>\n",
       "      <td>8</td>\n",
       "      <td>6</td>\n",
       "      <td>7</td>\n",
       "      <td>5</td>\n",
       "      <td>5</td>\n",
       "      <td>1</td>\n",
       "      <td>d60c0832fc30e645ca04f074c44b49eb</td>\n",
       "      <td>57.0</td>\n",
       "      <td>Femme</td>\n",
       "      <td>169.0</td>\n",
       "      <td>Oui</td>\n",
       "    </tr>\n",
       "    <tr>\n",
       "      <th>...</th>\n",
       "      <td>...</td>\n",
       "      <td>...</td>\n",
       "      <td>...</td>\n",
       "      <td>...</td>\n",
       "      <td>...</td>\n",
       "      <td>...</td>\n",
       "      <td>...</td>\n",
       "      <td>...</td>\n",
       "      <td>...</td>\n",
       "      <td>...</td>\n",
       "      <td>...</td>\n",
       "      <td>...</td>\n",
       "      <td>...</td>\n",
       "    </tr>\n",
       "    <tr>\n",
       "      <th>5476</th>\n",
       "      <td>5</td>\n",
       "      <td>8</td>\n",
       "      <td>2</td>\n",
       "      <td>6</td>\n",
       "      <td>9</td>\n",
       "      <td>3</td>\n",
       "      <td>7</td>\n",
       "      <td>3</td>\n",
       "      <td>7b8fbb5fae5e4eb769c531237fef990a</td>\n",
       "      <td>25.0</td>\n",
       "      <td>Homme</td>\n",
       "      <td>183.0</td>\n",
       "      <td>Non</td>\n",
       "    </tr>\n",
       "    <tr>\n",
       "      <th>5477</th>\n",
       "      <td>2</td>\n",
       "      <td>9</td>\n",
       "      <td>2</td>\n",
       "      <td>5</td>\n",
       "      <td>7</td>\n",
       "      <td>3</td>\n",
       "      <td>7</td>\n",
       "      <td>3</td>\n",
       "      <td>7b8fbb5fae5e4eb769c531237fef990a</td>\n",
       "      <td>25.0</td>\n",
       "      <td>Homme</td>\n",
       "      <td>183.0</td>\n",
       "      <td>Non</td>\n",
       "    </tr>\n",
       "    <tr>\n",
       "      <th>5478</th>\n",
       "      <td>3</td>\n",
       "      <td>4</td>\n",
       "      <td>10</td>\n",
       "      <td>1</td>\n",
       "      <td>5</td>\n",
       "      <td>9</td>\n",
       "      <td>1</td>\n",
       "      <td>3</td>\n",
       "      <td>7b8fbb5fae5e4eb769c531237fef990a</td>\n",
       "      <td>25.0</td>\n",
       "      <td>Homme</td>\n",
       "      <td>183.0</td>\n",
       "      <td>Non</td>\n",
       "    </tr>\n",
       "    <tr>\n",
       "      <th>5479</th>\n",
       "      <td>1</td>\n",
       "      <td>4</td>\n",
       "      <td>3</td>\n",
       "      <td>1</td>\n",
       "      <td>2</td>\n",
       "      <td>8</td>\n",
       "      <td>2</td>\n",
       "      <td>3</td>\n",
       "      <td>7b8fbb5fae5e4eb769c531237fef990a</td>\n",
       "      <td>25.0</td>\n",
       "      <td>Homme</td>\n",
       "      <td>183.0</td>\n",
       "      <td>Non</td>\n",
       "    </tr>\n",
       "    <tr>\n",
       "      <th>5480</th>\n",
       "      <td>4</td>\n",
       "      <td>9</td>\n",
       "      <td>1</td>\n",
       "      <td>5</td>\n",
       "      <td>4</td>\n",
       "      <td>2</td>\n",
       "      <td>8</td>\n",
       "      <td>3</td>\n",
       "      <td>7b8fbb5fae5e4eb769c531237fef990a</td>\n",
       "      <td>25.0</td>\n",
       "      <td>Homme</td>\n",
       "      <td>183.0</td>\n",
       "      <td>Non</td>\n",
       "    </tr>\n",
       "  </tbody>\n",
       "</table>\n",
       "<p>5481 rows × 13 columns</p>\n",
       "</div>"
      ],
      "text/plain": [
       "      personnage_1  personnage_2  force_1  force_2  scenarios  task_1  task_2  \\\n",
       "0                1             5        7        3          4       8       2   \n",
       "1                5             9        3        6          2       1       9   \n",
       "2                5             8        3        8          3       1       9   \n",
       "3                3             5       10        3          9       0      10   \n",
       "4                8             9        8        6          7       5       5   \n",
       "...            ...           ...      ...      ...        ...     ...     ...   \n",
       "5476             5             8        2        6          9       3       7   \n",
       "5477             2             9        2        5          7       3       7   \n",
       "5478             3             4       10        1          5       9       1   \n",
       "5479             1             4        3        1          2       8       2   \n",
       "5480             4             9        1        5          4       2       8   \n",
       "\n",
       "      repetition_question                    id_participant   age   sexe  \\\n",
       "0                       1  d60c0832fc30e645ca04f074c44b49eb  57.0  Femme   \n",
       "1                       1  d60c0832fc30e645ca04f074c44b49eb  57.0  Femme   \n",
       "2                       1  d60c0832fc30e645ca04f074c44b49eb  57.0  Femme   \n",
       "3                       1  d60c0832fc30e645ca04f074c44b49eb  57.0  Femme   \n",
       "4                       1  d60c0832fc30e645ca04f074c44b49eb  57.0  Femme   \n",
       "...                   ...                               ...   ...    ...   \n",
       "5476                    3  7b8fbb5fae5e4eb769c531237fef990a  25.0  Homme   \n",
       "5477                    3  7b8fbb5fae5e4eb769c531237fef990a  25.0  Homme   \n",
       "5478                    3  7b8fbb5fae5e4eb769c531237fef990a  25.0  Homme   \n",
       "5479                    3  7b8fbb5fae5e4eb769c531237fef990a  25.0  Homme   \n",
       "5480                    3  7b8fbb5fae5e4eb769c531237fef990a  25.0  Homme   \n",
       "\n",
       "      taille enfant  \n",
       "0      169.0    Oui  \n",
       "1      169.0    Oui  \n",
       "2      169.0    Oui  \n",
       "3      169.0    Oui  \n",
       "4      169.0    Oui  \n",
       "...      ...    ...  \n",
       "5476   183.0    Non  \n",
       "5477   183.0    Non  \n",
       "5478   183.0    Non  \n",
       "5479   183.0    Non  \n",
       "5480   183.0    Non  \n",
       "\n",
       "[5481 rows x 13 columns]"
      ]
     },
     "execution_count": 34,
     "metadata": {},
     "output_type": "execute_result"
    }
   ],
   "source": [
    "data"
   ]
  },
  {
   "cell_type": "code",
   "execution_count": 35,
   "metadata": {
    "ExecuteTime": {
     "end_time": "2023-02-08T10:54:53.717778Z",
     "start_time": "2023-02-08T10:54:53.697818Z"
    }
   },
   "outputs": [
    {
     "name": "stdout",
     "output_type": "stream",
     "text": [
      "Student Group :\n",
      "Moyenne: 22.436363636363637\n",
      "Déviation standard: 1.756243457103113\n",
      "Online Group :\n",
      "Moyenne: 29.612244897959183\n",
      "Déviation standard: 12.971221294832784\n"
     ]
    }
   ],
   "source": [
    "#we separate the 2 different group of participant\n",
    "student_data = data.tail(1512)\n",
    "online_data = data.head(3969)\n",
    "\n",
    "mean_age_student = student_data.age.mean()\n",
    "std_dev_student = np.std(student_data.age, ddof=1) # ddof=1 sets the degrees of freedom to 1 for sample standard deviation\n",
    "print(\"Student Group :\")\n",
    "print(\"Moyenne:\", mean_age_student)\n",
    "print(\"Déviation standard:\", std_dev_student)\n",
    "\n",
    "mean_age_online = online_data.age.mean()\n",
    "std_dev_online = np.std(online_data.age, ddof=1) # ddof=1 sets the degrees of freedom to 1 for sample standard deviation\n",
    "print(\"Online Group :\")\n",
    "print(\"Moyenne:\", mean_age_online)\n",
    "print(\"Déviation standard:\", std_dev_online)\n",
    "\n"
   ]
  },
  {
   "cell_type": "code",
   "execution_count": 36,
   "metadata": {
    "ExecuteTime": {
     "end_time": "2023-02-08T10:54:54.884171Z",
     "start_time": "2023-02-08T10:54:54.861215Z"
    }
   },
   "outputs": [
    {
     "data": {
      "text/html": [
       "<div>\n",
       "<style scoped>\n",
       "    .dataframe tbody tr th:only-of-type {\n",
       "        vertical-align: middle;\n",
       "    }\n",
       "\n",
       "    .dataframe tbody tr th {\n",
       "        vertical-align: top;\n",
       "    }\n",
       "\n",
       "    .dataframe thead th {\n",
       "        text-align: right;\n",
       "    }\n",
       "</style>\n",
       "<table border=\"1\" class=\"dataframe\">\n",
       "  <thead>\n",
       "    <tr style=\"text-align: right;\">\n",
       "      <th></th>\n",
       "      <th>personnage_1</th>\n",
       "      <th>personnage_2</th>\n",
       "      <th>force_1</th>\n",
       "      <th>force_2</th>\n",
       "      <th>scenarios</th>\n",
       "      <th>task_1</th>\n",
       "      <th>task_2</th>\n",
       "      <th>repetition_question</th>\n",
       "      <th>id_participant</th>\n",
       "      <th>age</th>\n",
       "      <th>sexe</th>\n",
       "      <th>taille</th>\n",
       "      <th>enfant</th>\n",
       "    </tr>\n",
       "  </thead>\n",
       "  <tbody>\n",
       "    <tr>\n",
       "      <th>0</th>\n",
       "      <td>1</td>\n",
       "      <td>5</td>\n",
       "      <td>7</td>\n",
       "      <td>3</td>\n",
       "      <td>4</td>\n",
       "      <td>8</td>\n",
       "      <td>2</td>\n",
       "      <td>1</td>\n",
       "      <td>d60c0832fc30e645ca04f074c44b49eb</td>\n",
       "      <td>57</td>\n",
       "      <td>Femme</td>\n",
       "      <td>169</td>\n",
       "      <td>Oui</td>\n",
       "    </tr>\n",
       "    <tr>\n",
       "      <th>1</th>\n",
       "      <td>5</td>\n",
       "      <td>9</td>\n",
       "      <td>3</td>\n",
       "      <td>6</td>\n",
       "      <td>2</td>\n",
       "      <td>1</td>\n",
       "      <td>9</td>\n",
       "      <td>1</td>\n",
       "      <td>d60c0832fc30e645ca04f074c44b49eb</td>\n",
       "      <td>57</td>\n",
       "      <td>Femme</td>\n",
       "      <td>169</td>\n",
       "      <td>Oui</td>\n",
       "    </tr>\n",
       "    <tr>\n",
       "      <th>2</th>\n",
       "      <td>5</td>\n",
       "      <td>8</td>\n",
       "      <td>3</td>\n",
       "      <td>8</td>\n",
       "      <td>3</td>\n",
       "      <td>1</td>\n",
       "      <td>9</td>\n",
       "      <td>1</td>\n",
       "      <td>d60c0832fc30e645ca04f074c44b49eb</td>\n",
       "      <td>57</td>\n",
       "      <td>Femme</td>\n",
       "      <td>169</td>\n",
       "      <td>Oui</td>\n",
       "    </tr>\n",
       "    <tr>\n",
       "      <th>3</th>\n",
       "      <td>3</td>\n",
       "      <td>5</td>\n",
       "      <td>10</td>\n",
       "      <td>3</td>\n",
       "      <td>9</td>\n",
       "      <td>0</td>\n",
       "      <td>10</td>\n",
       "      <td>1</td>\n",
       "      <td>d60c0832fc30e645ca04f074c44b49eb</td>\n",
       "      <td>57</td>\n",
       "      <td>Femme</td>\n",
       "      <td>169</td>\n",
       "      <td>Oui</td>\n",
       "    </tr>\n",
       "    <tr>\n",
       "      <th>4</th>\n",
       "      <td>8</td>\n",
       "      <td>9</td>\n",
       "      <td>8</td>\n",
       "      <td>6</td>\n",
       "      <td>7</td>\n",
       "      <td>5</td>\n",
       "      <td>5</td>\n",
       "      <td>1</td>\n",
       "      <td>d60c0832fc30e645ca04f074c44b49eb</td>\n",
       "      <td>57</td>\n",
       "      <td>Femme</td>\n",
       "      <td>169</td>\n",
       "      <td>Oui</td>\n",
       "    </tr>\n",
       "    <tr>\n",
       "      <th>...</th>\n",
       "      <td>...</td>\n",
       "      <td>...</td>\n",
       "      <td>...</td>\n",
       "      <td>...</td>\n",
       "      <td>...</td>\n",
       "      <td>...</td>\n",
       "      <td>...</td>\n",
       "      <td>...</td>\n",
       "      <td>...</td>\n",
       "      <td>...</td>\n",
       "      <td>...</td>\n",
       "      <td>...</td>\n",
       "      <td>...</td>\n",
       "    </tr>\n",
       "    <tr>\n",
       "      <th>5476</th>\n",
       "      <td>5</td>\n",
       "      <td>8</td>\n",
       "      <td>2</td>\n",
       "      <td>6</td>\n",
       "      <td>9</td>\n",
       "      <td>3</td>\n",
       "      <td>7</td>\n",
       "      <td>3</td>\n",
       "      <td>7b8fbb5fae5e4eb769c531237fef990a</td>\n",
       "      <td>25</td>\n",
       "      <td>Homme</td>\n",
       "      <td>183</td>\n",
       "      <td>Non</td>\n",
       "    </tr>\n",
       "    <tr>\n",
       "      <th>5477</th>\n",
       "      <td>2</td>\n",
       "      <td>9</td>\n",
       "      <td>2</td>\n",
       "      <td>5</td>\n",
       "      <td>7</td>\n",
       "      <td>3</td>\n",
       "      <td>7</td>\n",
       "      <td>3</td>\n",
       "      <td>7b8fbb5fae5e4eb769c531237fef990a</td>\n",
       "      <td>25</td>\n",
       "      <td>Homme</td>\n",
       "      <td>183</td>\n",
       "      <td>Non</td>\n",
       "    </tr>\n",
       "    <tr>\n",
       "      <th>5478</th>\n",
       "      <td>3</td>\n",
       "      <td>4</td>\n",
       "      <td>10</td>\n",
       "      <td>1</td>\n",
       "      <td>5</td>\n",
       "      <td>9</td>\n",
       "      <td>1</td>\n",
       "      <td>3</td>\n",
       "      <td>7b8fbb5fae5e4eb769c531237fef990a</td>\n",
       "      <td>25</td>\n",
       "      <td>Homme</td>\n",
       "      <td>183</td>\n",
       "      <td>Non</td>\n",
       "    </tr>\n",
       "    <tr>\n",
       "      <th>5479</th>\n",
       "      <td>1</td>\n",
       "      <td>4</td>\n",
       "      <td>3</td>\n",
       "      <td>1</td>\n",
       "      <td>2</td>\n",
       "      <td>8</td>\n",
       "      <td>2</td>\n",
       "      <td>3</td>\n",
       "      <td>7b8fbb5fae5e4eb769c531237fef990a</td>\n",
       "      <td>25</td>\n",
       "      <td>Homme</td>\n",
       "      <td>183</td>\n",
       "      <td>Non</td>\n",
       "    </tr>\n",
       "    <tr>\n",
       "      <th>5480</th>\n",
       "      <td>4</td>\n",
       "      <td>9</td>\n",
       "      <td>1</td>\n",
       "      <td>5</td>\n",
       "      <td>4</td>\n",
       "      <td>2</td>\n",
       "      <td>8</td>\n",
       "      <td>3</td>\n",
       "      <td>7b8fbb5fae5e4eb769c531237fef990a</td>\n",
       "      <td>25</td>\n",
       "      <td>Homme</td>\n",
       "      <td>183</td>\n",
       "      <td>Non</td>\n",
       "    </tr>\n",
       "  </tbody>\n",
       "</table>\n",
       "<p>5400 rows × 13 columns</p>\n",
       "</div>"
      ],
      "text/plain": [
       "      personnage_1  personnage_2  force_1  force_2  scenarios  task_1  task_2  \\\n",
       "0                1             5        7        3          4       8       2   \n",
       "1                5             9        3        6          2       1       9   \n",
       "2                5             8        3        8          3       1       9   \n",
       "3                3             5       10        3          9       0      10   \n",
       "4                8             9        8        6          7       5       5   \n",
       "...            ...           ...      ...      ...        ...     ...     ...   \n",
       "5476             5             8        2        6          9       3       7   \n",
       "5477             2             9        2        5          7       3       7   \n",
       "5478             3             4       10        1          5       9       1   \n",
       "5479             1             4        3        1          2       8       2   \n",
       "5480             4             9        1        5          4       2       8   \n",
       "\n",
       "      repetition_question                    id_participant  age   sexe  \\\n",
       "0                       1  d60c0832fc30e645ca04f074c44b49eb   57  Femme   \n",
       "1                       1  d60c0832fc30e645ca04f074c44b49eb   57  Femme   \n",
       "2                       1  d60c0832fc30e645ca04f074c44b49eb   57  Femme   \n",
       "3                       1  d60c0832fc30e645ca04f074c44b49eb   57  Femme   \n",
       "4                       1  d60c0832fc30e645ca04f074c44b49eb   57  Femme   \n",
       "...                   ...                               ...  ...    ...   \n",
       "5476                    3  7b8fbb5fae5e4eb769c531237fef990a   25  Homme   \n",
       "5477                    3  7b8fbb5fae5e4eb769c531237fef990a   25  Homme   \n",
       "5478                    3  7b8fbb5fae5e4eb769c531237fef990a   25  Homme   \n",
       "5479                    3  7b8fbb5fae5e4eb769c531237fef990a   25  Homme   \n",
       "5480                    3  7b8fbb5fae5e4eb769c531237fef990a   25  Homme   \n",
       "\n",
       "      taille enfant  \n",
       "0        169    Oui  \n",
       "1        169    Oui  \n",
       "2        169    Oui  \n",
       "3        169    Oui  \n",
       "4        169    Oui  \n",
       "...      ...    ...  \n",
       "5476     183    Non  \n",
       "5477     183    Non  \n",
       "5478     183    Non  \n",
       "5479     183    Non  \n",
       "5480     183    Non  \n",
       "\n",
       "[5400 rows x 13 columns]"
      ]
     },
     "execution_count": 36,
     "metadata": {},
     "output_type": "execute_result"
    }
   ],
   "source": [
    "#drop the empty line\n",
    "data = data.dropna()\n",
    "#convert to int all the datas\n",
    "for i in [\"1\", \"2\"]:\n",
    "    data[\"personnage_\" + i] = data[\"personnage_\" + i].astype(int)\n",
    "    data[\"force_\" + i] = data[\"force_\" + i].astype(int)\n",
    "data[\"scenarios\"] = data[\"scenarios\"].astype(int)\n",
    "data[\"age\"] = data[\"age\"].astype(int)\n",
    "data[\"taille\"] = data[\"taille\"].astype(int)\n",
    "\n",
    "data"
   ]
  },
  {
   "cell_type": "markdown",
   "metadata": {
    "id": "ZwgITOjUbeiI"
   },
   "source": [
    "Similarly, responses to the concentration questions are imported to eliminate potentially irrelevant participants."
   ]
  },
  {
   "cell_type": "code",
   "execution_count": 37,
   "metadata": {
    "ExecuteTime": {
     "end_time": "2023-02-08T10:54:58.528344Z",
     "start_time": "2023-02-08T10:54:58.443977Z"
    },
    "colab": {
     "base_uri": "https://localhost:8080/",
     "height": 424
    },
    "executionInfo": {
     "elapsed": 567,
     "status": "ok",
     "timestamp": 1653048793847,
     "user": {
      "displayName": "Sandra Victor",
      "userId": "08212330953566637160"
     },
     "user_tz": -120
    },
    "id": "IDAsMYRkbeiI",
    "outputId": "48204841-5ebe-464c-b44f-7619c3a93cc5"
   },
   "outputs": [
    {
     "data": {
      "text/html": [
       "<div>\n",
       "<style scoped>\n",
       "    .dataframe tbody tr th:only-of-type {\n",
       "        vertical-align: middle;\n",
       "    }\n",
       "\n",
       "    .dataframe tbody tr th {\n",
       "        vertical-align: top;\n",
       "    }\n",
       "\n",
       "    .dataframe thead th {\n",
       "        text-align: right;\n",
       "    }\n",
       "</style>\n",
       "<table border=\"1\" class=\"dataframe\">\n",
       "  <thead>\n",
       "    <tr style=\"text-align: right;\">\n",
       "      <th></th>\n",
       "      <th>q1</th>\n",
       "      <th>q1_rep</th>\n",
       "      <th>q2</th>\n",
       "      <th>q2_rep</th>\n",
       "      <th>q3</th>\n",
       "      <th>q3_rep</th>\n",
       "      <th>id</th>\n",
       "    </tr>\n",
       "  </thead>\n",
       "  <tbody>\n",
       "    <tr>\n",
       "      <th>0</th>\n",
       "      <td>2</td>\n",
       "      <td>2</td>\n",
       "      <td>6</td>\n",
       "      <td>5</td>\n",
       "      <td>6</td>\n",
       "      <td>6</td>\n",
       "      <td>d60c0832fc30e645ca04f074c44b49eb</td>\n",
       "    </tr>\n",
       "    <tr>\n",
       "      <th>1</th>\n",
       "      <td>2</td>\n",
       "      <td>2</td>\n",
       "      <td>6</td>\n",
       "      <td>5</td>\n",
       "      <td>6</td>\n",
       "      <td>6</td>\n",
       "      <td>0b3df09027f409a78932dae68f21d84a</td>\n",
       "    </tr>\n",
       "    <tr>\n",
       "      <th>2</th>\n",
       "      <td>2</td>\n",
       "      <td>3</td>\n",
       "      <td>6</td>\n",
       "      <td>5</td>\n",
       "      <td>6</td>\n",
       "      <td>6</td>\n",
       "      <td>49af6504b50e11aab6a2174242d05ca1</td>\n",
       "    </tr>\n",
       "    <tr>\n",
       "      <th>3</th>\n",
       "      <td>2</td>\n",
       "      <td>2</td>\n",
       "      <td>6</td>\n",
       "      <td>5</td>\n",
       "      <td>6</td>\n",
       "      <td>6</td>\n",
       "      <td>95d0e71312fa611b6f257271e0205d67</td>\n",
       "    </tr>\n",
       "    <tr>\n",
       "      <th>4</th>\n",
       "      <td>2</td>\n",
       "      <td>2</td>\n",
       "      <td>6</td>\n",
       "      <td>5</td>\n",
       "      <td>6</td>\n",
       "      <td>6</td>\n",
       "      <td>01276ee53afbdb3982262250788dfc1f</td>\n",
       "    </tr>\n",
       "    <tr>\n",
       "      <th>...</th>\n",
       "      <td>...</td>\n",
       "      <td>...</td>\n",
       "      <td>...</td>\n",
       "      <td>...</td>\n",
       "      <td>...</td>\n",
       "      <td>...</td>\n",
       "      <td>...</td>\n",
       "    </tr>\n",
       "    <tr>\n",
       "      <th>217</th>\n",
       "      <td>2</td>\n",
       "      <td>2</td>\n",
       "      <td>5</td>\n",
       "      <td>5</td>\n",
       "      <td>6</td>\n",
       "      <td>6</td>\n",
       "      <td>7b8fbb5fae5e4eb769c531237fef990a</td>\n",
       "    </tr>\n",
       "    <tr>\n",
       "      <th>218</th>\n",
       "      <td>2</td>\n",
       "      <td>1</td>\n",
       "      <td>5</td>\n",
       "      <td>5</td>\n",
       "      <td>6</td>\n",
       "      <td>6</td>\n",
       "      <td>d617476c80b6823ed202f5b86916156d</td>\n",
       "    </tr>\n",
       "    <tr>\n",
       "      <th>219</th>\n",
       "      <td>2</td>\n",
       "      <td>2</td>\n",
       "      <td>5</td>\n",
       "      <td>5</td>\n",
       "      <td>6</td>\n",
       "      <td>6</td>\n",
       "      <td>dd8fa41c53a3dc0c05053c11cbb43d39</td>\n",
       "    </tr>\n",
       "    <tr>\n",
       "      <th>220</th>\n",
       "      <td>2</td>\n",
       "      <td>5</td>\n",
       "      <td>5</td>\n",
       "      <td>5</td>\n",
       "      <td>6</td>\n",
       "      <td>5</td>\n",
       "      <td>1d807577b2a921cef642c0f8c7cc626c</td>\n",
       "    </tr>\n",
       "    <tr>\n",
       "      <th>221</th>\n",
       "      <td>2</td>\n",
       "      <td>2</td>\n",
       "      <td>5</td>\n",
       "      <td>5</td>\n",
       "      <td>6</td>\n",
       "      <td>6</td>\n",
       "      <td>ac90ece9118068925afd4cab77916e5f</td>\n",
       "    </tr>\n",
       "  </tbody>\n",
       "</table>\n",
       "<p>222 rows × 7 columns</p>\n",
       "</div>"
      ],
      "text/plain": [
       "     q1  q1_rep  q2  q2_rep  q3  q3_rep                                id\n",
       "0     2       2   6       5   6       6  d60c0832fc30e645ca04f074c44b49eb\n",
       "1     2       2   6       5   6       6  0b3df09027f409a78932dae68f21d84a\n",
       "2     2       3   6       5   6       6  49af6504b50e11aab6a2174242d05ca1\n",
       "3     2       2   6       5   6       6  95d0e71312fa611b6f257271e0205d67\n",
       "4     2       2   6       5   6       6  01276ee53afbdb3982262250788dfc1f\n",
       "..   ..     ...  ..     ...  ..     ...                               ...\n",
       "217   2       2   5       5   6       6  7b8fbb5fae5e4eb769c531237fef990a\n",
       "218   2       1   5       5   6       6  d617476c80b6823ed202f5b86916156d\n",
       "219   2       2   5       5   6       6  dd8fa41c53a3dc0c05053c11cbb43d39\n",
       "220   2       5   5       5   6       5  1d807577b2a921cef642c0f8c7cc626c\n",
       "221   2       2   5       5   6       6  ac90ece9118068925afd4cab77916e5f\n",
       "\n",
       "[222 rows x 7 columns]"
      ]
     },
     "execution_count": 37,
     "metadata": {},
     "output_type": "execute_result"
    }
   ],
   "source": [
    "#Import the concentration question\n",
    "conc = pd.read_csv(\n",
    "    \"https://ethicallychoice.alwaysdata.net/wp-content/conc.csv\", sep=\";\")\n",
    "conc"
   ]
  },
  {
   "cell_type": "markdown",
   "metadata": {
    "id": "feX4gO0SbeiJ"
   },
   "source": [
    "By joining on the participant id, we associate the answers to the concentration questions with the answers to the scenario questions. We assume that beyond 2 incorrect answers, the participant will not provide relevant answers. "
   ]
  },
  {
   "cell_type": "code",
   "execution_count": 38,
   "metadata": {
    "ExecuteTime": {
     "end_time": "2023-02-08T10:55:02.044703Z",
     "start_time": "2023-02-08T10:55:02.024757Z"
    }
   },
   "outputs": [],
   "source": [
    "def throw_bad_answers(df):\n",
    "    #collect lines corresponding in data\n",
    "    index = []\n",
    "    for i in range(len(out)):\n",
    "        index.append(df.index[df[\"id_participant\"] == out[i]].tolist())\n",
    "    #drop lines\n",
    "    for i in range(len(index)):\n",
    "        for j in range(len(index[i])):\n",
    "            df.drop(index[i][j], inplace=True)"
   ]
  },
  {
   "cell_type": "code",
   "execution_count": 39,
   "metadata": {
    "ExecuteTime": {
     "end_time": "2023-02-08T10:55:03.831135Z",
     "start_time": "2023-02-08T10:55:03.273627Z"
    },
    "executionInfo": {
     "elapsed": 1121,
     "status": "ok",
     "timestamp": 1653048794963,
     "user": {
      "displayName": "Sandra Victor",
      "userId": "08212330953566637160"
     },
     "user_tz": -120
    },
    "id": "R152dreabeiK"
   },
   "outputs": [
    {
     "data": {
      "text/html": [
       "<div>\n",
       "<style scoped>\n",
       "    .dataframe tbody tr th:only-of-type {\n",
       "        vertical-align: middle;\n",
       "    }\n",
       "\n",
       "    .dataframe tbody tr th {\n",
       "        vertical-align: top;\n",
       "    }\n",
       "\n",
       "    .dataframe thead th {\n",
       "        text-align: right;\n",
       "    }\n",
       "</style>\n",
       "<table border=\"1\" class=\"dataframe\">\n",
       "  <thead>\n",
       "    <tr style=\"text-align: right;\">\n",
       "      <th></th>\n",
       "      <th>personnage_1</th>\n",
       "      <th>personnage_2</th>\n",
       "      <th>force_1</th>\n",
       "      <th>force_2</th>\n",
       "      <th>scenarios</th>\n",
       "      <th>task_1</th>\n",
       "      <th>task_2</th>\n",
       "      <th>repetition_question</th>\n",
       "      <th>id_participant</th>\n",
       "      <th>age</th>\n",
       "      <th>sexe</th>\n",
       "      <th>taille</th>\n",
       "      <th>enfant</th>\n",
       "    </tr>\n",
       "  </thead>\n",
       "  <tbody>\n",
       "    <tr>\n",
       "      <th>0</th>\n",
       "      <td>1</td>\n",
       "      <td>5</td>\n",
       "      <td>7</td>\n",
       "      <td>3</td>\n",
       "      <td>4</td>\n",
       "      <td>8</td>\n",
       "      <td>2</td>\n",
       "      <td>1</td>\n",
       "      <td>d60c0832fc30e645ca04f074c44b49eb</td>\n",
       "      <td>57</td>\n",
       "      <td>Femme</td>\n",
       "      <td>169</td>\n",
       "      <td>Oui</td>\n",
       "    </tr>\n",
       "    <tr>\n",
       "      <th>1</th>\n",
       "      <td>5</td>\n",
       "      <td>9</td>\n",
       "      <td>3</td>\n",
       "      <td>6</td>\n",
       "      <td>2</td>\n",
       "      <td>1</td>\n",
       "      <td>9</td>\n",
       "      <td>1</td>\n",
       "      <td>d60c0832fc30e645ca04f074c44b49eb</td>\n",
       "      <td>57</td>\n",
       "      <td>Femme</td>\n",
       "      <td>169</td>\n",
       "      <td>Oui</td>\n",
       "    </tr>\n",
       "    <tr>\n",
       "      <th>2</th>\n",
       "      <td>5</td>\n",
       "      <td>8</td>\n",
       "      <td>3</td>\n",
       "      <td>8</td>\n",
       "      <td>3</td>\n",
       "      <td>1</td>\n",
       "      <td>9</td>\n",
       "      <td>1</td>\n",
       "      <td>d60c0832fc30e645ca04f074c44b49eb</td>\n",
       "      <td>57</td>\n",
       "      <td>Femme</td>\n",
       "      <td>169</td>\n",
       "      <td>Oui</td>\n",
       "    </tr>\n",
       "    <tr>\n",
       "      <th>3</th>\n",
       "      <td>3</td>\n",
       "      <td>5</td>\n",
       "      <td>10</td>\n",
       "      <td>3</td>\n",
       "      <td>9</td>\n",
       "      <td>0</td>\n",
       "      <td>10</td>\n",
       "      <td>1</td>\n",
       "      <td>d60c0832fc30e645ca04f074c44b49eb</td>\n",
       "      <td>57</td>\n",
       "      <td>Femme</td>\n",
       "      <td>169</td>\n",
       "      <td>Oui</td>\n",
       "    </tr>\n",
       "    <tr>\n",
       "      <th>4</th>\n",
       "      <td>8</td>\n",
       "      <td>9</td>\n",
       "      <td>8</td>\n",
       "      <td>6</td>\n",
       "      <td>7</td>\n",
       "      <td>5</td>\n",
       "      <td>5</td>\n",
       "      <td>1</td>\n",
       "      <td>d60c0832fc30e645ca04f074c44b49eb</td>\n",
       "      <td>57</td>\n",
       "      <td>Femme</td>\n",
       "      <td>169</td>\n",
       "      <td>Oui</td>\n",
       "    </tr>\n",
       "    <tr>\n",
       "      <th>...</th>\n",
       "      <td>...</td>\n",
       "      <td>...</td>\n",
       "      <td>...</td>\n",
       "      <td>...</td>\n",
       "      <td>...</td>\n",
       "      <td>...</td>\n",
       "      <td>...</td>\n",
       "      <td>...</td>\n",
       "      <td>...</td>\n",
       "      <td>...</td>\n",
       "      <td>...</td>\n",
       "      <td>...</td>\n",
       "      <td>...</td>\n",
       "    </tr>\n",
       "    <tr>\n",
       "      <th>5476</th>\n",
       "      <td>5</td>\n",
       "      <td>8</td>\n",
       "      <td>2</td>\n",
       "      <td>6</td>\n",
       "      <td>9</td>\n",
       "      <td>3</td>\n",
       "      <td>7</td>\n",
       "      <td>3</td>\n",
       "      <td>7b8fbb5fae5e4eb769c531237fef990a</td>\n",
       "      <td>25</td>\n",
       "      <td>Homme</td>\n",
       "      <td>183</td>\n",
       "      <td>Non</td>\n",
       "    </tr>\n",
       "    <tr>\n",
       "      <th>5477</th>\n",
       "      <td>2</td>\n",
       "      <td>9</td>\n",
       "      <td>2</td>\n",
       "      <td>5</td>\n",
       "      <td>7</td>\n",
       "      <td>3</td>\n",
       "      <td>7</td>\n",
       "      <td>3</td>\n",
       "      <td>7b8fbb5fae5e4eb769c531237fef990a</td>\n",
       "      <td>25</td>\n",
       "      <td>Homme</td>\n",
       "      <td>183</td>\n",
       "      <td>Non</td>\n",
       "    </tr>\n",
       "    <tr>\n",
       "      <th>5478</th>\n",
       "      <td>3</td>\n",
       "      <td>4</td>\n",
       "      <td>10</td>\n",
       "      <td>1</td>\n",
       "      <td>5</td>\n",
       "      <td>9</td>\n",
       "      <td>1</td>\n",
       "      <td>3</td>\n",
       "      <td>7b8fbb5fae5e4eb769c531237fef990a</td>\n",
       "      <td>25</td>\n",
       "      <td>Homme</td>\n",
       "      <td>183</td>\n",
       "      <td>Non</td>\n",
       "    </tr>\n",
       "    <tr>\n",
       "      <th>5479</th>\n",
       "      <td>1</td>\n",
       "      <td>4</td>\n",
       "      <td>3</td>\n",
       "      <td>1</td>\n",
       "      <td>2</td>\n",
       "      <td>8</td>\n",
       "      <td>2</td>\n",
       "      <td>3</td>\n",
       "      <td>7b8fbb5fae5e4eb769c531237fef990a</td>\n",
       "      <td>25</td>\n",
       "      <td>Homme</td>\n",
       "      <td>183</td>\n",
       "      <td>Non</td>\n",
       "    </tr>\n",
       "    <tr>\n",
       "      <th>5480</th>\n",
       "      <td>4</td>\n",
       "      <td>9</td>\n",
       "      <td>1</td>\n",
       "      <td>5</td>\n",
       "      <td>4</td>\n",
       "      <td>2</td>\n",
       "      <td>8</td>\n",
       "      <td>3</td>\n",
       "      <td>7b8fbb5fae5e4eb769c531237fef990a</td>\n",
       "      <td>25</td>\n",
       "      <td>Homme</td>\n",
       "      <td>183</td>\n",
       "      <td>Non</td>\n",
       "    </tr>\n",
       "  </tbody>\n",
       "</table>\n",
       "<p>4698 rows × 13 columns</p>\n",
       "</div>"
      ],
      "text/plain": [
       "      personnage_1  personnage_2  force_1  force_2  scenarios  task_1  task_2  \\\n",
       "0                1             5        7        3          4       8       2   \n",
       "1                5             9        3        6          2       1       9   \n",
       "2                5             8        3        8          3       1       9   \n",
       "3                3             5       10        3          9       0      10   \n",
       "4                8             9        8        6          7       5       5   \n",
       "...            ...           ...      ...      ...        ...     ...     ...   \n",
       "5476             5             8        2        6          9       3       7   \n",
       "5477             2             9        2        5          7       3       7   \n",
       "5478             3             4       10        1          5       9       1   \n",
       "5479             1             4        3        1          2       8       2   \n",
       "5480             4             9        1        5          4       2       8   \n",
       "\n",
       "      repetition_question                    id_participant  age   sexe  \\\n",
       "0                       1  d60c0832fc30e645ca04f074c44b49eb   57  Femme   \n",
       "1                       1  d60c0832fc30e645ca04f074c44b49eb   57  Femme   \n",
       "2                       1  d60c0832fc30e645ca04f074c44b49eb   57  Femme   \n",
       "3                       1  d60c0832fc30e645ca04f074c44b49eb   57  Femme   \n",
       "4                       1  d60c0832fc30e645ca04f074c44b49eb   57  Femme   \n",
       "...                   ...                               ...  ...    ...   \n",
       "5476                    3  7b8fbb5fae5e4eb769c531237fef990a   25  Homme   \n",
       "5477                    3  7b8fbb5fae5e4eb769c531237fef990a   25  Homme   \n",
       "5478                    3  7b8fbb5fae5e4eb769c531237fef990a   25  Homme   \n",
       "5479                    3  7b8fbb5fae5e4eb769c531237fef990a   25  Homme   \n",
       "5480                    3  7b8fbb5fae5e4eb769c531237fef990a   25  Homme   \n",
       "\n",
       "      taille enfant  \n",
       "0        169    Oui  \n",
       "1        169    Oui  \n",
       "2        169    Oui  \n",
       "3        169    Oui  \n",
       "4        169    Oui  \n",
       "...      ...    ...  \n",
       "5476     183    Non  \n",
       "5477     183    Non  \n",
       "5478     183    Non  \n",
       "5479     183    Non  \n",
       "5480     183    Non  \n",
       "\n",
       "[4698 rows x 13 columns]"
      ]
     },
     "execution_count": 39,
     "metadata": {},
     "output_type": "execute_result"
    }
   ],
   "source": [
    "#collect people who are bad answering\n",
    "out = {}\n",
    "for i in range(len(conc)):\n",
    "    for j in range(1, 4):\n",
    "        if conc[\"q\" + str(j)][i] != conc[\"q\" + str(j) + \"_rep\"][i]:\n",
    "            if conc.id[i] not in out:\n",
    "                out[conc.id[i]] = 1\n",
    "            else:\n",
    "                out[conc.id[i]] = out[conc.id[i]] + 1\n",
    "out = [k for (k, v) in out.items() if v > 1]\n",
    "throw_bad_answers(data)\n",
    "data"
   ]
  },
  {
   "cell_type": "code",
   "execution_count": 40,
   "metadata": {
    "ExecuteTime": {
     "end_time": "2023-02-08T10:55:05.154597Z",
     "start_time": "2023-02-08T10:55:04.863376Z"
    }
   },
   "outputs": [
    {
     "data": {
      "text/html": [
       "<div>\n",
       "<style scoped>\n",
       "    .dataframe tbody tr th:only-of-type {\n",
       "        vertical-align: middle;\n",
       "    }\n",
       "\n",
       "    .dataframe tbody tr th {\n",
       "        vertical-align: top;\n",
       "    }\n",
       "\n",
       "    .dataframe thead th {\n",
       "        text-align: right;\n",
       "    }\n",
       "</style>\n",
       "<table border=\"1\" class=\"dataframe\">\n",
       "  <thead>\n",
       "    <tr style=\"text-align: right;\">\n",
       "      <th></th>\n",
       "      <th>personnage_1</th>\n",
       "      <th>personnage_2</th>\n",
       "      <th>force_1</th>\n",
       "      <th>force_2</th>\n",
       "      <th>scenarios</th>\n",
       "      <th>task_1</th>\n",
       "      <th>task_2</th>\n",
       "      <th>repetition_question</th>\n",
       "      <th>id_participant</th>\n",
       "      <th>age</th>\n",
       "      <th>sexe</th>\n",
       "      <th>taille</th>\n",
       "      <th>enfant</th>\n",
       "    </tr>\n",
       "  </thead>\n",
       "  <tbody>\n",
       "    <tr>\n",
       "      <th>0</th>\n",
       "      <td>1</td>\n",
       "      <td>5</td>\n",
       "      <td>7</td>\n",
       "      <td>3</td>\n",
       "      <td>4</td>\n",
       "      <td>8</td>\n",
       "      <td>2</td>\n",
       "      <td>1</td>\n",
       "      <td>d60c0832fc30e645ca04f074c44b49eb</td>\n",
       "      <td>57.0</td>\n",
       "      <td>Femme</td>\n",
       "      <td>169.0</td>\n",
       "      <td>Oui</td>\n",
       "    </tr>\n",
       "    <tr>\n",
       "      <th>1</th>\n",
       "      <td>5</td>\n",
       "      <td>9</td>\n",
       "      <td>3</td>\n",
       "      <td>6</td>\n",
       "      <td>2</td>\n",
       "      <td>1</td>\n",
       "      <td>9</td>\n",
       "      <td>1</td>\n",
       "      <td>d60c0832fc30e645ca04f074c44b49eb</td>\n",
       "      <td>57.0</td>\n",
       "      <td>Femme</td>\n",
       "      <td>169.0</td>\n",
       "      <td>Oui</td>\n",
       "    </tr>\n",
       "    <tr>\n",
       "      <th>2</th>\n",
       "      <td>5</td>\n",
       "      <td>8</td>\n",
       "      <td>3</td>\n",
       "      <td>8</td>\n",
       "      <td>3</td>\n",
       "      <td>1</td>\n",
       "      <td>9</td>\n",
       "      <td>1</td>\n",
       "      <td>d60c0832fc30e645ca04f074c44b49eb</td>\n",
       "      <td>57.0</td>\n",
       "      <td>Femme</td>\n",
       "      <td>169.0</td>\n",
       "      <td>Oui</td>\n",
       "    </tr>\n",
       "    <tr>\n",
       "      <th>3</th>\n",
       "      <td>3</td>\n",
       "      <td>5</td>\n",
       "      <td>10</td>\n",
       "      <td>3</td>\n",
       "      <td>9</td>\n",
       "      <td>0</td>\n",
       "      <td>10</td>\n",
       "      <td>1</td>\n",
       "      <td>d60c0832fc30e645ca04f074c44b49eb</td>\n",
       "      <td>57.0</td>\n",
       "      <td>Femme</td>\n",
       "      <td>169.0</td>\n",
       "      <td>Oui</td>\n",
       "    </tr>\n",
       "    <tr>\n",
       "      <th>4</th>\n",
       "      <td>8</td>\n",
       "      <td>9</td>\n",
       "      <td>8</td>\n",
       "      <td>6</td>\n",
       "      <td>7</td>\n",
       "      <td>5</td>\n",
       "      <td>5</td>\n",
       "      <td>1</td>\n",
       "      <td>d60c0832fc30e645ca04f074c44b49eb</td>\n",
       "      <td>57.0</td>\n",
       "      <td>Femme</td>\n",
       "      <td>169.0</td>\n",
       "      <td>Oui</td>\n",
       "    </tr>\n",
       "    <tr>\n",
       "      <th>...</th>\n",
       "      <td>...</td>\n",
       "      <td>...</td>\n",
       "      <td>...</td>\n",
       "      <td>...</td>\n",
       "      <td>...</td>\n",
       "      <td>...</td>\n",
       "      <td>...</td>\n",
       "      <td>...</td>\n",
       "      <td>...</td>\n",
       "      <td>...</td>\n",
       "      <td>...</td>\n",
       "      <td>...</td>\n",
       "      <td>...</td>\n",
       "    </tr>\n",
       "    <tr>\n",
       "      <th>3964</th>\n",
       "      <td>3</td>\n",
       "      <td>8</td>\n",
       "      <td>10</td>\n",
       "      <td>7</td>\n",
       "      <td>6</td>\n",
       "      <td>10</td>\n",
       "      <td>0</td>\n",
       "      <td>3</td>\n",
       "      <td>74a7ae4b5e052bd7e21e17702dcf27a7</td>\n",
       "      <td>24.0</td>\n",
       "      <td>Homme</td>\n",
       "      <td>170.0</td>\n",
       "      <td>Non</td>\n",
       "    </tr>\n",
       "    <tr>\n",
       "      <th>3965</th>\n",
       "      <td>3</td>\n",
       "      <td>4</td>\n",
       "      <td>10</td>\n",
       "      <td>1</td>\n",
       "      <td>4</td>\n",
       "      <td>9</td>\n",
       "      <td>1</td>\n",
       "      <td>3</td>\n",
       "      <td>74a7ae4b5e052bd7e21e17702dcf27a7</td>\n",
       "      <td>24.0</td>\n",
       "      <td>Homme</td>\n",
       "      <td>170.0</td>\n",
       "      <td>Non</td>\n",
       "    </tr>\n",
       "    <tr>\n",
       "      <th>3966</th>\n",
       "      <td>5</td>\n",
       "      <td>8</td>\n",
       "      <td>2</td>\n",
       "      <td>7</td>\n",
       "      <td>2</td>\n",
       "      <td>0</td>\n",
       "      <td>10</td>\n",
       "      <td>3</td>\n",
       "      <td>74a7ae4b5e052bd7e21e17702dcf27a7</td>\n",
       "      <td>24.0</td>\n",
       "      <td>Homme</td>\n",
       "      <td>170.0</td>\n",
       "      <td>Non</td>\n",
       "    </tr>\n",
       "    <tr>\n",
       "      <th>3967</th>\n",
       "      <td>4</td>\n",
       "      <td>5</td>\n",
       "      <td>1</td>\n",
       "      <td>2</td>\n",
       "      <td>1</td>\n",
       "      <td>3</td>\n",
       "      <td>7</td>\n",
       "      <td>3</td>\n",
       "      <td>74a7ae4b5e052bd7e21e17702dcf27a7</td>\n",
       "      <td>24.0</td>\n",
       "      <td>Homme</td>\n",
       "      <td>170.0</td>\n",
       "      <td>Non</td>\n",
       "    </tr>\n",
       "    <tr>\n",
       "      <th>3968</th>\n",
       "      <td>2</td>\n",
       "      <td>4</td>\n",
       "      <td>4</td>\n",
       "      <td>1</td>\n",
       "      <td>3</td>\n",
       "      <td>8</td>\n",
       "      <td>2</td>\n",
       "      <td>3</td>\n",
       "      <td>74a7ae4b5e052bd7e21e17702dcf27a7</td>\n",
       "      <td>24.0</td>\n",
       "      <td>Homme</td>\n",
       "      <td>170.0</td>\n",
       "      <td>Non</td>\n",
       "    </tr>\n",
       "  </tbody>\n",
       "</table>\n",
       "<p>3402 rows × 13 columns</p>\n",
       "</div>"
      ],
      "text/plain": [
       "      personnage_1  personnage_2  force_1  force_2  scenarios  task_1  task_2  \\\n",
       "0                1             5        7        3          4       8       2   \n",
       "1                5             9        3        6          2       1       9   \n",
       "2                5             8        3        8          3       1       9   \n",
       "3                3             5       10        3          9       0      10   \n",
       "4                8             9        8        6          7       5       5   \n",
       "...            ...           ...      ...      ...        ...     ...     ...   \n",
       "3964             3             8       10        7          6      10       0   \n",
       "3965             3             4       10        1          4       9       1   \n",
       "3966             5             8        2        7          2       0      10   \n",
       "3967             4             5        1        2          1       3       7   \n",
       "3968             2             4        4        1          3       8       2   \n",
       "\n",
       "      repetition_question                    id_participant   age   sexe  \\\n",
       "0                       1  d60c0832fc30e645ca04f074c44b49eb  57.0  Femme   \n",
       "1                       1  d60c0832fc30e645ca04f074c44b49eb  57.0  Femme   \n",
       "2                       1  d60c0832fc30e645ca04f074c44b49eb  57.0  Femme   \n",
       "3                       1  d60c0832fc30e645ca04f074c44b49eb  57.0  Femme   \n",
       "4                       1  d60c0832fc30e645ca04f074c44b49eb  57.0  Femme   \n",
       "...                   ...                               ...   ...    ...   \n",
       "3964                    3  74a7ae4b5e052bd7e21e17702dcf27a7  24.0  Homme   \n",
       "3965                    3  74a7ae4b5e052bd7e21e17702dcf27a7  24.0  Homme   \n",
       "3966                    3  74a7ae4b5e052bd7e21e17702dcf27a7  24.0  Homme   \n",
       "3967                    3  74a7ae4b5e052bd7e21e17702dcf27a7  24.0  Homme   \n",
       "3968                    3  74a7ae4b5e052bd7e21e17702dcf27a7  24.0  Homme   \n",
       "\n",
       "      taille enfant  \n",
       "0      169.0    Oui  \n",
       "1      169.0    Oui  \n",
       "2      169.0    Oui  \n",
       "3      169.0    Oui  \n",
       "4      169.0    Oui  \n",
       "...      ...    ...  \n",
       "3964   170.0    Non  \n",
       "3965   170.0    Non  \n",
       "3966   170.0    Non  \n",
       "3967   170.0    Non  \n",
       "3968   170.0    Non  \n",
       "\n",
       "[3402 rows x 13 columns]"
      ]
     },
     "execution_count": 40,
     "metadata": {},
     "output_type": "execute_result"
    }
   ],
   "source": [
    "throw_bad_answers(online_data)\n",
    "online_data"
   ]
  },
  {
   "cell_type": "code",
   "execution_count": 41,
   "metadata": {
    "ExecuteTime": {
     "end_time": "2023-02-08T10:55:06.494192Z",
     "start_time": "2023-02-08T10:55:06.414406Z"
    }
   },
   "outputs": [
    {
     "data": {
      "text/html": [
       "<div>\n",
       "<style scoped>\n",
       "    .dataframe tbody tr th:only-of-type {\n",
       "        vertical-align: middle;\n",
       "    }\n",
       "\n",
       "    .dataframe tbody tr th {\n",
       "        vertical-align: top;\n",
       "    }\n",
       "\n",
       "    .dataframe thead th {\n",
       "        text-align: right;\n",
       "    }\n",
       "</style>\n",
       "<table border=\"1\" class=\"dataframe\">\n",
       "  <thead>\n",
       "    <tr style=\"text-align: right;\">\n",
       "      <th></th>\n",
       "      <th>personnage_1</th>\n",
       "      <th>personnage_2</th>\n",
       "      <th>force_1</th>\n",
       "      <th>force_2</th>\n",
       "      <th>scenarios</th>\n",
       "      <th>task_1</th>\n",
       "      <th>task_2</th>\n",
       "      <th>repetition_question</th>\n",
       "      <th>id_participant</th>\n",
       "      <th>age</th>\n",
       "      <th>sexe</th>\n",
       "      <th>taille</th>\n",
       "      <th>enfant</th>\n",
       "    </tr>\n",
       "  </thead>\n",
       "  <tbody>\n",
       "    <tr>\n",
       "      <th>3996</th>\n",
       "      <td>1</td>\n",
       "      <td>9</td>\n",
       "      <td>5</td>\n",
       "      <td>8</td>\n",
       "      <td>6</td>\n",
       "      <td>4</td>\n",
       "      <td>6</td>\n",
       "      <td>1</td>\n",
       "      <td>4f98cb43dc3ac5c9072a29e97187da5a</td>\n",
       "      <td>22.0</td>\n",
       "      <td>Homme</td>\n",
       "      <td>173.0</td>\n",
       "      <td>Non</td>\n",
       "    </tr>\n",
       "    <tr>\n",
       "      <th>3997</th>\n",
       "      <td>1</td>\n",
       "      <td>4</td>\n",
       "      <td>5</td>\n",
       "      <td>1</td>\n",
       "      <td>2</td>\n",
       "      <td>8</td>\n",
       "      <td>2</td>\n",
       "      <td>1</td>\n",
       "      <td>4f98cb43dc3ac5c9072a29e97187da5a</td>\n",
       "      <td>22.0</td>\n",
       "      <td>Homme</td>\n",
       "      <td>173.0</td>\n",
       "      <td>Non</td>\n",
       "    </tr>\n",
       "    <tr>\n",
       "      <th>3998</th>\n",
       "      <td>2</td>\n",
       "      <td>4</td>\n",
       "      <td>5</td>\n",
       "      <td>1</td>\n",
       "      <td>3</td>\n",
       "      <td>8</td>\n",
       "      <td>2</td>\n",
       "      <td>1</td>\n",
       "      <td>4f98cb43dc3ac5c9072a29e97187da5a</td>\n",
       "      <td>22.0</td>\n",
       "      <td>Homme</td>\n",
       "      <td>173.0</td>\n",
       "      <td>Non</td>\n",
       "    </tr>\n",
       "    <tr>\n",
       "      <th>3999</th>\n",
       "      <td>4</td>\n",
       "      <td>9</td>\n",
       "      <td>1</td>\n",
       "      <td>8</td>\n",
       "      <td>4</td>\n",
       "      <td>2</td>\n",
       "      <td>8</td>\n",
       "      <td>1</td>\n",
       "      <td>4f98cb43dc3ac5c9072a29e97187da5a</td>\n",
       "      <td>22.0</td>\n",
       "      <td>Homme</td>\n",
       "      <td>173.0</td>\n",
       "      <td>Non</td>\n",
       "    </tr>\n",
       "    <tr>\n",
       "      <th>4000</th>\n",
       "      <td>5</td>\n",
       "      <td>9</td>\n",
       "      <td>4</td>\n",
       "      <td>8</td>\n",
       "      <td>1</td>\n",
       "      <td>3</td>\n",
       "      <td>7</td>\n",
       "      <td>1</td>\n",
       "      <td>4f98cb43dc3ac5c9072a29e97187da5a</td>\n",
       "      <td>22.0</td>\n",
       "      <td>Homme</td>\n",
       "      <td>173.0</td>\n",
       "      <td>Non</td>\n",
       "    </tr>\n",
       "    <tr>\n",
       "      <th>...</th>\n",
       "      <td>...</td>\n",
       "      <td>...</td>\n",
       "      <td>...</td>\n",
       "      <td>...</td>\n",
       "      <td>...</td>\n",
       "      <td>...</td>\n",
       "      <td>...</td>\n",
       "      <td>...</td>\n",
       "      <td>...</td>\n",
       "      <td>...</td>\n",
       "      <td>...</td>\n",
       "      <td>...</td>\n",
       "      <td>...</td>\n",
       "    </tr>\n",
       "    <tr>\n",
       "      <th>5476</th>\n",
       "      <td>5</td>\n",
       "      <td>8</td>\n",
       "      <td>2</td>\n",
       "      <td>6</td>\n",
       "      <td>9</td>\n",
       "      <td>3</td>\n",
       "      <td>7</td>\n",
       "      <td>3</td>\n",
       "      <td>7b8fbb5fae5e4eb769c531237fef990a</td>\n",
       "      <td>25.0</td>\n",
       "      <td>Homme</td>\n",
       "      <td>183.0</td>\n",
       "      <td>Non</td>\n",
       "    </tr>\n",
       "    <tr>\n",
       "      <th>5477</th>\n",
       "      <td>2</td>\n",
       "      <td>9</td>\n",
       "      <td>2</td>\n",
       "      <td>5</td>\n",
       "      <td>7</td>\n",
       "      <td>3</td>\n",
       "      <td>7</td>\n",
       "      <td>3</td>\n",
       "      <td>7b8fbb5fae5e4eb769c531237fef990a</td>\n",
       "      <td>25.0</td>\n",
       "      <td>Homme</td>\n",
       "      <td>183.0</td>\n",
       "      <td>Non</td>\n",
       "    </tr>\n",
       "    <tr>\n",
       "      <th>5478</th>\n",
       "      <td>3</td>\n",
       "      <td>4</td>\n",
       "      <td>10</td>\n",
       "      <td>1</td>\n",
       "      <td>5</td>\n",
       "      <td>9</td>\n",
       "      <td>1</td>\n",
       "      <td>3</td>\n",
       "      <td>7b8fbb5fae5e4eb769c531237fef990a</td>\n",
       "      <td>25.0</td>\n",
       "      <td>Homme</td>\n",
       "      <td>183.0</td>\n",
       "      <td>Non</td>\n",
       "    </tr>\n",
       "    <tr>\n",
       "      <th>5479</th>\n",
       "      <td>1</td>\n",
       "      <td>4</td>\n",
       "      <td>3</td>\n",
       "      <td>1</td>\n",
       "      <td>2</td>\n",
       "      <td>8</td>\n",
       "      <td>2</td>\n",
       "      <td>3</td>\n",
       "      <td>7b8fbb5fae5e4eb769c531237fef990a</td>\n",
       "      <td>25.0</td>\n",
       "      <td>Homme</td>\n",
       "      <td>183.0</td>\n",
       "      <td>Non</td>\n",
       "    </tr>\n",
       "    <tr>\n",
       "      <th>5480</th>\n",
       "      <td>4</td>\n",
       "      <td>9</td>\n",
       "      <td>1</td>\n",
       "      <td>5</td>\n",
       "      <td>4</td>\n",
       "      <td>2</td>\n",
       "      <td>8</td>\n",
       "      <td>3</td>\n",
       "      <td>7b8fbb5fae5e4eb769c531237fef990a</td>\n",
       "      <td>25.0</td>\n",
       "      <td>Homme</td>\n",
       "      <td>183.0</td>\n",
       "      <td>Non</td>\n",
       "    </tr>\n",
       "  </tbody>\n",
       "</table>\n",
       "<p>1377 rows × 13 columns</p>\n",
       "</div>"
      ],
      "text/plain": [
       "      personnage_1  personnage_2  force_1  force_2  scenarios  task_1  task_2  \\\n",
       "3996             1             9        5        8          6       4       6   \n",
       "3997             1             4        5        1          2       8       2   \n",
       "3998             2             4        5        1          3       8       2   \n",
       "3999             4             9        1        8          4       2       8   \n",
       "4000             5             9        4        8          1       3       7   \n",
       "...            ...           ...      ...      ...        ...     ...     ...   \n",
       "5476             5             8        2        6          9       3       7   \n",
       "5477             2             9        2        5          7       3       7   \n",
       "5478             3             4       10        1          5       9       1   \n",
       "5479             1             4        3        1          2       8       2   \n",
       "5480             4             9        1        5          4       2       8   \n",
       "\n",
       "      repetition_question                    id_participant   age   sexe  \\\n",
       "3996                    1  4f98cb43dc3ac5c9072a29e97187da5a  22.0  Homme   \n",
       "3997                    1  4f98cb43dc3ac5c9072a29e97187da5a  22.0  Homme   \n",
       "3998                    1  4f98cb43dc3ac5c9072a29e97187da5a  22.0  Homme   \n",
       "3999                    1  4f98cb43dc3ac5c9072a29e97187da5a  22.0  Homme   \n",
       "4000                    1  4f98cb43dc3ac5c9072a29e97187da5a  22.0  Homme   \n",
       "...                   ...                               ...   ...    ...   \n",
       "5476                    3  7b8fbb5fae5e4eb769c531237fef990a  25.0  Homme   \n",
       "5477                    3  7b8fbb5fae5e4eb769c531237fef990a  25.0  Homme   \n",
       "5478                    3  7b8fbb5fae5e4eb769c531237fef990a  25.0  Homme   \n",
       "5479                    3  7b8fbb5fae5e4eb769c531237fef990a  25.0  Homme   \n",
       "5480                    3  7b8fbb5fae5e4eb769c531237fef990a  25.0  Homme   \n",
       "\n",
       "      taille enfant  \n",
       "3996   173.0    Non  \n",
       "3997   173.0    Non  \n",
       "3998   173.0    Non  \n",
       "3999   173.0    Non  \n",
       "4000   173.0    Non  \n",
       "...      ...    ...  \n",
       "5476   183.0    Non  \n",
       "5477   183.0    Non  \n",
       "5478   183.0    Non  \n",
       "5479   183.0    Non  \n",
       "5480   183.0    Non  \n",
       "\n",
       "[1377 rows x 13 columns]"
      ]
     },
     "execution_count": 41,
     "metadata": {},
     "output_type": "execute_result"
    }
   ],
   "source": [
    "throw_bad_answers(student_data)\n",
    "student_data"
   ]
  },
  {
   "cell_type": "markdown",
   "metadata": {
    "id": "MyEtlFOkbeiL"
   },
   "source": [
    "To make it easier to read the data, we modify the data so that each participant will be associated with an integer. Whether the participant is a parent or not is transformed, 0 if he has no children and 1 if he is a parent. The gender of the participant is represented by a 0 if it is a woman, 1 if it is a man and 2 if other."
   ]
  },
  {
   "cell_type": "code",
   "execution_count": 42,
   "metadata": {
    "ExecuteTime": {
     "end_time": "2023-02-08T10:55:09.184164Z",
     "start_time": "2023-02-08T10:55:09.160228Z"
    },
    "colab": {
     "base_uri": "https://localhost:8080/",
     "height": 488
    },
    "executionInfo": {
     "elapsed": 23,
     "status": "ok",
     "timestamp": 1653048794965,
     "user": {
      "displayName": "Sandra Victor",
      "userId": "08212330953566637160"
     },
     "user_tz": -120
    },
    "id": "B1SDvabhbeiL",
    "outputId": "f5f1a1f8-130d-4db7-9cf6-2a9c45117f46"
   },
   "outputs": [
    {
     "data": {
      "text/html": [
       "<div>\n",
       "<style scoped>\n",
       "    .dataframe tbody tr th:only-of-type {\n",
       "        vertical-align: middle;\n",
       "    }\n",
       "\n",
       "    .dataframe tbody tr th {\n",
       "        vertical-align: top;\n",
       "    }\n",
       "\n",
       "    .dataframe thead th {\n",
       "        text-align: right;\n",
       "    }\n",
       "</style>\n",
       "<table border=\"1\" class=\"dataframe\">\n",
       "  <thead>\n",
       "    <tr style=\"text-align: right;\">\n",
       "      <th></th>\n",
       "      <th>personnage_1</th>\n",
       "      <th>personnage_2</th>\n",
       "      <th>force_1</th>\n",
       "      <th>force_2</th>\n",
       "      <th>scenarios</th>\n",
       "      <th>task_1</th>\n",
       "      <th>task_2</th>\n",
       "      <th>repetition_question</th>\n",
       "      <th>id_participant</th>\n",
       "      <th>age</th>\n",
       "      <th>sexe</th>\n",
       "      <th>taille</th>\n",
       "      <th>enfant</th>\n",
       "    </tr>\n",
       "  </thead>\n",
       "  <tbody>\n",
       "    <tr>\n",
       "      <th>0</th>\n",
       "      <td>1</td>\n",
       "      <td>5</td>\n",
       "      <td>7</td>\n",
       "      <td>3</td>\n",
       "      <td>4</td>\n",
       "      <td>8</td>\n",
       "      <td>2</td>\n",
       "      <td>1</td>\n",
       "      <td>140</td>\n",
       "      <td>57</td>\n",
       "      <td>Femme</td>\n",
       "      <td>169</td>\n",
       "      <td>Oui</td>\n",
       "    </tr>\n",
       "    <tr>\n",
       "      <th>1</th>\n",
       "      <td>5</td>\n",
       "      <td>9</td>\n",
       "      <td>3</td>\n",
       "      <td>6</td>\n",
       "      <td>2</td>\n",
       "      <td>1</td>\n",
       "      <td>9</td>\n",
       "      <td>1</td>\n",
       "      <td>140</td>\n",
       "      <td>57</td>\n",
       "      <td>Femme</td>\n",
       "      <td>169</td>\n",
       "      <td>Oui</td>\n",
       "    </tr>\n",
       "    <tr>\n",
       "      <th>2</th>\n",
       "      <td>5</td>\n",
       "      <td>8</td>\n",
       "      <td>3</td>\n",
       "      <td>8</td>\n",
       "      <td>3</td>\n",
       "      <td>1</td>\n",
       "      <td>9</td>\n",
       "      <td>1</td>\n",
       "      <td>140</td>\n",
       "      <td>57</td>\n",
       "      <td>Femme</td>\n",
       "      <td>169</td>\n",
       "      <td>Oui</td>\n",
       "    </tr>\n",
       "    <tr>\n",
       "      <th>3</th>\n",
       "      <td>3</td>\n",
       "      <td>5</td>\n",
       "      <td>10</td>\n",
       "      <td>3</td>\n",
       "      <td>9</td>\n",
       "      <td>0</td>\n",
       "      <td>10</td>\n",
       "      <td>1</td>\n",
       "      <td>140</td>\n",
       "      <td>57</td>\n",
       "      <td>Femme</td>\n",
       "      <td>169</td>\n",
       "      <td>Oui</td>\n",
       "    </tr>\n",
       "    <tr>\n",
       "      <th>4</th>\n",
       "      <td>8</td>\n",
       "      <td>9</td>\n",
       "      <td>8</td>\n",
       "      <td>6</td>\n",
       "      <td>7</td>\n",
       "      <td>5</td>\n",
       "      <td>5</td>\n",
       "      <td>1</td>\n",
       "      <td>140</td>\n",
       "      <td>57</td>\n",
       "      <td>Femme</td>\n",
       "      <td>169</td>\n",
       "      <td>Oui</td>\n",
       "    </tr>\n",
       "    <tr>\n",
       "      <th>...</th>\n",
       "      <td>...</td>\n",
       "      <td>...</td>\n",
       "      <td>...</td>\n",
       "      <td>...</td>\n",
       "      <td>...</td>\n",
       "      <td>...</td>\n",
       "      <td>...</td>\n",
       "      <td>...</td>\n",
       "      <td>...</td>\n",
       "      <td>...</td>\n",
       "      <td>...</td>\n",
       "      <td>...</td>\n",
       "      <td>...</td>\n",
       "    </tr>\n",
       "    <tr>\n",
       "      <th>5476</th>\n",
       "      <td>5</td>\n",
       "      <td>8</td>\n",
       "      <td>2</td>\n",
       "      <td>6</td>\n",
       "      <td>9</td>\n",
       "      <td>3</td>\n",
       "      <td>7</td>\n",
       "      <td>3</td>\n",
       "      <td>77</td>\n",
       "      <td>25</td>\n",
       "      <td>Homme</td>\n",
       "      <td>183</td>\n",
       "      <td>Non</td>\n",
       "    </tr>\n",
       "    <tr>\n",
       "      <th>5477</th>\n",
       "      <td>2</td>\n",
       "      <td>9</td>\n",
       "      <td>2</td>\n",
       "      <td>5</td>\n",
       "      <td>7</td>\n",
       "      <td>3</td>\n",
       "      <td>7</td>\n",
       "      <td>3</td>\n",
       "      <td>77</td>\n",
       "      <td>25</td>\n",
       "      <td>Homme</td>\n",
       "      <td>183</td>\n",
       "      <td>Non</td>\n",
       "    </tr>\n",
       "    <tr>\n",
       "      <th>5478</th>\n",
       "      <td>3</td>\n",
       "      <td>4</td>\n",
       "      <td>10</td>\n",
       "      <td>1</td>\n",
       "      <td>5</td>\n",
       "      <td>9</td>\n",
       "      <td>1</td>\n",
       "      <td>3</td>\n",
       "      <td>77</td>\n",
       "      <td>25</td>\n",
       "      <td>Homme</td>\n",
       "      <td>183</td>\n",
       "      <td>Non</td>\n",
       "    </tr>\n",
       "    <tr>\n",
       "      <th>5479</th>\n",
       "      <td>1</td>\n",
       "      <td>4</td>\n",
       "      <td>3</td>\n",
       "      <td>1</td>\n",
       "      <td>2</td>\n",
       "      <td>8</td>\n",
       "      <td>2</td>\n",
       "      <td>3</td>\n",
       "      <td>77</td>\n",
       "      <td>25</td>\n",
       "      <td>Homme</td>\n",
       "      <td>183</td>\n",
       "      <td>Non</td>\n",
       "    </tr>\n",
       "    <tr>\n",
       "      <th>5480</th>\n",
       "      <td>4</td>\n",
       "      <td>9</td>\n",
       "      <td>1</td>\n",
       "      <td>5</td>\n",
       "      <td>4</td>\n",
       "      <td>2</td>\n",
       "      <td>8</td>\n",
       "      <td>3</td>\n",
       "      <td>77</td>\n",
       "      <td>25</td>\n",
       "      <td>Homme</td>\n",
       "      <td>183</td>\n",
       "      <td>Non</td>\n",
       "    </tr>\n",
       "  </tbody>\n",
       "</table>\n",
       "<p>4698 rows × 13 columns</p>\n",
       "</div>"
      ],
      "text/plain": [
       "      personnage_1  personnage_2  force_1  force_2  scenarios  task_1  task_2  \\\n",
       "0                1             5        7        3          4       8       2   \n",
       "1                5             9        3        6          2       1       9   \n",
       "2                5             8        3        8          3       1       9   \n",
       "3                3             5       10        3          9       0      10   \n",
       "4                8             9        8        6          7       5       5   \n",
       "...            ...           ...      ...      ...        ...     ...     ...   \n",
       "5476             5             8        2        6          9       3       7   \n",
       "5477             2             9        2        5          7       3       7   \n",
       "5478             3             4       10        1          5       9       1   \n",
       "5479             1             4        3        1          2       8       2   \n",
       "5480             4             9        1        5          4       2       8   \n",
       "\n",
       "      repetition_question  id_participant  age   sexe  taille enfant  \n",
       "0                       1             140   57  Femme     169    Oui  \n",
       "1                       1             140   57  Femme     169    Oui  \n",
       "2                       1             140   57  Femme     169    Oui  \n",
       "3                       1             140   57  Femme     169    Oui  \n",
       "4                       1             140   57  Femme     169    Oui  \n",
       "...                   ...             ...  ...    ...     ...    ...  \n",
       "5476                    3              77   25  Homme     183    Non  \n",
       "5477                    3              77   25  Homme     183    Non  \n",
       "5478                    3              77   25  Homme     183    Non  \n",
       "5479                    3              77   25  Homme     183    Non  \n",
       "5480                    3              77   25  Homme     183    Non  \n",
       "\n",
       "[4698 rows x 13 columns]"
      ]
     },
     "execution_count": 42,
     "metadata": {},
     "output_type": "execute_result"
    }
   ],
   "source": [
    "#We give a number to each participant\n",
    "data[\"id_participant\"] = np.unique(data[\"id_participant\"],\n",
    "                                   return_inverse=True)[1]\n",
    "data"
   ]
  },
  {
   "cell_type": "code",
   "execution_count": 43,
   "metadata": {
    "ExecuteTime": {
     "end_time": "2023-02-08T10:55:10.495789Z",
     "start_time": "2023-02-08T10:55:10.473803Z"
    },
    "colab": {
     "base_uri": "https://localhost:8080/",
     "height": 488
    },
    "executionInfo": {
     "elapsed": 22,
     "status": "ok",
     "timestamp": 1653048794965,
     "user": {
      "displayName": "Sandra Victor",
      "userId": "08212330953566637160"
     },
     "user_tz": -120
    },
    "id": "v8DzJU1FbeiM",
    "outputId": "29fed5bc-8888-43fe-a089-df17f98ac188"
   },
   "outputs": [
    {
     "data": {
      "text/html": [
       "<div>\n",
       "<style scoped>\n",
       "    .dataframe tbody tr th:only-of-type {\n",
       "        vertical-align: middle;\n",
       "    }\n",
       "\n",
       "    .dataframe tbody tr th {\n",
       "        vertical-align: top;\n",
       "    }\n",
       "\n",
       "    .dataframe thead th {\n",
       "        text-align: right;\n",
       "    }\n",
       "</style>\n",
       "<table border=\"1\" class=\"dataframe\">\n",
       "  <thead>\n",
       "    <tr style=\"text-align: right;\">\n",
       "      <th></th>\n",
       "      <th>personnage_1</th>\n",
       "      <th>personnage_2</th>\n",
       "      <th>force_1</th>\n",
       "      <th>force_2</th>\n",
       "      <th>scenarios</th>\n",
       "      <th>task_1</th>\n",
       "      <th>task_2</th>\n",
       "      <th>repetition_question</th>\n",
       "      <th>id_participant</th>\n",
       "      <th>age</th>\n",
       "      <th>sexe</th>\n",
       "      <th>taille</th>\n",
       "      <th>enfant</th>\n",
       "    </tr>\n",
       "  </thead>\n",
       "  <tbody>\n",
       "    <tr>\n",
       "      <th>0</th>\n",
       "      <td>1</td>\n",
       "      <td>5</td>\n",
       "      <td>7</td>\n",
       "      <td>3</td>\n",
       "      <td>4</td>\n",
       "      <td>8</td>\n",
       "      <td>2</td>\n",
       "      <td>1</td>\n",
       "      <td>140</td>\n",
       "      <td>57</td>\n",
       "      <td>Femme</td>\n",
       "      <td>169</td>\n",
       "      <td>1</td>\n",
       "    </tr>\n",
       "    <tr>\n",
       "      <th>1</th>\n",
       "      <td>5</td>\n",
       "      <td>9</td>\n",
       "      <td>3</td>\n",
       "      <td>6</td>\n",
       "      <td>2</td>\n",
       "      <td>1</td>\n",
       "      <td>9</td>\n",
       "      <td>1</td>\n",
       "      <td>140</td>\n",
       "      <td>57</td>\n",
       "      <td>Femme</td>\n",
       "      <td>169</td>\n",
       "      <td>1</td>\n",
       "    </tr>\n",
       "    <tr>\n",
       "      <th>2</th>\n",
       "      <td>5</td>\n",
       "      <td>8</td>\n",
       "      <td>3</td>\n",
       "      <td>8</td>\n",
       "      <td>3</td>\n",
       "      <td>1</td>\n",
       "      <td>9</td>\n",
       "      <td>1</td>\n",
       "      <td>140</td>\n",
       "      <td>57</td>\n",
       "      <td>Femme</td>\n",
       "      <td>169</td>\n",
       "      <td>1</td>\n",
       "    </tr>\n",
       "    <tr>\n",
       "      <th>3</th>\n",
       "      <td>3</td>\n",
       "      <td>5</td>\n",
       "      <td>10</td>\n",
       "      <td>3</td>\n",
       "      <td>9</td>\n",
       "      <td>0</td>\n",
       "      <td>10</td>\n",
       "      <td>1</td>\n",
       "      <td>140</td>\n",
       "      <td>57</td>\n",
       "      <td>Femme</td>\n",
       "      <td>169</td>\n",
       "      <td>1</td>\n",
       "    </tr>\n",
       "    <tr>\n",
       "      <th>4</th>\n",
       "      <td>8</td>\n",
       "      <td>9</td>\n",
       "      <td>8</td>\n",
       "      <td>6</td>\n",
       "      <td>7</td>\n",
       "      <td>5</td>\n",
       "      <td>5</td>\n",
       "      <td>1</td>\n",
       "      <td>140</td>\n",
       "      <td>57</td>\n",
       "      <td>Femme</td>\n",
       "      <td>169</td>\n",
       "      <td>1</td>\n",
       "    </tr>\n",
       "    <tr>\n",
       "      <th>...</th>\n",
       "      <td>...</td>\n",
       "      <td>...</td>\n",
       "      <td>...</td>\n",
       "      <td>...</td>\n",
       "      <td>...</td>\n",
       "      <td>...</td>\n",
       "      <td>...</td>\n",
       "      <td>...</td>\n",
       "      <td>...</td>\n",
       "      <td>...</td>\n",
       "      <td>...</td>\n",
       "      <td>...</td>\n",
       "      <td>...</td>\n",
       "    </tr>\n",
       "    <tr>\n",
       "      <th>5476</th>\n",
       "      <td>5</td>\n",
       "      <td>8</td>\n",
       "      <td>2</td>\n",
       "      <td>6</td>\n",
       "      <td>9</td>\n",
       "      <td>3</td>\n",
       "      <td>7</td>\n",
       "      <td>3</td>\n",
       "      <td>77</td>\n",
       "      <td>25</td>\n",
       "      <td>Homme</td>\n",
       "      <td>183</td>\n",
       "      <td>0</td>\n",
       "    </tr>\n",
       "    <tr>\n",
       "      <th>5477</th>\n",
       "      <td>2</td>\n",
       "      <td>9</td>\n",
       "      <td>2</td>\n",
       "      <td>5</td>\n",
       "      <td>7</td>\n",
       "      <td>3</td>\n",
       "      <td>7</td>\n",
       "      <td>3</td>\n",
       "      <td>77</td>\n",
       "      <td>25</td>\n",
       "      <td>Homme</td>\n",
       "      <td>183</td>\n",
       "      <td>0</td>\n",
       "    </tr>\n",
       "    <tr>\n",
       "      <th>5478</th>\n",
       "      <td>3</td>\n",
       "      <td>4</td>\n",
       "      <td>10</td>\n",
       "      <td>1</td>\n",
       "      <td>5</td>\n",
       "      <td>9</td>\n",
       "      <td>1</td>\n",
       "      <td>3</td>\n",
       "      <td>77</td>\n",
       "      <td>25</td>\n",
       "      <td>Homme</td>\n",
       "      <td>183</td>\n",
       "      <td>0</td>\n",
       "    </tr>\n",
       "    <tr>\n",
       "      <th>5479</th>\n",
       "      <td>1</td>\n",
       "      <td>4</td>\n",
       "      <td>3</td>\n",
       "      <td>1</td>\n",
       "      <td>2</td>\n",
       "      <td>8</td>\n",
       "      <td>2</td>\n",
       "      <td>3</td>\n",
       "      <td>77</td>\n",
       "      <td>25</td>\n",
       "      <td>Homme</td>\n",
       "      <td>183</td>\n",
       "      <td>0</td>\n",
       "    </tr>\n",
       "    <tr>\n",
       "      <th>5480</th>\n",
       "      <td>4</td>\n",
       "      <td>9</td>\n",
       "      <td>1</td>\n",
       "      <td>5</td>\n",
       "      <td>4</td>\n",
       "      <td>2</td>\n",
       "      <td>8</td>\n",
       "      <td>3</td>\n",
       "      <td>77</td>\n",
       "      <td>25</td>\n",
       "      <td>Homme</td>\n",
       "      <td>183</td>\n",
       "      <td>0</td>\n",
       "    </tr>\n",
       "  </tbody>\n",
       "</table>\n",
       "<p>4698 rows × 13 columns</p>\n",
       "</div>"
      ],
      "text/plain": [
       "      personnage_1  personnage_2  force_1  force_2  scenarios  task_1  task_2  \\\n",
       "0                1             5        7        3          4       8       2   \n",
       "1                5             9        3        6          2       1       9   \n",
       "2                5             8        3        8          3       1       9   \n",
       "3                3             5       10        3          9       0      10   \n",
       "4                8             9        8        6          7       5       5   \n",
       "...            ...           ...      ...      ...        ...     ...     ...   \n",
       "5476             5             8        2        6          9       3       7   \n",
       "5477             2             9        2        5          7       3       7   \n",
       "5478             3             4       10        1          5       9       1   \n",
       "5479             1             4        3        1          2       8       2   \n",
       "5480             4             9        1        5          4       2       8   \n",
       "\n",
       "      repetition_question  id_participant  age   sexe  taille  enfant  \n",
       "0                       1             140   57  Femme     169       1  \n",
       "1                       1             140   57  Femme     169       1  \n",
       "2                       1             140   57  Femme     169       1  \n",
       "3                       1             140   57  Femme     169       1  \n",
       "4                       1             140   57  Femme     169       1  \n",
       "...                   ...             ...  ...    ...     ...     ...  \n",
       "5476                    3              77   25  Homme     183       0  \n",
       "5477                    3              77   25  Homme     183       0  \n",
       "5478                    3              77   25  Homme     183       0  \n",
       "5479                    3              77   25  Homme     183       0  \n",
       "5480                    3              77   25  Homme     183       0  \n",
       "\n",
       "[4698 rows x 13 columns]"
      ]
     },
     "execution_count": 43,
     "metadata": {},
     "output_type": "execute_result"
    }
   ],
   "source": [
    "#Convert to number \"Enfant\"\n",
    "data[\"enfant\"] = [0 if i == \"Non\" else 1 for i in data[\"enfant\"]]\n",
    "data"
   ]
  },
  {
   "cell_type": "code",
   "execution_count": 44,
   "metadata": {
    "ExecuteTime": {
     "end_time": "2023-02-08T10:55:11.456482Z",
     "start_time": "2023-02-08T10:55:11.432546Z"
    },
    "colab": {
     "base_uri": "https://localhost:8080/",
     "height": 488
    },
    "executionInfo": {
     "elapsed": 21,
     "status": "ok",
     "timestamp": 1653048794965,
     "user": {
      "displayName": "Sandra Victor",
      "userId": "08212330953566637160"
     },
     "user_tz": -120
    },
    "id": "Uliyc8J0beiM",
    "outputId": "67b47737-0adc-4218-ed8c-19c58015bae9"
   },
   "outputs": [
    {
     "data": {
      "text/html": [
       "<div>\n",
       "<style scoped>\n",
       "    .dataframe tbody tr th:only-of-type {\n",
       "        vertical-align: middle;\n",
       "    }\n",
       "\n",
       "    .dataframe tbody tr th {\n",
       "        vertical-align: top;\n",
       "    }\n",
       "\n",
       "    .dataframe thead th {\n",
       "        text-align: right;\n",
       "    }\n",
       "</style>\n",
       "<table border=\"1\" class=\"dataframe\">\n",
       "  <thead>\n",
       "    <tr style=\"text-align: right;\">\n",
       "      <th></th>\n",
       "      <th>personnage_1</th>\n",
       "      <th>personnage_2</th>\n",
       "      <th>force_1</th>\n",
       "      <th>force_2</th>\n",
       "      <th>scenarios</th>\n",
       "      <th>task_1</th>\n",
       "      <th>task_2</th>\n",
       "      <th>repetition_question</th>\n",
       "      <th>id_participant</th>\n",
       "      <th>age</th>\n",
       "      <th>sexe</th>\n",
       "      <th>taille</th>\n",
       "      <th>enfant</th>\n",
       "    </tr>\n",
       "  </thead>\n",
       "  <tbody>\n",
       "    <tr>\n",
       "      <th>0</th>\n",
       "      <td>1</td>\n",
       "      <td>5</td>\n",
       "      <td>7</td>\n",
       "      <td>3</td>\n",
       "      <td>4</td>\n",
       "      <td>8</td>\n",
       "      <td>2</td>\n",
       "      <td>1</td>\n",
       "      <td>140</td>\n",
       "      <td>57</td>\n",
       "      <td>0</td>\n",
       "      <td>169</td>\n",
       "      <td>1</td>\n",
       "    </tr>\n",
       "    <tr>\n",
       "      <th>1</th>\n",
       "      <td>5</td>\n",
       "      <td>9</td>\n",
       "      <td>3</td>\n",
       "      <td>6</td>\n",
       "      <td>2</td>\n",
       "      <td>1</td>\n",
       "      <td>9</td>\n",
       "      <td>1</td>\n",
       "      <td>140</td>\n",
       "      <td>57</td>\n",
       "      <td>0</td>\n",
       "      <td>169</td>\n",
       "      <td>1</td>\n",
       "    </tr>\n",
       "    <tr>\n",
       "      <th>2</th>\n",
       "      <td>5</td>\n",
       "      <td>8</td>\n",
       "      <td>3</td>\n",
       "      <td>8</td>\n",
       "      <td>3</td>\n",
       "      <td>1</td>\n",
       "      <td>9</td>\n",
       "      <td>1</td>\n",
       "      <td>140</td>\n",
       "      <td>57</td>\n",
       "      <td>0</td>\n",
       "      <td>169</td>\n",
       "      <td>1</td>\n",
       "    </tr>\n",
       "    <tr>\n",
       "      <th>3</th>\n",
       "      <td>3</td>\n",
       "      <td>5</td>\n",
       "      <td>10</td>\n",
       "      <td>3</td>\n",
       "      <td>9</td>\n",
       "      <td>0</td>\n",
       "      <td>10</td>\n",
       "      <td>1</td>\n",
       "      <td>140</td>\n",
       "      <td>57</td>\n",
       "      <td>0</td>\n",
       "      <td>169</td>\n",
       "      <td>1</td>\n",
       "    </tr>\n",
       "    <tr>\n",
       "      <th>4</th>\n",
       "      <td>8</td>\n",
       "      <td>9</td>\n",
       "      <td>8</td>\n",
       "      <td>6</td>\n",
       "      <td>7</td>\n",
       "      <td>5</td>\n",
       "      <td>5</td>\n",
       "      <td>1</td>\n",
       "      <td>140</td>\n",
       "      <td>57</td>\n",
       "      <td>0</td>\n",
       "      <td>169</td>\n",
       "      <td>1</td>\n",
       "    </tr>\n",
       "    <tr>\n",
       "      <th>...</th>\n",
       "      <td>...</td>\n",
       "      <td>...</td>\n",
       "      <td>...</td>\n",
       "      <td>...</td>\n",
       "      <td>...</td>\n",
       "      <td>...</td>\n",
       "      <td>...</td>\n",
       "      <td>...</td>\n",
       "      <td>...</td>\n",
       "      <td>...</td>\n",
       "      <td>...</td>\n",
       "      <td>...</td>\n",
       "      <td>...</td>\n",
       "    </tr>\n",
       "    <tr>\n",
       "      <th>5476</th>\n",
       "      <td>5</td>\n",
       "      <td>8</td>\n",
       "      <td>2</td>\n",
       "      <td>6</td>\n",
       "      <td>9</td>\n",
       "      <td>3</td>\n",
       "      <td>7</td>\n",
       "      <td>3</td>\n",
       "      <td>77</td>\n",
       "      <td>25</td>\n",
       "      <td>1</td>\n",
       "      <td>183</td>\n",
       "      <td>0</td>\n",
       "    </tr>\n",
       "    <tr>\n",
       "      <th>5477</th>\n",
       "      <td>2</td>\n",
       "      <td>9</td>\n",
       "      <td>2</td>\n",
       "      <td>5</td>\n",
       "      <td>7</td>\n",
       "      <td>3</td>\n",
       "      <td>7</td>\n",
       "      <td>3</td>\n",
       "      <td>77</td>\n",
       "      <td>25</td>\n",
       "      <td>1</td>\n",
       "      <td>183</td>\n",
       "      <td>0</td>\n",
       "    </tr>\n",
       "    <tr>\n",
       "      <th>5478</th>\n",
       "      <td>3</td>\n",
       "      <td>4</td>\n",
       "      <td>10</td>\n",
       "      <td>1</td>\n",
       "      <td>5</td>\n",
       "      <td>9</td>\n",
       "      <td>1</td>\n",
       "      <td>3</td>\n",
       "      <td>77</td>\n",
       "      <td>25</td>\n",
       "      <td>1</td>\n",
       "      <td>183</td>\n",
       "      <td>0</td>\n",
       "    </tr>\n",
       "    <tr>\n",
       "      <th>5479</th>\n",
       "      <td>1</td>\n",
       "      <td>4</td>\n",
       "      <td>3</td>\n",
       "      <td>1</td>\n",
       "      <td>2</td>\n",
       "      <td>8</td>\n",
       "      <td>2</td>\n",
       "      <td>3</td>\n",
       "      <td>77</td>\n",
       "      <td>25</td>\n",
       "      <td>1</td>\n",
       "      <td>183</td>\n",
       "      <td>0</td>\n",
       "    </tr>\n",
       "    <tr>\n",
       "      <th>5480</th>\n",
       "      <td>4</td>\n",
       "      <td>9</td>\n",
       "      <td>1</td>\n",
       "      <td>5</td>\n",
       "      <td>4</td>\n",
       "      <td>2</td>\n",
       "      <td>8</td>\n",
       "      <td>3</td>\n",
       "      <td>77</td>\n",
       "      <td>25</td>\n",
       "      <td>1</td>\n",
       "      <td>183</td>\n",
       "      <td>0</td>\n",
       "    </tr>\n",
       "  </tbody>\n",
       "</table>\n",
       "<p>4698 rows × 13 columns</p>\n",
       "</div>"
      ],
      "text/plain": [
       "      personnage_1  personnage_2  force_1  force_2  scenarios  task_1  task_2  \\\n",
       "0                1             5        7        3          4       8       2   \n",
       "1                5             9        3        6          2       1       9   \n",
       "2                5             8        3        8          3       1       9   \n",
       "3                3             5       10        3          9       0      10   \n",
       "4                8             9        8        6          7       5       5   \n",
       "...            ...           ...      ...      ...        ...     ...     ...   \n",
       "5476             5             8        2        6          9       3       7   \n",
       "5477             2             9        2        5          7       3       7   \n",
       "5478             3             4       10        1          5       9       1   \n",
       "5479             1             4        3        1          2       8       2   \n",
       "5480             4             9        1        5          4       2       8   \n",
       "\n",
       "      repetition_question  id_participant  age  sexe  taille  enfant  \n",
       "0                       1             140   57     0     169       1  \n",
       "1                       1             140   57     0     169       1  \n",
       "2                       1             140   57     0     169       1  \n",
       "3                       1             140   57     0     169       1  \n",
       "4                       1             140   57     0     169       1  \n",
       "...                   ...             ...  ...   ...     ...     ...  \n",
       "5476                    3              77   25     1     183       0  \n",
       "5477                    3              77   25     1     183       0  \n",
       "5478                    3              77   25     1     183       0  \n",
       "5479                    3              77   25     1     183       0  \n",
       "5480                    3              77   25     1     183       0  \n",
       "\n",
       "[4698 rows x 13 columns]"
      ]
     },
     "execution_count": 44,
     "metadata": {},
     "output_type": "execute_result"
    }
   ],
   "source": [
    "#Associate a number to each gender\n",
    "data[\"sexe\"] = [\n",
    "    0 if i == \"Femme\" else 1 if i == \"Homme\" else 2 for i in data[\"sexe\"]\n",
    "]\n",
    "data"
   ]
  },
  {
   "cell_type": "markdown",
   "metadata": {
    "id": "8CWOvXEVbeiN"
   },
   "source": [
    "It is assumed that the left/right position of the characters in the question did not influence the participants. To do this, we double the data by inverting the left character with the right character, the same for the assigned force and the decision taken in the scenario."
   ]
  },
  {
   "cell_type": "code",
   "execution_count": 45,
   "metadata": {
    "ExecuteTime": {
     "end_time": "2023-02-08T10:55:13.438160Z",
     "start_time": "2023-02-08T10:55:13.421206Z"
    }
   },
   "outputs": [
    {
     "data": {
      "text/html": [
       "<div>\n",
       "<style scoped>\n",
       "    .dataframe tbody tr th:only-of-type {\n",
       "        vertical-align: middle;\n",
       "    }\n",
       "\n",
       "    .dataframe tbody tr th {\n",
       "        vertical-align: top;\n",
       "    }\n",
       "\n",
       "    .dataframe thead th {\n",
       "        text-align: right;\n",
       "    }\n",
       "</style>\n",
       "<table border=\"1\" class=\"dataframe\">\n",
       "  <thead>\n",
       "    <tr style=\"text-align: right;\">\n",
       "      <th></th>\n",
       "      <th>personnage_1</th>\n",
       "      <th>personnage_2</th>\n",
       "      <th>force_1</th>\n",
       "      <th>force_2</th>\n",
       "      <th>scenarios</th>\n",
       "      <th>task_1</th>\n",
       "      <th>task_2</th>\n",
       "      <th>repetition_question</th>\n",
       "      <th>id_participant</th>\n",
       "      <th>age</th>\n",
       "      <th>sexe</th>\n",
       "      <th>taille</th>\n",
       "      <th>enfant</th>\n",
       "    </tr>\n",
       "  </thead>\n",
       "  <tbody>\n",
       "    <tr>\n",
       "      <th>0</th>\n",
       "      <td>1</td>\n",
       "      <td>5</td>\n",
       "      <td>7</td>\n",
       "      <td>3</td>\n",
       "      <td>4</td>\n",
       "      <td>8</td>\n",
       "      <td>2</td>\n",
       "      <td>1</td>\n",
       "      <td>140</td>\n",
       "      <td>57</td>\n",
       "      <td>0</td>\n",
       "      <td>169</td>\n",
       "      <td>1</td>\n",
       "    </tr>\n",
       "    <tr>\n",
       "      <th>1</th>\n",
       "      <td>5</td>\n",
       "      <td>9</td>\n",
       "      <td>3</td>\n",
       "      <td>6</td>\n",
       "      <td>2</td>\n",
       "      <td>1</td>\n",
       "      <td>9</td>\n",
       "      <td>1</td>\n",
       "      <td>140</td>\n",
       "      <td>57</td>\n",
       "      <td>0</td>\n",
       "      <td>169</td>\n",
       "      <td>1</td>\n",
       "    </tr>\n",
       "    <tr>\n",
       "      <th>2</th>\n",
       "      <td>5</td>\n",
       "      <td>8</td>\n",
       "      <td>3</td>\n",
       "      <td>8</td>\n",
       "      <td>3</td>\n",
       "      <td>1</td>\n",
       "      <td>9</td>\n",
       "      <td>1</td>\n",
       "      <td>140</td>\n",
       "      <td>57</td>\n",
       "      <td>0</td>\n",
       "      <td>169</td>\n",
       "      <td>1</td>\n",
       "    </tr>\n",
       "    <tr>\n",
       "      <th>3</th>\n",
       "      <td>3</td>\n",
       "      <td>5</td>\n",
       "      <td>10</td>\n",
       "      <td>3</td>\n",
       "      <td>9</td>\n",
       "      <td>0</td>\n",
       "      <td>10</td>\n",
       "      <td>1</td>\n",
       "      <td>140</td>\n",
       "      <td>57</td>\n",
       "      <td>0</td>\n",
       "      <td>169</td>\n",
       "      <td>1</td>\n",
       "    </tr>\n",
       "    <tr>\n",
       "      <th>4</th>\n",
       "      <td>8</td>\n",
       "      <td>9</td>\n",
       "      <td>8</td>\n",
       "      <td>6</td>\n",
       "      <td>7</td>\n",
       "      <td>5</td>\n",
       "      <td>5</td>\n",
       "      <td>1</td>\n",
       "      <td>140</td>\n",
       "      <td>57</td>\n",
       "      <td>0</td>\n",
       "      <td>169</td>\n",
       "      <td>1</td>\n",
       "    </tr>\n",
       "    <tr>\n",
       "      <th>...</th>\n",
       "      <td>...</td>\n",
       "      <td>...</td>\n",
       "      <td>...</td>\n",
       "      <td>...</td>\n",
       "      <td>...</td>\n",
       "      <td>...</td>\n",
       "      <td>...</td>\n",
       "      <td>...</td>\n",
       "      <td>...</td>\n",
       "      <td>...</td>\n",
       "      <td>...</td>\n",
       "      <td>...</td>\n",
       "      <td>...</td>\n",
       "    </tr>\n",
       "    <tr>\n",
       "      <th>9391</th>\n",
       "      <td>8</td>\n",
       "      <td>5</td>\n",
       "      <td>6</td>\n",
       "      <td>2</td>\n",
       "      <td>9</td>\n",
       "      <td>7</td>\n",
       "      <td>3</td>\n",
       "      <td>3</td>\n",
       "      <td>77</td>\n",
       "      <td>25</td>\n",
       "      <td>1</td>\n",
       "      <td>183</td>\n",
       "      <td>0</td>\n",
       "    </tr>\n",
       "    <tr>\n",
       "      <th>9392</th>\n",
       "      <td>9</td>\n",
       "      <td>2</td>\n",
       "      <td>5</td>\n",
       "      <td>2</td>\n",
       "      <td>7</td>\n",
       "      <td>7</td>\n",
       "      <td>3</td>\n",
       "      <td>3</td>\n",
       "      <td>77</td>\n",
       "      <td>25</td>\n",
       "      <td>1</td>\n",
       "      <td>183</td>\n",
       "      <td>0</td>\n",
       "    </tr>\n",
       "    <tr>\n",
       "      <th>9393</th>\n",
       "      <td>4</td>\n",
       "      <td>3</td>\n",
       "      <td>1</td>\n",
       "      <td>10</td>\n",
       "      <td>5</td>\n",
       "      <td>1</td>\n",
       "      <td>9</td>\n",
       "      <td>3</td>\n",
       "      <td>77</td>\n",
       "      <td>25</td>\n",
       "      <td>1</td>\n",
       "      <td>183</td>\n",
       "      <td>0</td>\n",
       "    </tr>\n",
       "    <tr>\n",
       "      <th>9394</th>\n",
       "      <td>4</td>\n",
       "      <td>1</td>\n",
       "      <td>1</td>\n",
       "      <td>3</td>\n",
       "      <td>2</td>\n",
       "      <td>2</td>\n",
       "      <td>8</td>\n",
       "      <td>3</td>\n",
       "      <td>77</td>\n",
       "      <td>25</td>\n",
       "      <td>1</td>\n",
       "      <td>183</td>\n",
       "      <td>0</td>\n",
       "    </tr>\n",
       "    <tr>\n",
       "      <th>9395</th>\n",
       "      <td>9</td>\n",
       "      <td>4</td>\n",
       "      <td>5</td>\n",
       "      <td>1</td>\n",
       "      <td>4</td>\n",
       "      <td>8</td>\n",
       "      <td>2</td>\n",
       "      <td>3</td>\n",
       "      <td>77</td>\n",
       "      <td>25</td>\n",
       "      <td>1</td>\n",
       "      <td>183</td>\n",
       "      <td>0</td>\n",
       "    </tr>\n",
       "  </tbody>\n",
       "</table>\n",
       "<p>9396 rows × 13 columns</p>\n",
       "</div>"
      ],
      "text/plain": [
       "      personnage_1  personnage_2  force_1  force_2  scenarios  task_1  task_2  \\\n",
       "0                1             5        7        3          4       8       2   \n",
       "1                5             9        3        6          2       1       9   \n",
       "2                5             8        3        8          3       1       9   \n",
       "3                3             5       10        3          9       0      10   \n",
       "4                8             9        8        6          7       5       5   \n",
       "...            ...           ...      ...      ...        ...     ...     ...   \n",
       "9391             8             5        6        2          9       7       3   \n",
       "9392             9             2        5        2          7       7       3   \n",
       "9393             4             3        1       10          5       1       9   \n",
       "9394             4             1        1        3          2       2       8   \n",
       "9395             9             4        5        1          4       8       2   \n",
       "\n",
       "      repetition_question  id_participant  age  sexe  taille  enfant  \n",
       "0                       1             140   57     0     169       1  \n",
       "1                       1             140   57     0     169       1  \n",
       "2                       1             140   57     0     169       1  \n",
       "3                       1             140   57     0     169       1  \n",
       "4                       1             140   57     0     169       1  \n",
       "...                   ...             ...  ...   ...     ...     ...  \n",
       "9391                    3              77   25     1     183       0  \n",
       "9392                    3              77   25     1     183       0  \n",
       "9393                    3              77   25     1     183       0  \n",
       "9394                    3              77   25     1     183       0  \n",
       "9395                    3              77   25     1     183       0  \n",
       "\n",
       "[9396 rows x 13 columns]"
      ]
     },
     "execution_count": 45,
     "metadata": {},
     "output_type": "execute_result"
    }
   ],
   "source": [
    "#We make the assumption that changing the order does not influence people\n",
    "data2 = data.copy(deep=True)\n",
    "\n",
    "for s in [\"personnage\", \"force\", \"task\"]:\n",
    "    data2[s + \"_1\"] = data[s + \"_2\"]\n",
    "    data2[s + \"_2\"] = data[s + \"_1\"]\n",
    "\n",
    "data = pd.concat([data, data2]).reset_index(drop=True)\n",
    "\n",
    "data"
   ]
  },
  {
   "cell_type": "markdown",
   "metadata": {
    "id": "PpAGoz3ibeiO"
   },
   "source": [
    "# III. Statistics <a class=\"anchor\" id=\"chapter3\"></a>"
   ]
  },
  {
   "cell_type": "markdown",
   "metadata": {
    "id": "AHVWqrB_beiO"
   },
   "source": [
    "We will now conduct an initial statistical study of our data in order to observe all possible correlations as well as the biases found in decision-making. In order to show that there are significant differences in decision-making, we will do several ANOVA tests, on the different groups we want to study.\n",
    "Once this analysis is done, we will look in detail at each of the correlations and biases that we can find."
   ]
  },
  {
   "cell_type": "markdown",
   "metadata": {
    "id": "_dncalxsbeiO"
   },
   "source": [
    "## III.A ANOVA <a class=\"anchor\" id=\"section_3_1\"></a>"
   ]
  },
  {
   "cell_type": "markdown",
   "metadata": {
    "id": "EkCHn20abeiO"
   },
   "source": [
    "A one way ANOVA test by scenario type is performed on each character class. Men of different sizes are grouped together and similarly for women. We will therefore create a dataframe for each ANOVA test to simplify the calculation."
   ]
  },
  {
   "cell_type": "code",
   "execution_count": 70,
   "metadata": {
    "ExecuteTime": {
     "end_time": "2023-02-08T13:29:49.977854Z",
     "start_time": "2023-02-08T13:29:49.944941Z"
    },
    "code_folding": []
   },
   "outputs": [
    {
     "data": {
      "text/html": [
       "<div>\n",
       "<style scoped>\n",
       "    .dataframe tbody tr th:only-of-type {\n",
       "        vertical-align: middle;\n",
       "    }\n",
       "\n",
       "    .dataframe tbody tr th {\n",
       "        vertical-align: top;\n",
       "    }\n",
       "\n",
       "    .dataframe thead th {\n",
       "        text-align: right;\n",
       "    }\n",
       "</style>\n",
       "<table border=\"1\" class=\"dataframe\">\n",
       "  <thead>\n",
       "    <tr style=\"text-align: right;\">\n",
       "      <th></th>\n",
       "      <th>personnage_1</th>\n",
       "      <th>personnage_2</th>\n",
       "      <th>force_1</th>\n",
       "      <th>force_2</th>\n",
       "      <th>scenarios</th>\n",
       "      <th>task_1</th>\n",
       "      <th>task_2</th>\n",
       "      <th>repetition_question</th>\n",
       "      <th>id_participant</th>\n",
       "      <th>age</th>\n",
       "      <th>sexe</th>\n",
       "      <th>taille</th>\n",
       "      <th>enfant</th>\n",
       "    </tr>\n",
       "  </thead>\n",
       "  <tbody>\n",
       "    <tr>\n",
       "      <th>1</th>\n",
       "      <td>Personne âgée</td>\n",
       "      <td>Femme grande</td>\n",
       "      <td>3</td>\n",
       "      <td>6</td>\n",
       "      <td>2</td>\n",
       "      <td>1</td>\n",
       "      <td>9</td>\n",
       "      <td>1</td>\n",
       "      <td>140</td>\n",
       "      <td>57</td>\n",
       "      <td>0</td>\n",
       "      <td>169</td>\n",
       "      <td>1</td>\n",
       "    </tr>\n",
       "    <tr>\n",
       "      <th>2</th>\n",
       "      <td>Personne âgée</td>\n",
       "      <td>Homme grand</td>\n",
       "      <td>3</td>\n",
       "      <td>8</td>\n",
       "      <td>3</td>\n",
       "      <td>1</td>\n",
       "      <td>9</td>\n",
       "      <td>1</td>\n",
       "      <td>140</td>\n",
       "      <td>57</td>\n",
       "      <td>0</td>\n",
       "      <td>169</td>\n",
       "      <td>1</td>\n",
       "    </tr>\n",
       "    <tr>\n",
       "      <th>6</th>\n",
       "      <td>Enfant</td>\n",
       "      <td>Personne âgée</td>\n",
       "      <td>1</td>\n",
       "      <td>3</td>\n",
       "      <td>1</td>\n",
       "      <td>5</td>\n",
       "      <td>5</td>\n",
       "      <td>1</td>\n",
       "      <td>140</td>\n",
       "      <td>57</td>\n",
       "      <td>0</td>\n",
       "      <td>169</td>\n",
       "      <td>1</td>\n",
       "    </tr>\n",
       "    <tr>\n",
       "      <th>11</th>\n",
       "      <td>Personne âgée</td>\n",
       "      <td>Femme grande</td>\n",
       "      <td>3</td>\n",
       "      <td>6</td>\n",
       "      <td>2</td>\n",
       "      <td>1</td>\n",
       "      <td>9</td>\n",
       "      <td>2</td>\n",
       "      <td>140</td>\n",
       "      <td>57</td>\n",
       "      <td>0</td>\n",
       "      <td>169</td>\n",
       "      <td>1</td>\n",
       "    </tr>\n",
       "    <tr>\n",
       "      <th>14</th>\n",
       "      <td>Enfant</td>\n",
       "      <td>Personne âgée</td>\n",
       "      <td>1</td>\n",
       "      <td>3</td>\n",
       "      <td>1</td>\n",
       "      <td>5</td>\n",
       "      <td>5</td>\n",
       "      <td>2</td>\n",
       "      <td>140</td>\n",
       "      <td>57</td>\n",
       "      <td>0</td>\n",
       "      <td>169</td>\n",
       "      <td>1</td>\n",
       "    </tr>\n",
       "    <tr>\n",
       "      <th>...</th>\n",
       "      <td>...</td>\n",
       "      <td>...</td>\n",
       "      <td>...</td>\n",
       "      <td>...</td>\n",
       "      <td>...</td>\n",
       "      <td>...</td>\n",
       "      <td>...</td>\n",
       "      <td>...</td>\n",
       "      <td>...</td>\n",
       "      <td>...</td>\n",
       "      <td>...</td>\n",
       "      <td>...</td>\n",
       "      <td>...</td>\n",
       "    </tr>\n",
       "    <tr>\n",
       "      <th>9385</th>\n",
       "      <td>Enfant</td>\n",
       "      <td>Homme</td>\n",
       "      <td>1</td>\n",
       "      <td>3</td>\n",
       "      <td>2</td>\n",
       "      <td>3</td>\n",
       "      <td>7</td>\n",
       "      <td>2</td>\n",
       "      <td>77</td>\n",
       "      <td>25</td>\n",
       "      <td>1</td>\n",
       "      <td>183</td>\n",
       "      <td>0</td>\n",
       "    </tr>\n",
       "    <tr>\n",
       "      <th>9386</th>\n",
       "      <td>Homme grand</td>\n",
       "      <td>Homme</td>\n",
       "      <td>6</td>\n",
       "      <td>3</td>\n",
       "      <td>1</td>\n",
       "      <td>6</td>\n",
       "      <td>4</td>\n",
       "      <td>2</td>\n",
       "      <td>77</td>\n",
       "      <td>25</td>\n",
       "      <td>1</td>\n",
       "      <td>183</td>\n",
       "      <td>0</td>\n",
       "    </tr>\n",
       "    <tr>\n",
       "      <th>9387</th>\n",
       "      <td>Personne âgée</td>\n",
       "      <td>Enfant</td>\n",
       "      <td>2</td>\n",
       "      <td>1</td>\n",
       "      <td>3</td>\n",
       "      <td>5</td>\n",
       "      <td>5</td>\n",
       "      <td>3</td>\n",
       "      <td>77</td>\n",
       "      <td>25</td>\n",
       "      <td>1</td>\n",
       "      <td>183</td>\n",
       "      <td>0</td>\n",
       "    </tr>\n",
       "    <tr>\n",
       "      <th>9390</th>\n",
       "      <td>Homme grand</td>\n",
       "      <td>Homme</td>\n",
       "      <td>6</td>\n",
       "      <td>3</td>\n",
       "      <td>1</td>\n",
       "      <td>7</td>\n",
       "      <td>3</td>\n",
       "      <td>3</td>\n",
       "      <td>77</td>\n",
       "      <td>25</td>\n",
       "      <td>1</td>\n",
       "      <td>183</td>\n",
       "      <td>0</td>\n",
       "    </tr>\n",
       "    <tr>\n",
       "      <th>9394</th>\n",
       "      <td>Enfant</td>\n",
       "      <td>Homme</td>\n",
       "      <td>1</td>\n",
       "      <td>3</td>\n",
       "      <td>2</td>\n",
       "      <td>2</td>\n",
       "      <td>8</td>\n",
       "      <td>3</td>\n",
       "      <td>77</td>\n",
       "      <td>25</td>\n",
       "      <td>1</td>\n",
       "      <td>183</td>\n",
       "      <td>0</td>\n",
       "    </tr>\n",
       "  </tbody>\n",
       "</table>\n",
       "<p>3132 rows × 13 columns</p>\n",
       "</div>"
      ],
      "text/plain": [
       "       personnage_1   personnage_2  force_1  force_2  scenarios  task_1  \\\n",
       "1     Personne âgée   Femme grande        3        6          2       1   \n",
       "2     Personne âgée    Homme grand        3        8          3       1   \n",
       "6            Enfant  Personne âgée        1        3          1       5   \n",
       "11    Personne âgée   Femme grande        3        6          2       1   \n",
       "14           Enfant  Personne âgée        1        3          1       5   \n",
       "...             ...            ...      ...      ...        ...     ...   \n",
       "9385         Enfant          Homme        1        3          2       3   \n",
       "9386    Homme grand          Homme        6        3          1       6   \n",
       "9387  Personne âgée         Enfant        2        1          3       5   \n",
       "9390    Homme grand          Homme        6        3          1       7   \n",
       "9394         Enfant          Homme        1        3          2       2   \n",
       "\n",
       "      task_2  repetition_question  id_participant  age  sexe  taille  enfant  \n",
       "1          9                    1             140   57     0     169       1  \n",
       "2          9                    1             140   57     0     169       1  \n",
       "6          5                    1             140   57     0     169       1  \n",
       "11         9                    2             140   57     0     169       1  \n",
       "14         5                    2             140   57     0     169       1  \n",
       "...      ...                  ...             ...  ...   ...     ...     ...  \n",
       "9385       7                    2              77   25     1     183       0  \n",
       "9386       4                    2              77   25     1     183       0  \n",
       "9387       5                    3              77   25     1     183       0  \n",
       "9390       3                    3              77   25     1     183       0  \n",
       "9394       8                    3              77   25     1     183       0  \n",
       "\n",
       "[3132 rows x 13 columns]"
      ]
     },
     "execution_count": 70,
     "metadata": {},
     "output_type": "execute_result"
    }
   ],
   "source": [
    "data_stats = data.copy()\n",
    "#for s in range(1, 3):\n",
    "#    data_stats[\"personnage_\" + str(s)] = [\n",
    "#        1 if i == 8 else 2 if i == 9 else i\n",
    "#        for i in data_stats[\"personnage_\" + str(s)]\n",
    "#    ]\n",
    "#data_analyze = data_stats.copy()\n",
    "for s in range(1, 3):\n",
    "    data_stats[\"personnage_\" + str(s)] = [\n",
    "            'Homme' if i == 1 else 'Femme' if i == 2 else 'Robot'\n",
    "            if i == 3 else 'Enfant' if i == 4 else 'Personne âgée' if i == 5 else 'Homme grand' if i == 8 else 'Femme grande' if i == 9 else i\n",
    "            for i in data_stats[\"personnage_\" + str(s)]\n",
    "        ]\n",
    "data_stats_d = data_stats[data_stats.scenarios < 4]\n",
    "data_stats_f = data_stats[(data_stats.scenarios > 3)\n",
    "                          & (data_stats.scenarios < 7)]\n",
    "data_stats_r = data_stats[data_stats.scenarios > 6]\n",
    "data_stats_d"
   ]
  },
  {
   "cell_type": "code",
   "execution_count": 71,
   "metadata": {
    "ExecuteTime": {
     "end_time": "2023-02-08T13:29:53.385569Z",
     "start_time": "2023-02-08T13:29:53.312790Z"
    }
   },
   "outputs": [
    {
     "name": "stdout",
     "output_type": "stream",
     "text": [
      "\n",
      " ANOVA IN DANGER\n",
      "                     df        sum_sq      mean_sq           F         PR(>F)\n",
      "C(personnage_1)     6.0   8398.825331  1399.804222  252.866872  3.666007e-264\n",
      "Residual         3125.0  17299.174669     5.535736         NaN            NaN\n",
      "\n",
      " ANOVA IN FATIGUE\n",
      "                     df        sum_sq      mean_sq          F  PR(>F)\n",
      "C(personnage_1)     6.0  12651.612976  2108.602163  391.61002     0.0\n",
      "Residual         3125.0  16826.387024     5.384444        NaN     NaN\n",
      "\n",
      " ANOVA IN REWARD\n",
      "                     df        sum_sq     mean_sq           F         PR(>F)\n",
      "C(personnage_1)     6.0   5969.573685  994.928947  200.300707  1.472506e-216\n",
      "Residual         3125.0  15522.426315    4.967176         NaN            NaN\n"
     ]
    }
   ],
   "source": [
    "lm = sfa.ols('task_1 ~ C(personnage_1)', data=data_stats_d).fit()\n",
    "anova = sa.stats.anova_lm(lm)\n",
    "print('\\n ANOVA IN DANGER')\n",
    "print(anova)\n",
    "lm = sfa.ols('task_1 ~ C(personnage_1)', data=data_stats_f).fit()\n",
    "anova = sa.stats.anova_lm(lm)\n",
    "print('\\n ANOVA IN FATIGUE')\n",
    "print(anova)\n",
    "lm = sfa.ols('task_1 ~ C(personnage_1)', data=data_stats_r).fit()\n",
    "anova = sa.stats.anova_lm(lm)\n",
    "print('\\n ANOVA IN REWARD')\n",
    "print(anova)"
   ]
  },
  {
   "cell_type": "markdown",
   "metadata": {},
   "source": [
    "The results tell us that there is a significant difference between groups means (p_danger = 2.287428e-199, p_fatigue = 2.423372e-249, p_reward = 7.457510e-151), but does not tell us the exact group pairs which are different in means. To obtain pairwise group differences, we will carry out a posteriori (post hoc) analysis using scikits-posthocs package. The calculation of correct p validates the significance by multiplying the p-value by 4. Student T test applied pairwisely gives us the following p values."
   ]
  },
  {
   "cell_type": "code",
   "execution_count": 72,
   "metadata": {
    "ExecuteTime": {
     "end_time": "2023-02-08T13:29:57.543967Z",
     "start_time": "2023-02-08T13:29:57.435226Z"
    }
   },
   "outputs": [
    {
     "name": "stdout",
     "output_type": "stream",
     "text": [
      "POST HOC IN DANGER\n"
     ]
    },
    {
     "data": {
      "text/html": [
       "<div>\n",
       "<style scoped>\n",
       "    .dataframe tbody tr th:only-of-type {\n",
       "        vertical-align: middle;\n",
       "    }\n",
       "\n",
       "    .dataframe tbody tr th {\n",
       "        vertical-align: top;\n",
       "    }\n",
       "\n",
       "    .dataframe thead th {\n",
       "        text-align: right;\n",
       "    }\n",
       "</style>\n",
       "<table border=\"1\" class=\"dataframe\">\n",
       "  <thead>\n",
       "    <tr style=\"text-align: right;\">\n",
       "      <th></th>\n",
       "      <th>Personne âgée</th>\n",
       "      <th>Enfant</th>\n",
       "      <th>Robot</th>\n",
       "      <th>Homme</th>\n",
       "      <th>Femme</th>\n",
       "      <th>Homme grand</th>\n",
       "      <th>Femme grande</th>\n",
       "    </tr>\n",
       "  </thead>\n",
       "  <tbody>\n",
       "    <tr>\n",
       "      <th>Personne âgée</th>\n",
       "      <td>1.000000e+00</td>\n",
       "      <td>4.168311e-05</td>\n",
       "      <td>3.322637e-145</td>\n",
       "      <td>2.211326e-26</td>\n",
       "      <td>2.217978e-14</td>\n",
       "      <td>4.347406e-51</td>\n",
       "      <td>2.746862e-34</td>\n",
       "    </tr>\n",
       "    <tr>\n",
       "      <th>Enfant</th>\n",
       "      <td>4.168311e-05</td>\n",
       "      <td>1.000000e+00</td>\n",
       "      <td>7.513911e-189</td>\n",
       "      <td>1.206434e-50</td>\n",
       "      <td>1.727918e-33</td>\n",
       "      <td>5.093491e-82</td>\n",
       "      <td>4.808530e-62</td>\n",
       "    </tr>\n",
       "    <tr>\n",
       "      <th>Robot</th>\n",
       "      <td>3.322637e-145</td>\n",
       "      <td>7.513911e-189</td>\n",
       "      <td>1.000000e+00</td>\n",
       "      <td>1.212607e-58</td>\n",
       "      <td>2.757435e-75</td>\n",
       "      <td>1.972375e-36</td>\n",
       "      <td>2.699506e-53</td>\n",
       "    </tr>\n",
       "    <tr>\n",
       "      <th>Homme</th>\n",
       "      <td>2.211326e-26</td>\n",
       "      <td>1.206434e-50</td>\n",
       "      <td>1.212607e-58</td>\n",
       "      <td>1.000000e+00</td>\n",
       "      <td>9.508910e-03</td>\n",
       "      <td>8.302430e-05</td>\n",
       "      <td>1.733771e-01</td>\n",
       "    </tr>\n",
       "    <tr>\n",
       "      <th>Femme</th>\n",
       "      <td>2.217978e-14</td>\n",
       "      <td>1.727918e-33</td>\n",
       "      <td>2.757435e-75</td>\n",
       "      <td>9.508910e-03</td>\n",
       "      <td>1.000000e+00</td>\n",
       "      <td>1.031471e-11</td>\n",
       "      <td>9.160410e-05</td>\n",
       "    </tr>\n",
       "    <tr>\n",
       "      <th>Homme grand</th>\n",
       "      <td>4.347406e-51</td>\n",
       "      <td>5.093491e-82</td>\n",
       "      <td>1.972375e-36</td>\n",
       "      <td>8.302430e-05</td>\n",
       "      <td>1.031471e-11</td>\n",
       "      <td>1.000000e+00</td>\n",
       "      <td>7.107893e-03</td>\n",
       "    </tr>\n",
       "    <tr>\n",
       "      <th>Femme grande</th>\n",
       "      <td>2.746862e-34</td>\n",
       "      <td>4.808530e-62</td>\n",
       "      <td>2.699506e-53</td>\n",
       "      <td>1.733771e-01</td>\n",
       "      <td>9.160410e-05</td>\n",
       "      <td>7.107893e-03</td>\n",
       "      <td>1.000000e+00</td>\n",
       "    </tr>\n",
       "  </tbody>\n",
       "</table>\n",
       "</div>"
      ],
      "text/plain": [
       "               Personne âgée         Enfant          Robot         Homme  \\\n",
       "Personne âgée   1.000000e+00   4.168311e-05  3.322637e-145  2.211326e-26   \n",
       "Enfant          4.168311e-05   1.000000e+00  7.513911e-189  1.206434e-50   \n",
       "Robot          3.322637e-145  7.513911e-189   1.000000e+00  1.212607e-58   \n",
       "Homme           2.211326e-26   1.206434e-50   1.212607e-58  1.000000e+00   \n",
       "Femme           2.217978e-14   1.727918e-33   2.757435e-75  9.508910e-03   \n",
       "Homme grand     4.347406e-51   5.093491e-82   1.972375e-36  8.302430e-05   \n",
       "Femme grande    2.746862e-34   4.808530e-62   2.699506e-53  1.733771e-01   \n",
       "\n",
       "                      Femme   Homme grand  Femme grande  \n",
       "Personne âgée  2.217978e-14  4.347406e-51  2.746862e-34  \n",
       "Enfant         1.727918e-33  5.093491e-82  4.808530e-62  \n",
       "Robot          2.757435e-75  1.972375e-36  2.699506e-53  \n",
       "Homme          9.508910e-03  8.302430e-05  1.733771e-01  \n",
       "Femme          1.000000e+00  1.031471e-11  9.160410e-05  \n",
       "Homme grand    1.031471e-11  1.000000e+00  7.107893e-03  \n",
       "Femme grande   9.160410e-05  7.107893e-03  1.000000e+00  "
      ]
     },
     "metadata": {},
     "output_type": "display_data"
    },
    {
     "name": "stdout",
     "output_type": "stream",
     "text": [
      "Correct p\n"
     ]
    },
    {
     "data": {
      "text/html": [
       "<div>\n",
       "<style scoped>\n",
       "    .dataframe tbody tr th:only-of-type {\n",
       "        vertical-align: middle;\n",
       "    }\n",
       "\n",
       "    .dataframe tbody tr th {\n",
       "        vertical-align: top;\n",
       "    }\n",
       "\n",
       "    .dataframe thead th {\n",
       "        text-align: right;\n",
       "    }\n",
       "</style>\n",
       "<table border=\"1\" class=\"dataframe\">\n",
       "  <thead>\n",
       "    <tr style=\"text-align: right;\">\n",
       "      <th></th>\n",
       "      <th>Personne âgée</th>\n",
       "      <th>Enfant</th>\n",
       "      <th>Robot</th>\n",
       "      <th>Homme</th>\n",
       "      <th>Femme</th>\n",
       "      <th>Homme grand</th>\n",
       "      <th>Femme grande</th>\n",
       "    </tr>\n",
       "  </thead>\n",
       "  <tbody>\n",
       "    <tr>\n",
       "      <th>Personne âgée</th>\n",
       "      <td>4.000000e+00</td>\n",
       "      <td>1.667324e-04</td>\n",
       "      <td>1.329055e-144</td>\n",
       "      <td>8.845303e-26</td>\n",
       "      <td>8.871914e-14</td>\n",
       "      <td>1.738962e-50</td>\n",
       "      <td>1.098745e-33</td>\n",
       "    </tr>\n",
       "    <tr>\n",
       "      <th>Enfant</th>\n",
       "      <td>1.667324e-04</td>\n",
       "      <td>4.000000e+00</td>\n",
       "      <td>3.005564e-188</td>\n",
       "      <td>4.825736e-50</td>\n",
       "      <td>6.911671e-33</td>\n",
       "      <td>2.037396e-81</td>\n",
       "      <td>1.923412e-61</td>\n",
       "    </tr>\n",
       "    <tr>\n",
       "      <th>Robot</th>\n",
       "      <td>1.329055e-144</td>\n",
       "      <td>3.005564e-188</td>\n",
       "      <td>4.000000e+00</td>\n",
       "      <td>4.850427e-58</td>\n",
       "      <td>1.102974e-74</td>\n",
       "      <td>7.889499e-36</td>\n",
       "      <td>1.079802e-52</td>\n",
       "    </tr>\n",
       "    <tr>\n",
       "      <th>Homme</th>\n",
       "      <td>8.845303e-26</td>\n",
       "      <td>4.825736e-50</td>\n",
       "      <td>4.850427e-58</td>\n",
       "      <td>4.000000e+00</td>\n",
       "      <td>3.803564e-02</td>\n",
       "      <td>3.320972e-04</td>\n",
       "      <td>6.935082e-01</td>\n",
       "    </tr>\n",
       "    <tr>\n",
       "      <th>Femme</th>\n",
       "      <td>8.871914e-14</td>\n",
       "      <td>6.911671e-33</td>\n",
       "      <td>1.102974e-74</td>\n",
       "      <td>3.803564e-02</td>\n",
       "      <td>4.000000e+00</td>\n",
       "      <td>4.125882e-11</td>\n",
       "      <td>3.664164e-04</td>\n",
       "    </tr>\n",
       "    <tr>\n",
       "      <th>Homme grand</th>\n",
       "      <td>1.738962e-50</td>\n",
       "      <td>2.037396e-81</td>\n",
       "      <td>7.889499e-36</td>\n",
       "      <td>3.320972e-04</td>\n",
       "      <td>4.125882e-11</td>\n",
       "      <td>4.000000e+00</td>\n",
       "      <td>2.843157e-02</td>\n",
       "    </tr>\n",
       "    <tr>\n",
       "      <th>Femme grande</th>\n",
       "      <td>1.098745e-33</td>\n",
       "      <td>1.923412e-61</td>\n",
       "      <td>1.079802e-52</td>\n",
       "      <td>6.935082e-01</td>\n",
       "      <td>3.664164e-04</td>\n",
       "      <td>2.843157e-02</td>\n",
       "      <td>4.000000e+00</td>\n",
       "    </tr>\n",
       "  </tbody>\n",
       "</table>\n",
       "</div>"
      ],
      "text/plain": [
       "               Personne âgée         Enfant          Robot         Homme  \\\n",
       "Personne âgée   4.000000e+00   1.667324e-04  1.329055e-144  8.845303e-26   \n",
       "Enfant          1.667324e-04   4.000000e+00  3.005564e-188  4.825736e-50   \n",
       "Robot          1.329055e-144  3.005564e-188   4.000000e+00  4.850427e-58   \n",
       "Homme           8.845303e-26   4.825736e-50   4.850427e-58  4.000000e+00   \n",
       "Femme           8.871914e-14   6.911671e-33   1.102974e-74  3.803564e-02   \n",
       "Homme grand     1.738962e-50   2.037396e-81   7.889499e-36  3.320972e-04   \n",
       "Femme grande    1.098745e-33   1.923412e-61   1.079802e-52  6.935082e-01   \n",
       "\n",
       "                      Femme   Homme grand  Femme grande  \n",
       "Personne âgée  8.871914e-14  1.738962e-50  1.098745e-33  \n",
       "Enfant         6.911671e-33  2.037396e-81  1.923412e-61  \n",
       "Robot          1.102974e-74  7.889499e-36  1.079802e-52  \n",
       "Homme          3.803564e-02  3.320972e-04  6.935082e-01  \n",
       "Femme          4.000000e+00  4.125882e-11  3.664164e-04  \n",
       "Homme grand    4.125882e-11  4.000000e+00  2.843157e-02  \n",
       "Femme grande   3.664164e-04  2.843157e-02  4.000000e+00  "
      ]
     },
     "metadata": {},
     "output_type": "display_data"
    }
   ],
   "source": [
    "print('POST HOC IN DANGER')\n",
    "p_value = sp.posthoc_ttest(data_stats_d,\n",
    "                           val_col='task_1',\n",
    "                           group_col='personnage_1',\n",
    "                           p_adjust='holm')\n",
    "display(p_value)\n",
    "print('Correct p')\n",
    "display(p_value * 4)\n"
   ]
  },
  {
   "cell_type": "markdown",
   "metadata": {},
   "source": [
    "We note that in the case of danger, all our p-values are significant (p < 0.05), but we still note a p_value close to 0.05 for children and the elderly (p=0.01). This means that children and the elderly are attributed almost the same danger."
   ]
  },
  {
   "cell_type": "code",
   "execution_count": 76,
   "metadata": {
    "ExecuteTime": {
     "end_time": "2023-02-08T14:17:31.948543Z",
     "start_time": "2023-02-08T14:17:31.840830Z"
    }
   },
   "outputs": [
    {
     "name": "stdout",
     "output_type": "stream",
     "text": [
      "POST HOC IN FATIGUE\n"
     ]
    },
    {
     "data": {
      "text/html": [
       "<div>\n",
       "<style scoped>\n",
       "    .dataframe tbody tr th:only-of-type {\n",
       "        vertical-align: middle;\n",
       "    }\n",
       "\n",
       "    .dataframe tbody tr th {\n",
       "        vertical-align: top;\n",
       "    }\n",
       "\n",
       "    .dataframe thead th {\n",
       "        text-align: right;\n",
       "    }\n",
       "</style>\n",
       "<table border=\"1\" class=\"dataframe\">\n",
       "  <thead>\n",
       "    <tr style=\"text-align: right;\">\n",
       "      <th></th>\n",
       "      <th>Homme</th>\n",
       "      <th>Enfant</th>\n",
       "      <th>Femme</th>\n",
       "      <th>Robot</th>\n",
       "      <th>Personne âgée</th>\n",
       "      <th>Homme grand</th>\n",
       "      <th>Femme grande</th>\n",
       "    </tr>\n",
       "  </thead>\n",
       "  <tbody>\n",
       "    <tr>\n",
       "      <th>Homme</th>\n",
       "      <td>1.000000e+00</td>\n",
       "      <td>7.469890e-96</td>\n",
       "      <td>2.781057e-05</td>\n",
       "      <td>2.492764e-66</td>\n",
       "      <td>9.468990e-51</td>\n",
       "      <td>4.756294e-02</td>\n",
       "      <td>9.763644e-01</td>\n",
       "    </tr>\n",
       "    <tr>\n",
       "      <th>Enfant</th>\n",
       "      <td>7.469890e-96</td>\n",
       "      <td>1.000000e+00</td>\n",
       "      <td>6.933248e-67</td>\n",
       "      <td>2.714770e-292</td>\n",
       "      <td>9.873931e-16</td>\n",
       "      <td>7.470952e-103</td>\n",
       "      <td>6.661490e-107</td>\n",
       "    </tr>\n",
       "    <tr>\n",
       "      <th>Femme</th>\n",
       "      <td>2.781057e-05</td>\n",
       "      <td>6.933248e-67</td>\n",
       "      <td>1.000000e+00</td>\n",
       "      <td>1.574372e-104</td>\n",
       "      <td>5.583403e-27</td>\n",
       "      <td>4.563887e-10</td>\n",
       "      <td>9.013498e-06</td>\n",
       "    </tr>\n",
       "    <tr>\n",
       "      <th>Robot</th>\n",
       "      <td>2.492764e-66</td>\n",
       "      <td>2.714770e-292</td>\n",
       "      <td>1.574372e-104</td>\n",
       "      <td>1.000000e+00</td>\n",
       "      <td>1.734455e-224</td>\n",
       "      <td>2.279695e-44</td>\n",
       "      <td>1.094883e-74</td>\n",
       "    </tr>\n",
       "    <tr>\n",
       "      <th>Personne âgée</th>\n",
       "      <td>9.468990e-51</td>\n",
       "      <td>9.873931e-16</td>\n",
       "      <td>5.583403e-27</td>\n",
       "      <td>1.734455e-224</td>\n",
       "      <td>1.000000e+00</td>\n",
       "      <td>4.813590e-60</td>\n",
       "      <td>4.285034e-57</td>\n",
       "    </tr>\n",
       "    <tr>\n",
       "      <th>Homme grand</th>\n",
       "      <td>4.756294e-02</td>\n",
       "      <td>7.470952e-103</td>\n",
       "      <td>4.563887e-10</td>\n",
       "      <td>2.279695e-44</td>\n",
       "      <td>4.813590e-60</td>\n",
       "      <td>1.000000e+00</td>\n",
       "      <td>4.171319e-02</td>\n",
       "    </tr>\n",
       "    <tr>\n",
       "      <th>Femme grande</th>\n",
       "      <td>9.763644e-01</td>\n",
       "      <td>6.661490e-107</td>\n",
       "      <td>9.013498e-06</td>\n",
       "      <td>1.094883e-74</td>\n",
       "      <td>4.285034e-57</td>\n",
       "      <td>4.171319e-02</td>\n",
       "      <td>1.000000e+00</td>\n",
       "    </tr>\n",
       "  </tbody>\n",
       "</table>\n",
       "</div>"
      ],
      "text/plain": [
       "                      Homme         Enfant          Femme          Robot  \\\n",
       "Homme          1.000000e+00   7.469890e-96   2.781057e-05   2.492764e-66   \n",
       "Enfant         7.469890e-96   1.000000e+00   6.933248e-67  2.714770e-292   \n",
       "Femme          2.781057e-05   6.933248e-67   1.000000e+00  1.574372e-104   \n",
       "Robot          2.492764e-66  2.714770e-292  1.574372e-104   1.000000e+00   \n",
       "Personne âgée  9.468990e-51   9.873931e-16   5.583403e-27  1.734455e-224   \n",
       "Homme grand    4.756294e-02  7.470952e-103   4.563887e-10   2.279695e-44   \n",
       "Femme grande   9.763644e-01  6.661490e-107   9.013498e-06   1.094883e-74   \n",
       "\n",
       "               Personne âgée    Homme grand   Femme grande  \n",
       "Homme           9.468990e-51   4.756294e-02   9.763644e-01  \n",
       "Enfant          9.873931e-16  7.470952e-103  6.661490e-107  \n",
       "Femme           5.583403e-27   4.563887e-10   9.013498e-06  \n",
       "Robot          1.734455e-224   2.279695e-44   1.094883e-74  \n",
       "Personne âgée   1.000000e+00   4.813590e-60   4.285034e-57  \n",
       "Homme grand     4.813590e-60   1.000000e+00   4.171319e-02  \n",
       "Femme grande    4.285034e-57   4.171319e-02   1.000000e+00  "
      ]
     },
     "metadata": {},
     "output_type": "display_data"
    },
    {
     "name": "stdout",
     "output_type": "stream",
     "text": [
      "Correct p\n"
     ]
    },
    {
     "data": {
      "text/html": [
       "<div>\n",
       "<style scoped>\n",
       "    .dataframe tbody tr th:only-of-type {\n",
       "        vertical-align: middle;\n",
       "    }\n",
       "\n",
       "    .dataframe tbody tr th {\n",
       "        vertical-align: top;\n",
       "    }\n",
       "\n",
       "    .dataframe thead th {\n",
       "        text-align: right;\n",
       "    }\n",
       "</style>\n",
       "<table border=\"1\" class=\"dataframe\">\n",
       "  <thead>\n",
       "    <tr style=\"text-align: right;\">\n",
       "      <th></th>\n",
       "      <th>Homme</th>\n",
       "      <th>Enfant</th>\n",
       "      <th>Femme</th>\n",
       "      <th>Robot</th>\n",
       "      <th>Personne âgée</th>\n",
       "      <th>Homme grand</th>\n",
       "      <th>Femme grande</th>\n",
       "    </tr>\n",
       "  </thead>\n",
       "  <tbody>\n",
       "    <tr>\n",
       "      <th>Homme</th>\n",
       "      <td>4.000000e+00</td>\n",
       "      <td>2.987956e-95</td>\n",
       "      <td>1.112423e-04</td>\n",
       "      <td>9.971057e-66</td>\n",
       "      <td>3.787596e-50</td>\n",
       "      <td>1.902518e-01</td>\n",
       "      <td>3.905458e+00</td>\n",
       "    </tr>\n",
       "    <tr>\n",
       "      <th>Enfant</th>\n",
       "      <td>2.987956e-95</td>\n",
       "      <td>4.000000e+00</td>\n",
       "      <td>2.773299e-66</td>\n",
       "      <td>1.085908e-291</td>\n",
       "      <td>3.949572e-15</td>\n",
       "      <td>2.988381e-102</td>\n",
       "      <td>2.664596e-106</td>\n",
       "    </tr>\n",
       "    <tr>\n",
       "      <th>Femme</th>\n",
       "      <td>1.112423e-04</td>\n",
       "      <td>2.773299e-66</td>\n",
       "      <td>4.000000e+00</td>\n",
       "      <td>6.297488e-104</td>\n",
       "      <td>2.233361e-26</td>\n",
       "      <td>1.825555e-09</td>\n",
       "      <td>3.605399e-05</td>\n",
       "    </tr>\n",
       "    <tr>\n",
       "      <th>Robot</th>\n",
       "      <td>9.971057e-66</td>\n",
       "      <td>1.085908e-291</td>\n",
       "      <td>6.297488e-104</td>\n",
       "      <td>4.000000e+00</td>\n",
       "      <td>6.937822e-224</td>\n",
       "      <td>9.118780e-44</td>\n",
       "      <td>4.379532e-74</td>\n",
       "    </tr>\n",
       "    <tr>\n",
       "      <th>Personne âgée</th>\n",
       "      <td>3.787596e-50</td>\n",
       "      <td>3.949572e-15</td>\n",
       "      <td>2.233361e-26</td>\n",
       "      <td>6.937822e-224</td>\n",
       "      <td>4.000000e+00</td>\n",
       "      <td>1.925436e-59</td>\n",
       "      <td>1.714013e-56</td>\n",
       "    </tr>\n",
       "    <tr>\n",
       "      <th>Homme grand</th>\n",
       "      <td>1.902518e-01</td>\n",
       "      <td>2.988381e-102</td>\n",
       "      <td>1.825555e-09</td>\n",
       "      <td>9.118780e-44</td>\n",
       "      <td>1.925436e-59</td>\n",
       "      <td>4.000000e+00</td>\n",
       "      <td>1.668528e-01</td>\n",
       "    </tr>\n",
       "    <tr>\n",
       "      <th>Femme grande</th>\n",
       "      <td>3.905458e+00</td>\n",
       "      <td>2.664596e-106</td>\n",
       "      <td>3.605399e-05</td>\n",
       "      <td>4.379532e-74</td>\n",
       "      <td>1.714013e-56</td>\n",
       "      <td>1.668528e-01</td>\n",
       "      <td>4.000000e+00</td>\n",
       "    </tr>\n",
       "  </tbody>\n",
       "</table>\n",
       "</div>"
      ],
      "text/plain": [
       "                      Homme         Enfant          Femme          Robot  \\\n",
       "Homme          4.000000e+00   2.987956e-95   1.112423e-04   9.971057e-66   \n",
       "Enfant         2.987956e-95   4.000000e+00   2.773299e-66  1.085908e-291   \n",
       "Femme          1.112423e-04   2.773299e-66   4.000000e+00  6.297488e-104   \n",
       "Robot          9.971057e-66  1.085908e-291  6.297488e-104   4.000000e+00   \n",
       "Personne âgée  3.787596e-50   3.949572e-15   2.233361e-26  6.937822e-224   \n",
       "Homme grand    1.902518e-01  2.988381e-102   1.825555e-09   9.118780e-44   \n",
       "Femme grande   3.905458e+00  2.664596e-106   3.605399e-05   4.379532e-74   \n",
       "\n",
       "               Personne âgée    Homme grand   Femme grande  \n",
       "Homme           3.787596e-50   1.902518e-01   3.905458e+00  \n",
       "Enfant          3.949572e-15  2.988381e-102  2.664596e-106  \n",
       "Femme           2.233361e-26   1.825555e-09   3.605399e-05  \n",
       "Robot          6.937822e-224   9.118780e-44   4.379532e-74  \n",
       "Personne âgée   4.000000e+00   1.925436e-59   1.714013e-56  \n",
       "Homme grand     1.925436e-59   4.000000e+00   1.668528e-01  \n",
       "Femme grande    1.714013e-56   1.668528e-01   4.000000e+00  "
      ]
     },
     "metadata": {},
     "output_type": "display_data"
    }
   ],
   "source": [
    "print('POST HOC IN FATIGUE')\n",
    "p_value = sp.posthoc_ttest(data_stats_f,\n",
    "                           val_col='task_1',\n",
    "                           group_col='personnage_1',\n",
    "                           p_adjust='holm')\n",
    "display(p_value)\n",
    "print('Correct p')\n",
    "\n",
    "display(p_value * 4)"
   ]
  },
  {
   "cell_type": "markdown",
   "metadata": {},
   "source": [
    "In the case of fatigue, we also notice that all our p-values are significant (p < 0.05). This confirms that all our parameters (age, gender, robot/human) have an influence on decision making in a fatigue situation."
   ]
  },
  {
   "cell_type": "code",
   "execution_count": 77,
   "metadata": {
    "ExecuteTime": {
     "end_time": "2023-02-08T14:30:56.579079Z",
     "start_time": "2023-02-08T14:30:56.473362Z"
    }
   },
   "outputs": [
    {
     "name": "stdout",
     "output_type": "stream",
     "text": [
      "POST HOC IN REWARD\n"
     ]
    },
    {
     "data": {
      "text/html": [
       "<div>\n",
       "<style scoped>\n",
       "    .dataframe tbody tr th:only-of-type {\n",
       "        vertical-align: middle;\n",
       "    }\n",
       "\n",
       "    .dataframe tbody tr th {\n",
       "        vertical-align: top;\n",
       "    }\n",
       "\n",
       "    .dataframe thead th {\n",
       "        text-align: right;\n",
       "    }\n",
       "</style>\n",
       "<table border=\"1\" class=\"dataframe\">\n",
       "  <thead>\n",
       "    <tr style=\"text-align: right;\">\n",
       "      <th></th>\n",
       "      <th>Robot</th>\n",
       "      <th>Homme grand</th>\n",
       "      <th>Femme</th>\n",
       "      <th>Homme</th>\n",
       "      <th>Enfant</th>\n",
       "      <th>Personne âgée</th>\n",
       "      <th>Femme grande</th>\n",
       "    </tr>\n",
       "  </thead>\n",
       "  <tbody>\n",
       "    <tr>\n",
       "      <th>Robot</th>\n",
       "      <td>1.000000e+00</td>\n",
       "      <td>4.059007e-110</td>\n",
       "      <td>1.000608e-90</td>\n",
       "      <td>3.488047e-102</td>\n",
       "      <td>1.786105e-41</td>\n",
       "      <td>1.303120e-82</td>\n",
       "      <td>3.099543e-103</td>\n",
       "    </tr>\n",
       "    <tr>\n",
       "      <th>Homme grand</th>\n",
       "      <td>4.059007e-110</td>\n",
       "      <td>1.000000e+00</td>\n",
       "      <td>3.474476e-05</td>\n",
       "      <td>2.914827e-01</td>\n",
       "      <td>1.559043e-25</td>\n",
       "      <td>2.231577e-06</td>\n",
       "      <td>6.507373e-04</td>\n",
       "    </tr>\n",
       "    <tr>\n",
       "      <th>Femme</th>\n",
       "      <td>1.000608e-90</td>\n",
       "      <td>3.474476e-05</td>\n",
       "      <td>1.000000e+00</td>\n",
       "      <td>4.254361e-02</td>\n",
       "      <td>1.351796e-11</td>\n",
       "      <td>6.413152e-01</td>\n",
       "      <td>6.413152e-01</td>\n",
       "    </tr>\n",
       "    <tr>\n",
       "      <th>Homme</th>\n",
       "      <td>3.488047e-102</td>\n",
       "      <td>2.914827e-01</td>\n",
       "      <td>4.254361e-02</td>\n",
       "      <td>1.000000e+00</td>\n",
       "      <td>5.894589e-19</td>\n",
       "      <td>5.840674e-03</td>\n",
       "      <td>2.914827e-01</td>\n",
       "    </tr>\n",
       "    <tr>\n",
       "      <th>Enfant</th>\n",
       "      <td>1.786105e-41</td>\n",
       "      <td>1.559043e-25</td>\n",
       "      <td>1.351796e-11</td>\n",
       "      <td>5.894589e-19</td>\n",
       "      <td>1.000000e+00</td>\n",
       "      <td>4.614544e-09</td>\n",
       "      <td>1.599473e-15</td>\n",
       "    </tr>\n",
       "    <tr>\n",
       "      <th>Personne âgée</th>\n",
       "      <td>1.303120e-82</td>\n",
       "      <td>2.231577e-06</td>\n",
       "      <td>6.413152e-01</td>\n",
       "      <td>5.840674e-03</td>\n",
       "      <td>4.614544e-09</td>\n",
       "      <td>1.000000e+00</td>\n",
       "      <td>2.914827e-01</td>\n",
       "    </tr>\n",
       "    <tr>\n",
       "      <th>Femme grande</th>\n",
       "      <td>3.099543e-103</td>\n",
       "      <td>6.507373e-04</td>\n",
       "      <td>6.413152e-01</td>\n",
       "      <td>2.914827e-01</td>\n",
       "      <td>1.599473e-15</td>\n",
       "      <td>2.914827e-01</td>\n",
       "      <td>1.000000e+00</td>\n",
       "    </tr>\n",
       "  </tbody>\n",
       "</table>\n",
       "</div>"
      ],
      "text/plain": [
       "                       Robot    Homme grand         Femme          Homme  \\\n",
       "Robot           1.000000e+00  4.059007e-110  1.000608e-90  3.488047e-102   \n",
       "Homme grand    4.059007e-110   1.000000e+00  3.474476e-05   2.914827e-01   \n",
       "Femme           1.000608e-90   3.474476e-05  1.000000e+00   4.254361e-02   \n",
       "Homme          3.488047e-102   2.914827e-01  4.254361e-02   1.000000e+00   \n",
       "Enfant          1.786105e-41   1.559043e-25  1.351796e-11   5.894589e-19   \n",
       "Personne âgée   1.303120e-82   2.231577e-06  6.413152e-01   5.840674e-03   \n",
       "Femme grande   3.099543e-103   6.507373e-04  6.413152e-01   2.914827e-01   \n",
       "\n",
       "                     Enfant  Personne âgée   Femme grande  \n",
       "Robot          1.786105e-41   1.303120e-82  3.099543e-103  \n",
       "Homme grand    1.559043e-25   2.231577e-06   6.507373e-04  \n",
       "Femme          1.351796e-11   6.413152e-01   6.413152e-01  \n",
       "Homme          5.894589e-19   5.840674e-03   2.914827e-01  \n",
       "Enfant         1.000000e+00   4.614544e-09   1.599473e-15  \n",
       "Personne âgée  4.614544e-09   1.000000e+00   2.914827e-01  \n",
       "Femme grande   1.599473e-15   2.914827e-01   1.000000e+00  "
      ]
     },
     "metadata": {},
     "output_type": "display_data"
    },
    {
     "name": "stdout",
     "output_type": "stream",
     "text": [
      "Correct p\n"
     ]
    },
    {
     "data": {
      "text/html": [
       "<div>\n",
       "<style scoped>\n",
       "    .dataframe tbody tr th:only-of-type {\n",
       "        vertical-align: middle;\n",
       "    }\n",
       "\n",
       "    .dataframe tbody tr th {\n",
       "        vertical-align: top;\n",
       "    }\n",
       "\n",
       "    .dataframe thead th {\n",
       "        text-align: right;\n",
       "    }\n",
       "</style>\n",
       "<table border=\"1\" class=\"dataframe\">\n",
       "  <thead>\n",
       "    <tr style=\"text-align: right;\">\n",
       "      <th></th>\n",
       "      <th>Robot</th>\n",
       "      <th>Homme grand</th>\n",
       "      <th>Femme</th>\n",
       "      <th>Homme</th>\n",
       "      <th>Enfant</th>\n",
       "      <th>Personne âgée</th>\n",
       "      <th>Femme grande</th>\n",
       "    </tr>\n",
       "  </thead>\n",
       "  <tbody>\n",
       "    <tr>\n",
       "      <th>Robot</th>\n",
       "      <td>4.000000e+00</td>\n",
       "      <td>1.623603e-109</td>\n",
       "      <td>4.002432e-90</td>\n",
       "      <td>1.395219e-101</td>\n",
       "      <td>7.144418e-41</td>\n",
       "      <td>5.212481e-82</td>\n",
       "      <td>1.239817e-102</td>\n",
       "    </tr>\n",
       "    <tr>\n",
       "      <th>Homme grand</th>\n",
       "      <td>1.623603e-109</td>\n",
       "      <td>4.000000e+00</td>\n",
       "      <td>1.389791e-04</td>\n",
       "      <td>1.165931e+00</td>\n",
       "      <td>6.236171e-25</td>\n",
       "      <td>8.926309e-06</td>\n",
       "      <td>2.602949e-03</td>\n",
       "    </tr>\n",
       "    <tr>\n",
       "      <th>Femme</th>\n",
       "      <td>4.002432e-90</td>\n",
       "      <td>1.389791e-04</td>\n",
       "      <td>4.000000e+00</td>\n",
       "      <td>1.701744e-01</td>\n",
       "      <td>5.407182e-11</td>\n",
       "      <td>2.565261e+00</td>\n",
       "      <td>2.565261e+00</td>\n",
       "    </tr>\n",
       "    <tr>\n",
       "      <th>Homme</th>\n",
       "      <td>1.395219e-101</td>\n",
       "      <td>1.165931e+00</td>\n",
       "      <td>1.701744e-01</td>\n",
       "      <td>4.000000e+00</td>\n",
       "      <td>2.357836e-18</td>\n",
       "      <td>2.336270e-02</td>\n",
       "      <td>1.165931e+00</td>\n",
       "    </tr>\n",
       "    <tr>\n",
       "      <th>Enfant</th>\n",
       "      <td>7.144418e-41</td>\n",
       "      <td>6.236171e-25</td>\n",
       "      <td>5.407182e-11</td>\n",
       "      <td>2.357836e-18</td>\n",
       "      <td>4.000000e+00</td>\n",
       "      <td>1.845818e-08</td>\n",
       "      <td>6.397893e-15</td>\n",
       "    </tr>\n",
       "    <tr>\n",
       "      <th>Personne âgée</th>\n",
       "      <td>5.212481e-82</td>\n",
       "      <td>8.926309e-06</td>\n",
       "      <td>2.565261e+00</td>\n",
       "      <td>2.336270e-02</td>\n",
       "      <td>1.845818e-08</td>\n",
       "      <td>4.000000e+00</td>\n",
       "      <td>1.165931e+00</td>\n",
       "    </tr>\n",
       "    <tr>\n",
       "      <th>Femme grande</th>\n",
       "      <td>1.239817e-102</td>\n",
       "      <td>2.602949e-03</td>\n",
       "      <td>2.565261e+00</td>\n",
       "      <td>1.165931e+00</td>\n",
       "      <td>6.397893e-15</td>\n",
       "      <td>1.165931e+00</td>\n",
       "      <td>4.000000e+00</td>\n",
       "    </tr>\n",
       "  </tbody>\n",
       "</table>\n",
       "</div>"
      ],
      "text/plain": [
       "                       Robot    Homme grand         Femme          Homme  \\\n",
       "Robot           4.000000e+00  1.623603e-109  4.002432e-90  1.395219e-101   \n",
       "Homme grand    1.623603e-109   4.000000e+00  1.389791e-04   1.165931e+00   \n",
       "Femme           4.002432e-90   1.389791e-04  4.000000e+00   1.701744e-01   \n",
       "Homme          1.395219e-101   1.165931e+00  1.701744e-01   4.000000e+00   \n",
       "Enfant          7.144418e-41   6.236171e-25  5.407182e-11   2.357836e-18   \n",
       "Personne âgée   5.212481e-82   8.926309e-06  2.565261e+00   2.336270e-02   \n",
       "Femme grande   1.239817e-102   2.602949e-03  2.565261e+00   1.165931e+00   \n",
       "\n",
       "                     Enfant  Personne âgée   Femme grande  \n",
       "Robot          7.144418e-41   5.212481e-82  1.239817e-102  \n",
       "Homme grand    6.236171e-25   8.926309e-06   2.602949e-03  \n",
       "Femme          5.407182e-11   2.565261e+00   2.565261e+00  \n",
       "Homme          2.357836e-18   2.336270e-02   1.165931e+00  \n",
       "Enfant         4.000000e+00   1.845818e-08   6.397893e-15  \n",
       "Personne âgée  1.845818e-08   4.000000e+00   1.165931e+00  \n",
       "Femme grande   6.397893e-15   1.165931e+00   4.000000e+00  "
      ]
     },
     "metadata": {},
     "output_type": "display_data"
    }
   ],
   "source": [
    "print('POST HOC IN REWARD')\n",
    "p_value = sp.posthoc_ttest(data_stats_r,\n",
    "                           val_col='task_1',\n",
    "                           group_col='personnage_1',\n",
    "                           p_adjust='holm')\n",
    "display(p_value)\n",
    "print('Correct p')\n",
    "\n",
    "display(p_value * 4)"
   ]
  },
  {
   "cell_type": "markdown",
   "metadata": {
    "run_control": {
     "marked": true
    }
   },
   "source": [
    "||P7|P3|P4|P2|P1|P6|P5|\n",
    "|-|-|-|-|-|-|-|-|\n",
    "|P1|\n",
    "|P2|\n",
    "|P3|\n",
    "|P4|\n",
    "|P5|\n",
    "|P6|\n",
    "|P7|"
   ]
  },
  {
   "cell_type": "markdown",
   "metadata": {},
   "source": [
    "For the reward scenarios, there is less significant p-value. In particular for men and women (correct p=0.05), men and elderly (correct p=0.15) and women and elderly (correct p= 3). This means that these 3 groups of characters are equally rewarded and that older age has no impact on being rewarded."
   ]
  },
  {
   "cell_type": "markdown",
   "metadata": {
    "lang": "en"
   },
   "source": [
    "We have observed that there are significant differences in decision making in our different scenarios but we do not yet know which group is more endangered, rewarded or challenged for physical effort than another. We also have information about decision making but we do not know from which audience it comes. In what follows we will therefore study the different profiles of our participants and look in more detail at the significant differences observed from our p-values. In addition, we will investigate whether there is any correlation between perceived strength and perceived danger, fatigue or reward. Or whether there is a correlation between the danger and fatigue assigned and the reward received afterwards.\n"
   ]
  },
  {
   "cell_type": "markdown",
   "metadata": {
    "id": "hukzgBNPbeiP"
   },
   "source": [
    "## III.B Data analysis <a class=\"anchor\" id=\"section_3_2\"></a>"
   ]
  },
  {
   "cell_type": "markdown",
   "metadata": {
    "id": "UPCNIowdbeiP"
   },
   "source": [
    "### Global analysis <a class=\"anchor\" id=\"section_3_2_1\"></a>"
   ]
  },
  {
   "cell_type": "markdown",
   "metadata": {},
   "source": [
    "#### Analysis on distribution of force"
   ]
  },
  {
   "cell_type": "markdown",
   "metadata": {
    "id": "o1AT9JyRbeiP"
   },
   "source": [
    "First, we can study how participants attribute strength to characters. The robot and the child have a fixed percussive force of 10 and 1, respectively. This fixed force allocation allows to give a scale for the distribution between the different characters."
   ]
  },
  {
   "cell_type": "code",
   "execution_count": 53,
   "metadata": {
    "ExecuteTime": {
     "end_time": "2023-02-08T10:55:51.810756Z",
     "start_time": "2023-02-08T10:55:51.785823Z"
    }
   },
   "outputs": [
    {
     "data": {
      "text/html": [
       "<div>\n",
       "<style scoped>\n",
       "    .dataframe tbody tr th:only-of-type {\n",
       "        vertical-align: middle;\n",
       "    }\n",
       "\n",
       "    .dataframe tbody tr th {\n",
       "        vertical-align: top;\n",
       "    }\n",
       "\n",
       "    .dataframe thead th {\n",
       "        text-align: right;\n",
       "    }\n",
       "</style>\n",
       "<table border=\"1\" class=\"dataframe\">\n",
       "  <thead>\n",
       "    <tr style=\"text-align: right;\">\n",
       "      <th></th>\n",
       "      <th>personnage_1</th>\n",
       "      <th>personnage_2</th>\n",
       "      <th>force_1</th>\n",
       "      <th>force_2</th>\n",
       "      <th>scenarios</th>\n",
       "      <th>task_1</th>\n",
       "      <th>task_2</th>\n",
       "      <th>repetition_question</th>\n",
       "      <th>id_participant</th>\n",
       "      <th>age</th>\n",
       "      <th>sexe</th>\n",
       "      <th>taille</th>\n",
       "      <th>enfant</th>\n",
       "    </tr>\n",
       "  </thead>\n",
       "  <tbody>\n",
       "    <tr>\n",
       "      <th>0</th>\n",
       "      <td>1</td>\n",
       "      <td>5</td>\n",
       "      <td>7</td>\n",
       "      <td>3</td>\n",
       "      <td>4</td>\n",
       "      <td>8</td>\n",
       "      <td>2</td>\n",
       "      <td>1</td>\n",
       "      <td>140</td>\n",
       "      <td>57</td>\n",
       "      <td>0</td>\n",
       "      <td>169</td>\n",
       "      <td>1</td>\n",
       "    </tr>\n",
       "    <tr>\n",
       "      <th>1</th>\n",
       "      <td>5</td>\n",
       "      <td>9</td>\n",
       "      <td>3</td>\n",
       "      <td>6</td>\n",
       "      <td>2</td>\n",
       "      <td>1</td>\n",
       "      <td>9</td>\n",
       "      <td>1</td>\n",
       "      <td>140</td>\n",
       "      <td>57</td>\n",
       "      <td>0</td>\n",
       "      <td>169</td>\n",
       "      <td>1</td>\n",
       "    </tr>\n",
       "    <tr>\n",
       "      <th>2</th>\n",
       "      <td>5</td>\n",
       "      <td>8</td>\n",
       "      <td>3</td>\n",
       "      <td>8</td>\n",
       "      <td>3</td>\n",
       "      <td>1</td>\n",
       "      <td>9</td>\n",
       "      <td>1</td>\n",
       "      <td>140</td>\n",
       "      <td>57</td>\n",
       "      <td>0</td>\n",
       "      <td>169</td>\n",
       "      <td>1</td>\n",
       "    </tr>\n",
       "    <tr>\n",
       "      <th>3</th>\n",
       "      <td>3</td>\n",
       "      <td>5</td>\n",
       "      <td>10</td>\n",
       "      <td>3</td>\n",
       "      <td>9</td>\n",
       "      <td>0</td>\n",
       "      <td>10</td>\n",
       "      <td>1</td>\n",
       "      <td>140</td>\n",
       "      <td>57</td>\n",
       "      <td>0</td>\n",
       "      <td>169</td>\n",
       "      <td>1</td>\n",
       "    </tr>\n",
       "    <tr>\n",
       "      <th>4</th>\n",
       "      <td>8</td>\n",
       "      <td>9</td>\n",
       "      <td>8</td>\n",
       "      <td>6</td>\n",
       "      <td>7</td>\n",
       "      <td>5</td>\n",
       "      <td>5</td>\n",
       "      <td>1</td>\n",
       "      <td>140</td>\n",
       "      <td>57</td>\n",
       "      <td>0</td>\n",
       "      <td>169</td>\n",
       "      <td>1</td>\n",
       "    </tr>\n",
       "    <tr>\n",
       "      <th>...</th>\n",
       "      <td>...</td>\n",
       "      <td>...</td>\n",
       "      <td>...</td>\n",
       "      <td>...</td>\n",
       "      <td>...</td>\n",
       "      <td>...</td>\n",
       "      <td>...</td>\n",
       "      <td>...</td>\n",
       "      <td>...</td>\n",
       "      <td>...</td>\n",
       "      <td>...</td>\n",
       "      <td>...</td>\n",
       "      <td>...</td>\n",
       "    </tr>\n",
       "    <tr>\n",
       "      <th>9391</th>\n",
       "      <td>8</td>\n",
       "      <td>5</td>\n",
       "      <td>6</td>\n",
       "      <td>2</td>\n",
       "      <td>9</td>\n",
       "      <td>7</td>\n",
       "      <td>3</td>\n",
       "      <td>3</td>\n",
       "      <td>77</td>\n",
       "      <td>25</td>\n",
       "      <td>1</td>\n",
       "      <td>183</td>\n",
       "      <td>0</td>\n",
       "    </tr>\n",
       "    <tr>\n",
       "      <th>9392</th>\n",
       "      <td>9</td>\n",
       "      <td>2</td>\n",
       "      <td>5</td>\n",
       "      <td>2</td>\n",
       "      <td>7</td>\n",
       "      <td>7</td>\n",
       "      <td>3</td>\n",
       "      <td>3</td>\n",
       "      <td>77</td>\n",
       "      <td>25</td>\n",
       "      <td>1</td>\n",
       "      <td>183</td>\n",
       "      <td>0</td>\n",
       "    </tr>\n",
       "    <tr>\n",
       "      <th>9393</th>\n",
       "      <td>4</td>\n",
       "      <td>3</td>\n",
       "      <td>1</td>\n",
       "      <td>10</td>\n",
       "      <td>5</td>\n",
       "      <td>1</td>\n",
       "      <td>9</td>\n",
       "      <td>3</td>\n",
       "      <td>77</td>\n",
       "      <td>25</td>\n",
       "      <td>1</td>\n",
       "      <td>183</td>\n",
       "      <td>0</td>\n",
       "    </tr>\n",
       "    <tr>\n",
       "      <th>9394</th>\n",
       "      <td>4</td>\n",
       "      <td>1</td>\n",
       "      <td>1</td>\n",
       "      <td>3</td>\n",
       "      <td>2</td>\n",
       "      <td>2</td>\n",
       "      <td>8</td>\n",
       "      <td>3</td>\n",
       "      <td>77</td>\n",
       "      <td>25</td>\n",
       "      <td>1</td>\n",
       "      <td>183</td>\n",
       "      <td>0</td>\n",
       "    </tr>\n",
       "    <tr>\n",
       "      <th>9395</th>\n",
       "      <td>9</td>\n",
       "      <td>4</td>\n",
       "      <td>5</td>\n",
       "      <td>1</td>\n",
       "      <td>4</td>\n",
       "      <td>8</td>\n",
       "      <td>2</td>\n",
       "      <td>3</td>\n",
       "      <td>77</td>\n",
       "      <td>25</td>\n",
       "      <td>1</td>\n",
       "      <td>183</td>\n",
       "      <td>0</td>\n",
       "    </tr>\n",
       "  </tbody>\n",
       "</table>\n",
       "<p>9396 rows × 13 columns</p>\n",
       "</div>"
      ],
      "text/plain": [
       "      personnage_1  personnage_2  force_1  force_2  scenarios  task_1  task_2  \\\n",
       "0                1             5        7        3          4       8       2   \n",
       "1                5             9        3        6          2       1       9   \n",
       "2                5             8        3        8          3       1       9   \n",
       "3                3             5       10        3          9       0      10   \n",
       "4                8             9        8        6          7       5       5   \n",
       "...            ...           ...      ...      ...        ...     ...     ...   \n",
       "9391             8             5        6        2          9       7       3   \n",
       "9392             9             2        5        2          7       7       3   \n",
       "9393             4             3        1       10          5       1       9   \n",
       "9394             4             1        1        3          2       2       8   \n",
       "9395             9             4        5        1          4       8       2   \n",
       "\n",
       "      repetition_question  id_participant  age  sexe  taille  enfant  \n",
       "0                       1             140   57     0     169       1  \n",
       "1                       1             140   57     0     169       1  \n",
       "2                       1             140   57     0     169       1  \n",
       "3                       1             140   57     0     169       1  \n",
       "4                       1             140   57     0     169       1  \n",
       "...                   ...             ...  ...   ...     ...     ...  \n",
       "9391                    3              77   25     1     183       0  \n",
       "9392                    3              77   25     1     183       0  \n",
       "9393                    3              77   25     1     183       0  \n",
       "9394                    3              77   25     1     183       0  \n",
       "9395                    3              77   25     1     183       0  \n",
       "\n",
       "[9396 rows x 13 columns]"
      ]
     },
     "execution_count": 53,
     "metadata": {},
     "output_type": "execute_result"
    }
   ],
   "source": [
    "data"
   ]
  },
  {
   "cell_type": "code",
   "execution_count": 54,
   "metadata": {
    "ExecuteTime": {
     "end_time": "2023-02-08T10:55:54.238403Z",
     "start_time": "2023-02-08T10:55:54.046915Z"
    },
    "colab": {
     "base_uri": "https://localhost:8080/",
     "height": 303
    },
    "executionInfo": {
     "elapsed": 1604,
     "status": "ok",
     "timestamp": 1653048809018,
     "user": {
      "displayName": "Sandra Victor",
      "userId": "08212330953566637160"
     },
     "user_tz": -120
    },
    "id": "wkyNs79ibeiP",
    "outputId": "0c76c95d-abd2-4aee-8380-e629b4d84d92"
   },
   "outputs": [
    {
     "data": {
      "image/png": "[encoded data removed]",
      "text/plain": [
       "<Figure size 3000x900 with 1 Axes>"
      ]
     },
     "metadata": {},
     "output_type": "display_data"
    }
   ],
   "source": [
    "#Statistical analysis of the distribution of the participants' force perceived.\n",
    "global Personnage_label\n",
    "Personnage_label = {\n",
    "    1: \"Regular_Man_Adult\",\n",
    "    2: \"Regular_Female_Adult\",\n",
    "    3: \"Robot\",\n",
    "    4: \"Child\",\n",
    "    5: \"Old_Person\",\n",
    "    8: \"Tall_Man_Adult\",\n",
    "    9: \"Tall_Female_Adult\"\n",
    "}\n",
    "plt.rcParams['figure.figsize'] = (30, 9)\n",
    "Personnage = data.personnage_1.unique()\n",
    "Force = []\n",
    "for i in Personnage:\n",
    "    Force.append(data[data.personnage_1 == i][[\n",
    "        \"personnage_1\", \"force_1\", \"id_participant\"\n",
    "    ]].drop_duplicates()[\"force_1\"])\n",
    "Force\n",
    "plt.boxplot(Force, labels=[Personnage_label[i] for i in Personnage])\n",
    "plt.title(\"Participants' force perceived\")\n",
    "plt.show()"
   ]
  },
  {
   "cell_type": "markdown",
   "metadata": {
    "id": "JW-q641EbeiQ"
   },
   "source": [
    "We can observe the set of forces given for each of the characters. The y-axis indicates between 1 and 15 what was given for each of the characters on the X-axis.\n",
    "\n",
    "This graph shows that, on average, participants perceive older people to be weaker than middle-aged men and women and a robot as well. Medium-sized men and women are also perceived as weaker than a robot on average, with women slightly weaker than men. On the other hand, for larger men and women, there is a small percentage that seems stronger than a robot, and therefore of men and women of medium size. There is also a small difference between tall men and women."
   ]
  },
  {
   "cell_type": "markdown",
   "metadata": {
    "id": "KAvyz7fQbeiQ"
   },
   "source": [
    "Finally, we can remember that age influences perceived force, as does height. Human being or not is also an influential parameter. The gender of the character also has a role, but much marked as the previous criteria."
   ]
  },
  {
   "cell_type": "markdown",
   "metadata": {},
   "source": [
    "#### Analysis on decisions-making"
   ]
  },
  {
   "cell_type": "markdown",
   "metadata": {
    "id": "xscleVLVbeiQ"
   },
   "source": [
    "By a similar study, we will now observe the general decision-making on these characters in the different types of scenarios. We can see if there is a significant difference between danger, physical effort and reward."
   ]
  },
  {
   "cell_type": "code",
   "execution_count": 55,
   "metadata": {
    "ExecuteTime": {
     "end_time": "2023-02-08T10:56:02.549225Z",
     "start_time": "2023-02-08T10:56:02.530276Z"
    },
    "executionInfo": {
     "elapsed": 10,
     "status": "ok",
     "timestamp": 1653048809018,
     "user": {
      "displayName": "Sandra Victor",
      "userId": "08212330953566637160"
     },
     "user_tz": -120
    },
    "id": "BXJzj_SybeiQ"
   },
   "outputs": [],
   "source": [
    "#Statistical analysis of the participants' decision distribution\n",
    "def show_decisions(DF):\n",
    "    plt.rcParams['figure.figsize'] = (30, 9)\n",
    "    Personnage = data.personnage_1.unique()\n",
    "\n",
    "    Task = []\n",
    "    for i in Personnage:\n",
    "        Task.append(DF[data.personnage_1 == i][[\n",
    "            \"personnage_1\", \"task_1\", \"id_participant\"\n",
    "        ]].drop_duplicates()[\"task_1\"])\n",
    "\n",
    "    plt.boxplot(Task, labels=[Personnage_label[i] for i in Personnage])\n",
    "    plt.show()"
   ]
  },
  {
   "cell_type": "code",
   "execution_count": 56,
   "metadata": {
    "ExecuteTime": {
     "end_time": "2023-02-08T10:56:04.076144Z",
     "start_time": "2023-02-08T10:56:03.504672Z"
    },
    "colab": {
     "base_uri": "https://localhost:8080/",
     "height": 875
    },
    "executionInfo": {
     "elapsed": 2191,
     "status": "ok",
     "timestamp": 1653048811201,
     "user": {
      "displayName": "Sandra Victor",
      "userId": "08212330953566637160"
     },
     "user_tz": -120
    },
    "id": "O-zpisoxbeiQ",
    "outputId": "cb0152de-f2eb-4ba5-8012-7a5f17040b30"
   },
   "outputs": [
    {
     "data": {
      "image/png": "[encoded data removed]",
      "text/plain": [
       "<Figure size 3000x900 with 1 Axes>"
      ]
     },
     "metadata": {},
     "output_type": "display_data"
    },
    {
     "data": {
      "image/png": "[encoded data removed]",
      "text/plain": [
       "<Figure size 3000x900 with 1 Axes>"
      ]
     },
     "metadata": {},
     "output_type": "display_data"
    },
    {
     "data": {
      "image/png": "[encoded data removed]",
      "text/plain": [
       "<Figure size 3000x900 with 1 Axes>"
      ]
     },
     "metadata": {},
     "output_type": "display_data"
    }
   ],
   "source": [
    "#Statistical analysis of the participants' decision distribution\n",
    "\n",
    "plt.title(\"Participants' decision distribution in danger\")\n",
    "show_decisions(data[data.scenarios < 4])\n",
    "plt.title(\"Participants' decision distribution in fatigue effort\")\n",
    "show_decisions(data[(data.scenarios >= 4) & (data.scenarios < 7)])\n",
    "plt.title(\"Participants' decision distribution in rewards\")\n",
    "show_decisions(data[data.scenarios >= 7])\n",
    "#show repetition question separately"
   ]
  },
  {
   "cell_type": "markdown",
   "metadata": {
    "id": "TJ4ZLkIMbeiR"
   },
   "source": [
    "We can observe all the decisions made for each of the characters. The y-axis indicates between 0 and 10 what was given for each of the characters on the X-axis.\n",
    "\n",
    "In case of danger, we notice that participants tend to sacrifice the robot and to keep the child and the old person. \n",
    "Compared to adults, the difference in size marks more a change in decision than for women. That is to say that the size for a man seems to have a greater impact than for a woman. There is a slight difference in sex, where the average for women is lower than for men.\n",
    "\n",
    "As for the questions of strength, the robot is clearly requested unlike the child and the old person. \n",
    "For adults, the difference in decisions is less pronounced, whether they are large or medium-sized. We still notice that the man is a little more stressed than the woman in a physical effort.\n",
    "\n",
    "Finally, for the rewards, it is clear that on average they are distributed fairly. The children were rewarded a little less, but this may be due to the fact that it was very much about money. The robot, on the other hand, was rewarded very little."
   ]
  },
  {
   "cell_type": "markdown",
   "metadata": {
    "id": "x1c7TkUibeiR"
   },
   "source": [
    "#### Distribution of pairs "
   ]
  },
  {
   "cell_type": "code",
   "execution_count": 57,
   "metadata": {
    "ExecuteTime": {
     "end_time": "2023-02-08T10:56:08.452981Z",
     "start_time": "2023-02-08T10:56:08.191817Z"
    },
    "colab": {
     "base_uri": "https://localhost:8080/",
     "height": 302
    },
    "executionInfo": {
     "elapsed": 894,
     "status": "ok",
     "timestamp": 1653048812091,
     "user": {
      "displayName": "Sandra Victor",
      "userId": "08212330953566637160"
     },
     "user_tz": -120
    },
    "id": "nYt8QovbbeiR",
    "outputId": "971640ab-d4b5-4b36-d20a-673ac0fc89ca"
   },
   "outputs": [
    {
     "data": {
      "text/plain": [
       "{1: 'Regular_Man_Adult',\n",
       " 2: 'Regular_Female_Adult',\n",
       " 3: 'Robot',\n",
       " 4: 'Child',\n",
       " 5: 'Old_Person',\n",
       " 8: 'Tall_Man_Adult',\n",
       " 9: 'Tall_Female_Adult'}"
      ]
     },
     "metadata": {},
     "output_type": "display_data"
    },
    {
     "data": {
      "text/plain": [
       "'Moyenne:'"
      ]
     },
     "metadata": {},
     "output_type": "display_data"
    },
    {
     "data": {
      "text/plain": [
       "223.71428571428572"
      ]
     },
     "metadata": {},
     "output_type": "display_data"
    },
    {
     "data": {
      "text/plain": [
       "'Déviation standard:'"
      ]
     },
     "metadata": {},
     "output_type": "display_data"
    },
    {
     "data": {
      "text/plain": [
       "27.17561932531227"
      ]
     },
     "metadata": {},
     "output_type": "display_data"
    },
    {
     "data": {
      "image/png": "[encoded data removed]",
      "text/plain": [
       "<Figure size 3000x900 with 1 Axes>"
      ]
     },
     "metadata": {},
     "output_type": "display_data"
    }
   ],
   "source": [
    "#show how pairs are distributed\n",
    "def show_pairs_occurence(DF):\n",
    "    pairs = []\n",
    "    occurence_pairs = []\n",
    "\n",
    "    for i in range(len(Personnage)):\n",
    "        for j in range(i, len(Personnage)):\n",
    "            if (i != j):\n",
    "                pairs.append([Personnage[i], Personnage[j]])\n",
    "                occurence_pairs.append(\n",
    "                    len(DF[DF.personnage_1 == Personnage[i]][DF.personnage_2 ==\n",
    "                                                             Personnage[j]]))\n",
    "\n",
    "    plt.bar([\"(\" + str(i) + \",\" + str(j) + \")\" for [i, j] in pairs],\n",
    "            occurence_pairs,\n",
    "            width=0.4)\n",
    "    plt.yticks(size=15)\n",
    "    plt.xticks(size=15)\n",
    "    display(Personnage_label)\n",
    "    \n",
    "    mean = np.mean(occurence_pairs)\n",
    "    std_dev = np.std(occurence_pairs, ddof=1) # ddof=1 sets the degrees of freedom to 1 for sample standard deviation\n",
    "    display(\"Moyenne:\", mean)\n",
    "    display(\"Déviation standard:\", std_dev)\n",
    "    for i, v in enumerate(occurence_pairs):\n",
    "        plt.text(i ,v + 0.2, str(v), ha='center')\n",
    "    plt.show()\n",
    "    \n",
    "    \n",
    "    \n",
    "plt.title(\"Number of pairs distributed among all scenarios\", size=15)\n",
    "show_pairs_occurence(data)"
   ]
  },
  {
   "cell_type": "markdown",
   "metadata": {
    "id": "yVnt-wQfbeiR"
   },
   "source": [
    "Since our serious game displays only a random portion of the pairs, we verify that the pairs found in the data set are fairly distributed. "
   ]
  },
  {
   "cell_type": "markdown",
   "metadata": {
    "id": "C9lnK0ADbeiR"
   },
   "source": [
    "This graph links the abscissa of each pair of characters we find and the abscissa of their numbers in the data.\n",
    "\n",
    "Out of 145 participants, we have 9 different pairs per individual, repeated 3 times in the data. That is 3915 pairs in total grouping our 21 pairs above. We would need a number of 186 for each different pair of characters to have fair information about the set. We notice that the maximum number reached is about 180, and each other pair never reaches such a high number. "
   ]
  },
  {
   "cell_type": "markdown",
   "metadata": {
    "id": "9hlJqG20beiS"
   },
   "source": [
    "We will now look at the distribution in each type of scenario. We note for example that the pair (8,2) which corresponds to a big man in front of a big woman intervenes more than 60 times in a danger scenario, while it appears only twenty to thirty times for fatigue efforts and rewards. We find this difference in distribution for several pairs, which will necessarily involve an analysis of different data between the types of scenarios."
   ]
  },
  {
   "cell_type": "code",
   "execution_count": null,
   "metadata": {
    "ExecuteTime": {
     "end_time": "2023-02-08T10:39:29.866453Z",
     "start_time": "2023-02-08T10:39:29.199238Z"
    },
    "colab": {
     "base_uri": "https://localhost:8080/",
     "height": 873
    },
    "executionInfo": {
     "elapsed": 2201,
     "status": "ok",
     "timestamp": 1653048814281,
     "user": {
      "displayName": "Sandra Victor",
      "userId": "08212330953566637160"
     },
     "user_tz": -120
    },
    "id": "xUJTs7TVbeiS",
    "outputId": "ee0760d8-db0e-4d21-a27a-f14642f55272"
   },
   "outputs": [],
   "source": [
    "#We show for each scenario type\n",
    "plt.title(\"Number of pairs distributed among danger scenarios\",size=25)\n",
    "show_pairs_occurence(data[data.scenarios < 4])  #danger\n",
    "plt.title(\"Number of pairs distributed among fatigue effort scenarios\",size=25)\n",
    "show_pairs_occurence(data[(data.scenarios >= 4) & (data.scenarios < 7)])  #force\n",
    "plt.title(\"Number of pairs distributed among rewards scenarios\",size=25)\n",
    "show_pairs_occurence(data[data.scenarios >= 7])  #récompense"
   ]
  },
  {
   "cell_type": "markdown",
   "metadata": {
    "id": "MyDiEEj0beiS"
   },
   "source": [
    "This difference in the distribution of pairs in the scenarios is due to its random distribution in our experiment. With more participation, we will have a better distribution of pairs on all issues. Even so, we manage to have a panel with all the pairs, no pair of characters has not been studied in the experiment and we can study some correlations."
   ]
  },
  {
   "cell_type": "markdown",
   "metadata": {
    "id": "9uJF4SLobeiS"
   },
   "source": [
    "Now that we have an idea of the distribution of pairs, and we know that we have a panel that brings together all the groups we want to study, we’re going to look at the biases and correlations that can come into play in decision-making."
   ]
  },
  {
   "cell_type": "markdown",
   "metadata": {},
   "source": [
    "### Analysis on users <a class=\"anchor\" id=\"section_3_2_2\"></a>"
   ]
  },
  {
   "cell_type": "markdown",
   "metadata": {},
   "source": [
    "#### Distribution of men and women"
   ]
  },
  {
   "cell_type": "code",
   "execution_count": null,
   "metadata": {
    "ExecuteTime": {
     "end_time": "2023-02-08T10:39:29.881414Z",
     "start_time": "2023-02-08T10:39:29.873437Z"
    }
   },
   "outputs": [],
   "source": [
    "def add_value_label(x_list, y_list):\n",
    "    for i in range(0, len(x_list)):\n",
    "        plt.text(i,\n",
    "                 y_list[i],\n",
    "                 y_list[i],\n",
    "                 size=15,\n",
    "                 ha='center',\n",
    "                 va='bottom',\n",
    "                 rotation=0)"
   ]
  },
  {
   "cell_type": "code",
   "execution_count": null,
   "metadata": {
    "ExecuteTime": {
     "end_time": "2023-02-08T10:39:30.005083Z",
     "start_time": "2023-02-08T10:39:29.883418Z"
    }
   },
   "outputs": [],
   "source": [
    "men = len(data[data.sexe == 1].groupby('id_participant'))\n",
    "women = len(data[data.sexe == 0].groupby('id_participant'))\n",
    "other = len(data[data.sexe == 2].groupby('id_participant'))\n",
    "\n",
    "plt.figure(figsize=(12, 8), dpi=80)\n",
    "x=[0, 1, 2]\n",
    "y=[women, men, other]\n",
    "plt.bar(\n",
    "    x,\n",
    "    y,\n",
    "    width=0.15,\n",
    "    edgecolor='grey',\n",
    ")\n",
    "plt.title('Number of men and woman in participants',\n",
    "          fontweight='bold',\n",
    "          fontsize=15)\n",
    "plt.ylabel('Number of participants', fontweight='bold', fontsize=15)\n",
    "plt.ylabel('Gender', fontweight='bold', fontsize=15)\n",
    "x_label = [\"Woman\", \"Man\", \"Other\"]\n",
    "plt.xticks([r for r in range(3)], x_label, size=15, fontweight='bold')\n",
    "add_value_label(x, y)\n",
    "plt.show()"
   ]
  },
  {
   "cell_type": "markdown",
   "metadata": {},
   "source": [
    "Here we see the distribution of men and women in our participants. It can be seen that we have a 50% female and 50% male audience. So we have a good gender distribution among our participants."
   ]
  },
  {
   "cell_type": "markdown",
   "metadata": {},
   "source": [
    "#### Age category"
   ]
  },
  {
   "cell_type": "code",
   "execution_count": null,
   "metadata": {
    "ExecuteTime": {
     "end_time": "2023-02-08T10:39:30.177622Z",
     "start_time": "2023-02-08T10:39:30.006080Z"
    }
   },
   "outputs": [],
   "source": [
    "young0_10 = len(data[data.age <= 10].groupby('id_participant'))\n",
    "young10_20 = len(data[(data.age > 10)\n",
    "                      & (data.age <= 20)].groupby('id_participant'))\n",
    "young20_30 = len(data[(data.age > 20)\n",
    "                      & (data.age <= 30)].groupby('id_participant'))\n",
    "young30_40 = len(data[(data.age > 30)\n",
    "                      & (data.age <= 40)].groupby('id_participant'))\n",
    "young40_50 = len(data[(data.age > 40)\n",
    "                      & (data.age <= 50)].groupby('id_participant'))\n",
    "young50_60 = len(data[(data.age > 50)\n",
    "                      & (data.age <= 60)].groupby('id_participant'))\n",
    "young60_70 = len(data[(data.age > 60)\n",
    "                      & (data.age <= 70)].groupby('id_participant'))\n",
    "young70_80 = len(data[(data.age > 70)\n",
    "                      & (data.age <= 80)].groupby('id_participant'))\n",
    "young80_90 = len(data[(data.age > 80)\n",
    "                      & (data.age <= 90)].groupby('id_participant'))\n",
    "young90_100 = len(data[data.age > 90].groupby('id_participant'))\n",
    "\n",
    "plt.figure(figsize=(10, 10), dpi=80)\n",
    "x = [0, 1, 2, 3, 4, 5, 6, 7, 8, 9]\n",
    "y = [\n",
    "    young0_10, young10_20, young20_30, young30_40, young40_50, young50_60,\n",
    "    young60_70, young70_80, young80_90, young90_100\n",
    "]\n",
    "plt.bar(\n",
    "    x,\n",
    "    y,\n",
    "    width=1,\n",
    "    edgecolor='grey',\n",
    ")\n",
    "plt.title('Number of participants by age category',\n",
    "          fontweight='bold',\n",
    "          fontsize=15)\n",
    "plt.ylabel('Number of participants', fontweight='bold', fontsize=15)\n",
    "plt.ylabel('Age', fontweight='bold', fontsize=15)\n",
    "x_label = ['0', '10', '20', '30', '40', '50', '60', '70', '80', '90']\n",
    "plt.xticks([r - 0.5 for r in x], x_label, size=15, fontweight='bold')\n",
    "add_value_label(x, y)\n",
    "plt.show()"
   ]
  },
  {
   "cell_type": "markdown",
   "metadata": {
    "id": "qN8cFdRwbeiU"
   },
   "source": [
    "#### Influence of having children "
   ]
  },
  {
   "cell_type": "markdown",
   "metadata": {
    "id": "LV-aGi78beiW"
   },
   "source": [
    "In our experience, we collect personal information about participants. Especially if they have children. The purpose of this question is to observe whether parenting can play a role in decision-making for a child.\n",
    "\n",
    "We will therefore retrieve all questions that include a child and observe what parents and non-parents have decided."
   ]
  },
  {
   "cell_type": "markdown",
   "metadata": {
    "id": "bZ85FTeabeiW"
   },
   "source": [
    "Because we are looking at two different populations, we need to look at the difference in numbers in our data between parents and non-parents. So this graph shows us that there are more non-parents than there are parents in our data."
   ]
  },
  {
   "cell_type": "code",
   "execution_count": null,
   "metadata": {
    "ExecuteTime": {
     "end_time": "2023-02-08T10:39:30.193579Z",
     "start_time": "2023-02-08T10:39:30.178619Z"
    },
    "colab": {
     "base_uri": "https://localhost:8080/",
     "height": 488
    },
    "executionInfo": {
     "elapsed": 13,
     "status": "ok",
     "timestamp": 1653048818379,
     "user": {
      "displayName": "Sandra Victor",
      "userId": "08212330953566637160"
     },
     "user_tz": -120
    },
    "id": "YHgpPOzHbeiW",
    "outputId": "0c929950-fe41-42ad-a02f-52659a8a503b"
   },
   "outputs": [],
   "source": [
    "data[data['enfant'] == 1]"
   ]
  },
  {
   "cell_type": "code",
   "execution_count": null,
   "metadata": {
    "ExecuteTime": {
     "end_time": "2023-02-08T10:39:30.425957Z",
     "start_time": "2023-02-08T10:39:30.194577Z"
    },
    "colab": {
     "base_uri": "https://localhost:8080/",
     "height": 318
    },
    "executionInfo": {
     "elapsed": 1015,
     "status": "ok",
     "timestamp": 1653048819383,
     "user": {
      "displayName": "Sandra Victor",
      "userId": "08212330953566637160"
     },
     "user_tz": -120
    },
    "id": "eJleYD4qbeiW",
    "outputId": "d3a4885a-7c94-490a-83ca-8008aaa58261",
    "scrolled": true
   },
   "outputs": [],
   "source": [
    "no_child = len(\n",
    "    data[data.enfant == 0][data.personnage_1 == 4].groupby('id_participant'))\n",
    "child = len(\n",
    "    data[data.enfant == 1][data.personnage_1 == 4].groupby('id_participant'))\n",
    "plt.bar(\n",
    "    [0, 1],\n",
    "    [no_child, child],\n",
    "    width=0.15,\n",
    "    edgecolor='grey',\n",
    ")\n",
    "plt.title('Number of participants who have children or not',\n",
    "          fontweight='bold',\n",
    "          fontsize=25)\n",
    "plt.ylabel('Number of participants', fontweight='bold', fontsize=15)\n",
    "x_label = [\"Has no child\", \"Has child\"]\n",
    "plt.xticks([r for r in range(2)], x_label, size=15, fontweight='bold')\n",
    "plt.show()"
   ]
  },
  {
   "cell_type": "code",
   "execution_count": null,
   "metadata": {
    "ExecuteTime": {
     "end_time": "2023-02-08T10:39:30.456875Z",
     "start_time": "2023-02-08T10:39:30.426955Z"
    }
   },
   "outputs": [],
   "source": [
    "def anova_test_child(DF):\n",
    "    no_child=DF[data_analyze.enfant == 0][data_analyze.personnage_1==4]['task_1']\n",
    "    child=DF[data_analyze.enfant == 1][data_analyze.personnage_1==4]['task_1']\n",
    "    return stats.f_oneway(no_child,child)\n",
    "\n",
    "print('For danger :',anova_test_child(data_analyze[data_analyze.scenarios<4]))\n",
    "print('For fatigue :',anova_test_child(data_analyze[(data_analyze.scenarios>3) & (data_analyze.scenarios<7)]))\n",
    "print('For reward :',anova_test_child(data_analyze[data_analyze.scenarios>6]))\n"
   ]
  },
  {
   "cell_type": "code",
   "execution_count": null,
   "metadata": {
    "ExecuteTime": {
     "end_time": "2023-02-08T10:39:30.474081Z",
     "start_time": "2023-02-08T10:39:30.457872Z"
    },
    "executionInfo": {
     "elapsed": 13,
     "status": "ok",
     "timestamp": 1653048818378,
     "user": {
      "displayName": "Sandra Victor",
      "userId": "08212330953566637160"
     },
     "user_tz": -120
    },
    "id": "0wulbFTIbeiW"
   },
   "outputs": [],
   "source": [
    "def show_correlation(function, std_function, DF, title, label_1, label_2):\n",
    "    #set width of bar\n",
    "    barWidth = 0.25\n",
    "    fig = plt.subplots(figsize=(12, 8))\n",
    "\n",
    "    y = [\n",
    "        function(DF[data.scenarios < 4]),\n",
    "        function(DF[(data.scenarios > 3) & (data.scenarios < 7)]),\n",
    "        function(DF[data.scenarios > 6])\n",
    "    ]\n",
    "\n",
    "    error = [\n",
    "        std_function(DF[data.scenarios < 4]),\n",
    "        std_function(DF[(data.scenarios > 3) & (data.scenarios < 7)]),\n",
    "        std_function(DF[data.scenarios > 6])\n",
    "    ]\n",
    "\n",
    "    x_label = [label_1, label_2]\n",
    "    # Set position of bar on X axis\n",
    "    br1 = np.arange(2)\n",
    "    br2 = [x + barWidth for x in br1]\n",
    "    br3 = [x + barWidth for x in br2]\n",
    "\n",
    "    # Make the plot\n",
    "    plt.grid()\n",
    "    plt.bar(br1,\n",
    "            y[0],\n",
    "            yerr=error[0],\n",
    "            color='crimson',\n",
    "            width=barWidth,\n",
    "            edgecolor='grey',\n",
    "            label='Danger',\n",
    "            alpha=0.75,\n",
    "            ecolor='black',\n",
    "            capsize=5)\n",
    "    plt.bar(br2,\n",
    "            y[1],\n",
    "            yerr=error[1],\n",
    "            color='gold',\n",
    "            width=barWidth,\n",
    "            edgecolor='grey',\n",
    "            label='Fatigue',\n",
    "            alpha=0.75,\n",
    "            ecolor='black',\n",
    "            capsize=5)\n",
    "    plt.bar(br3,\n",
    "            y[2],\n",
    "            yerr=error[2],\n",
    "            color='turquoise',\n",
    "            width=barWidth,\n",
    "            edgecolor='grey',\n",
    "            label='Reward',\n",
    "            alpha=0.75,\n",
    "            ecolor='black',\n",
    "            capsize=5)\n",
    "\n",
    "    # Adding Xticks\n",
    "    plt.title(title)\n",
    "    plt.ylabel('Decision taken', fontweight='bold', fontsize=15)\n",
    "    plt.yticks(range(11))\n",
    "    plt.xticks([r + barWidth for r in range(2)], x_label)\n",
    "    plt.legend()\n",
    "    plt.show()"
   ]
  },
  {
   "cell_type": "code",
   "execution_count": null,
   "metadata": {
    "ExecuteTime": {
     "end_time": "2023-02-08T10:39:30.488789Z",
     "start_time": "2023-02-08T10:39:30.474827Z"
    },
    "executionInfo": {
     "elapsed": 16,
     "status": "ok",
     "timestamp": 1653048819384,
     "user": {
      "displayName": "Sandra Victor",
      "userId": "08212330953566637160"
     },
     "user_tz": -120
    },
    "id": "zhMegBrxbeiX"
   },
   "outputs": [],
   "source": [
    "def avg_child(DF):\n",
    "    child = DF[data.enfant == 1][data.personnage_1 == 4]\n",
    "    no_child = DF[data.enfant == 0][data.personnage_1 == 4]\n",
    "    y_child = child[child.personnage_1 == 4].task_1.mean()\n",
    "    y_nochild = no_child[no_child.personnage_1 == 4].task_1.mean()\n",
    "    return [y_child, y_nochild]\n",
    "\n",
    "def std_child(DF):\n",
    "    child = DF[data.enfant == 1][data.personnage_1 == 4]\n",
    "    no_child = DF[data.enfant == 0][data.personnage_1 == 4]\n",
    "    y_child = child[child.personnage_1 == 4].task_1.std()\n",
    "    y_nochild = no_child[no_child.personnage_1 == 4].task_1.std()\n",
    "    return [y_child, y_nochild]"
   ]
  },
  {
   "cell_type": "code",
   "execution_count": null,
   "metadata": {
    "ExecuteTime": {
     "end_time": "2023-02-08T10:39:30.689253Z",
     "start_time": "2023-02-08T10:39:30.490784Z"
    },
    "colab": {
     "base_uri": "https://localhost:8080/",
     "height": 504
    },
    "executionInfo": {
     "elapsed": 16,
     "status": "ok",
     "timestamp": 1653048819384,
     "user": {
      "displayName": "Sandra Victor",
      "userId": "08212330953566637160"
     },
     "user_tz": -120
    },
    "id": "RZOuNhMtbeiX",
    "outputId": "e69a2275-ec47-4fd6-f771-7c24c8d81d79"
   },
   "outputs": [],
   "source": [
    "show_correlation(\n",
    "    avg_child,std_child, data,\n",
    "    \"Average decisions made about a child in danger,reward and fatigue\",\n",
    "    \"Has Child\", \"Has no Child\")"
   ]
  },
  {
   "cell_type": "markdown",
   "metadata": {
    "id": "qZibMuODbeiX"
   },
   "source": [
    "This graph relates the average decision taken for a child between 0 and 10 in the different types of scenarios. Average decisions for parents and non-parental parents are observed. There is indeed an increase in danger, fatigue but also in the reward of parents, compared to non-parents. "
   ]
  },
  {
   "cell_type": "markdown",
   "metadata": {},
   "source": [
    "### Analysis on our different groups <a class=\"anchor\" id=\"section_3_2_3\"></a>"
   ]
  },
  {
   "cell_type": "markdown",
   "metadata": {
    "id": "OWHa4j_sbeiT"
   },
   "source": [
    "#### Influence of repetition "
   ]
  },
  {
   "cell_type": "markdown",
   "metadata": {
    "id": "6iWSjtaKbeiT"
   },
   "source": [
    "In our experience, each question was repeated 3 times to be able to observe if the participants changed their mind from their previous choice. That is what we will observe now."
   ]
  },
  {
   "cell_type": "code",
   "execution_count": null,
   "metadata": {
    "ExecuteTime": {
     "end_time": "2023-02-08T10:39:31.289290Z",
     "start_time": "2023-02-08T10:39:30.690251Z"
    },
    "colab": {
     "base_uri": "https://localhost:8080/",
     "height": 900
    },
    "executionInfo": {
     "elapsed": 1931,
     "status": "ok",
     "timestamp": 1653048816207,
     "user": {
      "displayName": "Sandra Victor",
      "userId": "08212330953566637160"
     },
     "user_tz": -120
    },
    "id": "dGVEJJZPbeiT",
    "outputId": "73ce4469-00a1-4eb7-fa35-d6e3ef067c44"
   },
   "outputs": [],
   "source": [
    "#show how pairs are distributed\n",
    "def show_pairs_occurence(DF):\n",
    "    pairs = []\n",
    "    global_changes = []\n",
    "\n",
    "    for i in range(len(Personnage)):\n",
    "        for j in range(i, len(Personnage)):\n",
    "            if (i != j):\n",
    "                pairs.append([Personnage[i], Personnage[j]])\n",
    "\n",
    "    for i in pairs:\n",
    "        pair = DF[(data.personnage_1 == i[0]) & (data.personnage_2 == i[1])]\n",
    "        #print(pair)\n",
    "        changes = []\n",
    "        change = 0\n",
    "        for j in pair.index:\n",
    "            if pair['repetition_question'][j] == 1:\n",
    "                rep = pair['task_1'][j]\n",
    "                #print(\"rep1\",rep)\n",
    "            if pair['repetition_question'][j] == 2:\n",
    "                if pair['task_1'][j] != rep:\n",
    "                    change += 1\n",
    "                    rep = pair['task_1'][j]\n",
    "                    #print(\"rep2\",rep)\n",
    "                    #print(\"change1\",change)\n",
    "            if pair['repetition_question'][j] == 3:\n",
    "                if pair['task_1'][j] != rep:\n",
    "                    change += 1\n",
    "                    #print(\"rep3\",pair['task_1'][j],\"=\",rep)\n",
    "                    #print(\"change2\",change,pair['id_participant'][j])\n",
    "                changes.append(change)\n",
    "                change = 0\n",
    "                rep = 0\n",
    "                #print(\"zero\",rep,change)\n",
    "        global_changes.append(np.median(changes))\n",
    "    plt.yticks([0, 1, 2], size=15)\n",
    "    plt.ylabel(\"Number of changes\", size=15)\n",
    "    plt.xlabel(\"Set of pairs\", size=15)\n",
    "    plt.bar([\"(\" + str(i) + \",\" + str(j) + \")\" for [i, j] in pairs],\n",
    "            global_changes,\n",
    "            width=0.4)\n",
    "    plt.xticks(size=15)\n",
    "    display(Personnage_label)\n",
    "    plt.show()\n",
    "\n",
    "\n",
    "plt.title(\"Number of changes by pairs among danger\", size=20)\n",
    "\n",
    "show_pairs_occurence(data[data.scenarios < 4])\n",
    "plt.title(\"Number of changes by pairs among fatigue\", size=20)\n",
    "\n",
    "show_pairs_occurence(data[(data.scenarios > 3) & (data.scenarios < 7)])\n",
    "plt.title(\"Number of changes by pairs among reward\", size=20)\n",
    "show_pairs_occurence(data[data.scenarios > 6])"
   ]
  },
  {
   "cell_type": "markdown",
   "metadata": {
    "id": "olaIin88beiU"
   },
   "source": [
    "In the following graphs, we will be able to observe in detail the changes made in each scenario. We choose a pair arbitrarily, for example a medium-sized man in front of a child. On the abscissa, we observe the repetition of the question, if it is the 1st time it appears, the 2nd etc. In ordinate, we observe the tasks given to each character of the pair. This allows us to observe what was decided during the 1st, 2nd and 3rd time. The curves in blue indicate that there has been no change. The red curves show that the individual to decide to give more and more to the child and the green curves show that the individual to decide to give more and more to the man.\n",
    "\n",
    "The opacity of the curve indicates that there were more people who followed this curve in their decision."
   ]
  },
  {
   "cell_type": "code",
   "execution_count": null,
   "metadata": {
    "ExecuteTime": {
     "end_time": "2023-02-08T10:39:31.304271Z",
     "start_time": "2023-02-08T10:39:31.291252Z"
    },
    "executionInfo": {
     "elapsed": 7,
     "status": "ok",
     "timestamp": 1653048816208,
     "user": {
      "displayName": "Sandra Victor",
      "userId": "08212330953566637160"
     },
     "user_tz": -120
    },
    "id": "r0R5ih7HbeiU"
   },
   "outputs": [],
   "source": [
    "def show_repetition(DF, pair):\n",
    "    #calculating variation of task gived\n",
    "    rep_data = DF[data.personnage_1 == pair[0]][data.personnage_2 == pair[1]][[\n",
    "        \"scenarios\", \"task_1\", \"task_2\", \"repetition_question\"\n",
    "    ]]\n",
    "    delta_d = rep_data.task_1 - rep_data.task_2\n",
    "    #definition of values to plot\n",
    "    x = range(1, 4)\n",
    "    y_label = []\n",
    "    for i in range(11):\n",
    "        y_label.append(str(i) + \"-\" + str(10 - i))\n",
    "    #group the number of sames answers to plot wider lines\n",
    "    var = {}\n",
    "    for i in range(0, len(delta_d), 3):\n",
    "        y = [delta_d.iloc[i], delta_d.iloc[i + 1], delta_d.iloc[i + 2]]\n",
    "        if tuple(y) in var:\n",
    "            var[tuple(y)] += 1\n",
    "        else:\n",
    "            var[tuple(y)] = 1\n",
    "    last_r, last_g, last_b = list(var.keys())[0]\n",
    "    for y in var:\n",
    "        #observe if the variation decrease or increase\n",
    "        coef = (3 - 1) / (y[2] - y[0])\n",
    "        if coef == np.inf:\n",
    "            coef = 0\n",
    "\n",
    "        if coef > 0:\n",
    "            c = 'g'\n",
    "            line_down = plt.plot(x,\n",
    "                                 y,\n",
    "                                 linewidth=var[tuple(y)],\n",
    "                                 color=c,\n",
    "                                 label='Increase')\n",
    "            #plt.fill_between(x, last_g, y, color=c, alpha=var[tuple(y)]/10)\n",
    "            last_g = y\n",
    "        elif coef < 0:\n",
    "            c = 'r'\n",
    "            line_up = plt.plot(x,\n",
    "                               y,\n",
    "                               linewidth=var[tuple(y)],\n",
    "                               color=c,\n",
    "                               label='Decrease')\n",
    "            #plt.fill_between(x, last_r, y, color=c, alpha=var[tuple(y)]/10)\n",
    "            last_r = y\n",
    "        else:\n",
    "            c = 'b'\n",
    "            line_const = plt.plot(x,\n",
    "                                  y,\n",
    "                                  linewidth=var[tuple(y)],\n",
    "                                  color=c,\n",
    "                                  label='Constant')\n",
    "            #plt.fill_between(x, last_b, y, color=c, alpha=var[tuple(y)]/10)\n",
    "            last_b = y\n",
    "\n",
    "    plt.title(\"For : \" + Personnage_label[pair_observed[0]] + \" & \" +\n",
    "              Personnage_label[pair_observed[1]] +\n",
    "              \" variation task gived in repetition\",\n",
    "              size=20)\n",
    "    plt.xticks([1, 2, 3])\n",
    "    plt.yticks(range(-10, 11, 2), y_label)\n",
    "    plt.xlabel(\"Repetition of the question\", size=15)\n",
    "    plt.ylabel(\"Task's repartition\", size=15)\n",
    "    handles, labels = plt.gca().get_legend_handles_labels()\n",
    "    by_label = dict(zip(labels, handles))\n",
    "    plt.legend(by_label.values(),\n",
    "               by_label.keys(),\n",
    "               fontsize=15,\n",
    "               loc=\"upper right\")\n",
    "    plt.rc('xtick', labelsize=15)\n",
    "    plt.rc('ytick', labelsize=15)\n",
    "\n",
    "    plt.show()"
   ]
  },
  {
   "cell_type": "code",
   "execution_count": null,
   "metadata": {
    "ExecuteTime": {
     "end_time": "2023-02-08T10:39:31.939774Z",
     "start_time": "2023-02-08T10:39:31.305268Z"
    },
    "colab": {
     "base_uri": "https://localhost:8080/",
     "height": 950
    },
    "executionInfo": {
     "elapsed": 1292,
     "status": "ok",
     "timestamp": 1653048818377,
     "user": {
      "displayName": "Sandra Victor",
      "userId": "08212330953566637160"
     },
     "user_tz": -120
    },
    "id": "sH5ORoK2beiU",
    "outputId": "05bd9e27-05ae-4f69-a5d3-450492617953"
   },
   "outputs": [],
   "source": [
    "pair_observed = [1, 4]\n",
    "#We show for each scenario type\n",
    "print(\"Impact of repetition in danger scenarios\")\n",
    "show_repetition(data[data.scenarios < 4], pair_observed)  #danger\n",
    "print(\"Impact of repetition in fatigue effort scenarios\")\n",
    "show_repetition(data[(data.scenarios >= 4) & (data.scenarios < 7)],\n",
    "                pair_observed)  #force\n",
    "print(\"Impact of repetition in rewards scenarios\")\n",
    "show_repetition(data[data.scenarios > 6], pair_observed)  #récompense"
   ]
  },
  {
   "cell_type": "markdown",
   "metadata": {
    "id": "FVnoOozIbeiU"
   },
   "source": [
    "This first graph shows the number of changes per pair, in the different types of scenarios. On the y-axis from 0 to 1, we notice that on average the participants change their decisions once. We also note that there is much more change for fatigue issues, while for danger, participants change their minds less and even less for the reward."
   ]
  },
  {
   "cell_type": "markdown",
   "metadata": {
    "id": "3MPmxnjQbeiX"
   },
   "source": [
    "#### Difference on the gender on caracters "
   ]
  },
  {
   "cell_type": "markdown",
   "metadata": {
    "id": "SHlhXTAZbeiY"
   },
   "source": [
    "We will now study the influence of sex in decision-making. For this, we recover the pairs man-woman and tall man-tall woman. Then we look at the average decisions in each type of scenario."
   ]
  },
  {
   "cell_type": "markdown",
   "metadata": {
    "id": "ymJSDO2FbeiZ"
   },
   "source": [
    "On the other hand, for the big man-big woman pairs, we note that the p-value is less than 0.05 in for danger and fatigue but not for reward (p-value=0.12). This means that sex does not influence the reward, knowing that for the average men and women, we had p-value=0.03, which was not so far from 0.05, we can confirm that sex influences much less."
   ]
  },
  {
   "cell_type": "code",
   "execution_count": null,
   "metadata": {
    "ExecuteTime": {
     "end_time": "2023-02-08T10:39:31.969695Z",
     "start_time": "2023-02-08T10:39:31.940772Z"
    },
    "executionInfo": {
     "elapsed": 12,
     "status": "ok",
     "timestamp": 1653048819385,
     "user": {
      "displayName": "Sandra Victor",
      "userId": "08212330953566637160"
     },
     "user_tz": -120
    },
    "id": "0zdZCCmubeiZ"
   },
   "outputs": [],
   "source": [
    "def man_woman(DF):\n",
    "    regular = DF[((data_analyze.personnage_1 == 1) & (data_analyze.personnage_2 == 2))][[\n",
    "        \"personnage_1\", \"personnage_2\", \"task_1\", \"task_2\", \"scenarios\"\n",
    "    ]]\n",
    "    y_man_reg = regular[regular.personnage_1 == 1].task_1.mean()\n",
    "    y_woman_reg = regular[regular.personnage_2 == 2].task_2.mean()\n",
    "    return [y_man_reg, y_woman_reg]\n",
    "\n",
    "\n",
    "def std_man_woman(DF):\n",
    "    regular = DF[((data_analyze.personnage_1 == 1) & (data_analyze.personnage_2 == 2))][[\n",
    "        \"personnage_1\", \"personnage_2\", \"task_1\", \"task_2\", \"scenarios\"\n",
    "    ]]\n",
    "    y_man_reg = regular[regular.personnage_1 == 1].task_1.std()\n",
    "    y_woman_reg = regular[regular.personnage_2 == 2].task_2.std()\n",
    "    return [y_man_reg, y_woman_reg]\n",
    "\n",
    "def anova_test_HF(DF):\n",
    "    man=DF[(data_analyze.personnage_1==1) & (data_analyze.personnage_2==2)]['task_1']\n",
    "    woman=DF[(data_analyze.personnage_1==1) & (data_analyze.personnage_2==2)]['task_2']\n",
    "    return stats.f_oneway(man,woman)\n",
    "\n",
    "print('For danger :',anova_test_HF(data_analyze[data_analyze.scenarios<4]))\n",
    "print('For fatigue :',anova_test_HF(data_analyze[(data_analyze.scenarios>3) & (data_analyze.scenarios<7)]))\n",
    "print('For reward :',anova_test_HF(data_analyze[data_analyze.scenarios>6]))\n"
   ]
  },
  {
   "cell_type": "code",
   "execution_count": null,
   "metadata": {
    "ExecuteTime": {
     "end_time": "2023-02-08T10:39:32.156196Z",
     "start_time": "2023-02-08T10:39:31.971690Z"
    },
    "colab": {
     "base_uri": "https://localhost:8080/",
     "height": 991
    },
    "executionInfo": {
     "elapsed": 730,
     "status": "ok",
     "timestamp": 1653048820103,
     "user": {
      "displayName": "Sandra Victor",
      "userId": "08212330953566637160"
     },
     "user_tz": -120
    },
    "id": "UjCsNr25beiZ",
    "outputId": "2f8c1031-b529-4a79-ece5-2e4081847914"
   },
   "outputs": [],
   "source": [
    "show_correlation(\n",
    "    man_woman, std_man_woman, data_analyze,\n",
    "    \"Average decisions made about a regular man against a regular woman in the different scenarios\",\n",
    "    \"Regular Man\", \"Regular Woman\")"
   ]
  },
  {
   "cell_type": "markdown",
   "metadata": {
    "id": "6dN37aF8beib"
   },
   "source": [
    "#### Difference on human versus robot "
   ]
  },
  {
   "cell_type": "markdown",
   "metadata": {
    "id": "j_wqyCIPbeib"
   },
   "source": [
    "Our experiment also compares robots to a human being. We will now study the difference in decision making between a human and a robot. For this we only consider pairs with a robot."
   ]
  },
  {
   "cell_type": "code",
   "execution_count": null,
   "metadata": {
    "ExecuteTime": {
     "end_time": "2023-02-08T10:39:32.171156Z",
     "start_time": "2023-02-08T10:39:32.157194Z"
    },
    "executionInfo": {
     "elapsed": 11,
     "status": "ok",
     "timestamp": 1653048821073,
     "user": {
      "displayName": "Sandra Victor",
      "userId": "08212330953566637160"
     },
     "user_tz": -120
    },
    "id": "6iE9sFD7beic"
   },
   "outputs": [],
   "source": [
    "def avg_robot(DF):\n",
    "    robot = DF[data.personnage_1 == 3][[\n",
    "        \"personnage_1\", \"personnage_2\", \"task_1\", \"task_2\", \"scenarios\"\n",
    "    ]]\n",
    "    y_robot = robot[robot.personnage_1 == 3].task_1.mean()\n",
    "    y_other = robot[robot.personnage_2 != 3].task_2.mean()\n",
    "    return [y_robot, y_other]\n",
    "\n",
    "def std_robot(DF):\n",
    "    robot = DF[data.personnage_1 == 3][[\n",
    "        \"personnage_1\", \"personnage_2\", \"task_1\", \"task_2\", \"scenarios\"\n",
    "    ]]\n",
    "    y_robot = robot[robot.personnage_1 == 3].task_1.std()\n",
    "    print(y_robot)\n",
    "    y_other = robot[robot.personnage_2 != 3].task_2.std()\n",
    "    return [y_robot, y_other]\n",
    "\n",
    "def anova_test_R(DF):\n",
    "    robot=DF[data.personnage_1==3]['task_1']\n",
    "    norobot=DF[data.personnage_1==3]['task_2']\n",
    "    return stats.f_oneway(robot,norobot)\n",
    "\n",
    "print('For danger :',anova_test_R(data[data.scenarios<4]))\n",
    "print('For fatigue :',anova_test_R(data[(data.scenarios>3) & (data.scenarios<7)]))\n",
    "print('For reward :',anova_test_R(data[data.scenarios>6]))\n"
   ]
  },
  {
   "cell_type": "code",
   "execution_count": null,
   "metadata": {
    "ExecuteTime": {
     "end_time": "2023-02-08T10:39:32.354664Z",
     "start_time": "2023-02-08T10:39:32.172154Z"
    },
    "colab": {
     "base_uri": "https://localhost:8080/",
     "height": 504
    },
    "executionInfo": {
     "elapsed": 11,
     "status": "ok",
     "timestamp": 1653048821074,
     "user": {
      "displayName": "Sandra Victor",
      "userId": "08212330953566637160"
     },
     "user_tz": -120
    },
    "id": "AVFWmQQjbeic",
    "outputId": "5a8c592c-bdda-4da9-8541-277bb187ba52"
   },
   "outputs": [],
   "source": [
    "show_correlation(\n",
    "    avg_robot, std_robot, data,\n",
    "    \"Average decisions made about a robot against a human in the different scenarios\",\n",
    "    \"Robot\", \"Human\")"
   ]
  },
  {
   "cell_type": "markdown",
   "metadata": {
    "id": "v18_CtU3beic"
   },
   "source": [
    "As this graph shows, the robot is clearly put at risk to save a human being. Nevertheless, the robot is not so much called upon to make a physical effort as to be put in danger, but it is subjected to more stress than a human being. On the other hand, the robot is rewarded very little compared to a human."
   ]
  },
  {
   "cell_type": "markdown",
   "metadata": {
    "id": "B-gxEthEbeic"
   },
   "source": [
    "#### Difference on the age"
   ]
  },
  {
   "cell_type": "markdown",
   "metadata": {
    "id": "vHqkaRmwbeie"
   },
   "source": [
    "Age is also a parameter to be taken into account. Therefore, we will now look at the difference in decision making between a child and an adult, an adult and an old person and a child and an old people. We already konw that between old person and adult there is no influence on the reward but it's not the case for the danger and the reward . For this purpose, we will only consider child-adult, child-old and old-adult pairs."
   ]
  },
  {
   "cell_type": "code",
   "execution_count": null,
   "metadata": {
    "ExecuteTime": {
     "end_time": "2023-02-08T10:39:32.370623Z",
     "start_time": "2023-02-08T10:39:32.355663Z"
    },
    "executionInfo": {
     "elapsed": 823,
     "status": "ok",
     "timestamp": 1653048821889,
     "user": {
      "displayName": "Sandra Victor",
      "userId": "08212330953566637160"
     },
     "user_tz": -120
    },
    "id": "vU2rXqCPbeie"
   },
   "outputs": [],
   "source": [
    "def avg_child_old(DF):\n",
    "    old_child = DF[((data_analyze.personnage_1 == 4) & (data_analyze.personnage_2 == 5))][[\n",
    "        \"personnage_1\", \"personnage_2\", \"task_1\", \"task_2\", \"scenarios\"\n",
    "    ]]\n",
    "    y_child = old_child[old_child.personnage_1 == 4].task_1.mean()\n",
    "    y_old = old_child[old_child.personnage_2 == 5].task_2.mean()\n",
    "    return [y_child, y_old]\n",
    "\n",
    "def std_child_old(DF):\n",
    "    old_child = DF[((data_analyze.personnage_1 == 4) & (data_analyze.personnage_2 == 5))][[\n",
    "        \"personnage_1\", \"personnage_2\", \"task_1\", \"task_2\", \"scenarios\"\n",
    "    ]]\n",
    "    y_child = old_child[old_child.personnage_1 == 4].task_1.std()\n",
    "    y_old = old_child[old_child.personnage_2 == 5].task_2.std()\n",
    "    return [y_child, y_old]\n",
    "\n",
    "def anova_test_CO(DF):\n",
    "    child=DF[(data_analyze.personnage_1==4) & (data_analyze.personnage_2==5)]['task_1']\n",
    "    old=DF[(data_analyze.personnage_1==4) & (data_analyze.personnage_2==5)]['task_2']\n",
    "    return stats.f_oneway(child,old)\n",
    "\n",
    "print('For danger :',anova_test_CO(data_analyze[data_analyze.scenarios<4]))\n",
    "print('For fatigue :',anova_test_CO(data_analyze[(data_analyze.scenarios>3) & (data_analyze.scenarios<7)]))\n",
    "print('For reward :',anova_test_CO(data_analyze[data_analyze.scenarios>6]))"
   ]
  },
  {
   "cell_type": "code",
   "execution_count": null,
   "metadata": {
    "ExecuteTime": {
     "end_time": "2023-02-08T10:39:32.540169Z",
     "start_time": "2023-02-08T10:39:32.371620Z"
    },
    "colab": {
     "base_uri": "https://localhost:8080/",
     "height": 504
    },
    "executionInfo": {
     "elapsed": 9,
     "status": "ok",
     "timestamp": 1653048821889,
     "user": {
      "displayName": "Sandra Victor",
      "userId": "08212330953566637160"
     },
     "user_tz": -120
    },
    "id": "MGIRFTfkbeie",
    "outputId": "d645ea39-8c3f-415b-c97e-371b8f399d9e"
   },
   "outputs": [],
   "source": [
    "show_correlation(\n",
    "    avg_child_old, std_child_old, data_analyze,\n",
    "    \"Average decisions made about a child against an old person in the different scenarios\",\n",
    "    \"Child\", \"Older\")"
   ]
  },
  {
   "cell_type": "code",
   "execution_count": null,
   "metadata": {
    "ExecuteTime": {
     "end_time": "2023-02-08T10:39:32.571086Z",
     "start_time": "2023-02-08T10:39:32.541166Z"
    }
   },
   "outputs": [],
   "source": [
    "def avg_child_man(DF):\n",
    "    adult_child = DF[((data_analyze.personnage_1 == 4) &\n",
    "                      ((data_analyze.personnage_2 == 1) |\n",
    "                       (data_analyze.personnage_2 == 2)))][[\n",
    "                           \"personnage_1\", \"personnage_2\", \"task_1\", \"task_2\",\n",
    "                           \"scenarios\"\n",
    "                       ]]\n",
    "    y_child = adult_child[adult_child.personnage_1 == 4].task_1.mean()\n",
    "    y_adult = adult_child[(adult_child.personnage_2 == 1) |\n",
    "                          (adult_child.personnage_2 == 2)].task_2.mean()\n",
    "    return [y_child, y_adult]\n",
    "\n",
    "\n",
    "def std_child_man(DF):\n",
    "    adult_child = DF[((data_analyze.personnage_1 == 4) &\n",
    "                      ((data_analyze.personnage_2 == 1) |\n",
    "                       (data_analyze.personnage_2 == 2)))][[\n",
    "                           \"personnage_1\", \"personnage_2\", \"task_1\", \"task_2\",\n",
    "                           \"scenarios\"\n",
    "                       ]]\n",
    "    y_child = adult_child[adult_child.personnage_1 == 4].task_1.std()\n",
    "    y_adult = adult_child[(adult_child.personnage_2 == 1) |\n",
    "                          (adult_child.personnage_2 == 2)].task_2.std()\n",
    "    return [y_child, y_adult]\n",
    "\n",
    "\n",
    "def anova_test_CA(DF):\n",
    "    child = DF[(data_analyze.personnage_1 == 4)\n",
    "               & ((data_analyze.personnage_2 == 1)\n",
    "                  | (data_analyze.personnage_2 == 2))]['task_1']\n",
    "    adult = DF[(data_analyze.personnage_1 == 4)\n",
    "               & ((data_analyze.personnage_2 == 1)\n",
    "                  | (data_analyze.personnage_2 == 2))]['task_2']\n",
    "    return stats.f_oneway(child, adult)\n",
    "\n",
    "\n",
    "print('For danger :', anova_test_CA(data_analyze[data_analyze.scenarios < 4]))\n",
    "print(\n",
    "    'For fatigue :',\n",
    "    anova_test_CA(data_analyze[(data_analyze.scenarios > 3)\n",
    "                               & (data_analyze.scenarios < 7)]))\n",
    "print('For reward :', anova_test_CA(data_analyze[data_analyze.scenarios > 6]))"
   ]
  },
  {
   "cell_type": "code",
   "execution_count": null,
   "metadata": {
    "ExecuteTime": {
     "end_time": "2023-02-08T10:39:32.740633Z",
     "start_time": "2023-02-08T10:39:32.572085Z"
    }
   },
   "outputs": [],
   "source": [
    "show_correlation(\n",
    "    avg_child_man, std_child_man, data_analyze,\n",
    "    \"Average decisions made about a child against an adult in the different scenarios\",\n",
    "    \"Child\", \"Adult\")"
   ]
  },
  {
   "cell_type": "code",
   "execution_count": null,
   "metadata": {
    "ExecuteTime": {
     "end_time": "2023-02-08T10:39:32.771551Z",
     "start_time": "2023-02-08T10:39:32.741631Z"
    }
   },
   "outputs": [],
   "source": [
    "def avg_old_man(DF):\n",
    "    adult_old = DF[((data_analyze.personnage_1 == 5) &\n",
    "                      ((data_analyze.personnage_2 == 1) | (data_analyze.personnage_2 == 2)))][[\n",
    "                          \"personnage_1\", \"personnage_2\", \"task_1\", \"task_2\",\n",
    "                          \"scenarios\"\n",
    "                      ]]\n",
    "    y_old = adult_old[adult_old.personnage_1 == 5].task_1.mean()\n",
    "    y_adult = adult_old[(adult_old.personnage_2 == 1) |\n",
    "                          (adult_old.personnage_2 == 2)].task_2.mean()\n",
    "    return [y_old, y_adult]\n",
    "\n",
    "def std_old_man(DF):\n",
    "    adult_old = DF[((data_analyze.personnage_1 == 5) &\n",
    "                      ((data_analyze.personnage_2 == 1) | (data_analyze.personnage_2 == 2)))][[\n",
    "                          \"personnage_1\", \"personnage_2\", \"task_1\", \"task_2\",\n",
    "                          \"scenarios\"\n",
    "                      ]]\n",
    "    y_old = adult_old[adult_old.personnage_1 == 5].task_1.std()\n",
    "    y_adult = adult_old[(adult_old.personnage_2 == 1) |\n",
    "                          (adult_old.personnage_2 == 2)].task_2.std()\n",
    "    return [y_old, y_adult]\n",
    "\n",
    "def anova_test_OA(DF):\n",
    "    child = DF[(data_analyze.personnage_1 == 5)\n",
    "               & ((data_analyze.personnage_2 == 1)\n",
    "                  | (data_analyze.personnage_2 == 2))]['task_1']\n",
    "    adult = DF[(data_analyze.personnage_1 == 5)\n",
    "               & ((data_analyze.personnage_2 == 1)\n",
    "                  | (data_analyze.personnage_2 == 2))]['task_2']\n",
    "    return stats.f_oneway(child, adult)\n",
    "\n",
    "\n",
    "print('For danger :', anova_test_OA(data_analyze[data_analyze.scenarios < 4]))\n",
    "print(\n",
    "    'For fatigue :',\n",
    "    anova_test_OA(data_analyze[(data_analyze.scenarios > 3)\n",
    "                               & (data_analyze.scenarios < 7)]))\n",
    "print('For reward :', anova_test_OA(data_analyze[data_analyze.scenarios > 6]))\n"
   ]
  },
  {
   "cell_type": "code",
   "execution_count": null,
   "metadata": {
    "ExecuteTime": {
     "end_time": "2023-02-08T10:39:32.943092Z",
     "start_time": "2023-02-08T10:39:32.772548Z"
    }
   },
   "outputs": [],
   "source": [
    "show_correlation(\n",
    "    avg_old_man, std_old_man, data_analyze,\n",
    "    \"Average decisions made about a old person against an adult in the different scenarios\",\n",
    "    \"Old person\", \"Adult\")"
   ]
  },
  {
   "cell_type": "markdown",
   "metadata": {},
   "source": [
    "It can be seen that as expected from an adult, the child and the old person are more conserved and the adult is not necessarily rewarded proportionally to his or her effort. An elderly person is nevertheless more solicited than a child."
   ]
  },
  {
   "cell_type": "markdown",
   "metadata": {},
   "source": [
    "### Correlations <a class=\"anchor\" id=\"section_3_2_4\"></a>"
   ]
  },
  {
   "cell_type": "code",
   "execution_count": null,
   "metadata": {
    "ExecuteTime": {
     "end_time": "2023-02-08T10:39:32.958052Z",
     "start_time": "2023-02-08T10:39:32.944089Z"
    }
   },
   "outputs": [],
   "source": [
    "def spearmann(title,x,y):\n",
    "    coef, p = stats.spearmanr(x, y)\n",
    "    print(title)\n",
    "    print('Spearmans correlation coefficient: %.3f' % coef)\n",
    "    alpha = 0.05\n",
    "    if p > alpha:\n",
    "        print('Samples are uncorrelated (fail to reject H0) p=', p)\n",
    "    else:\n",
    "        print('Samples are correlated (reject H0) p=', p)"
   ]
  },
  {
   "cell_type": "markdown",
   "metadata": {
    "id": "9kPIGM4Nbeie"
   },
   "source": [
    "#### Impact of danger and fatigue on the reward"
   ]
  },
  {
   "cell_type": "markdown",
   "metadata": {
    "id": "l1cJqMFqbeie"
   },
   "source": [
    "Earlier, we observed that on average men were more or less equally rewarded as women. However, this average does not necessarily show whether one was rewarded more for the danger or fatigue he experienced. We will therefore look at the impact of danger and fatigue scenarios on rewards, in order to observe whether a greater effort of danger or fatigue implies a greater reward."
   ]
  },
  {
   "cell_type": "code",
   "execution_count": null,
   "metadata": {
    "ExecuteTime": {
     "end_time": "2023-02-08T10:39:32.974009Z",
     "start_time": "2023-02-08T10:39:32.959050Z"
    },
    "colab": {
     "base_uri": "https://localhost:8080/",
     "height": 1000
    },
    "executionInfo": {
     "elapsed": 3000,
     "status": "ok",
     "timestamp": 1653048824882,
     "user": {
      "displayName": "Sandra Victor",
      "userId": "08212330953566637160"
     },
     "user_tz": -120
    },
    "id": "gPXjXbeybeie",
    "outputId": "e578700d-f4e0-41d2-be9e-778308e53e14",
    "scrolled": false
   },
   "outputs": [],
   "source": [
    "def dangerfatigue_reward(DF,reward):\n",
    "    x = []\n",
    "    y = []\n",
    "    for i in DF.index:\n",
    "        x.append(DF.loc[i].task_1)\n",
    "    for i in reward.index:\n",
    "        y.append(reward.loc[i].task_1)\n",
    "    return [x, y]\n",
    "\n",
    "def size_points(DF):\n",
    "    size = np.zeros(len(DF[0]))\n",
    "    d = {}\n",
    "    for i in range(len(DF[0])):\n",
    "        for j in range(len(DF[1])):\n",
    "            if i==j:\n",
    "                if str(DF[0][i])+\"-\"+str(DF[1][j]) in d :\n",
    "                    d[str(DF[0][i])+\"-\"+str(DF[1][j])]+=1\n",
    "                else :\n",
    "                    d[str(DF[0][i])+\"-\"+str(DF[1][j])]=1\n",
    "    for i in range(len(DF[0])):\n",
    "        for j in range(len(DF[1])):\n",
    "            if i==j:\n",
    "                size[i]=d[str(DF[0][i])+\"-\"+str(DF[1][j])]\n",
    "    return size"
   ]
  },
  {
   "cell_type": "code",
   "execution_count": null,
   "metadata": {
    "ExecuteTime": {
     "end_time": "2023-02-08T10:39:34.380249Z",
     "start_time": "2023-02-08T10:39:32.975007Z"
    },
    "colab": {
     "base_uri": "https://localhost:8080/",
     "height": 539
    },
    "executionInfo": {
     "elapsed": 10,
     "status": "ok",
     "timestamp": 1653048824883,
     "user": {
      "displayName": "Sandra Victor",
      "userId": "08212330953566637160"
     },
     "user_tz": -120
    },
    "id": "O2Jj8SCybeig",
    "outputId": "87fb99a3-fa6b-4b30-9163-5775866f48c2"
   },
   "outputs": [],
   "source": [
    "fig = plt.subplots(figsize=(16, 16))\n",
    "\n",
    "danger = dangerfatigue_reward(data[data.scenarios < 4],data[data.scenarios > 6])\n",
    "fatigue = dangerfatigue_reward(data[(data.scenarios > 3) & (data.scenarios < 7)],data[data.scenarios > 6])\n",
    "\n",
    "\n",
    "plt.grid()\n",
    "plt.subplot(221)\n",
    "plt.scatter(danger[0],danger[1], color='crimson',s=size_points(danger))\n",
    "z = np.polyfit(danger[0], danger[1], 1)\n",
    "p = np.poly1d(z)\n",
    "plt.plot(danger[0],p(danger[0]),\"k--\")\n",
    "plt.title('Correlation in danger on reward')\n",
    "plt.ylabel('Reward gived', fontweight='bold', fontsize=15)\n",
    "plt.xlabel('Danger gived', fontweight='bold', fontsize=15)\n",
    "\n",
    "spearmann('DANGER',danger[0],danger[1])\n",
    "\n",
    "plt.subplot(222)\n",
    "plt.scatter(fatigue[0],fatigue[1], color='gold',s=size_points(fatigue))\n",
    "z = np.polyfit(fatigue[0], fatigue[1], 1)\n",
    "p = np.poly1d(z)\n",
    "plt.plot(fatigue[0],p(fatigue[0]),\"k--\")\n",
    "plt.title('Correlation in fatigue on reward')\n",
    "plt.xlabel('Fatigue gived', fontweight='bold', fontsize=15)\n",
    "plt.ylabel('Reward gived', fontweight='bold', fontsize=15)\n",
    "\n",
    "spearmann('FATIGUE',fatigue[0],fatigue[1])\n",
    "\n",
    "\n",
    "\n",
    "plt.show()"
   ]
  },
  {
   "cell_type": "markdown",
   "metadata": {
    "id": "8tYd-ts-beih"
   },
   "source": [
    "#### Influence of force perceived on each type of scenarios"
   ]
  },
  {
   "cell_type": "markdown",
   "metadata": {
    "id": "BcW7KmnVbeih"
   },
   "source": [
    "The experiment asked participants to assign a perceived strength to each character. We will now look at the influence of strength in each type of scenarios. This study will give us if a correlation exist between these two variables.\n"
   ]
  },
  {
   "cell_type": "code",
   "execution_count": null,
   "metadata": {
    "ExecuteTime": {
     "end_time": "2023-02-08T10:39:34.396224Z",
     "start_time": "2023-02-08T10:39:34.381247Z"
    },
    "executionInfo": {
     "elapsed": 8,
     "status": "ok",
     "timestamp": 1653048824883,
     "user": {
      "displayName": "Sandra Victor",
      "userId": "08212330953566637160"
     },
     "user_tz": -120
    },
    "id": "Mt8_OduSbeih"
   },
   "outputs": [],
   "source": [
    "def force_task(DF):\n",
    "    x = []\n",
    "    y = []\n",
    "    for i in DF.index:\n",
    "        x.append(DF.loc[i].force_1)\n",
    "        y.append(DF.loc[i].task_1)\n",
    "    return [x, y]\n",
    "\n",
    "\n"
   ]
  },
  {
   "cell_type": "code",
   "execution_count": null,
   "metadata": {
    "ExecuteTime": {
     "end_time": "2023-02-08T10:39:36.361951Z",
     "start_time": "2023-02-08T10:39:34.397206Z"
    }
   },
   "outputs": [],
   "source": [
    "fig = plt.subplots(figsize=(16, 16))\n",
    "\n",
    "danger = force_task(data[data.scenarios < 4])\n",
    "fatigue = force_task(data[(data.scenarios > 3) & (data.scenarios < 7)])\n",
    "reward = force_task(data[data.scenarios > 6])\n",
    "plt.grid()\n",
    "plt.subplot(221)\n",
    "plt.scatter(danger[0],danger[1], color='crimson',s=size_points(danger))\n",
    "z = np.polyfit(danger[0], danger[1], 1)\n",
    "p = np.poly1d(z)\n",
    "plt.plot(danger[0],p(danger[0]),\"k--\")\n",
    "plt.title('Correlation in danger on force perceived')\n",
    "plt.ylabel('Danger given', fontweight='bold', fontsize=15)\n",
    "plt.xlabel('Force perceived', fontweight='bold', fontsize=15)\n",
    "\n",
    "spearmann('DANGER',danger[0],danger[1])\n",
    "\n",
    "plt.subplot(222)\n",
    "plt.scatter(fatigue[0],fatigue[1], color='gold',s=size_points(fatigue))\n",
    "z = np.polyfit(fatigue[0], fatigue[1], 1)\n",
    "p = np.poly1d(z)\n",
    "plt.plot(fatigue[0],p(fatigue[0]),\"k--\")\n",
    "plt.title('Correlation in fatigue on force perceived')\n",
    "plt.ylabel('Fatigue given', fontweight='bold', fontsize=15)\n",
    "plt.xlabel('Force perceived', fontweight='bold', fontsize=15)\n",
    "\n",
    "spearmann('FATIGUE',fatigue[0],fatigue[1])\n",
    "\n",
    "plt.subplot(223)\n",
    "plt.scatter(reward[0],reward[1], color='turquoise',s=size_points(reward))\n",
    "z = np.polyfit(reward[0], reward[1], 1)\n",
    "p = np.poly1d(z)\n",
    "plt.plot(reward[0],p(reward[0]),\"k--\")\n",
    "plt.title('Correlation in reward on force perceived')\n",
    "plt.ylabel('Reward given', fontweight='bold', fontsize=15)\n",
    "plt.xlabel('Force perceived', fontweight='bold', fontsize=15)\n",
    "\n",
    "spearmann('REWARD',fatigue[0],fatigue[1])\n",
    "\n",
    "\n",
    "plt.show()"
   ]
  },
  {
   "cell_type": "markdown",
   "metadata": {
    "deletable": false,
    "editable": false,
    "id": "DXqIhNPxbeii",
    "run_control": {
     "frozen": true
    }
   },
   "source": [
    "## This graph shows us that there is a slight difference when the man is stronger and when he is weaker. Indeed, even if he is stronger the average is 5-5 for both the man and the tall woman, but this average decreases when the man is weaker."
   ]
  },
  {
   "cell_type": "markdown",
   "metadata": {
    "id": "-JpqLPZ7beii"
   },
   "source": [
    "# IV. Machine learning <a class=\"anchor\" id=\"chapter4\"></a>"
   ]
  },
  {
   "cell_type": "markdown",
   "metadata": {
    "id": "OjKRW9THbeii"
   },
   "source": [
    "## IV.A LINEAR REGRESSION <a class=\"anchor\" id=\"section_4_1\"></a>"
   ]
  },
  {
   "cell_type": "markdown",
   "metadata": {
    "id": "dxGIBHlGbeii"
   },
   "source": [
    "### Data transformation <a class=\"anchor\" id=\"section_4_1_1\"></a>"
   ]
  },
  {
   "cell_type": "code",
   "execution_count": null,
   "metadata": {
    "ExecuteTime": {
     "end_time": "2023-02-08T10:39:36.407731Z",
     "start_time": "2023-02-08T10:39:36.394765Z"
    },
    "executionInfo": {
     "elapsed": 1071,
     "status": "ok",
     "timestamp": 1653048844217,
     "user": {
      "displayName": "Sandra Victor",
      "userId": "08212330953566637160"
     },
     "user_tz": -120
    },
    "id": "qxSqRSjUbeii"
   },
   "outputs": [],
   "source": [
    "danger = data[data.scenarios < 4]\n",
    "fatigue = data[(data.scenarios > 3) & (data.scenarios < 7)]\n",
    "reward = data[data.scenarios > 6]\n"
   ]
  },
  {
   "cell_type": "code",
   "execution_count": null,
   "metadata": {
    "ExecuteTime": {
     "end_time": "2023-02-08T10:39:36.423725Z",
     "start_time": "2023-02-08T10:39:36.409726Z"
    },
    "executionInfo": {
     "elapsed": 5,
     "status": "ok",
     "timestamp": 1653048847379,
     "user": {
      "displayName": "Sandra Victor",
      "userId": "08212330953566637160"
     },
     "user_tz": -120
    },
    "id": "KRGfnMoDbeij"
   },
   "outputs": [],
   "source": [
    "def delta_f(DF):\n",
    "    return DF.force_1 - DF.force_2\n",
    "\n",
    "\n",
    "def delta_s(DF):\n",
    "    df_copy = DF.copy()\n",
    "    df_copy[\"personnage_1\"] = [\n",
    "        1 if (i == 2 or i == 9) else 0 if (i == 1 or i == 8) else i\n",
    "        for i in df_copy[\"personnage_1\"]\n",
    "    ]\n",
    "    df_copy[\"personnage_2\"] = [\n",
    "        1 if (i == 2 or i == 9) else 0 if (i == 1 or i == 8) else i\n",
    "        for i in df_copy[\"personnage_2\"]\n",
    "    ]\n",
    "\n",
    "    for i in df_copy.index:\n",
    "        if (df_copy[\"personnage_1\"][i]\n",
    "                in [3, 4, 5]) & (df_copy[\"personnage_2\"][i] in [0, 1]):\n",
    "            df_copy[\"personnage_1\"][i] = df_copy[\"personnage_2\"][i]\n",
    "        elif (df_copy[\"personnage_1\"][i] not in [0, 1]):\n",
    "            df_copy[\"personnage_1\"][i] = 0\n",
    "        if (df_copy[\"personnage_2\"][i]\n",
    "                in [3, 4, 5]) & (df_copy[\"personnage_1\"][i] in [0, 1]):\n",
    "            df_copy[\"personnage_2\"][i] = df_copy[\"personnage_1\"][i]\n",
    "        elif (df_copy[\"personnage_2\"][i] not in [0, 1]):\n",
    "            df_copy[\"personnage_2\"][i] = 0\n",
    "    return df_copy.personnage_1 - df_copy.personnage_2\n",
    "\n",
    "\n",
    "def delta_a(DF):\n",
    "    df_copy = DF.copy()\n",
    "    for j in range(1, 3):\n",
    "        df_copy[\"personnage_\" + str(j)] = [\n",
    "            0 if i == 4 else 1 if\n",
    "            (i == 1 or i == 2 or i == 8 or i == 9) else 2 if i == 5 else i\n",
    "            for i in df_copy[\"personnage_\" + str(j)]\n",
    "        ]\n",
    "    for i in df_copy.index:\n",
    "        if df_copy[\"personnage_1\"][i] == 3:\n",
    "            df_copy[\"personnage_1\"][i] = df_copy[\"personnage_2\"][i]\n",
    "        if df_copy[\"personnage_2\"][i] == 3:\n",
    "            df_copy[\"personnage_2\"][i] = df_copy[\"personnage_1\"][i]\n",
    "    return df_copy.personnage_1 - df_copy.personnage_2\n",
    "\n",
    "\n",
    "def delta_h(DF):\n",
    "    df_copy = DF.copy()\n",
    "    for j in range(1, 3):\n",
    "        df_copy[\"personnage_\" + str(j)] = [\n",
    "            0 if i == 3 else 1 for i in df_copy[\"personnage_\" + str(j)]\n",
    "        ]\n",
    "    return df_copy.personnage_1 - df_copy.personnage_2"
   ]
  },
  {
   "cell_type": "markdown",
   "metadata": {
    "id": "eXyQslyWbeij"
   },
   "source": [
    "### Model evaluation <a class=\"anchor\" id=\"section_4_1_2\"></a>"
   ]
  },
  {
   "cell_type": "code",
   "execution_count": null,
   "metadata": {
    "ExecuteTime": {
     "end_time": "2023-02-08T10:39:37.357193Z",
     "start_time": "2023-02-08T10:39:36.425682Z"
    },
    "colab": {
     "base_uri": "https://localhost:8080/"
    },
    "executionInfo": {
     "elapsed": 996,
     "status": "ok",
     "timestamp": 1653048850277,
     "user": {
      "displayName": "Sandra Victor",
      "userId": "08212330953566637160"
     },
     "user_tz": -120
    },
    "id": "gSzpo1Azbeij",
    "outputId": "1fa9c017-ee03-4a49-ec86-a9c9a721f415"
   },
   "outputs": [],
   "source": [
    "X = pd.concat(\n",
    "    [delta_f(danger),\n",
    "     delta_s(danger),\n",
    "     delta_a(danger),\n",
    "     delta_h(danger)],\n",
    "    keys=[\"delta_f\", \"delta_s\", \"delta_a\", \"delta_h\"],\n",
    "    axis=1)\n",
    "Y = danger[\"task_1\"]\n",
    "start_time = datetime.now()\n",
    "X_train, X_test, Y_train, Y_test = train_test_split(X,\n",
    "                                                    Y,\n",
    "                                                    test_size=0.2,\n",
    "                                                    random_state=5)\n",
    "#training\n",
    "lmodellineaire = LinearRegression()\n",
    "lmodellineaire.fit(X_train, Y_train)\n",
    "\n",
    "# model evaluation for testing set\n",
    "y_test_predict = lmodellineaire.predict(X_test)\n",
    "rmse = (np.sqrt(mean_squared_error(Y_test, y_test_predict)))\n",
    "r2 = r2_score(Y_test, y_test_predict)\n",
    "\n",
    "print('performance of the model on the test basis')\n",
    "print('--------------------------------------')\n",
    "print('mean square error {}'.format(rmse))\n",
    "print('R2 score {}'.format(r2))\n",
    "y_test_predict = y_test_predict.astype(int)\n",
    "print(\n",
    "    classification_report(Y_test,\n",
    "                          y_test_predict,\n",
    "                          output_dict=False,\n",
    "                          target_names=[str(i) for i in range(max(Y_test)+1)]))\n",
    "\n",
    "print('Time elapsed (hh:mm:ss.ms) {}'.format(datetime.now() - start_time))"
   ]
  },
  {
   "cell_type": "code",
   "execution_count": null,
   "metadata": {
    "ExecuteTime": {
     "end_time": "2023-02-08T10:39:38.353529Z",
     "start_time": "2023-02-08T10:39:37.358189Z"
    }
   },
   "outputs": [],
   "source": [
    "X = pd.concat(\n",
    "    [delta_f(fatigue),\n",
    "     delta_s(fatigue),\n",
    "     delta_a(fatigue),\n",
    "     delta_h(fatigue)],\n",
    "    keys=[\"delta_f\", \"delta_s\", \"delta_a\", \"delta_h\"],\n",
    "    axis=1)\n",
    "Y = fatigue[\"task_1\"]\n",
    "\n",
    "start_time = datetime.now()\n",
    "X_train, X_test, Y_train, Y_test = train_test_split(X,\n",
    "                                                    Y,\n",
    "                                                    test_size=0.2,\n",
    "                                                    random_state=5)\n",
    "#training\n",
    "lmodellineaire = LinearRegression()\n",
    "lmodellineaire.fit(X_train, Y_train)\n",
    "\n",
    "# model evaluation for testing set\n",
    "y_test_predict = lmodellineaire.predict(X_test)\n",
    "rmse = (np.sqrt(mean_squared_error(Y_test, y_test_predict)))\n",
    "r2 = r2_score(Y_test, y_test_predict)\n",
    "\n",
    "print('performance of the model on the test basis')\n",
    "print('--------------------------------------')\n",
    "print('mean square error {}'.format(rmse))\n",
    "print('R2 score {}'.format(r2))\n",
    "print(len(y_test_predict), len(Y_test))\n",
    "y_test_predict = y_test_predict.astype(int)\n",
    "\n",
    "print(\n",
    "    classification_report(Y_test,\n",
    "                          y_test_predict,\n",
    "                          output_dict=False,\n",
    "                          target_names=[str(i) for i in range(max(Y_test)+1)]))\n",
    "\n",
    "print('Time elapsed (hh:mm:ss.ms) {}'.format(datetime.now() - start_time))"
   ]
  },
  {
   "cell_type": "code",
   "execution_count": null,
   "metadata": {
    "ExecuteTime": {
     "end_time": "2023-02-08T10:39:39.288031Z",
     "start_time": "2023-02-08T10:39:38.355524Z"
    }
   },
   "outputs": [],
   "source": [
    "X = pd.concat(\n",
    "    [delta_f(reward),\n",
    "     delta_s(reward),\n",
    "     delta_a(reward),\n",
    "     delta_h(reward)],\n",
    "    keys=[\"delta_f\", \"delta_s\", \"delta_a\", \"delta_h\"],\n",
    "    axis=1)\n",
    "Y = reward[\"task_1\"]\n",
    "\n",
    "start_time = datetime.now()\n",
    "X_train, X_test, Y_train, Y_test = train_test_split(X,\n",
    "                                                    Y,\n",
    "                                                    test_size=0.2,\n",
    "                                                    random_state=5)\n",
    "#training\n",
    "lmodellineaire = LinearRegression()\n",
    "lmodellineaire.fit(X_train, Y_train)\n",
    "\n",
    "# model evaluation for testing set\n",
    "y_test_predict = lmodellineaire.predict(X_test)\n",
    "rmse = (np.sqrt(mean_squared_error(Y_test, y_test_predict)))\n",
    "r2 = r2_score(Y_test, y_test_predict)\n",
    "\n",
    "print('performance of the model on the test basis')\n",
    "print('--------------------------------------')\n",
    "print('mean square error {}'.format(rmse))\n",
    "print('R2 score {}'.format(r2))\n",
    "print(len(y_test_predict), len(Y_test))\n",
    "y_test_predict = y_test_predict.astype(int)\n",
    "\n",
    "print(\n",
    "    classification_report(Y_test,\n",
    "                          y_test_predict,\n",
    "                          output_dict=False,\n",
    "                          target_names=[str(i) for i in range(max(Y_test)+1)]))\n",
    "\n",
    "print('Time elapsed (hh:mm:ss.ms) {}'.format(datetime.now() - start_time))"
   ]
  },
  {
   "cell_type": "markdown",
   "metadata": {
    "id": "IVcxs3Vhbeij"
   },
   "source": [
    "## IV.B DECISION TREE <a class=\"anchor\" id=\"section_4_2\"></a>"
   ]
  },
  {
   "cell_type": "markdown",
   "metadata": {
    "id": "NWjIAA_Hbeij"
   },
   "source": [
    "Let's move on to the learning model. We observe 2 first models of Decision Tree and Random Forest. "
   ]
  },
  {
   "cell_type": "code",
   "execution_count": null,
   "metadata": {
    "ExecuteTime": {
     "end_time": "2023-02-08T10:39:39.302990Z",
     "start_time": "2023-02-08T10:39:39.290025Z"
    },
    "executionInfo": {
     "elapsed": 405,
     "status": "ok",
     "timestamp": 1653048896739,
     "user": {
      "displayName": "Sandra Victor",
      "userId": "08212330953566637160"
     },
     "user_tz": -120
    },
    "id": "NqSU4W3Wbeik"
   },
   "outputs": [],
   "source": [
    "#We shuffle the data\n",
    "data_fixed = data.copy()\n",
    "data = data.sample(frac=1)\n",
    "feature_names = [\n",
    "    \"personnage_1\", \"personnage_2\", \"force_1\", \"force_2\", \"scenarios\",\n",
    "    \"repetition_question\", \"age\", \"sexe\", \"enfant\"\n",
    "]\n",
    "\n",
    "#We get X and y\n",
    "y = data[\"task_1\"]\n",
    "X = data[feature_names]"
   ]
  },
  {
   "cell_type": "code",
   "execution_count": null,
   "metadata": {
    "ExecuteTime": {
     "end_time": "2023-02-08T10:39:39.317950Z",
     "start_time": "2023-02-08T10:39:39.304986Z"
    },
    "executionInfo": {
     "elapsed": 407,
     "status": "ok",
     "timestamp": 1653048899062,
     "user": {
      "displayName": "Sandra Victor",
      "userId": "08212330953566637160"
     },
     "user_tz": -120
    },
    "id": "pnMuJIqWbeik"
   },
   "outputs": [],
   "source": [
    "#We obtain train and test datasets\n",
    "X_train, X_test, y_train, y_test = train_test_split(X,\n",
    "                                                    y,\n",
    "                                                    test_size=0.2,\n",
    "                                                    random_state=42)"
   ]
  },
  {
   "cell_type": "code",
   "execution_count": null,
   "metadata": {
    "ExecuteTime": {
     "end_time": "2023-02-08T10:41:20.733768Z",
     "start_time": "2023-02-08T10:39:39.319945Z"
    },
    "colab": {
     "base_uri": "https://localhost:8080/"
    },
    "executionInfo": {
     "elapsed": 9672,
     "status": "ok",
     "timestamp": 1653049308311,
     "user": {
      "displayName": "Sandra Victor",
      "userId": "08212330953566637160"
     },
     "user_tz": -120
    },
    "id": "lQMmUdYfbeik",
    "outputId": "e54ab364-f6aa-4a66-e3ce-34807a21faea"
   },
   "outputs": [],
   "source": [
    "#Decision tree classifier\n",
    "start_time = datetime.now()\n",
    "\n",
    "clf = tree.DecisionTreeClassifier()\n",
    "\n",
    "# Maximum number of levels in tree\n",
    "max_depth = [int(x) for x in np.linspace(10, 110, num=5)]\n",
    "max_depth.append(None)\n",
    "\n",
    "params = {\n",
    "    \"criterion\": [\"gini\", \"entropy\"],\n",
    "    'max_leaf_nodes': list(range(20, 100)),\n",
    "    'min_samples_split': [2, 3, 4, 8, 10, 16, 32],\n",
    "    \"max_depth\": max_depth\n",
    "}\n",
    "\n",
    "grid_search_cv = GridSearchCV(clf, params, verbose=1, cv=5)\n",
    "grid_search_cv.fit(X_train, y_train)\n",
    "\n",
    "print(\"Best score:\", grid_search_cv.best_score_)\n",
    "Best_decision_tree = grid_search_cv.best_estimator_\n",
    "\n",
    "#saving the model\n",
    "filename = 'DecisionTreeModel.pkl'\n",
    "print(\"Sauvegarde du modèle dans \", filename)\n",
    "pickle.dump(Best_decision_tree, open(filename, \"wb\"))\n",
    "\n",
    "# loading the model\n",
    "DecisionTreeModel = pickle.load(open(filename, 'rb'))\n",
    "\n",
    "# printing the model\n",
    "print(DecisionTreeModel)\n",
    "\n",
    "dot_data = tree.export_graphviz(DecisionTreeModel,\n",
    "                                out_file=\"DT.dot\",\n",
    "                                feature_names=feature_names,\n",
    "                                class_names=[str(s) for s in range(11)],\n",
    "                                filled=True,\n",
    "                                rounded=True,\n",
    "                                special_characters=True)\n",
    "call(['dot', '-Tpng', \"DT.dot\", '-o', 'DT.png', '-Gdpi=600'])\n",
    "\n",
    "#Test on the test set\n",
    "y_test_predict_proba = DecisionTreeModel.predict_proba(X_test)\n",
    "y_test_predict = DecisionTreeModel.predict(X_test)\n",
    "\n",
    "print(\"Confusion matrix\\n\",\n",
    "      multilabel_confusion_matrix(y_test, y_test_predict)[0])\n",
    "\n",
    "print(\n",
    "    classification_report(y_test,\n",
    "                          y_test_predict,\n",
    "                          output_dict=False,\n",
    "                          target_names=[str(i) for i in range(11)]))\n",
    "print('Time elapsed (hh:mm:ss.ms) {}'.format(datetime.now() - start_time))"
   ]
  },
  {
   "cell_type": "code",
   "execution_count": null,
   "metadata": {
    "ExecuteTime": {
     "end_time": "2023-02-08T10:41:20.861427Z",
     "start_time": "2023-02-08T10:41:20.861427Z"
    }
   },
   "outputs": [],
   "source": [
    "DecisionTreeModel.get_params()"
   ]
  },
  {
   "cell_type": "markdown",
   "metadata": {
    "id": "3HEVv8Yhbeil"
   },
   "source": [
    "This Decision Tree has an accuracy of only 43% which is not very good. Below, we observe that to predict, the model relies a lot on the strength of character 2, then character 1 and the scenario. The age of the participant has a certain importance."
   ]
  },
  {
   "cell_type": "code",
   "execution_count": null,
   "metadata": {
    "ExecuteTime": {
     "end_time": "2023-02-08T10:41:20.863422Z",
     "start_time": "2023-02-08T10:41:20.863422Z"
    },
    "colab": {
     "base_uri": "https://localhost:8080/",
     "height": 174
    },
    "executionInfo": {
     "elapsed": 462,
     "status": "ok",
     "timestamp": 1653049045624,
     "user": {
      "displayName": "Sandra Victor",
      "userId": "08212330953566637160"
     },
     "user_tz": -120
    },
    "id": "Y1BC-p9jbeil",
    "outputId": "41f8e4d9-3cdd-44b0-9cfe-56187c1ee64a"
   },
   "outputs": [],
   "source": [
    "plt.rcParams[\"figure.figsize\"] = (20, 3)\n",
    "\n",
    "plt.bar(feature_names, DecisionTreeModel.feature_importances_, width=0.4)\n",
    "DecisionTreeModel.feature_importances_\n",
    "plt.show()"
   ]
  },
  {
   "cell_type": "markdown",
   "metadata": {
    "id": "GDDeOBIQbeil"
   },
   "source": [
    "Here is an example of his decision making. He gives a certain probability of how much he would give and indicates which parameters are in favor and which are against."
   ]
  },
  {
   "cell_type": "code",
   "execution_count": null,
   "metadata": {
    "ExecuteTime": {
     "end_time": "2023-02-08T10:41:20.865417Z",
     "start_time": "2023-02-08T10:41:20.865417Z"
    },
    "colab": {
     "base_uri": "https://localhost:8080/",
     "height": 302
    },
    "executionInfo": {
     "elapsed": 4756,
     "status": "ok",
     "timestamp": 1653049052775,
     "user": {
      "displayName": "Sandra Victor",
      "userId": "08212330953566637160"
     },
     "user_tz": -120
    },
    "id": "W7MdRa7Kbeim",
    "outputId": "b425d601-3fc6-44f8-a161-c27194798d98"
   },
   "outputs": [],
   "source": [
    "exp = LimeTabularExplainer(X_train.values[:, :],\n",
    "                           feature_names=feature_names,\n",
    "                           discretize_continuous=True,\n",
    "                           class_names=range(11))\n",
    "exp.explain_instance(X_train.iloc[0, :],\n",
    "                     DecisionTreeModel.predict_proba,\n",
    "                     top_labels=1).show_in_notebook()"
   ]
  },
  {
   "cell_type": "markdown",
   "metadata": {
    "id": "a1PRlTN6beim"
   },
   "source": [
    "## IV.C RANDOM FOREST <a class=\"anchor\" id=\"section_4_3\"></a>"
   ]
  },
  {
   "cell_type": "code",
   "execution_count": null,
   "metadata": {
    "ExecuteTime": {
     "end_time": "2023-02-08T10:41:20.866415Z",
     "start_time": "2023-02-08T10:41:20.866415Z"
    },
    "colab": {
     "base_uri": "https://localhost:8080/"
    },
    "executionInfo": {
     "elapsed": 504,
     "status": "ok",
     "timestamp": 1653049226535,
     "user": {
      "displayName": "Sandra Victor",
      "userId": "08212330953566637160"
     },
     "user_tz": -120
    },
    "id": "yWinuOY7beim",
    "outputId": "49a99bec-6583-470a-d5c4-b948d7958b99"
   },
   "outputs": [],
   "source": [
    "#We get the best parameters for the DT\n",
    "BP = DecisionTreeModel.get_params()\n",
    "RFC = RandomForestClassifier(criterion=BP[\"criterion\"],\n",
    "                             max_depth=BP[\"max_depth\"],\n",
    "                             max_leaf_nodes=BP[\"max_leaf_nodes\"],\n",
    "                             min_samples_split=BP[\"min_samples_split\"])\n",
    "\n",
    "# Number of trees in random forest\n",
    "n_estimators = [(i + 1) * 10 for i in range(10)]\n",
    "\n",
    "# Method of selecting samples for training each tree\n",
    "bootstrap = [True, False]\n",
    "\n",
    "#We add the other parameters for Random Forest\n",
    "params = {\"n_estimators\": n_estimators, \"bootstrap\": bootstrap}\n",
    "\n",
    "grid_search_cv = GridSearchCV(RFC, params, verbose=1, cv=5)\n",
    "grid_search_cv.fit(X_train, y_train)\n",
    "Best_RFC = grid_search_cv.best_estimator_\n",
    "\n",
    "print(\"Best score:\", grid_search_cv.best_score_)\n",
    "print(\"Temps d'éxecution du modèle 0:00:19.348369 \")\n",
    "\n",
    "#saving the model\n",
    "filename = 'RandomForestModel.pkl'\n",
    "print(\"Sauvegarde du modèle dans \", filename)\n",
    "pickle.dump(Best_RFC, open(filename, \"wb\"))\n",
    "\n",
    "# loading the model\n",
    "RandomForestModel = pickle.load(open(filename, 'rb'))\n",
    "\n",
    "# printing the model\n",
    "print(RandomForestModel)"
   ]
  },
  {
   "cell_type": "code",
   "execution_count": null,
   "metadata": {
    "ExecuteTime": {
     "end_time": "2023-02-08T10:41:20.867411Z",
     "start_time": "2023-02-08T10:41:20.867411Z"
    }
   },
   "outputs": [],
   "source": [
    "#Test on the test set\n",
    "y_test_predict_proba = RandomForestModel.predict_proba(X_test)\n",
    "y_test_predict = RandomForestModel.predict(X_test)\n",
    "\n",
    "print(\"Confusion matrix\\n\",\n",
    "      multilabel_confusion_matrix(y_test, y_test_predict)[0])\n",
    "\n",
    "print(\n",
    "    classification_report(y_test,\n",
    "                          y_test_predict,\n",
    "                          output_dict=False,\n",
    "                          target_names=[str(i) for i in range(11)]))"
   ]
  },
  {
   "cell_type": "markdown",
   "metadata": {
    "id": "MQRG5y4Wbein"
   },
   "source": [
    "The random forest model allows us to reach 50% but it is still not enough to affirm that our AI can predict adequately."
   ]
  },
  {
   "cell_type": "code",
   "execution_count": null,
   "metadata": {
    "ExecuteTime": {
     "end_time": "2023-02-08T10:41:20.869407Z",
     "start_time": "2023-02-08T10:41:20.869407Z"
    }
   },
   "outputs": [],
   "source": [
    "RandomForestModel.feature_importances_"
   ]
  },
  {
   "cell_type": "code",
   "execution_count": null,
   "metadata": {
    "ExecuteTime": {
     "end_time": "2023-02-08T10:41:20.870404Z",
     "start_time": "2023-02-08T10:41:20.870404Z"
    },
    "colab": {
     "base_uri": "https://localhost:8080/",
     "height": 172
    },
    "executionInfo": {
     "elapsed": 477,
     "status": "ok",
     "timestamp": 1653049233738,
     "user": {
      "displayName": "Sandra Victor",
      "userId": "08212330953566637160"
     },
     "user_tz": -120
    },
    "id": "zFF3_38ubein",
    "outputId": "7c7b1054-372b-4bd1-8935-71a55d787c55"
   },
   "outputs": [],
   "source": [
    "plt.rcParams[\"figure.figsize\"] = (20, 3)\n",
    "\n",
    "plt.bar(feature_names, RandomForestModel.feature_importances_, width=0.4)\n",
    "RandomForestModel.feature_importances_\n",
    "plt.show()"
   ]
  },
  {
   "cell_type": "markdown",
   "metadata": {
    "id": "Ppj2BFQxbein"
   },
   "source": [
    "However, we notice that this time the scenario has a greater impact than the force and that the characters in question are more important in the decision making. Gender and having a child also have an impact, but it is still quite small."
   ]
  },
  {
   "cell_type": "code",
   "execution_count": null,
   "metadata": {
    "ExecuteTime": {
     "end_time": "2023-02-08T10:41:20.871401Z",
     "start_time": "2023-02-08T10:41:20.871401Z"
    },
    "colab": {
     "base_uri": "https://localhost:8080/",
     "height": 302
    },
    "executionInfo": {
     "elapsed": 2692,
     "status": "ok",
     "timestamp": 1653049238766,
     "user": {
      "displayName": "Sandra Victor",
      "userId": "08212330953566637160"
     },
     "user_tz": -120
    },
    "id": "r6A0jDhabein",
    "outputId": "f7f09a7f-23e4-4107-cae8-c92441fe2412"
   },
   "outputs": [],
   "source": [
    "exp.explain_instance(X_test.iloc[0, :],\n",
    "                     RandomForestModel.predict_proba,\n",
    "                     top_labels=1).show_in_notebook()"
   ]
  },
  {
   "cell_type": "markdown",
   "metadata": {},
   "source": [
    "##### Test sans 2e répétition"
   ]
  },
  {
   "cell_type": "code",
   "execution_count": null,
   "metadata": {
    "ExecuteTime": {
     "end_time": "2023-02-08T10:41:20.873395Z",
     "start_time": "2023-02-08T10:41:20.873395Z"
    }
   },
   "outputs": [],
   "source": [
    "#We get X and y\n",
    "y = data[\"task_1\"][data.repetition_question !=2]\n",
    "X = data[feature_names][data.repetition_question !=2]\n",
    "\n",
    "#We obtain train and test datasets\n",
    "X_train, X_test, y_train, y_test = train_test_split(X,\n",
    "                                                    y,\n",
    "                                                    test_size=0.2,\n",
    "                                                    random_state=42)\n",
    "\n",
    "#We get the best parameters for the DT\n",
    "BP = DecisionTreeModel.get_params()\n",
    "RFC = RandomForestClassifier(criterion=BP[\"criterion\"],\n",
    "                             max_depth=BP[\"max_depth\"],\n",
    "                             max_leaf_nodes=BP[\"max_leaf_nodes\"],\n",
    "                             min_samples_split=BP[\"min_samples_split\"])\n",
    "\n",
    "# Number of trees in random forest\n",
    "n_estimators = [(i + 1) * 10 for i in range(10)]\n",
    "\n",
    "# Method of selecting samples for training each tree\n",
    "bootstrap = [True, False]\n",
    "\n",
    "#We add the other parameters for Random Forest\n",
    "params = {\"n_estimators\": n_estimators, \"bootstrap\": bootstrap}\n",
    "\n",
    "grid_search_cv = GridSearchCV(RFC, params, verbose=1, cv=5)\n",
    "grid_search_cv.fit(X_train, y_train)\n",
    "Best_RFC = grid_search_cv.best_estimator_\n",
    "\n",
    "print(\"Best score:\", grid_search_cv.best_score_)\n",
    "print(\"Temps d'éxecution du modèle 0:00:19.348369 \")\n",
    "\n",
    "#saving the model\n",
    "filename = 'RandomForestModelonly1&3.pkl'\n",
    "print(\"Sauvegarde du modèle dans \", filename)\n",
    "pickle.dump(Best_RFC, open(filename, \"wb\"))\n",
    "\n",
    "# loading the model\n",
    "RandomForestModel2 = pickle.load(open(filename, 'rb'))\n",
    "\n",
    "# printing the model\n",
    "print(RandomForestModel2)\n",
    "\n",
    "#Test on the test set\n",
    "y_test_predict_proba = RandomForestModel2.predict_proba(X_test)\n",
    "y_test_predict = RandomForestModel2.predict(X_test)\n",
    "\n",
    "print(\"Confusion matrix\\n\",\n",
    "      multilabel_confusion_matrix(y_test, y_test_predict)[0])\n",
    "\n",
    "print(\n",
    "    classification_report(y_test,\n",
    "                          y_test_predict,\n",
    "                          output_dict=False,\n",
    "                          target_names=[str(i) for i in range(11)]))"
   ]
  },
  {
   "cell_type": "markdown",
   "metadata": {},
   "source": [
    "##### Test sans 3e répétition"
   ]
  },
  {
   "cell_type": "code",
   "execution_count": null,
   "metadata": {
    "ExecuteTime": {
     "end_time": "2023-02-08T10:41:20.875390Z",
     "start_time": "2023-02-08T10:41:20.875390Z"
    }
   },
   "outputs": [],
   "source": [
    "#We get X and y\n",
    "y = data[\"task_1\"][data.repetition_question !=3]\n",
    "X = data[feature_names][data.repetition_question !=3]\n",
    "\n",
    "#We obtain train and test datasets\n",
    "X_train, X_test, y_train, y_test = train_test_split(X,\n",
    "                                                    y,\n",
    "                                                    test_size=0.2,\n",
    "                                                    random_state=42)\n",
    "\n",
    "#We get the best parameters for the DT\n",
    "BP = DecisionTreeModel.get_params()\n",
    "RFC = RandomForestClassifier(criterion=BP[\"criterion\"],\n",
    "                             max_depth=BP[\"max_depth\"],\n",
    "                             max_leaf_nodes=BP[\"max_leaf_nodes\"],\n",
    "                             min_samples_split=BP[\"min_samples_split\"])\n",
    "\n",
    "# Number of trees in random forest\n",
    "n_estimators = [(i + 1) * 10 for i in range(10)]\n",
    "\n",
    "# Method of selecting samples for training each tree\n",
    "bootstrap = [True, False]\n",
    "\n",
    "#We add the other parameters for Random Forest\n",
    "params = {\"n_estimators\": n_estimators, \"bootstrap\": bootstrap}\n",
    "\n",
    "grid_search_cv = GridSearchCV(RFC, params, verbose=1, cv=5)\n",
    "grid_search_cv.fit(X_train, y_train)\n",
    "Best_RFC = grid_search_cv.best_estimator_\n",
    "\n",
    "print(\"Best score:\", grid_search_cv.best_score_)\n",
    "print(\"Temps d'éxecution du modèle 0:00:19.348369 \")\n",
    "\n",
    "#saving the model\n",
    "filename = 'RandomForestModelonly1&2.pkl'\n",
    "print(\"Sauvegarde du modèle dans \", filename)\n",
    "pickle.dump(Best_RFC, open(filename, \"wb\"))\n",
    "\n",
    "# loading the model\n",
    "RandomForestModel3 = pickle.load(open(filename, 'rb'))\n",
    "\n",
    "# printing the model\n",
    "print(RandomForestModel3)\n",
    "\n",
    "#Test on the test set\n",
    "y_test_predict_proba = RandomForestModel3.predict_proba(X_test)\n",
    "y_test_predict = RandomForestModel3.predict(X_test)\n",
    "\n",
    "print(\"Confusion matrix\\n\",\n",
    "      multilabel_confusion_matrix(y_test, y_test_predict)[0])\n",
    "\n",
    "print(\n",
    "    classification_report(y_test,\n",
    "                          y_test_predict,\n",
    "                          output_dict=False,\n",
    "                          target_names=[str(i) for i in range(11)]))"
   ]
  },
  {
   "cell_type": "markdown",
   "metadata": {
    "id": "pme-4wTqbein"
   },
   "source": [
    "## IV.D XGBoost <a class=\"anchor\" id=\"section_4_4\"></a>"
   ]
  },
  {
   "cell_type": "code",
   "execution_count": null,
   "metadata": {
    "ExecuteTime": {
     "end_time": "2022-05-28T17:53:45.181786Z",
     "start_time": "2022-05-28T17:52:50.254989Z"
    },
    "colab": {
     "base_uri": "https://localhost:8080/"
    },
    "deletable": false,
    "editable": false,
    "id": "Xi7N2FgTbein",
    "outputId": "2e1613be-f1c4-4aa7-c16e-b744b9dba792",
    "run_control": {
     "frozen": true
    }
   },
   "outputs": [],
   "source": [
    "# Maximum number of levels in tree\n",
    "max_depth = [int(x) for x in np.linspace(10, 110, num=5)]\n",
    "max_depth.append(None)\n",
    "\n",
    "params = {\n",
    "    'max_leaves': [(i + 1) * 20 for i in range(5)],\n",
    "    \"max_depth\": max_depth,\n",
    "    \"n_estimators\": [(i + 1) * 10 for i in range(10)]\n",
    "}\n",
    "\n",
    "XGBmodel = XGBClassifier(use_label_encoder=False, eval_metric='mlogloss')\n",
    "grid_search_cv = GridSearchCV(XGBmodel, params, verbose=1, cv=5)\n",
    "grid_search_cv.fit(X_train, y_train)\n",
    "\n",
    "print(\"Best score:\", grid_search_cv.best_score_)\n",
    "Best_XGB = grid_search_cv.best_estimator_\n",
    "\n",
    "#saving the model\n",
    "filename = 'XGBoostModel.pkl'\n",
    "print(\"Sauvegarde du modèle dans \", filename)\n",
    "pickle.dump(Best_XGB, open(filename, \"wb\"))\n",
    "\n",
    "# loading the model\n",
    "XGBoostModel = pickle.load(open(filename, 'rb'))\n",
    "\n",
    "# printing the model\n",
    "print(XGBoostModel)"
   ]
  },
  {
   "cell_type": "code",
   "execution_count": null,
   "metadata": {
    "ExecuteTime": {
     "end_time": "2022-05-28T17:53:45.181786Z",
     "start_time": "2022-05-28T17:53:45.181786Z"
    },
    "deletable": false,
    "editable": false,
    "run_control": {
     "frozen": true
    }
   },
   "outputs": [],
   "source": [
    "y_test_predict_proba = XGBoostModel.predict_proba(X_test)\n",
    "y_test_predict = XGBoostModel.predict(X_test)\n",
    "\n",
    "print(\"Confusion matrix\\n\",\n",
    "      multilabel_confusion_matrix(y_test, y_test_predict)[0])\n",
    "\n",
    "print(\n",
    "    classification_report(y_test,\n",
    "                          y_test_predict,\n",
    "                          output_dict=False,\n",
    "                          target_names=[str(i) for i in range(11)]))"
   ]
  },
  {
   "cell_type": "code",
   "execution_count": null,
   "metadata": {
    "ExecuteTime": {
     "end_time": "2022-05-28T17:53:45.181786Z",
     "start_time": "2022-05-28T17:53:45.181786Z"
    },
    "deletable": false,
    "editable": false,
    "run_control": {
     "frozen": true
    }
   },
   "outputs": [],
   "source": [
    "#We shuffle the data\n",
    "data_turing = data_turing.sample(frac=1)\n",
    "feature_names = [\n",
    "    \"personnage_1\", \"personnage_2\", \"force_1\", \"force_2\", \"scenarios\",\n",
    "    \"repetition_question\", \"age\", \"sexe\", \"enfant\"\n",
    "]\n",
    "\n",
    "#We get X and y\n",
    "y_turing = data_turing[\"task_1\"]\n",
    "X_turing = data_turing[feature_names]\n",
    "\n",
    "y_test_predict_proba = XGBoostModel.predict_proba(X_turing)\n",
    "y_test_predict_turing = XGBoostModel.predict(X_turing)\n",
    "\n",
    "print(\"Confusion matrix\\n\",\n",
    "      multilabel_confusion_matrix(y_turing, y_test_predict_turing)[0])\n",
    "\n",
    "print(\n",
    "    classification_report(y_turing,\n",
    "                          y_test_predict_turing,\n",
    "                          output_dict=False,\n",
    "                          target_names=[str(i) for i in range(9)]))"
   ]
  },
  {
   "cell_type": "code",
   "execution_count": null,
   "metadata": {
    "ExecuteTime": {
     "end_time": "2022-05-28T17:53:45.181786Z",
     "start_time": "2022-05-28T17:53:45.181786Z"
    },
    "deletable": false,
    "editable": false,
    "run_control": {
     "frozen": true
    },
    "scrolled": false
   },
   "outputs": [],
   "source": [
    "y_pred = pd.Series(y_test_predict_turing,\n",
    "                   index=y_turing.index,\n",
    "                   name='task_1 prédite')\n",
    "result = pd.concat([y_pred, y_turing, X_turing], axis=1)\n",
    "result"
   ]
  },
  {
   "cell_type": "code",
   "execution_count": null,
   "metadata": {
    "ExecuteTime": {
     "end_time": "2022-05-28T17:53:45.181786Z",
     "start_time": "2022-05-28T17:53:45.181786Z"
    },
    "deletable": false,
    "editable": false,
    "id": "wvRaRNo1beio",
    "run_control": {
     "frozen": true
    }
   },
   "outputs": [],
   "source": [
    "exp.explain_instance(X_test.iloc[0, :],\n",
    "                     XGBoostModel.predict_proba,\n",
    "                     top_labels=1).show_in_notebook()"
   ]
  },
  {
   "cell_type": "markdown",
   "metadata": {
    "id": "INZPVF1fbeio"
   },
   "source": [
    "# V. Optimisations <a class='anchor' id='chapter5'></a>"
   ]
  },
  {
   "cell_type": "markdown",
   "metadata": {},
   "source": [
    "## V.A Acceptability <a class=\"anchor\" id=\"section_5_1\"></a>"
   ]
  },
  {
   "cell_type": "markdown",
   "metadata": {
    "id": "TVfJ5FgUbeio"
   },
   "source": [
    "To improve the accuracy of the model, we calculate the accuracy in a more flexible way by assuming that if the model predicts a class close to the expected value, its response remains correct. For example, the expected class is 0, but the model predicts 1, this is still a good prediction.\n",
    "\n",
    "To do this, we recalculate the number of TP, TN, FP and FN in order to take this bias into account. Then we recalculate the precision, the recall and the f1-score."
   ]
  },
  {
   "cell_type": "code",
   "execution_count": null,
   "metadata": {
    "ExecuteTime": {
     "end_time": "2023-02-08T10:41:20.876387Z",
     "start_time": "2023-02-08T10:41:20.876387Z"
    }
   },
   "outputs": [],
   "source": [
    "def classification_report_opti(y_test, y_test_predict):\n",
    "    print('number of classes :', max(y_test))\n",
    "    classification = {}\n",
    "    for cl in range(max(y_test) + 1):\n",
    "        print(\"process in class \", cl)\n",
    "        tp = 0\n",
    "        fp = 0\n",
    "        fn = 0\n",
    "        tn = 0\n",
    "        for i in range(len(y_test)):\n",
    "            if cl > 0 and cl < max(y_test):\n",
    "                if y_test[i] == cl and y_test_predict[i] in [\n",
    "                        cl - 1, cl, cl + 1\n",
    "                ]:\n",
    "                    tp += 1\n",
    "                elif y_test[i] == cl and y_test_predict[i] not in [\n",
    "                        cl - 1, cl, cl + 1\n",
    "                ]:\n",
    "                    fn += 1\n",
    "                elif y_test[i] != cl and y_test_predict[i] in [\n",
    "                        cl - 1, cl, cl + 1\n",
    "                ]:\n",
    "                    fp += 1\n",
    "                elif y_test[i] != cl and y_test_predict[i] not in [\n",
    "                        cl - 1, cl, cl + 1\n",
    "                ]:\n",
    "                    tn += 1\n",
    "            elif cl == 0:\n",
    "                if y_test[i] == cl and y_test_predict[i] in [cl, cl + 1]:\n",
    "                    tp += 1\n",
    "                elif y_test[i] == cl and y_test_predict[i] not in [cl, cl + 1]:\n",
    "                    fn += 1\n",
    "                elif y_test[i] != cl and y_test_predict[i] in [cl, cl + 1]:\n",
    "                    fp += 1\n",
    "                elif y_test[i] != cl and y_test_predict[i] not in [cl, cl + 1]:\n",
    "                    tn += 1\n",
    "            elif cl == max(y_test):\n",
    "                if y_test[i] == cl and y_test_predict[i] in [cl, cl - 1]:\n",
    "                    tp += 1\n",
    "                elif y_test[i] == cl and y_test_predict[i] not in [cl, cl - 1]:\n",
    "                    fn += 1\n",
    "                elif y_test[i] != cl and y_test_predict[i] in [cl, cl - 1]:\n",
    "                    fp += 1\n",
    "                elif y_test[i] != cl and y_test_predict[i] not in [cl, cl - 1]:\n",
    "                    tn += 1\n",
    "            classification[cl] = {'TN': tn, 'FN': fn, 'FP': fp, 'TP': tp}\n",
    "\n",
    "    for i in classification:\n",
    "        precision = (\n",
    "            classification[i]['TP'] /\n",
    "            (classification[i]['TP'] + classification[i]['FP'])\n",
    "        ) if (classification[i]['TP'] + classification[i]['FP']) != 0 else 0\n",
    "        recall = (\n",
    "            classification[i]['TP'] /\n",
    "            (classification[i]['TP'] + classification[i]['FN'])\n",
    "        ) if (classification[i]['TP'] + classification[i]['FN']) != 0 else 0\n",
    "        accuracy = (\n",
    "            (classification[i]['TP'] + classification[i]['TN']) /\n",
    "            (classification[i]['TP'] + classification[i]['TN'] +\n",
    "             classification[i]['FP'] + classification[i]['FN'])\n",
    "        ) if (classification[i]['TP'] + classification[i]['TN'] +\n",
    "              classification[i]['FP'] + classification[i]['FN']) != 0 else 0\n",
    "        classification[i].update({\n",
    "            'precision': round(precision, 2),\n",
    "            'recall': round(recall, 2),\n",
    "            'accuracy': round(accuracy, 2)\n",
    "        })\n",
    "        f1_score = (\n",
    "            2 * (classification[i]['precision'] * classification[i]['recall'])\n",
    "        ) / (classification[i]['precision'] + classification[i]['recall']) if (\n",
    "            classification[i]['precision'] +\n",
    "            classification[i]['recall']) != 0 else 0\n",
    "        classification[i].update({'f1-score': round(f1_score, 2)})\n",
    "\n",
    "    num = 0\n",
    "    denom = 0\n",
    "    for i in classification:\n",
    "        num += classification[i]['TP'] + classification[i]['TN']\n",
    "        denom += classification[i]['TP'] + classification[i][\n",
    "            'TN'] + classification[i]['FP'] + classification[i]['FN']\n",
    "\n",
    "    accuracy = num / denom\n",
    "    classification.update({'accuracy': round(accuracy, 2)})\n",
    "\n",
    "    print('class | precision | recall | f1-score | accuracy')\n",
    "    for i in range(max(y_test) + 1):\n",
    "        print(i, '    | ', classification[i]['precision'], '    | ',\n",
    "              classification[i]['recall'], ' | ',\n",
    "              classification[i]['f1-score'], '   | ',\n",
    "              classification[i]['accuracy'])\n",
    "    print()\n",
    "    print('accuracy :    ', classification['accuracy'])"
   ]
  },
  {
   "cell_type": "code",
   "execution_count": null,
   "metadata": {
    "ExecuteTime": {
     "end_time": "2023-02-08T10:41:20.877385Z",
     "start_time": "2023-02-08T10:41:20.877385Z"
    }
   },
   "outputs": [],
   "source": [
    "#We shuffle the data\n",
    "feature_names = [\n",
    "    \"personnage_1\", \"personnage_2\", \"force_1\", \"force_2\", \"scenarios\",\n",
    "    \"repetition_question\", \"age\", \"sexe\", \"enfant\"\n",
    "]\n",
    "\n",
    "#We get X and y\n",
    "y = data[\"task_1\"]\n",
    "X = data[feature_names]\n",
    "\n",
    "#We obtain train and test datasets\n",
    "X_train, X_test, y_train, y_test = train_test_split(X,\n",
    "                                                    y,\n",
    "                                                    test_size=0.2,\n",
    "                                                    random_state=42)"
   ]
  },
  {
   "cell_type": "markdown",
   "metadata": {
    "id": "EbzXFsG8beip"
   },
   "source": [
    "### RANDOM FOREST <a class=\"anchor\" id=\"section_5_1_1\"></a>"
   ]
  },
  {
   "cell_type": "code",
   "execution_count": null,
   "metadata": {
    "ExecuteTime": {
     "end_time": "2023-02-08T10:41:20.878382Z",
     "start_time": "2023-02-08T10:41:20.878382Z"
    },
    "id": "ue8vQj6Cbeip"
   },
   "outputs": [],
   "source": [
    "# loading the model\n",
    "filename = 'RandomForestModel.pkl'\n",
    "RandomForestModel = pickle.load(open(filename, 'rb'))\n",
    "\n",
    "# printing the model\n",
    "print(RandomForestModel)\n",
    "\n",
    "#Test on the test set\n",
    "\n",
    "y_test_predict_proba = RandomForestModel.predict_proba(X_test)\n",
    "y_test_predict = RandomForestModel.predict(X_test)\n",
    "\n",
    "y_test = pd.concat([y_test], ignore_index=True)\n",
    "\n",
    "classification_report_opti(y_test, y_test_predict)"
   ]
  },
  {
   "cell_type": "markdown",
   "metadata": {
    "id": "9hcQEEQHbeiq"
   },
   "source": [
    "### XGBoost <a class=\"anchor\" id=\"section_5_1_2\"></a>"
   ]
  },
  {
   "cell_type": "markdown",
   "metadata": {
    "id": "VhHpMy27beiq"
   },
   "source": [
    "There is an optimized distributed gradient optimization library XGBoost. We decided to train a model using this library and we reached 74% accuracy."
   ]
  },
  {
   "cell_type": "code",
   "execution_count": null,
   "metadata": {
    "ExecuteTime": {
     "end_time": "2022-05-28T17:53:45.197425Z",
     "start_time": "2022-05-28T17:53:45.197425Z"
    },
    "deletable": false,
    "editable": false,
    "id": "7gNbd088beiq",
    "run_control": {
     "frozen": true
    }
   },
   "outputs": [],
   "source": [
    "# loading the model\n",
    "filename = 'XGBoostModel.pkl'\n",
    "XGBoostModel = pickle.load(open(filename, 'rb'))\n",
    "\n",
    "# printing the model\n",
    "print(XGBoostModel)\n",
    "\n",
    "y_test_predict_proba = XGBoostModel.predict_proba(X_test)\n",
    "y_test_predict = XGBoostModel.predict(X_test)\n",
    "\n",
    "y_test = pd.concat([y_test], ignore_index=True)\n",
    "\n",
    "classification_report_opti(y_test, y_test_predict)"
   ]
  },
  {
   "cell_type": "markdown",
   "metadata": {
    "id": "-02xUtRObeiq"
   },
   "source": [
    "This model shows that it takes much more into account all the parameters, with the repetitions of questions having less importance, but probably due to the fact that many people answered the same thing and they did not change their mind or at least did not take into account their previous choice."
   ]
  },
  {
   "cell_type": "code",
   "execution_count": null,
   "metadata": {
    "ExecuteTime": {
     "end_time": "2022-05-28T17:53:45.197425Z",
     "start_time": "2022-05-28T17:53:45.197425Z"
    },
    "deletable": false,
    "editable": false,
    "id": "tOHT7QkMbeiq",
    "run_control": {
     "frozen": true
    }
   },
   "outputs": [],
   "source": [
    "plt.rcParams[\"figure.figsize\"] = (20, 3)\n",
    "\n",
    "plt.bar(feature_names, XGBoostModel.feature_importances_, width=0.4)\n",
    "plt.show()"
   ]
  },
  {
   "cell_type": "markdown",
   "metadata": {
    "id": "bA9Qm7j2beiq"
   },
   "source": [
    "We notice that this model has a high probability in its first choice contrary to the Random Forest and the Decision Tree which admit a larger probability on several possible answers."
   ]
  },
  {
   "cell_type": "code",
   "execution_count": null,
   "metadata": {
    "ExecuteTime": {
     "end_time": "2022-05-28T17:53:45.197425Z",
     "start_time": "2022-05-28T17:53:45.197425Z"
    },
    "deletable": false,
    "editable": false,
    "id": "xMBVw3i5beir",
    "run_control": {
     "frozen": true
    },
    "scrolled": false
   },
   "outputs": [],
   "source": [
    "#xgb.to_graphviz(XGBoostModel)"
   ]
  },
  {
   "cell_type": "code",
   "execution_count": null,
   "metadata": {
    "ExecuteTime": {
     "end_time": "2022-05-28T17:53:45.197425Z",
     "start_time": "2022-05-28T17:53:45.197425Z"
    },
    "deletable": false,
    "editable": false,
    "id": "zLp50FApbeir",
    "run_control": {
     "frozen": true
    }
   },
   "outputs": [],
   "source": [
    "exp.explain_instance(X_test.iloc[0, :],\n",
    "                     XGBoostModel.predict_proba,\n",
    "                     top_labels=1).show_in_notebook()"
   ]
  },
  {
   "cell_type": "markdown",
   "metadata": {
    "id": "DaRUvfIgbeis"
   },
   "source": [
    "## V.B Parameters transformation <a class=\"anchor\" id=\"section_5_2\"></a>"
   ]
  },
  {
   "cell_type": "markdown",
   "metadata": {
    "id": "-nadGDogXcZk"
   },
   "source": [
    "### With only Force perceived and no repetition <a class=\"anchor\" id=\"section_5_2_1\"></a>"
   ]
  },
  {
   "cell_type": "markdown",
   "metadata": {},
   "source": [
    "Now we will test our best performing models (RandomForest and XGBoost) on different input parameters. \n",
    "First, we consider only the data from the first set of questions, the strength of the characters and the user's personal information."
   ]
  },
  {
   "cell_type": "code",
   "execution_count": null,
   "metadata": {
    "ExecuteTime": {
     "end_time": "2023-02-08T10:41:20.880377Z",
     "start_time": "2023-02-08T10:41:20.880377Z"
    },
    "id": "HU70FuDDbeis"
   },
   "outputs": [],
   "source": [
    "feature_names = [\"force_1\", \"force_2\", \"scenarios\", \"age\", \"sexe\", \"enfant\"]\n",
    "#We get X and y\n",
    "y = data[data.repetition_question == 1][\"task_1\"]\n",
    "X = data[data.repetition_question == 1][feature_names]\n",
    "\n",
    "#We obtain train and test datasets\n",
    "X_train, X_test, y_train, y_test = train_test_split(X,\n",
    "                                                    y,\n",
    "                                                    test_size=0.20,\n",
    "                                                    random_state=42)"
   ]
  },
  {
   "cell_type": "code",
   "execution_count": null,
   "metadata": {
    "ExecuteTime": {
     "end_time": "2023-02-08T10:41:20.881374Z",
     "start_time": "2023-02-08T10:41:20.881374Z"
    }
   },
   "outputs": [],
   "source": [
    "#We get the best parameters for the DT\n",
    "BP = DecisionTreeModel.get_params()\n",
    "RFC = RandomForestClassifier(criterion=BP[\"criterion\"],\n",
    "                             max_depth=BP[\"max_depth\"],\n",
    "                             max_leaf_nodes=BP[\"max_leaf_nodes\"],\n",
    "                             min_samples_split=BP[\"min_samples_split\"])\n",
    "\n",
    "# Number of trees in random forest\n",
    "n_estimators = [(i + 1) * 10 for i in range(10)]\n",
    "\n",
    "# Method of selecting samples for training each tree\n",
    "bootstrap = [True, False]\n",
    "\n",
    "#We add the other parameters for Random Forest\n",
    "params = {\"n_estimators\": n_estimators, \"bootstrap\": bootstrap}\n",
    "\n",
    "grid_search_cv = GridSearchCV(RFC, params, verbose=1, cv=5)\n",
    "grid_search_cv.fit(X_train, y_train)\n",
    "Best_RFC = grid_search_cv.best_estimator_\n",
    "\n",
    "print(\"Best score:\", grid_search_cv.best_score_)\n",
    "print(\"Temps d'éxecution du modèle 0:00:19.348369 \")\n",
    "\n",
    "#saving the model\n",
    "filename = 'RandomForestModelFnoREP.pkl'\n",
    "print(\"Sauvegarde du modèle dans \", filename)\n",
    "pickle.dump(Best_RFC, open(filename, \"wb\"))\n",
    "\n",
    "# loading the model\n",
    "RandomForestModelFnoREP = pickle.load(open(filename, 'rb'))\n",
    "\n",
    "# printing the model\n",
    "print(RandomForestModelFnoREP)\n",
    "\n",
    "#Test on the test set\n",
    "\n",
    "y_test_predict_proba = RandomForestModelFnoREP.predict_proba(X_test)\n",
    "y_test_predict = RandomForestModelFnoREP.predict(X_test)\n",
    "\n",
    "print(\"Confusion matrix\\n\",\n",
    "      multilabel_confusion_matrix(y_test, y_test_predict)[0])\n",
    "\n",
    "print(\n",
    "    classification_report(y_test,\n",
    "                          y_test_predict,\n",
    "                          output_dict=False,\n",
    "                          target_names=[str(i) for i in range(11)]))\n",
    "\n",
    "y_test = pd.concat([y_test], ignore_index=True)\n",
    "\n",
    "classification_report_opti(y_test, y_test_predict)"
   ]
  },
  {
   "cell_type": "code",
   "execution_count": null,
   "metadata": {
    "ExecuteTime": {
     "end_time": "2022-05-28T17:53:45.213586Z",
     "start_time": "2022-05-28T17:53:45.213586Z"
    },
    "deletable": false,
    "editable": false,
    "id": "GB8FJycHbeis",
    "run_control": {
     "frozen": true
    }
   },
   "outputs": [],
   "source": [
    "# Maximum number of levels in tree\n",
    "max_depth = [int(x) for x in np.linspace(10, 110, num=5)]\n",
    "max_depth.append(None)\n",
    "\n",
    "params = {\n",
    "    'max_leaves': [(i + 1) * 20 for i in range(5)],\n",
    "    \"max_depth\": max_depth,\n",
    "    \"n_estimators\": [(i + 1) * 10 for i in range(10)]\n",
    "}\n",
    "\n",
    "XGBmodel = XGBClassifier(use_label_encoder=False, eval_metric='mlogloss')\n",
    "grid_search_cv = GridSearchCV(XGBmodel, params, verbose=1, cv=5)\n",
    "grid_search_cv.fit(X_train, y_train)\n",
    "\n",
    "print(\"Best score:\", grid_search_cv.best_score_)\n",
    "Best_XGB = grid_search_cv.best_estimator_\n",
    "\n",
    "#saving the model\n",
    "filename = 'XGBoostModelFnoREP.pkl'\n",
    "print(\"Sauvegarde du modèle dans \", filename)\n",
    "pickle.dump(Best_XGB, open(filename, \"wb\"))\n",
    "\n",
    "# loading the model\n",
    "XGBoostModelFnoREP = pickle.load(open(filename, 'rb'))\n",
    "\n",
    "# printing the model\n",
    "print(XGBoostModelFnoREP)\n",
    "\n",
    "y_test_predict_proba = XGBoostModelFnoREP.predict_proba(X_test)\n",
    "y_test_predict = XGBoostModelFnoREP.predict(X_test)\n",
    "\n",
    "print(\"Confusion matrix\\n\",\n",
    "      multilabel_confusion_matrix(y_test, y_test_predict)[0])\n",
    "\n",
    "print(\n",
    "    classification_report(y_test,\n",
    "                          y_test_predict,\n",
    "                          output_dict=False,\n",
    "                          target_names=[str(i) for i in range(11)]))\n",
    "\n",
    "y_test = pd.concat([y_test], ignore_index=True)\n",
    "\n",
    "classification_report_opti(y_test, y_test_predict)"
   ]
  },
  {
   "cell_type": "markdown",
   "metadata": {
    "id": "mNRT4gTZJXge"
   },
   "source": [
    "### With only Force perceived, no repetition and last time gived <a class=\"anchor\" id=\"section_5_2_2\"></a>"
   ]
  },
  {
   "cell_type": "code",
   "execution_count": null,
   "metadata": {
    "ExecuteTime": {
     "end_time": "2023-02-08T10:41:20.882371Z",
     "start_time": "2023-02-08T10:41:20.882371Z"
    }
   },
   "outputs": [],
   "source": [
    "data_fixed[\"last_gived\"] = 0\n",
    "for scen in range(1, 10):\n",
    "    start_time = datetime.now()\n",
    "    print(scen)\n",
    "    for i in data_fixed[data_fixed.scenarios == scen].index:\n",
    "        if data_fixed.loc[i].repetition_question == 1:\n",
    "            last_gived = data_fixed.loc[i].task_1\n",
    "        elif data_fixed.loc[i].repetition_question == 2:\n",
    "            data_fixed.loc[i, 'last_gived'] = last_gived\n",
    "            last_gived = data_fixed.loc[i].task_1\n",
    "        elif data_fixed.loc[i].repetition_question == 3:\n",
    "            data_fixed.loc[i, 'last_gived'] = last_gived\n",
    "    print('Time elapsed (hh:mm:ss.ms) {}'.format(datetime.now() - start_time))\n",
    "\n",
    "data_fixed"
   ]
  },
  {
   "cell_type": "code",
   "execution_count": null,
   "metadata": {
    "ExecuteTime": {
     "end_time": "2023-02-08T10:41:20.884366Z",
     "start_time": "2023-02-08T10:41:20.884366Z"
    }
   },
   "outputs": [],
   "source": [
    "feature_names = [\n",
    "    \"force_1\", \"force_2\", \"scenarios\", \"age\", \"sexe\", \"enfant\", \"last_gived\"\n",
    "]\n",
    "#We get X and y\n",
    "y = data_fixed[data_fixed.repetition_question != 1][\"task_1\"]\n",
    "X = data_fixed[data_fixed.repetition_question != 1][feature_names]\n",
    "\n",
    "#We obtain train and test datasets\n",
    "X_train, X_test, y_train, y_test = train_test_split(X,\n",
    "                                                    y,\n",
    "                                                    test_size=0.20,\n",
    "                                                    random_state=42)"
   ]
  },
  {
   "cell_type": "code",
   "execution_count": null,
   "metadata": {
    "ExecuteTime": {
     "end_time": "2023-02-08T10:41:20.885363Z",
     "start_time": "2023-02-08T10:41:20.885363Z"
    }
   },
   "outputs": [],
   "source": [
    "#We get the best parameters for the DT\n",
    "BP = DecisionTreeModel.get_params()\n",
    "RFC = RandomForestClassifier(criterion=BP[\"criterion\"],\n",
    "                             max_depth=BP[\"max_depth\"],\n",
    "                             max_leaf_nodes=BP[\"max_leaf_nodes\"],\n",
    "                             min_samples_split=BP[\"min_samples_split\"])\n",
    "\n",
    "# Number of trees in random forest\n",
    "n_estimators = [(i + 1) * 10 for i in range(10)]\n",
    "\n",
    "# Method of selecting samples for training each tree\n",
    "bootstrap = [True, False]\n",
    "\n",
    "#We add the other parameters for Random Forest\n",
    "params = {\"n_estimators\": n_estimators, \"bootstrap\": bootstrap}\n",
    "\n",
    "grid_search_cv = GridSearchCV(RFC, params, verbose=1, cv=5)\n",
    "grid_search_cv.fit(X_train, y_train)\n",
    "Best_RFC = grid_search_cv.best_estimator_\n",
    "\n",
    "print(\"Best score:\", grid_search_cv.best_score_)\n",
    "print(\"Temps d'éxecution du modèle 0:00:19.348369 \")\n",
    "\n",
    "#saving the model\n",
    "filename = 'RandomForestModelFlastG.pkl'\n",
    "print(\"Sauvegarde du modèle dans \", filename)\n",
    "pickle.dump(Best_RFC, open(filename, \"wb\"))\n",
    "\n",
    "# loading the model\n",
    "RandomForestModelFlastG = pickle.load(open(filename, 'rb'))\n",
    "\n",
    "# printing the model\n",
    "print(RandomForestModelFlastG)\n",
    "\n",
    "#Test on the test set\n",
    "\n",
    "y_test_predict_proba = RandomForestModelFlastG.predict_proba(X_test)\n",
    "y_test_predict = RandomForestModelFlastG.predict(X_test)\n",
    "\n",
    "print(\"Confusion matrix\\n\",\n",
    "      multilabel_confusion_matrix(y_test, y_test_predict)[0])\n",
    "\n",
    "print(\n",
    "    classification_report(y_test,\n",
    "                          y_test_predict,\n",
    "                          output_dict=False,\n",
    "                          target_names=[str(i) for i in range(11)]))\n",
    "\n",
    "y_test = pd.concat([y_test], ignore_index=True)\n",
    "\n",
    "classification_report_opti(y_test, y_test_predict)"
   ]
  },
  {
   "cell_type": "code",
   "execution_count": null,
   "metadata": {
    "ExecuteTime": {
     "end_time": "2023-02-08T10:41:20.886361Z",
     "start_time": "2023-02-08T10:41:20.886361Z"
    }
   },
   "outputs": [],
   "source": [
    "RandomForestModelFlastG.feature_importances_"
   ]
  },
  {
   "cell_type": "code",
   "execution_count": null,
   "metadata": {
    "ExecuteTime": {
     "end_time": "2023-02-08T10:41:20.888355Z",
     "start_time": "2023-02-08T10:41:20.888355Z"
    }
   },
   "outputs": [],
   "source": [
    "plt.rcParams[\"figure.figsize\"] = (20, 3)\n",
    "\n",
    "plt.bar(feature_names, RandomForestModelFlastG.feature_importances_, width=0.4)\n",
    "RandomForestModel.feature_importances_\n",
    "plt.show()"
   ]
  },
  {
   "cell_type": "code",
   "execution_count": null,
   "metadata": {
    "ExecuteTime": {
     "end_time": "2022-05-30T13:35:19.252204Z",
     "start_time": "2022-05-30T13:35:19.204912Z"
    },
    "deletable": false,
    "editable": false,
    "run_control": {
     "frozen": true
    }
   },
   "outputs": [],
   "source": [
    "turing=pd.DataFrame()\n",
    "for i in range(5) :\n",
    "    id=data_fixed[data_fixed.repetition_question != 1].id_participant.sample(n=1)\n",
    "    if id.keys()[0] in X_test.index:\n",
    "        turing = pd.concat([turing, data_fixed[data_fixed.id_participant==id.loc[id.keys()[0]]]])\n",
    "    else :  \n",
    "        new_id=data_fixed[data_fixed.repetition_question != 1].id_participant.sample(n=1)\n",
    "        while new_id.keys()[0] not in X_test.index:\n",
    "            new_id=data_fixed[data_fixed.repetition_question != 1].id_participant.sample(n=1)\n",
    "        turing = pd.concat([turing, data_fixed[data_fixed.id_participant==new_id.loc[new_id.keys()[0]]]])\n",
    "\n",
    "    \n",
    "turing"
   ]
  },
  {
   "cell_type": "code",
   "execution_count": null,
   "metadata": {
    "ExecuteTime": {
     "end_time": "2022-05-30T14:23:32.754619Z",
     "start_time": "2022-05-30T14:23:32.707230Z"
    },
    "deletable": false,
    "editable": false,
    "run_control": {
     "frozen": true
    }
   },
   "outputs": [],
   "source": [
    "feature_names = [\n",
    "    \"force_1\", \"force_2\", \"scenarios\", \"age\", \"sexe\", \"enfant\", \"last_gived\"\n",
    "]\n",
    "\n",
    "#We get X and y\n",
    "y_turing = turing[turing.repetition_question != 1][\"task_1\"]\n",
    "X_turing = turing[turing.repetition_question != 1][feature_names]\n",
    "\n",
    "y_test_predict_proba = RandomForestModelFlastG.predict_proba(X_turing)\n",
    "y_test_predict_turing = RandomForestModelFlastG.predict(X_turing)\n",
    "\n",
    "print(\"Confusion matrix\\n\",\n",
    "      multilabel_confusion_matrix(y_turing, y_test_predict_turing)[0])\n",
    "\n",
    "print(\n",
    "    classification_report(y_turing,\n",
    "                          y_test_predict_turing,\n",
    "                          output_dict=False,\n",
    "                          target_names=[str(i) for i in range(11)]))\n",
    "y_pred = pd.Series(y_test_predict_turing,\n",
    "                   index=y_turing.index,\n",
    "                   name='task_1 prédite')\n",
    "\n",
    "result = pd.concat([y_pred, y_turing, turing[turing.repetition_question != 1]], axis=1)\n",
    "result[result.id_participant==result.id_participant.sample(n=1).values[0]]"
   ]
  },
  {
   "cell_type": "code",
   "execution_count": null,
   "metadata": {
    "ExecuteTime": {
     "end_time": "2022-05-25T09:57:31.280996Z",
     "start_time": "2022-05-25T09:38:17.334895Z"
    },
    "deletable": false,
    "editable": false,
    "run_control": {
     "frozen": true
    }
   },
   "outputs": [],
   "source": [
    "# Maximum number of levels in tree\n",
    "max_depth = [int(x) for x in np.linspace(10, 110, num=5)]\n",
    "max_depth.append(None)\n",
    "\n",
    "params = {\n",
    "    'max_leaves': [(i + 1) * 20 for i in range(5)],\n",
    "    \"max_depth\": max_depth,\n",
    "    \"n_estimators\": [(i + 1) * 10 for i in range(10)]\n",
    "}\n",
    "\n",
    "XGBmodel = XGBClassifier(use_label_encoder=False, eval_metric='mlogloss')\n",
    "grid_search_cv = GridSearchCV(XGBmodel, params, verbose=1, cv=5)\n",
    "grid_search_cv.fit(X_train, y_train)\n",
    "\n",
    "print(\"Best score:\", grid_search_cv.best_score_)\n",
    "Best_XGB = grid_search_cv.best_estimator_\n",
    "\n",
    "#saving the model\n",
    "filename = 'XGBoostModelFlastG.pkl'\n",
    "print(\"Sauvegarde du modèle dans \", filename)\n",
    "pickle.dump(Best_XGB, open(filename, \"wb\"))\n",
    "\n",
    "# loading the model\n",
    "XGBoostModelFlastG = pickle.load(open(filename, 'rb'))\n",
    "\n",
    "# printing the model\n",
    "print(XGBoostModelFlastG)\n",
    "\n",
    "y_test_predict_proba = XGBoostModelFlastG.predict_proba(X_test)\n",
    "y_test_predict = XGBoostModelFlastG.predict(X_test)\n",
    "\n",
    "print(\"Confusion matrix\\n\",\n",
    "      multilabel_confusion_matrix(y_test, y_test_predict)[0])\n",
    "\n",
    "print(\n",
    "    classification_report(y_test,\n",
    "                          y_test_predict,\n",
    "                          output_dict=False,\n",
    "                          target_names=[str(i) for i in range(11)]))\n",
    "\n",
    "y_test = pd.concat([y_test], ignore_index=True)\n",
    "\n",
    "classification_report_opti(y_test, y_test_predict)"
   ]
  },
  {
   "cell_type": "code",
   "execution_count": null,
   "metadata": {},
   "outputs": [],
   "source": []
  }
 ],
 "metadata": {
  "accelerator": "GPU",
  "colab": {
   "collapsed_sections": [
    "f-m80JfVbeiA",
    "88kqf1dGbeiG",
    "PpAGoz3ibeiO",
    "INZPVF1fbeio",
    "LWw0ejGxbeio",
    "c37Ff5P9beio",
    "EbzXFsG8beip",
    "9hcQEEQHbeiq",
    "Nqb2y79tbeis",
    "DaRUvfIgbeis"
   ],
   "name": "sandra_experiment.ipynb",
   "provenance": [],
   "toc_visible": true
  },
  "kernelspec": {
   "display_name": "Python 3 (ipykernel)",
   "language": "python",
   "name": "python3"
  },
  "language_info": {
   "codemirror_mode": {
    "name": "ipython",
    "version": 3
   },
   "file_extension": ".py",
   "mimetype": "text/x-python",
   "name": "python",
   "nbconvert_exporter": "python",
   "pygments_lexer": "ipython3",
   "version": "3.9.13"
  },
  "latex_envs": {
   "LaTeX_envs_menu_present": true,
   "autoclose": false,
   "autocomplete": true,
   "bibliofile": "biblio.bib",
   "cite_by": "apalike",
   "current_citInitial": 1,
   "eqLabelWithNumbers": true,
   "eqNumInitial": 1,
   "hotkeys": {
    "equation": "Ctrl-E",
    "itemize": "Ctrl-I"
   },
   "labels_anchors": false,
   "latex_user_defs": false,
   "report_style_numbering": false,
   "user_envs_cfg": false
  },
  "nbTranslate": {
   "displayLangs": [
    "*"
   ],
   "hotkey": "alt-t",
   "langInMainMenu": true,
   "sourceLang": "en",
   "targetLang": "fr",
   "useGoogleTranslate": true
  },
  "notify_time": "30",
  "toc": {
   "base_numbering": 1,
   "nav_menu": {},
   "number_sections": true,
   "sideBar": true,
   "skip_h1_title": false,
   "title_cell": "Table of Contents",
   "title_sidebar": "Contents",
   "toc_cell": true,
   "toc_position": {
    "height": "596.45px",
    "left": "22px",
    "top": "135.117px",
    "width": "351.4px"
   },
   "toc_section_display": true,
   "toc_window_display": true
  },
  "varInspector": {
   "cols": {
    "lenName": 16,
    "lenType": 16,
    "lenVar": 40
   },
   "kernels_config": {
    "python": {
     "delete_cmd_postfix": "",
     "delete_cmd_prefix": "del ",
     "library": "var_list.py",
     "varRefreshCmd": "print(var_dic_list())"
    },
    "r": {
     "delete_cmd_postfix": ") ",
     "delete_cmd_prefix": "rm(",
     "library": "var_list.r",
     "varRefreshCmd": "cat(var_dic_list()) "
    }
   },
   "oldHeight": 122.85033399999999,
   "position": {
    "height": "40px",
    "left": "1426px",
    "right": "20px",
    "top": "120px",
    "width": "250px"
   },
   "types_to_exclude": [
    "module",
    "function",
    "builtin_function_or_method",
    "instance",
    "_Feature"
   ],
   "varInspector_section_display": "none",
   "window_display": false
  }
 },
 "nbformat": 4,
 "nbformat_minor": 1
}
