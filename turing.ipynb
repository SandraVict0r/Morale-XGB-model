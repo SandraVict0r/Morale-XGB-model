{
 "cells": [
  {
   "cell_type": "code",
   "execution_count": 35,
   "id": "fa083bfc",
   "metadata": {
    "ExecuteTime": {
     "end_time": "2022-06-08T09:51:11.740262Z",
     "start_time": "2022-06-08T09:51:11.709049Z"
    }
   },
   "outputs": [],
   "source": [
    "import pandas as pd\n",
    "import seaborn as sns\n",
    "from scipy import stats\n",
    "import matplotlib.pyplot as plt\n",
    "import csv"
   ]
  },
  {
   "cell_type": "code",
   "execution_count": 17,
   "id": "036b8638",
   "metadata": {
    "ExecuteTime": {
     "end_time": "2022-06-08T07:16:15.733119Z",
     "start_time": "2022-06-08T07:16:15.697218Z"
    }
   },
   "outputs": [
    {
     "data": {
      "text/html": [
       "<div>\n",
       "<style scoped>\n",
       "    .dataframe tbody tr th:only-of-type {\n",
       "        vertical-align: middle;\n",
       "    }\n",
       "\n",
       "    .dataframe tbody tr th {\n",
       "        vertical-align: top;\n",
       "    }\n",
       "\n",
       "    .dataframe thead th {\n",
       "        text-align: right;\n",
       "    }\n",
       "</style>\n",
       "<table border=\"1\" class=\"dataframe\">\n",
       "  <thead>\n",
       "    <tr style=\"text-align: right;\">\n",
       "      <th></th>\n",
       "      <th>human</th>\n",
       "      <th>human</th>\n",
       "      <th>human</th>\n",
       "      <th>robot</th>\n",
       "      <th>human</th>\n",
       "      <th>human</th>\n",
       "      <th>robot</th>\n",
       "      <th>robot</th>\n",
       "      <th>robot</th>\n",
       "    </tr>\n",
       "  </thead>\n",
       "  <tbody>\n",
       "    <tr>\n",
       "      <th>0</th>\n",
       "      <td>8</td>\n",
       "      <td>2</td>\n",
       "      <td>8</td>\n",
       "      <td>2</td>\n",
       "      <td>1</td>\n",
       "      <td>10</td>\n",
       "      <td>9</td>\n",
       "      <td>10</td>\n",
       "      <td>1</td>\n",
       "    </tr>\n",
       "    <tr>\n",
       "      <th>1</th>\n",
       "      <td>7</td>\n",
       "      <td>10</td>\n",
       "      <td>9</td>\n",
       "      <td>7</td>\n",
       "      <td>10</td>\n",
       "      <td>10</td>\n",
       "      <td>6</td>\n",
       "      <td>7</td>\n",
       "      <td>8</td>\n",
       "    </tr>\n",
       "    <tr>\n",
       "      <th>2</th>\n",
       "      <td>3</td>\n",
       "      <td>10</td>\n",
       "      <td>4</td>\n",
       "      <td>10</td>\n",
       "      <td>4</td>\n",
       "      <td>10</td>\n",
       "      <td>7</td>\n",
       "      <td>10</td>\n",
       "      <td>10</td>\n",
       "    </tr>\n",
       "    <tr>\n",
       "      <th>3</th>\n",
       "      <td>10</td>\n",
       "      <td>0</td>\n",
       "      <td>5</td>\n",
       "      <td>10</td>\n",
       "      <td>0</td>\n",
       "      <td>10</td>\n",
       "      <td>0</td>\n",
       "      <td>10</td>\n",
       "      <td>10</td>\n",
       "    </tr>\n",
       "    <tr>\n",
       "      <th>4</th>\n",
       "      <td>6</td>\n",
       "      <td>10</td>\n",
       "      <td>8</td>\n",
       "      <td>9</td>\n",
       "      <td>3</td>\n",
       "      <td>5</td>\n",
       "      <td>8</td>\n",
       "      <td>7</td>\n",
       "      <td>8</td>\n",
       "    </tr>\n",
       "    <tr>\n",
       "      <th>5</th>\n",
       "      <td>6</td>\n",
       "      <td>10</td>\n",
       "      <td>8</td>\n",
       "      <td>9</td>\n",
       "      <td>3</td>\n",
       "      <td>5</td>\n",
       "      <td>8</td>\n",
       "      <td>7</td>\n",
       "      <td>8</td>\n",
       "    </tr>\n",
       "  </tbody>\n",
       "</table>\n",
       "</div>"
      ],
      "text/plain": [
       "   human  human  human  robot  human  human  robot  robot  robot\n",
       "0      8      2      8      2      1     10      9     10      1\n",
       "1      7     10      9      7     10     10      6      7      8\n",
       "2      3     10      4     10      4     10      7     10     10\n",
       "3     10      0      5     10      0     10      0     10     10\n",
       "4      6     10      8      9      3      5      8      7      8\n",
       "5      6     10      8      9      3      5      8      7      8"
      ]
     },
     "execution_count": 17,
     "metadata": {},
     "output_type": "execute_result"
    }
   ],
   "source": [
    "#Import the data\n",
    "data = pd.read_csv(\"turing/turing.csv\", sep=\";\", encoding='latin-1')\n",
    "data.rename(columns={\n",
    "    \"Indiquez votre certitude dans le fait que c'est un humain qui a pris la décision ?\\n\":\n",
    "    'human',\n",
    "    \"Indiquez votre certitude dans le fait que c'est un humain qui a pris la décision ?\\n\\n\":\n",
    "    'human',\n",
    "    \"Indiquez votre certitude dans le fait que c'est un humain qui a pris la décision ?\\n\\n2\":\n",
    "    'human',\n",
    "    \"Indiquez votre certitude dans le fait que c'est un humain qui a pris la décision ?\\n\\n3\":\n",
    "    'robot',\n",
    "    \"Indiquez votre certitude dans le fait que c'est un humain qui a pris la décision ?\\n\\n4\":\n",
    "    'human',\n",
    "    \"Indiquez votre certitude dans le fait que c'est un humain qui a pris la décision ?\\n\\n5\":\n",
    "    'human',\n",
    "    \"Indiquez votre certitude dans le fait que c'est un humain qui a pris la décision ?\\n\\n6\":\n",
    "    'robot',\n",
    "    \"Indiquez votre certitude dans le fait que c'est un humain qui a pris la décision ?\\n\\n7\":\n",
    "    'robot',\n",
    "    \"Indiquez votre certitude dans le fait que c'est un humain qui a pris la décision ?\\n\\n8\":\n",
    "    'robot'\n",
    "},\n",
    "            inplace=True,\n",
    "            errors='raise')\n",
    "data = data.drop(columns=[\n",
    "    'ID', 'Heure de début', 'Heure de fin', 'Adresse de messagerie', 'Nom'\n",
    "])\n",
    "data"
   ]
  },
  {
   "cell_type": "code",
   "execution_count": 29,
   "id": "3bd7044d",
   "metadata": {
    "ExecuteTime": {
     "end_time": "2022-06-08T09:23:49.150608Z",
     "start_time": "2022-06-08T09:23:48.663833Z"
    },
    "scrolled": false
   },
   "outputs": [
    {
     "data": {
      "text/plain": [
       "<seaborn.axisgrid.FacetGrid at 0x1ad51fcf0a0>"
      ]
     },
     "execution_count": 29,
     "metadata": {},
     "output_type": "execute_result"
    },
    {
     "data": {
      "image/png": "[encoded data removed]",
      "text/plain": [
       "<Figure size 646.875x360 with 1 Axes>"
      ]
     },
     "metadata": {
      "needs_background": "light"
     },
     "output_type": "display_data"
    }
   ],
   "source": [
    "graph = sns.displot(data[data >=5],\n",
    "            kde=True,\n",
    "            fill=True,\n",
    "            multiple=\"dodge\",\n",
    "            aspect=1.6)\n",
    "graph.set( xlabel = \"Think it's a robot (0) or a human (10)\", xticks=[0,1,2,3,4,5,6,7,8,9,10])"
   ]
  },
  {
   "cell_type": "code",
   "execution_count": 26,
   "id": "bc287e6c",
   "metadata": {
    "ExecuteTime": {
     "end_time": "2022-06-08T09:22:24.461369Z",
     "start_time": "2022-06-08T09:22:24.429643Z"
    }
   },
   "outputs": [
    {
     "data": {
      "text/html": [
       "<div>\n",
       "<style scoped>\n",
       "    .dataframe tbody tr th:only-of-type {\n",
       "        vertical-align: middle;\n",
       "    }\n",
       "\n",
       "    .dataframe tbody tr th {\n",
       "        vertical-align: top;\n",
       "    }\n",
       "\n",
       "    .dataframe thead th {\n",
       "        text-align: right;\n",
       "    }\n",
       "</style>\n",
       "<table border=\"1\" class=\"dataframe\">\n",
       "  <thead>\n",
       "    <tr style=\"text-align: right;\">\n",
       "      <th></th>\n",
       "      <th>human</th>\n",
       "      <th>human</th>\n",
       "      <th>human</th>\n",
       "      <th>human</th>\n",
       "      <th>human</th>\n",
       "    </tr>\n",
       "  </thead>\n",
       "  <tbody>\n",
       "    <tr>\n",
       "      <th>0</th>\n",
       "      <td>8.0</td>\n",
       "      <td>NaN</td>\n",
       "      <td>8.0</td>\n",
       "      <td>NaN</td>\n",
       "      <td>10</td>\n",
       "    </tr>\n",
       "    <tr>\n",
       "      <th>1</th>\n",
       "      <td>7.0</td>\n",
       "      <td>10.0</td>\n",
       "      <td>9.0</td>\n",
       "      <td>10.0</td>\n",
       "      <td>10</td>\n",
       "    </tr>\n",
       "    <tr>\n",
       "      <th>2</th>\n",
       "      <td>NaN</td>\n",
       "      <td>10.0</td>\n",
       "      <td>NaN</td>\n",
       "      <td>NaN</td>\n",
       "      <td>10</td>\n",
       "    </tr>\n",
       "    <tr>\n",
       "      <th>3</th>\n",
       "      <td>10.0</td>\n",
       "      <td>NaN</td>\n",
       "      <td>5.0</td>\n",
       "      <td>NaN</td>\n",
       "      <td>10</td>\n",
       "    </tr>\n",
       "    <tr>\n",
       "      <th>4</th>\n",
       "      <td>6.0</td>\n",
       "      <td>10.0</td>\n",
       "      <td>8.0</td>\n",
       "      <td>NaN</td>\n",
       "      <td>5</td>\n",
       "    </tr>\n",
       "    <tr>\n",
       "      <th>5</th>\n",
       "      <td>6.0</td>\n",
       "      <td>10.0</td>\n",
       "      <td>8.0</td>\n",
       "      <td>NaN</td>\n",
       "      <td>5</td>\n",
       "    </tr>\n",
       "  </tbody>\n",
       "</table>\n",
       "</div>"
      ],
      "text/plain": [
       "   human  human  human  human  human\n",
       "0    8.0    NaN    8.0    NaN     10\n",
       "1    7.0   10.0    9.0   10.0     10\n",
       "2    NaN   10.0    NaN    NaN     10\n",
       "3   10.0    NaN    5.0    NaN     10\n",
       "4    6.0   10.0    8.0    NaN      5\n",
       "5    6.0   10.0    8.0    NaN      5"
      ]
     },
     "execution_count": 26,
     "metadata": {},
     "output_type": "execute_result"
    }
   ],
   "source": [
    "data.human[data.human >= 5]"
   ]
  },
  {
   "cell_type": "code",
   "execution_count": 27,
   "id": "fd54ee4b",
   "metadata": {
    "ExecuteTime": {
     "end_time": "2022-06-08T09:22:50.670552Z",
     "start_time": "2022-06-08T09:22:50.356629Z"
    }
   },
   "outputs": [
    {
     "name": "stderr",
     "output_type": "stream",
     "text": [
      "C:\\Users\\sandr\\anaconda3\\lib\\site-packages\\seaborn\\distributions.py:2619: FutureWarning: `distplot` is a deprecated function and will be removed in a future version. Please adapt your code to use either `displot` (a figure-level function with similar flexibility) or `histplot` (an axes-level function for histograms).\n",
      "  warnings.warn(msg, FutureWarning)\n",
      "C:\\Users\\sandr\\anaconda3\\lib\\site-packages\\seaborn\\distributions.py:2619: FutureWarning: `distplot` is a deprecated function and will be removed in a future version. Please adapt your code to use either `displot` (a figure-level function with similar flexibility) or `histplot` (an axes-level function for histograms).\n",
      "  warnings.warn(msg, FutureWarning)\n"
     ]
    },
    {
     "data": {
      "text/plain": [
       "KstestResult(statistic=0.31, pvalue=6.865581733487208e-09)"
      ]
     },
     "execution_count": 27,
     "metadata": {},
     "output_type": "execute_result"
    },
    {
     "data": {
      "image/png": "[encoded data removed]",
      "text/plain": [
       "<Figure size 432x288 with 1 Axes>"
      ]
     },
     "metadata": {
      "needs_background": "light"
     },
     "output_type": "display_data"
    }
   ],
   "source": [
    "x_human, y_human = sns.distplot(data.human).get_lines()[0].get_data()\n",
    "x_robot, y_robot = sns.distplot(data.robot).get_lines()[1].get_data()\n",
    "test = stats.ks_2samp(y_human, y_robot)\n",
    "test"
   ]
  },
  {
   "cell_type": "code",
   "execution_count": 28,
   "id": "bf418bd9",
   "metadata": {
    "ExecuteTime": {
     "end_time": "2022-06-08T09:23:24.135110Z",
     "start_time": "2022-06-08T09:23:23.984188Z"
    }
   },
   "outputs": [
    {
     "data": {
      "text/plain": [
       "[<matplotlib.lines.Line2D at 0x1ad53055670>]"
      ]
     },
     "execution_count": 28,
     "metadata": {},
     "output_type": "execute_result"
    },
    {
     "data": {
      "image/png": "[encoded data removed]",
      "text/plain": [
       "<Figure size 432x288 with 1 Axes>"
      ]
     },
     "metadata": {
      "needs_background": "light"
     },
     "output_type": "display_data"
    }
   ],
   "source": [
    "plt.plot(x_human,y_human)\n",
    "plt.plot(x_robot,y_robot)"
   ]
  },
  {
   "cell_type": "code",
   "execution_count": 42,
   "id": "4292ccf9",
   "metadata": {
    "ExecuteTime": {
     "end_time": "2022-06-08T13:58:34.745480Z",
     "start_time": "2022-06-08T13:58:34.714033Z"
    }
   },
   "outputs": [],
   "source": [
    "csv_file = pd.DataFrame({'human':y_human,'robot':y_robot})\n",
    "csv_file.to_csv('csv_data.csv', sep=';')"
   ]
  }
 ],
 "metadata": {
  "kernelspec": {
   "display_name": "Python 3 (ipykernel)",
   "language": "python",
   "name": "python3"
  },
  "language_info": {
   "codemirror_mode": {
    "name": "ipython",
    "version": 3
   },
   "file_extension": ".py",
   "mimetype": "text/x-python",
   "name": "python",
   "nbconvert_exporter": "python",
   "pygments_lexer": "ipython3",
   "version": "3.9.7"
  },
  "latex_envs": {
   "LaTeX_envs_menu_present": true,
   "autoclose": false,
   "autocomplete": true,
   "bibliofile": "biblio.bib",
   "cite_by": "apalike",
   "current_citInitial": 1,
   "eqLabelWithNumbers": true,
   "eqNumInitial": 1,
   "hotkeys": {
    "equation": "Ctrl-E",
    "itemize": "Ctrl-I"
   },
   "labels_anchors": false,
   "latex_user_defs": false,
   "report_style_numbering": false,
   "user_envs_cfg": false
  },
  "nbTranslate": {
   "displayLangs": [
    "*"
   ],
   "hotkey": "alt-t",
   "langInMainMenu": true,
   "sourceLang": "en",
   "targetLang": "fr",
   "useGoogleTranslate": true
  },
  "toc": {
   "base_numbering": 1,
   "nav_menu": {},
   "number_sections": true,
   "sideBar": true,
   "skip_h1_title": false,
   "title_cell": "Table of Contents",
   "title_sidebar": "Contents",
   "toc_cell": false,
   "toc_position": {},
   "toc_section_display": true,
   "toc_window_display": false
  },
  "varInspector": {
   "cols": {
    "lenName": 16,
    "lenType": 16,
    "lenVar": 40
   },
   "kernels_config": {
    "python": {
     "delete_cmd_postfix": "",
     "delete_cmd_prefix": "del ",
     "library": "var_list.py",
     "varRefreshCmd": "print(var_dic_list())"
    },
    "r": {
     "delete_cmd_postfix": ") ",
     "delete_cmd_prefix": "rm(",
     "library": "var_list.r",
     "varRefreshCmd": "cat(var_dic_list()) "
    }
   },
   "types_to_exclude": [
    "module",
    "function",
    "builtin_function_or_method",
    "instance",
    "_Feature"
   ],
   "window_display": false
  }
 },
 "nbformat": 4,
 "nbformat_minor": 5
}
